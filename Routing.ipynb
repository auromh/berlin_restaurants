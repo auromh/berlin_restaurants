{
 "cells": [
  {
   "cell_type": "markdown",
   "metadata": {},
   "source": [
    "# Routing optimization notebook\n",
    "In this notebook we will find the collection of restaurants from each country that are as close as possible to one another.\n",
    "\n",
    "- First Part:\n",
    "    1. Getting the distance matrix\n",
    "    2. Getting the selected restaurants\n",
    "    3. Optimizing the route for those restaurants\n",
    "    4. Getting the directions from each restaurant to the next\n",
    "\n",
    "- Second part (Almost the same as the first but with Techspace as origin point):\n",
    "    1. Getting the distance matrix\n",
    "    2. Getting the restaurants for each country closest to Techspace\n",
    "    3. Getting the directions from Techspace to the restaurants\n",
    "\n",
    "- Third part - Route optimization by continent"
   ]
  },
  {
   "cell_type": "code",
   "execution_count": 2,
   "metadata": {},
   "outputs": [],
   "source": [
    "# Importing library from google ortools for the routing optimization part\n",
    "\n",
    "from __future__ import print_function\n",
    "from ortools.constraint_solver import routing_enums_pb2\n",
    "from ortools.constraint_solver import pywrapcp\n",
    "from ortools.constraint_solver import routing_parameters_pb2\n",
    "\n",
    "# Importing othe libraries that we will need later on\n",
    "\n",
    "import pandas as pd\n",
    "import requests\n",
    "import json\n",
    "import plotly.express as px\n",
    "import math\n",
    "import plotly.graph_objects as go\n",
    "import getpass\n",
    "import re\n",
    "\n"
   ]
  },
  {
   "cell_type": "markdown",
   "metadata": {},
   "source": [
    "### Writing the tokes securely for the Here API\n",
    "This API will be used for calculating the way walking or by public transport to get from one place to another"
   ]
  },
  {
   "cell_type": "code",
   "execution_count": 3,
   "metadata": {},
   "outputs": [
    {
     "name": "stdout",
     "output_type": "stream",
     "text": [
      "········\n"
     ]
    }
   ],
   "source": [
    "app_id=getpass.getpass()"
   ]
  },
  {
   "cell_type": "code",
   "execution_count": 4,
   "metadata": {},
   "outputs": [
    {
     "name": "stdout",
     "output_type": "stream",
     "text": [
      "········\n"
     ]
    }
   ],
   "source": [
    "app_code=getpass.getpass()"
   ]
  },
  {
   "cell_type": "markdown",
   "metadata": {},
   "source": [
    "# 1. Selecting one restaurant per country / area"
   ]
  },
  {
   "cell_type": "markdown",
   "metadata": {},
   "source": [
    "The selected ones should be as close as possible to one another. Current limitation of distance matrix is that distances are calculated as eucledian distances, and are not fully representative of the real distance in cities."
   ]
  },
  {
   "cell_type": "code",
   "execution_count": 96,
   "metadata": {},
   "outputs": [],
   "source": [
    "berlin=pd.read_pickle(\"data/clean_restaurants.pkl\")"
   ]
  },
  {
   "cell_type": "code",
   "execution_count": 97,
   "metadata": {},
   "outputs": [],
   "source": [
    "def compute_euclidean_distance_matrix(locations):\n",
    "    \"\"\"Creates callback to return distance between points.\"\"\"\n",
    "    distances = {}\n",
    "    for from_counter, from_node in enumerate(locations):\n",
    "        distances[from_counter] = {}\n",
    "        for to_counter, to_node in enumerate(locations):\n",
    "            if from_counter == to_counter:\n",
    "                distances[from_counter][to_counter] = 0\n",
    "            else:\n",
    "                # Euclidean distance\n",
    "                distances[from_counter][to_counter] = (int(\n",
    "                    math.hypot((from_node[0] - to_node[0]),\n",
    "                               (from_node[1] - to_node[1]))))\n",
    "    return distances"
   ]
  },
  {
   "cell_type": "code",
   "execution_count": 98,
   "metadata": {
    "scrolled": false
   },
   "outputs": [],
   "source": [
    "rest=berlin.copy()\n",
    "rest['new_lat']=rest['lat']*(10**6)\n",
    "rest['new_lng']=rest['lng']*(10**6)\n",
    "\n",
    "rest['new_lat']=rest['new_lat'].astype(int)\n",
    "rest['new_lng']=rest['new_lng'].astype(int)\n",
    "\n",
    "#Subsetting the df to the restaurants that we are interested in\n",
    "df1=rest[rest['country']==1]\n",
    "df2=rest[rest['area']==1]\n",
    "df3=df1.append(df2,ignore_index=True)\n",
    "\n",
    "# making a list of all the countries and areas that we have to visit\n",
    "represented_countries=list(df3[df3[\"country\"]==1][\"new_category\"].unique())\n",
    "represented_areas=list(df3[df3[\"area\"]==1][\"new_category\"].unique())\n",
    "represented=represented_areas+represented_countries\n",
    "\n",
    "# setting the starting point the techspace and creating a list of tuples with the lat and lon of each restaurant\n",
    "techspace=(52503842,13407526)\n",
    "locations=list(zip(df3['new_lat'],df3['new_lng']))\n",
    "locations.insert(0,techspace)\n",
    "\n",
    "# first iteration\n",
    "list_paises=[]\n",
    "ruta=pd.DataFrame(columns=df3.columns)\n",
    "\n",
    "dis=compute_euclidean_distance_matrix(locations)\n",
    "\n",
    "dis_df=pd.DataFrame(dis)\n",
    "# We take the location with the minimum distance to our location 0 (Techspace in iteration 0, the previous restaurant for the rest of iterations)\n",
    "minimum=dis_df[dis_df>0].iloc[0].min()\n",
    "id_res=dis_df[dis_df[0]==minimum].index\n",
    "\n",
    "ruta=ruta.append(df3.iloc[id_res-1],ignore_index=True)\n",
    "pais=df3.iloc[id_res-1]['new_category'].values[0]\n",
    "\n",
    "list_paises.append(pais)\n",
    "pais_lat=df3.iloc[id_res-1]['new_lat'].values[0]\n",
    "pais_lng=df3.iloc[id_res-1]['new_lng'].values[0]\n",
    "\n",
    "# following iterations\n",
    "i=0 # variable for control flow\n",
    "\n",
    "while set(list_paises)!=set(represented):\n",
    "    # subsetting df by eliminating the country to where the previous restaurant belonged to\n",
    "    df3=df3[df3['new_category']!=pais]\n",
    "    previous_rest=(pais_lat,pais_lng)\n",
    "    locations=list(zip(df3['new_lat'],df3['new_lng']))\n",
    "    locations.insert(0,previous_rest)\n",
    "    \n",
    "    dis=compute_euclidean_distance_matrix(locations)\n",
    "    dis_df=pd.DataFrame(dis)\n",
    "    minimum=dis_df[dis_df>0].iloc[0].min()\n",
    "    id_res=dis_df[dis_df[0]==minimum].index\n",
    "    \n",
    "    ruta=ruta.append(df3.iloc[id_res-1],ignore_index=True)\n",
    "    pais=df3.iloc[id_res-1]['new_category'].values[0]\n",
    "    \n",
    "    list_paises.append(pais)\n",
    "    pais_lat=df3.iloc[id_res-1]['new_lat'].values[0]\n",
    "    pais_lng=df3.iloc[id_res-1]['new_lng'].values[0]\n",
    "    \n",
    "    i+=1\n",
    "    if i>=100:\n",
    "        break\n",
    "    "
   ]
  },
  {
   "cell_type": "code",
   "execution_count": 99,
   "metadata": {},
   "outputs": [
    {
     "data": {
      "text/html": [
       "<div>\n",
       "<style scoped>\n",
       "    .dataframe tbody tr th:only-of-type {\n",
       "        vertical-align: middle;\n",
       "    }\n",
       "\n",
       "    .dataframe tbody tr th {\n",
       "        vertical-align: top;\n",
       "    }\n",
       "\n",
       "    .dataframe thead th {\n",
       "        text-align: right;\n",
       "    }\n",
       "</style>\n",
       "<table border=\"1\" class=\"dataframe\">\n",
       "  <thead>\n",
       "    <tr style=\"text-align: right;\">\n",
       "      <th></th>\n",
       "      <th>name</th>\n",
       "      <th>lat</th>\n",
       "      <th>lng</th>\n",
       "      <th>query</th>\n",
       "      <th>category</th>\n",
       "      <th>new_category</th>\n",
       "      <th>country</th>\n",
       "      <th>area</th>\n",
       "      <th>continent</th>\n",
       "      <th>new_lat</th>\n",
       "      <th>new_lng</th>\n",
       "    </tr>\n",
       "  </thead>\n",
       "  <tbody>\n",
       "    <tr>\n",
       "      <th>0</th>\n",
       "      <td>Akçaabat Köftesi</td>\n",
       "      <td>52.504879</td>\n",
       "      <td>13.407337</td>\n",
       "      <td>BBQ Joint</td>\n",
       "      <td>Turkish Restaurant</td>\n",
       "      <td>Turkish</td>\n",
       "      <td>1</td>\n",
       "      <td>0</td>\n",
       "      <td>Asia</td>\n",
       "      <td>52504879</td>\n",
       "      <td>13407337</td>\n",
       "    </tr>\n",
       "    <tr>\n",
       "      <th>1</th>\n",
       "      <td>Pacifico</td>\n",
       "      <td>52.503847</td>\n",
       "      <td>13.409893</td>\n",
       "      <td>Korea</td>\n",
       "      <td>Korean Restaurant</td>\n",
       "      <td>Korean</td>\n",
       "      <td>1</td>\n",
       "      <td>0</td>\n",
       "      <td>Asia</td>\n",
       "      <td>52503847</td>\n",
       "      <td>13409892</td>\n",
       "    </tr>\n",
       "    <tr>\n",
       "      <th>2</th>\n",
       "      <td>King's Chicken</td>\n",
       "      <td>52.503439</td>\n",
       "      <td>13.411943</td>\n",
       "      <td>Iran</td>\n",
       "      <td>Persian Restaurant</td>\n",
       "      <td>Lebanese</td>\n",
       "      <td>1</td>\n",
       "      <td>0</td>\n",
       "      <td>Asia</td>\n",
       "      <td>52503439</td>\n",
       "      <td>13411943</td>\n",
       "    </tr>\n",
       "    <tr>\n",
       "      <th>3</th>\n",
       "      <td>Shishi</td>\n",
       "      <td>52.502155</td>\n",
       "      <td>13.411516</td>\n",
       "      <td>Israel</td>\n",
       "      <td>Israeli Restaurant</td>\n",
       "      <td>Israeli</td>\n",
       "      <td>1</td>\n",
       "      <td>0</td>\n",
       "      <td>Asia</td>\n",
       "      <td>52502155</td>\n",
       "      <td>13411516</td>\n",
       "    </tr>\n",
       "    <tr>\n",
       "      <th>4</th>\n",
       "      <td>Tourlou</td>\n",
       "      <td>52.500637</td>\n",
       "      <td>13.413470</td>\n",
       "      <td>France</td>\n",
       "      <td>French Restaurant</td>\n",
       "      <td>French</td>\n",
       "      <td>1</td>\n",
       "      <td>0</td>\n",
       "      <td>Europe</td>\n",
       "      <td>52500637</td>\n",
       "      <td>13413470</td>\n",
       "    </tr>\n",
       "  </tbody>\n",
       "</table>\n",
       "</div>"
      ],
      "text/plain": [
       "               name        lat        lng      query            category  \\\n",
       "0  Akçaabat Köftesi  52.504879  13.407337  BBQ Joint  Turkish Restaurant   \n",
       "1          Pacifico  52.503847  13.409893      Korea   Korean Restaurant   \n",
       "2    King's Chicken  52.503439  13.411943       Iran  Persian Restaurant   \n",
       "3            Shishi  52.502155  13.411516     Israel  Israeli Restaurant   \n",
       "4           Tourlou  52.500637  13.413470     France   French Restaurant   \n",
       "\n",
       "  new_category country area continent   new_lat   new_lng  \n",
       "0      Turkish       1    0      Asia  52504879  13407337  \n",
       "1       Korean       1    0      Asia  52503847  13409892  \n",
       "2     Lebanese       1    0      Asia  52503439  13411943  \n",
       "3      Israeli       1    0      Asia  52502155  13411516  \n",
       "4       French       1    0    Europe  52500637  13413470  "
      ]
     },
     "execution_count": 99,
     "metadata": {},
     "output_type": "execute_result"
    }
   ],
   "source": [
    "ruta.head()"
   ]
  },
  {
   "cell_type": "markdown",
   "metadata": {},
   "source": [
    "We proceed to define a dictionary of color for consistency purposes while plotting"
   ]
  },
  {
   "cell_type": "code",
   "execution_count": 100,
   "metadata": {},
   "outputs": [],
   "source": [
    "coloring={\n",
    "    \"Asia\":\"dimgray\",\n",
    "    \"North America\":\"red\",\n",
    "    \"Oceania\":\"mediumslateblue\",\n",
    "    \"Europe\":\"orange\",\n",
    "    \"South America\":\"lime\",\n",
    "    \"Africa\":\"deepskyblue\",\n",
    "             }"
   ]
  },
  {
   "cell_type": "code",
   "execution_count": 101,
   "metadata": {},
   "outputs": [
    {
     "data": {
      "application/vnd.plotly.v1+json": {
       "config": {
        "plotlyServerURL": "https://plot.ly"
       },
       "data": [
        {
         "hoverlabel": {
          "namelength": 0
         },
         "hovertemplate": "<b>%{hovertext}</b><br><br>continent=Asia<br>size=%{marker.size}<br>lat=%{lat}<br>lng=%{lon}",
         "hovertext": [
          "Akçaabat Köftesi",
          "Pacifico",
          "King's Chicken",
          "Shishi",
          "Tsukushiya - Japanese Deli",
          "Safran",
          "Rote Laterne",
          "Green Rice",
          "PHO",
          "Lasan",
          "ammAmma",
          "A-Thai, Viêt Street Kitchen",
          "Rissani",
          "chili chutney",
          "Holy Everest",
          "Mama Shabz",
          "Aldimashqi",
          "Karabach Restaurant",
          "Jemenitisches Restaurant",
          "Hong Kong Bistro",
          "Restaurant Sigiriya",
          "Mabuhay Mini",
          "Ayan Filipino Streetfood",
          "Baku Napoli",
          "Angkor Wat",
          "Taste Singapore Style",
          "Original Taiwanesische Bauernstube",
          "Seri Melayu",
          "Al Hamra",
          "King Wok"
         ],
         "lat": [
          52.504879,
          52.50384734485071,
          52.503439,
          52.502155,
          52.50117562711077,
          52.5016094430204,
          52.501557,
          52.50105935662873,
          52.50076510297526,
          52.49984230321145,
          52.49206985959974,
          52.500402,
          52.498658935046706,
          52.50200765901417,
          52.501999,
          52.495696,
          52.48701529942962,
          52.474809751872,
          52.474525,
          52.470389,
          52.51158538304717,
          52.51135,
          52.50322001571735,
          52.4972644,
          52.52037677752846,
          52.52401570267303,
          52.52134435152118,
          52.506645,
          52.541788,
          52.541755
         ],
         "legendgroup": "continent=Asia",
         "lon": [
          13.407337,
          13.40989250334581,
          13.411943,
          13.411516,
          13.416808742410739,
          13.4182367612713,
          13.418314,
          13.419129676164411,
          13.419047424097913,
          13.418157674683414,
          13.412371420960152,
          13.426082,
          13.43138806228964,
          13.43218031689331,
          13.431763,
          13.429364,
          13.42914238257933,
          13.427592223272118,
          13.440109,
          13.479038,
          13.458016949935796,
          13.390513,
          13.365807039152024,
          13.361860100000001,
          13.355765000801808,
          13.328874637889097,
          13.322479040254438,
          13.304373,
          13.421064,
          13.542521
         ],
         "marker": {
          "color": "dimgray",
          "opacity": 1,
          "size": [
           0.1,
           0.1,
           0.1,
           0.1,
           0.1,
           0.1,
           0.1,
           0.1,
           0.1,
           0.1,
           0.1,
           0,
           0,
           0.1,
           0.1,
           0.1,
           0.1,
           0.1,
           0.1,
           0.1,
           0.1,
           0.1,
           0.1,
           0.1,
           0.1,
           0.1,
           0.1,
           0.1,
           0.1,
           0.1
          ],
          "sizemode": "area",
          "sizeref": 0.002777777777777778
         },
         "mode": "markers",
         "name": "Asia",
         "showlegend": true,
         "subplot": "mapbox",
         "type": "scattermapbox"
        },
        {
         "hoverlabel": {
          "namelength": 0
         },
         "hovertemplate": "<b>%{hovertext}</b><br><br>continent=Europe<br>size=%{marker.size}<br>lat=%{lat}<br>lng=%{lon}",
         "hovertext": [
          "Tourlou",
          "Max und Moritz",
          "Sol y Sombra",
          "Stari Most",
          "Kreuzberger Weltlaterne",
          "Melro",
          "Datscha",
          "Tak Tak Polish Deli",
          "Gasthaus Figl",
          "Wirtshaus zum Mitterhofer",
          "Schwarze Heidi",
          "PINK'S",
          "Prizreni",
          "Bulgarian Banitsa",
          "Zum Nussbaum",
          "Restaurant Dalmatino",
          "Prager Hopfenstube",
          "Molly Malones Irish Pub",
          "KIRSONS Alexa",
          "Tunnbrödsrulle - Swedish Hot Dog Wrap",
          "Saeson Nordic Cuisine",
          "Munch's Hus",
          "Puszta",
          "Restorant Macedonia (Berlin)",
          "Vincent-Burger",
          "Marché Sucre",
          "Zadar Restaurant",
          "Odessa Mama",
          "Finnish Pulled Pork"
         ],
         "lat": [
          52.500637,
          52.502709184440235,
          52.502820675654284,
          52.499920465700356,
          52.49695561938602,
          52.49403307523592,
          52.49380528273849,
          52.493294,
          52.49038,
          52.491401145358736,
          52.501055,
          52.50212478637695,
          52.484627,
          52.48084325729499,
          52.466341,
          52.46514664131191,
          52.51664822145941,
          52.511185,
          52.51812532677293,
          52.508354,
          52.503426,
          52.4965198122726,
          52.52792739868164,
          52.50466954062061,
          52.524436,
          52.583678,
          52.583840098524405,
          52.47862271037745,
          52.4908251
         ],
         "legendgroup": "continent=Europe",
         "lon": [
          13.41347,
          13.414106992314636,
          13.415470547916776,
          13.417514602640152,
          13.417493424194506,
          13.418564750283036,
          13.418690354316261,
          13.418156,
          13.417754,
          13.412989761695771,
          13.423885,
          13.43171501159668,
          13.428112,
          13.432474747227445,
          13.468333,
          13.472886995206306,
          13.448383888566534,
          13.447,
          13.415961025425812,
          13.390773,
          13.366116,
          13.366768169046342,
          13.3387451171875,
          13.303600088098401,
          13.301269,
          13.286527,
          13.30113414941472,
          13.344735327360468,
          13.3939081
         ],
         "marker": {
          "color": "orange",
          "opacity": 1,
          "size": [
           0.1,
           0.1,
           0.1,
           0,
           0.1,
           0.1,
           0.1,
           0.1,
           0.1,
           0.1,
           0.1,
           0.1,
           0.1,
           0.1,
           0.1,
           0.1,
           0.1,
           0.1,
           0.1,
           0.1,
           0.1,
           0.1,
           0.1,
           0.1,
           0.1,
           0.1,
           0.1,
           0.1,
           0.1
          ],
          "sizemode": "area",
          "sizeref": 0.002777777777777778
         },
         "mode": "markers",
         "name": "Europe",
         "showlegend": true,
         "subplot": "mapbox",
         "type": "scattermapbox"
        },
        {
         "hoverlabel": {
          "namelength": 0
         },
         "hovertemplate": "<b>%{hovertext}</b><br><br>continent=South America<br>size=%{marker.size}<br>lat=%{lat}<br>lng=%{lon}",
         "hovertext": [
          "Cevichería",
          "Café Mori",
          "Camba La Che",
          "La Casita",
          "Cafe De Colombia",
          "Madinina",
          "Pecados",
          "La tía rica",
          "La Batea"
         ],
         "lat": [
          52.501338223645014,
          52.49858342772442,
          52.49936505162417,
          52.493168,
          52.509335,
          52.51309029552139,
          52.511604638346135,
          52.508476,
          52.507406780548706
         ],
         "legendgroup": "continent=South America",
         "lon": [
          13.416600211798988,
          13.428599492099389,
          13.430269190216897,
          13.465505,
          13.4570055,
          13.452794504539401,
          13.39867767582335,
          13.323309,
          13.30941552258981
         ],
         "marker": {
          "color": "lime",
          "opacity": 1,
          "size": [
           0.1,
           0.1,
           0.1,
           0.1,
           0.1,
           0,
           0.1,
           0.1,
           0
          ],
          "sizemode": "area",
          "sizeref": 0.002777777777777778
         },
         "mode": "markers",
         "name": "South America",
         "showlegend": true,
         "subplot": "mapbox",
         "type": "scattermapbox"
        },
        {
         "hoverlabel": {
          "namelength": 0
         },
         "hovertemplate": "<b>%{hovertext}</b><br><br>continent=Africa<br>size=%{marker.size}<br>lat=%{lat}<br>lng=%{lon}",
         "hovertext": [
          "2 Cool",
          "Maroush",
          "Langano",
          "Ela Ent",
          "TZOM",
          "Babylon Grill",
          "Senegambia",
          "Zoe's Ghana Kitchen",
          "Makenene",
          "Tembo African Kitchen",
          "Eiscafé Mauritius",
          "Mali Raj"
         ],
         "lat": [
          52.501803,
          52.50093770064716,
          52.49668429344324,
          52.492936,
          52.49361275394741,
          52.498043,
          52.49462459251267,
          52.48353962401119,
          52.51005591409204,
          52.513701,
          52.509946,
          52.54184581627682
         ],
         "legendgroup": "continent=Africa",
         "lon": [
          13.417574,
          13.4190620805529,
          13.418557674212384,
          13.41789,
          13.412532235726932,
          13.421149,
          13.433660414689246,
          13.42292591203159,
          13.31256029583138,
          13.290897,
          13.2734,
          13.236583471298218
         ],
         "marker": {
          "color": "deepskyblue",
          "opacity": 1,
          "size": [
           0.1,
           0.1,
           0.1,
           0.1,
           0.1,
           0,
           0.1,
           0.1,
           0.1,
           0.1,
           0.1,
           0.1
          ],
          "sizemode": "area",
          "sizeref": 0.002777777777777778
         },
         "mode": "markers",
         "name": "Africa",
         "showlegend": true,
         "subplot": "mapbox",
         "type": "scattermapbox"
        },
        {
         "hoverlabel": {
          "namelength": 0
         },
         "hovertemplate": "<b>%{hovertext}</b><br><br>continent=North America<br>size=%{marker.size}<br>lat=%{lat}<br>lng=%{lon}",
         "hovertext": [
          "Santa Maria",
          "Ron Telesky Canadian Pizza",
          "Rosa Caleta",
          "Lagari",
          "Habana",
          "Panama Restaurant & Bar"
         ],
         "lat": [
          52.50171776543595,
          52.493030386691565,
          52.501189726579824,
          52.49058749119413,
          52.51192551,
          52.501233
         ],
         "legendgroup": "continent=North America",
         "lon": [
          13.417892329736027,
          13.414998091474947,
          13.432149181080584,
          13.431580066680908,
          13.45671694,
          13.365496
         ],
         "marker": {
          "color": "red",
          "opacity": 1,
          "size": [
           0.1,
           0.1,
           0.1,
           0.1,
           0.1,
           0.1
          ],
          "sizemode": "area",
          "sizeref": 0.002777777777777778
         },
         "mode": "markers",
         "name": "North America",
         "showlegend": true,
         "subplot": "mapbox",
         "type": "scattermapbox"
        },
        {
         "hoverlabel": {
          "namelength": 0
         },
         "hovertemplate": "<b>%{hovertext}</b><br><br>continent=Oceania<br>size=%{marker.size}<br>lat=%{lat}<br>lng=%{lon}",
         "hovertext": [
          "Corroboree"
         ],
         "lat": [
          52.51008348180994
         ],
         "legendgroup": "continent=Oceania",
         "lon": [
          13.37332315521734
         ],
         "marker": {
          "color": "mediumslateblue",
          "opacity": 1,
          "size": [
           0.1
          ],
          "sizemode": "area",
          "sizeref": 0.002777777777777778
         },
         "mode": "markers",
         "name": "Oceania",
         "showlegend": true,
         "subplot": "mapbox",
         "type": "scattermapbox"
        },
        {
         "lat": [
          52.503842,
          52.503842
         ],
         "lon": [
          13.4075,
          13.4075
         ],
         "showlegend": false,
         "type": "scattermapbox"
        },
        {
         "lat": [
          52.504879,
          52.50384734485071,
          52.503439,
          52.502155,
          52.500637,
          52.502709184440235,
          52.502820675654284,
          52.501338223645014,
          52.50117562711077,
          52.501803,
          52.50171776543595,
          52.5016094430204,
          52.501557,
          52.50105935662873,
          52.50093770064716,
          52.50076510297526,
          52.49984230321145,
          52.499920465700356,
          52.49695561938602,
          52.49668429344324,
          52.49403307523592,
          52.49380528273849,
          52.493294,
          52.492936,
          52.49038,
          52.493030386691565,
          52.49361275394741,
          52.49206985959974,
          52.491401145358736,
          52.498043,
          52.501055,
          52.500402,
          52.49858342772442,
          52.49936505162417,
          52.498658935046706,
          52.501189726579824,
          52.50200765901417,
          52.501999,
          52.50212478637695,
          52.495696,
          52.49462459251267,
          52.49058749119413,
          52.48701529942962,
          52.484627,
          52.48353962401119,
          52.474809751872,
          52.48084325729499,
          52.474525,
          52.466341,
          52.46514664131191,
          52.470389,
          52.493168,
          52.509335,
          52.51158538304717,
          52.51192551,
          52.51309029552139,
          52.51664822145941,
          52.511185,
          52.51812532677293,
          52.511604638346135,
          52.51135,
          52.508354,
          52.51008348180994,
          52.503426,
          52.50322001571735,
          52.501233,
          52.4965198122726,
          52.4972644,
          52.52037677752846,
          52.52792739868164,
          52.52401570267303,
          52.52134435152118,
          52.508476,
          52.51005591409204,
          52.507406780548706,
          52.506645,
          52.50466954062061,
          52.513701,
          52.524436,
          52.509946,
          52.54184581627682,
          52.583678,
          52.583840098524405,
          52.47862271037745,
          52.4908251,
          52.541788,
          52.541755
         ],
         "lon": [
          13.407337,
          13.40989250334581,
          13.411943,
          13.411516,
          13.41347,
          13.414106992314636,
          13.415470547916776,
          13.416600211798988,
          13.416808742410739,
          13.417574,
          13.417892329736027,
          13.4182367612713,
          13.418314,
          13.419129676164411,
          13.4190620805529,
          13.419047424097913,
          13.418157674683414,
          13.417514602640152,
          13.417493424194506,
          13.418557674212384,
          13.418564750283036,
          13.418690354316261,
          13.418156,
          13.41789,
          13.417754,
          13.414998091474947,
          13.412532235726932,
          13.412371420960152,
          13.412989761695771,
          13.421149,
          13.423885,
          13.426082,
          13.428599492099389,
          13.430269190216897,
          13.43138806228964,
          13.432149181080584,
          13.43218031689331,
          13.431763,
          13.43171501159668,
          13.429364,
          13.433660414689246,
          13.431580066680908,
          13.42914238257933,
          13.428112,
          13.42292591203159,
          13.427592223272118,
          13.432474747227445,
          13.440109,
          13.468333,
          13.472886995206306,
          13.479038,
          13.465505,
          13.4570055,
          13.458016949935796,
          13.45671694,
          13.452794504539401,
          13.448383888566534,
          13.447,
          13.415961025425812,
          13.39867767582335,
          13.390513,
          13.390773,
          13.37332315521734,
          13.366116,
          13.365807039152024,
          13.365496,
          13.366768169046342,
          13.361860100000001,
          13.355765000801808,
          13.3387451171875,
          13.328874637889097,
          13.322479040254438,
          13.323309,
          13.31256029583138,
          13.30941552258981,
          13.304373,
          13.303600088098401,
          13.290897,
          13.301269,
          13.2734,
          13.236583471298218,
          13.286527,
          13.30113414941472,
          13.344735327360468,
          13.3939081,
          13.421064,
          13.542521
         ],
         "marker": {
          "color": "DarkSlateGrey",
          "size": 12
         },
         "mode": "lines",
         "showlegend": false,
         "type": "scattermapbox"
        }
       ],
       "layout": {
        "height": 600,
        "legend": {
         "itemsizing": "constant",
         "orientation": "h",
         "tracegroupgap": 0,
         "x": 0.18,
         "y": 0
        },
        "mapbox": {
         "center": {
          "lat": 52.50346508194834,
          "lon": 13.401360332805668
         },
         "domain": {
          "x": [
           0,
           1
          ],
          "y": [
           0,
           1
          ]
         },
         "style": "open-street-map",
         "zoom": 10
        },
        "margin": {
         "b": 0,
         "l": 1,
         "r": 1,
         "t": 0
        },
        "showlegend": true,
        "template": {
         "data": {
          "bar": [
           {
            "error_x": {
             "color": "#2a3f5f"
            },
            "error_y": {
             "color": "#2a3f5f"
            },
            "marker": {
             "line": {
              "color": "white",
              "width": 0.5
             }
            },
            "type": "bar"
           }
          ],
          "barpolar": [
           {
            "marker": {
             "line": {
              "color": "white",
              "width": 0.5
             }
            },
            "type": "barpolar"
           }
          ],
          "carpet": [
           {
            "aaxis": {
             "endlinecolor": "#2a3f5f",
             "gridcolor": "#C8D4E3",
             "linecolor": "#C8D4E3",
             "minorgridcolor": "#C8D4E3",
             "startlinecolor": "#2a3f5f"
            },
            "baxis": {
             "endlinecolor": "#2a3f5f",
             "gridcolor": "#C8D4E3",
             "linecolor": "#C8D4E3",
             "minorgridcolor": "#C8D4E3",
             "startlinecolor": "#2a3f5f"
            },
            "type": "carpet"
           }
          ],
          "choropleth": [
           {
            "colorbar": {
             "outlinewidth": 0,
             "ticks": ""
            },
            "type": "choropleth"
           }
          ],
          "contour": [
           {
            "colorbar": {
             "outlinewidth": 0,
             "ticks": ""
            },
            "colorscale": [
             [
              0,
              "#0d0887"
             ],
             [
              0.1111111111111111,
              "#46039f"
             ],
             [
              0.2222222222222222,
              "#7201a8"
             ],
             [
              0.3333333333333333,
              "#9c179e"
             ],
             [
              0.4444444444444444,
              "#bd3786"
             ],
             [
              0.5555555555555556,
              "#d8576b"
             ],
             [
              0.6666666666666666,
              "#ed7953"
             ],
             [
              0.7777777777777778,
              "#fb9f3a"
             ],
             [
              0.8888888888888888,
              "#fdca26"
             ],
             [
              1,
              "#f0f921"
             ]
            ],
            "type": "contour"
           }
          ],
          "contourcarpet": [
           {
            "colorbar": {
             "outlinewidth": 0,
             "ticks": ""
            },
            "type": "contourcarpet"
           }
          ],
          "heatmap": [
           {
            "colorbar": {
             "outlinewidth": 0,
             "ticks": ""
            },
            "colorscale": [
             [
              0,
              "#0d0887"
             ],
             [
              0.1111111111111111,
              "#46039f"
             ],
             [
              0.2222222222222222,
              "#7201a8"
             ],
             [
              0.3333333333333333,
              "#9c179e"
             ],
             [
              0.4444444444444444,
              "#bd3786"
             ],
             [
              0.5555555555555556,
              "#d8576b"
             ],
             [
              0.6666666666666666,
              "#ed7953"
             ],
             [
              0.7777777777777778,
              "#fb9f3a"
             ],
             [
              0.8888888888888888,
              "#fdca26"
             ],
             [
              1,
              "#f0f921"
             ]
            ],
            "type": "heatmap"
           }
          ],
          "heatmapgl": [
           {
            "colorbar": {
             "outlinewidth": 0,
             "ticks": ""
            },
            "colorscale": [
             [
              0,
              "#0d0887"
             ],
             [
              0.1111111111111111,
              "#46039f"
             ],
             [
              0.2222222222222222,
              "#7201a8"
             ],
             [
              0.3333333333333333,
              "#9c179e"
             ],
             [
              0.4444444444444444,
              "#bd3786"
             ],
             [
              0.5555555555555556,
              "#d8576b"
             ],
             [
              0.6666666666666666,
              "#ed7953"
             ],
             [
              0.7777777777777778,
              "#fb9f3a"
             ],
             [
              0.8888888888888888,
              "#fdca26"
             ],
             [
              1,
              "#f0f921"
             ]
            ],
            "type": "heatmapgl"
           }
          ],
          "histogram": [
           {
            "marker": {
             "colorbar": {
              "outlinewidth": 0,
              "ticks": ""
             }
            },
            "type": "histogram"
           }
          ],
          "histogram2d": [
           {
            "colorbar": {
             "outlinewidth": 0,
             "ticks": ""
            },
            "colorscale": [
             [
              0,
              "#0d0887"
             ],
             [
              0.1111111111111111,
              "#46039f"
             ],
             [
              0.2222222222222222,
              "#7201a8"
             ],
             [
              0.3333333333333333,
              "#9c179e"
             ],
             [
              0.4444444444444444,
              "#bd3786"
             ],
             [
              0.5555555555555556,
              "#d8576b"
             ],
             [
              0.6666666666666666,
              "#ed7953"
             ],
             [
              0.7777777777777778,
              "#fb9f3a"
             ],
             [
              0.8888888888888888,
              "#fdca26"
             ],
             [
              1,
              "#f0f921"
             ]
            ],
            "type": "histogram2d"
           }
          ],
          "histogram2dcontour": [
           {
            "colorbar": {
             "outlinewidth": 0,
             "ticks": ""
            },
            "colorscale": [
             [
              0,
              "#0d0887"
             ],
             [
              0.1111111111111111,
              "#46039f"
             ],
             [
              0.2222222222222222,
              "#7201a8"
             ],
             [
              0.3333333333333333,
              "#9c179e"
             ],
             [
              0.4444444444444444,
              "#bd3786"
             ],
             [
              0.5555555555555556,
              "#d8576b"
             ],
             [
              0.6666666666666666,
              "#ed7953"
             ],
             [
              0.7777777777777778,
              "#fb9f3a"
             ],
             [
              0.8888888888888888,
              "#fdca26"
             ],
             [
              1,
              "#f0f921"
             ]
            ],
            "type": "histogram2dcontour"
           }
          ],
          "mesh3d": [
           {
            "colorbar": {
             "outlinewidth": 0,
             "ticks": ""
            },
            "type": "mesh3d"
           }
          ],
          "parcoords": [
           {
            "line": {
             "colorbar": {
              "outlinewidth": 0,
              "ticks": ""
             }
            },
            "type": "parcoords"
           }
          ],
          "pie": [
           {
            "automargin": true,
            "type": "pie"
           }
          ],
          "scatter": [
           {
            "marker": {
             "colorbar": {
              "outlinewidth": 0,
              "ticks": ""
             }
            },
            "type": "scatter"
           }
          ],
          "scatter3d": [
           {
            "line": {
             "colorbar": {
              "outlinewidth": 0,
              "ticks": ""
             }
            },
            "marker": {
             "colorbar": {
              "outlinewidth": 0,
              "ticks": ""
             }
            },
            "type": "scatter3d"
           }
          ],
          "scattercarpet": [
           {
            "marker": {
             "colorbar": {
              "outlinewidth": 0,
              "ticks": ""
             }
            },
            "type": "scattercarpet"
           }
          ],
          "scattergeo": [
           {
            "marker": {
             "colorbar": {
              "outlinewidth": 0,
              "ticks": ""
             }
            },
            "type": "scattergeo"
           }
          ],
          "scattergl": [
           {
            "marker": {
             "colorbar": {
              "outlinewidth": 0,
              "ticks": ""
             }
            },
            "type": "scattergl"
           }
          ],
          "scattermapbox": [
           {
            "marker": {
             "colorbar": {
              "outlinewidth": 0,
              "ticks": ""
             }
            },
            "type": "scattermapbox"
           }
          ],
          "scatterpolar": [
           {
            "marker": {
             "colorbar": {
              "outlinewidth": 0,
              "ticks": ""
             }
            },
            "type": "scatterpolar"
           }
          ],
          "scatterpolargl": [
           {
            "marker": {
             "colorbar": {
              "outlinewidth": 0,
              "ticks": ""
             }
            },
            "type": "scatterpolargl"
           }
          ],
          "scatterternary": [
           {
            "marker": {
             "colorbar": {
              "outlinewidth": 0,
              "ticks": ""
             }
            },
            "type": "scatterternary"
           }
          ],
          "surface": [
           {
            "colorbar": {
             "outlinewidth": 0,
             "ticks": ""
            },
            "colorscale": [
             [
              0,
              "#0d0887"
             ],
             [
              0.1111111111111111,
              "#46039f"
             ],
             [
              0.2222222222222222,
              "#7201a8"
             ],
             [
              0.3333333333333333,
              "#9c179e"
             ],
             [
              0.4444444444444444,
              "#bd3786"
             ],
             [
              0.5555555555555556,
              "#d8576b"
             ],
             [
              0.6666666666666666,
              "#ed7953"
             ],
             [
              0.7777777777777778,
              "#fb9f3a"
             ],
             [
              0.8888888888888888,
              "#fdca26"
             ],
             [
              1,
              "#f0f921"
             ]
            ],
            "type": "surface"
           }
          ],
          "table": [
           {
            "cells": {
             "fill": {
              "color": "#EBF0F8"
             },
             "line": {
              "color": "white"
             }
            },
            "header": {
             "fill": {
              "color": "#C8D4E3"
             },
             "line": {
              "color": "white"
             }
            },
            "type": "table"
           }
          ]
         },
         "layout": {
          "annotationdefaults": {
           "arrowcolor": "#2a3f5f",
           "arrowhead": 0,
           "arrowwidth": 1
          },
          "coloraxis": {
           "colorbar": {
            "outlinewidth": 0,
            "ticks": ""
           }
          },
          "colorscale": {
           "diverging": [
            [
             0,
             "#8e0152"
            ],
            [
             0.1,
             "#c51b7d"
            ],
            [
             0.2,
             "#de77ae"
            ],
            [
             0.3,
             "#f1b6da"
            ],
            [
             0.4,
             "#fde0ef"
            ],
            [
             0.5,
             "#f7f7f7"
            ],
            [
             0.6,
             "#e6f5d0"
            ],
            [
             0.7,
             "#b8e186"
            ],
            [
             0.8,
             "#7fbc41"
            ],
            [
             0.9,
             "#4d9221"
            ],
            [
             1,
             "#276419"
            ]
           ],
           "sequential": [
            [
             0,
             "#0d0887"
            ],
            [
             0.1111111111111111,
             "#46039f"
            ],
            [
             0.2222222222222222,
             "#7201a8"
            ],
            [
             0.3333333333333333,
             "#9c179e"
            ],
            [
             0.4444444444444444,
             "#bd3786"
            ],
            [
             0.5555555555555556,
             "#d8576b"
            ],
            [
             0.6666666666666666,
             "#ed7953"
            ],
            [
             0.7777777777777778,
             "#fb9f3a"
            ],
            [
             0.8888888888888888,
             "#fdca26"
            ],
            [
             1,
             "#f0f921"
            ]
           ],
           "sequentialminus": [
            [
             0,
             "#0d0887"
            ],
            [
             0.1111111111111111,
             "#46039f"
            ],
            [
             0.2222222222222222,
             "#7201a8"
            ],
            [
             0.3333333333333333,
             "#9c179e"
            ],
            [
             0.4444444444444444,
             "#bd3786"
            ],
            [
             0.5555555555555556,
             "#d8576b"
            ],
            [
             0.6666666666666666,
             "#ed7953"
            ],
            [
             0.7777777777777778,
             "#fb9f3a"
            ],
            [
             0.8888888888888888,
             "#fdca26"
            ],
            [
             1,
             "#f0f921"
            ]
           ]
          },
          "colorway": [
           "#636efa",
           "#EF553B",
           "#00cc96",
           "#ab63fa",
           "#FFA15A",
           "#19d3f3",
           "#FF6692",
           "#B6E880",
           "#FF97FF",
           "#FECB52"
          ],
          "font": {
           "color": "#2a3f5f"
          },
          "geo": {
           "bgcolor": "white",
           "lakecolor": "white",
           "landcolor": "white",
           "showlakes": true,
           "showland": true,
           "subunitcolor": "#C8D4E3"
          },
          "hoverlabel": {
           "align": "left"
          },
          "hovermode": "closest",
          "mapbox": {
           "style": "light"
          },
          "paper_bgcolor": "white",
          "plot_bgcolor": "white",
          "polar": {
           "angularaxis": {
            "gridcolor": "#EBF0F8",
            "linecolor": "#EBF0F8",
            "ticks": ""
           },
           "bgcolor": "white",
           "radialaxis": {
            "gridcolor": "#EBF0F8",
            "linecolor": "#EBF0F8",
            "ticks": ""
           }
          },
          "scene": {
           "xaxis": {
            "backgroundcolor": "white",
            "gridcolor": "#DFE8F3",
            "gridwidth": 2,
            "linecolor": "#EBF0F8",
            "showbackground": true,
            "ticks": "",
            "zerolinecolor": "#EBF0F8"
           },
           "yaxis": {
            "backgroundcolor": "white",
            "gridcolor": "#DFE8F3",
            "gridwidth": 2,
            "linecolor": "#EBF0F8",
            "showbackground": true,
            "ticks": "",
            "zerolinecolor": "#EBF0F8"
           },
           "zaxis": {
            "backgroundcolor": "white",
            "gridcolor": "#DFE8F3",
            "gridwidth": 2,
            "linecolor": "#EBF0F8",
            "showbackground": true,
            "ticks": "",
            "zerolinecolor": "#EBF0F8"
           }
          },
          "shapedefaults": {
           "line": {
            "color": "#2a3f5f"
           }
          },
          "ternary": {
           "aaxis": {
            "gridcolor": "#DFE8F3",
            "linecolor": "#A2B1C6",
            "ticks": ""
           },
           "baxis": {
            "gridcolor": "#DFE8F3",
            "linecolor": "#A2B1C6",
            "ticks": ""
           },
           "bgcolor": "white",
           "caxis": {
            "gridcolor": "#DFE8F3",
            "linecolor": "#A2B1C6",
            "ticks": ""
           }
          },
          "title": {
           "x": 0.05
          },
          "xaxis": {
           "automargin": true,
           "gridcolor": "#EBF0F8",
           "linecolor": "#EBF0F8",
           "ticks": "",
           "title": {
            "standoff": 15
           },
           "zerolinecolor": "#EBF0F8",
           "zerolinewidth": 2
          },
          "yaxis": {
           "automargin": true,
           "gridcolor": "#EBF0F8",
           "linecolor": "#EBF0F8",
           "ticks": "",
           "title": {
            "standoff": 15
           },
           "zerolinecolor": "#EBF0F8",
           "zerolinewidth": 2
          }
         }
        }
       }
      },
      "text/html": [
       "<div>\n",
       "        \n",
       "        \n",
       "            <div id=\"645bf21d-4211-41ab-ae45-e591e7726233\" class=\"plotly-graph-div\" style=\"height:600px; width:100%;\"></div>\n",
       "            <script type=\"text/javascript\">\n",
       "                require([\"plotly\"], function(Plotly) {\n",
       "                    window.PLOTLYENV=window.PLOTLYENV || {};\n",
       "                    \n",
       "                if (document.getElementById(\"645bf21d-4211-41ab-ae45-e591e7726233\")) {\n",
       "                    Plotly.newPlot(\n",
       "                        '645bf21d-4211-41ab-ae45-e591e7726233',\n",
       "                        [{\"hoverlabel\": {\"namelength\": 0}, \"hovertemplate\": \"<b>%{hovertext}</b><br><br>continent=Asia<br>size=%{marker.size}<br>lat=%{lat}<br>lng=%{lon}\", \"hovertext\": [\"Ak\\u00e7aabat K\\u00f6ftesi\", \"Pacifico\", \"King's Chicken\", \"Shishi\", \"Tsukushiya - Japanese Deli\", \"Safran\", \"Rote Laterne\", \"Green Rice\", \"PHO\", \"Lasan\", \"ammAmma\", \"A-Thai, Vi\\u00eat Street Kitchen\", \"Rissani\", \"chili chutney\", \"Holy Everest\", \"Mama Shabz\", \"Aldimashqi\", \"Karabach Restaurant\", \"Jemenitisches Restaurant\", \"Hong Kong Bistro\", \"Restaurant Sigiriya\", \"Mabuhay Mini\", \"Ayan Filipino Streetfood\", \"Baku Napoli\", \"Angkor Wat\", \"Taste Singapore Style\", \"Original Taiwanesische Bauernstube\", \"Seri Melayu\", \"Al Hamra\", \"King Wok\"], \"lat\": [52.504879, 52.50384734485071, 52.503439, 52.502155, 52.50117562711077, 52.5016094430204, 52.501557, 52.50105935662873, 52.50076510297526, 52.49984230321145, 52.49206985959974, 52.500402, 52.498658935046706, 52.50200765901417, 52.501999, 52.495696, 52.48701529942962, 52.474809751872, 52.474525, 52.470389, 52.51158538304717, 52.51135, 52.50322001571735, 52.4972644, 52.52037677752846, 52.52401570267303, 52.52134435152118, 52.506645, 52.541788, 52.541755], \"legendgroup\": \"continent=Asia\", \"lon\": [13.407337, 13.40989250334581, 13.411943, 13.411516, 13.416808742410739, 13.4182367612713, 13.418314, 13.419129676164411, 13.419047424097913, 13.418157674683414, 13.412371420960152, 13.426082, 13.43138806228964, 13.43218031689331, 13.431763, 13.429364, 13.42914238257933, 13.427592223272118, 13.440109, 13.479038, 13.458016949935796, 13.390513, 13.365807039152024, 13.361860100000001, 13.355765000801808, 13.328874637889097, 13.322479040254438, 13.304373, 13.421064, 13.542521], \"marker\": {\"color\": \"dimgray\", \"opacity\": 1, \"size\": [0.1, 0.1, 0.1, 0.1, 0.1, 0.1, 0.1, 0.1, 0.1, 0.1, 0.1, 0.0, 0.0, 0.1, 0.1, 0.1, 0.1, 0.1, 0.1, 0.1, 0.1, 0.1, 0.1, 0.1, 0.1, 0.1, 0.1, 0.1, 0.1, 0.1], \"sizemode\": \"area\", \"sizeref\": 0.002777777777777778}, \"mode\": \"markers\", \"name\": \"Asia\", \"showlegend\": true, \"subplot\": \"mapbox\", \"type\": \"scattermapbox\"}, {\"hoverlabel\": {\"namelength\": 0}, \"hovertemplate\": \"<b>%{hovertext}</b><br><br>continent=Europe<br>size=%{marker.size}<br>lat=%{lat}<br>lng=%{lon}\", \"hovertext\": [\"Tourlou\", \"Max und Moritz\", \"Sol y Sombra\", \"Stari Most\", \"Kreuzberger Weltlaterne\", \"Melro\", \"Datscha\", \"Tak Tak Polish Deli\", \"Gasthaus Figl\", \"Wirtshaus zum Mitterhofer\", \"Schwarze Heidi\", \"PINK'S\", \"Prizreni\", \"Bulgarian Banitsa\", \"Zum Nussbaum\", \"Restaurant Dalmatino\", \"Prager Hopfenstube\", \"Molly Malones Irish Pub\", \"KIRSONS Alexa\", \"Tunnbr\\u00f6dsrulle - Swedish Hot Dog Wrap\", \"Saeson Nordic Cuisine\", \"Munch's Hus\", \"Puszta\", \"Restorant Macedonia (Berlin)\", \"Vincent-Burger\", \"March\\u00e9 Sucre\", \"Zadar Restaurant\", \"Odessa Mama\", \"Finnish Pulled Pork\"], \"lat\": [52.500637, 52.502709184440235, 52.502820675654284, 52.499920465700356, 52.49695561938602, 52.49403307523592, 52.49380528273849, 52.493294, 52.49038, 52.491401145358736, 52.501055, 52.50212478637695, 52.484627, 52.48084325729499, 52.466341, 52.46514664131191, 52.51664822145941, 52.511185, 52.51812532677293, 52.508354, 52.503426, 52.4965198122726, 52.52792739868164, 52.50466954062061, 52.524436, 52.583678, 52.583840098524405, 52.47862271037745, 52.4908251], \"legendgroup\": \"continent=Europe\", \"lon\": [13.41347, 13.414106992314636, 13.415470547916776, 13.417514602640152, 13.417493424194506, 13.418564750283036, 13.418690354316261, 13.418156, 13.417754, 13.412989761695771, 13.423885, 13.43171501159668, 13.428112, 13.432474747227445, 13.468333, 13.472886995206306, 13.448383888566534, 13.447, 13.415961025425812, 13.390773, 13.366116, 13.366768169046342, 13.3387451171875, 13.303600088098401, 13.301269, 13.286527, 13.30113414941472, 13.344735327360468, 13.3939081], \"marker\": {\"color\": \"orange\", \"opacity\": 1, \"size\": [0.1, 0.1, 0.1, 0.0, 0.1, 0.1, 0.1, 0.1, 0.1, 0.1, 0.1, 0.1, 0.1, 0.1, 0.1, 0.1, 0.1, 0.1, 0.1, 0.1, 0.1, 0.1, 0.1, 0.1, 0.1, 0.1, 0.1, 0.1, 0.1], \"sizemode\": \"area\", \"sizeref\": 0.002777777777777778}, \"mode\": \"markers\", \"name\": \"Europe\", \"showlegend\": true, \"subplot\": \"mapbox\", \"type\": \"scattermapbox\"}, {\"hoverlabel\": {\"namelength\": 0}, \"hovertemplate\": \"<b>%{hovertext}</b><br><br>continent=South America<br>size=%{marker.size}<br>lat=%{lat}<br>lng=%{lon}\", \"hovertext\": [\"Cevicher\\u00eda\", \"Caf\\u00e9 Mori\", \"Camba La Che\", \"La Casita\", \"Cafe De Colombia\", \"Madinina\", \"Pecados\", \"La t\\u00eda rica\", \"La Batea\"], \"lat\": [52.501338223645014, 52.49858342772442, 52.49936505162417, 52.493168, 52.509335, 52.51309029552139, 52.511604638346135, 52.508476, 52.507406780548706], \"legendgroup\": \"continent=South America\", \"lon\": [13.416600211798988, 13.428599492099389, 13.430269190216897, 13.465505, 13.4570055, 13.452794504539401, 13.39867767582335, 13.323309, 13.30941552258981], \"marker\": {\"color\": \"lime\", \"opacity\": 1, \"size\": [0.1, 0.1, 0.1, 0.1, 0.1, 0.0, 0.1, 0.1, 0.0], \"sizemode\": \"area\", \"sizeref\": 0.002777777777777778}, \"mode\": \"markers\", \"name\": \"South America\", \"showlegend\": true, \"subplot\": \"mapbox\", \"type\": \"scattermapbox\"}, {\"hoverlabel\": {\"namelength\": 0}, \"hovertemplate\": \"<b>%{hovertext}</b><br><br>continent=Africa<br>size=%{marker.size}<br>lat=%{lat}<br>lng=%{lon}\", \"hovertext\": [\"2 Cool\", \"Maroush\", \"Langano\", \"Ela Ent\", \"TZOM\", \"Babylon Grill\", \"Senegambia\", \"Zoe's Ghana Kitchen\", \"Makenene\", \"Tembo African Kitchen\", \"Eiscaf\\u00e9 Mauritius\", \"Mali Raj\"], \"lat\": [52.501803, 52.50093770064716, 52.49668429344324, 52.492936, 52.49361275394741, 52.498043, 52.49462459251267, 52.48353962401119, 52.51005591409204, 52.513701, 52.509946, 52.54184581627682], \"legendgroup\": \"continent=Africa\", \"lon\": [13.417574, 13.4190620805529, 13.418557674212384, 13.41789, 13.412532235726932, 13.421149, 13.433660414689246, 13.42292591203159, 13.31256029583138, 13.290897, 13.2734, 13.236583471298218], \"marker\": {\"color\": \"deepskyblue\", \"opacity\": 1, \"size\": [0.1, 0.1, 0.1, 0.1, 0.1, 0.0, 0.1, 0.1, 0.1, 0.1, 0.1, 0.1], \"sizemode\": \"area\", \"sizeref\": 0.002777777777777778}, \"mode\": \"markers\", \"name\": \"Africa\", \"showlegend\": true, \"subplot\": \"mapbox\", \"type\": \"scattermapbox\"}, {\"hoverlabel\": {\"namelength\": 0}, \"hovertemplate\": \"<b>%{hovertext}</b><br><br>continent=North America<br>size=%{marker.size}<br>lat=%{lat}<br>lng=%{lon}\", \"hovertext\": [\"Santa Maria\", \"Ron Telesky Canadian Pizza\", \"Rosa Caleta\", \"Lagari\", \"Habana\", \"Panama Restaurant & Bar\"], \"lat\": [52.50171776543595, 52.493030386691565, 52.501189726579824, 52.49058749119413, 52.51192551, 52.501233], \"legendgroup\": \"continent=North America\", \"lon\": [13.417892329736027, 13.414998091474947, 13.432149181080584, 13.431580066680908, 13.45671694, 13.365496], \"marker\": {\"color\": \"red\", \"opacity\": 1, \"size\": [0.1, 0.1, 0.1, 0.1, 0.1, 0.1], \"sizemode\": \"area\", \"sizeref\": 0.002777777777777778}, \"mode\": \"markers\", \"name\": \"North America\", \"showlegend\": true, \"subplot\": \"mapbox\", \"type\": \"scattermapbox\"}, {\"hoverlabel\": {\"namelength\": 0}, \"hovertemplate\": \"<b>%{hovertext}</b><br><br>continent=Oceania<br>size=%{marker.size}<br>lat=%{lat}<br>lng=%{lon}\", \"hovertext\": [\"Corroboree\"], \"lat\": [52.51008348180994], \"legendgroup\": \"continent=Oceania\", \"lon\": [13.37332315521734], \"marker\": {\"color\": \"mediumslateblue\", \"opacity\": 1, \"size\": [0.1], \"sizemode\": \"area\", \"sizeref\": 0.002777777777777778}, \"mode\": \"markers\", \"name\": \"Oceania\", \"showlegend\": true, \"subplot\": \"mapbox\", \"type\": \"scattermapbox\"}, {\"lat\": [52.503842, 52.503842], \"lon\": [13.4075, 13.4075], \"showlegend\": false, \"type\": \"scattermapbox\"}, {\"lat\": [52.504879, 52.50384734485071, 52.503439, 52.502155, 52.500637, 52.502709184440235, 52.502820675654284, 52.501338223645014, 52.50117562711077, 52.501803, 52.50171776543595, 52.5016094430204, 52.501557, 52.50105935662873, 52.50093770064716, 52.50076510297526, 52.49984230321145, 52.499920465700356, 52.49695561938602, 52.49668429344324, 52.49403307523592, 52.49380528273849, 52.493294, 52.492936, 52.49038, 52.493030386691565, 52.49361275394741, 52.49206985959974, 52.491401145358736, 52.498043, 52.501055, 52.500402, 52.49858342772442, 52.49936505162417, 52.498658935046706, 52.501189726579824, 52.50200765901417, 52.501999, 52.50212478637695, 52.495696, 52.49462459251267, 52.49058749119413, 52.48701529942962, 52.484627, 52.48353962401119, 52.474809751872, 52.48084325729499, 52.474525, 52.466341, 52.46514664131191, 52.470389, 52.493168, 52.509335, 52.51158538304717, 52.51192551, 52.51309029552139, 52.51664822145941, 52.511185, 52.51812532677293, 52.511604638346135, 52.51135, 52.508354, 52.51008348180994, 52.503426, 52.50322001571735, 52.501233, 52.4965198122726, 52.4972644, 52.52037677752846, 52.52792739868164, 52.52401570267303, 52.52134435152118, 52.508476, 52.51005591409204, 52.507406780548706, 52.506645, 52.50466954062061, 52.513701, 52.524436, 52.509946, 52.54184581627682, 52.583678, 52.583840098524405, 52.47862271037745, 52.4908251, 52.541788, 52.541755], \"lon\": [13.407337, 13.40989250334581, 13.411943, 13.411516, 13.41347, 13.414106992314636, 13.415470547916776, 13.416600211798988, 13.416808742410739, 13.417574, 13.417892329736027, 13.4182367612713, 13.418314, 13.419129676164411, 13.4190620805529, 13.419047424097913, 13.418157674683414, 13.417514602640152, 13.417493424194506, 13.418557674212384, 13.418564750283036, 13.418690354316261, 13.418156, 13.41789, 13.417754, 13.414998091474947, 13.412532235726932, 13.412371420960152, 13.412989761695771, 13.421149, 13.423885, 13.426082, 13.428599492099389, 13.430269190216897, 13.43138806228964, 13.432149181080584, 13.43218031689331, 13.431763, 13.43171501159668, 13.429364, 13.433660414689246, 13.431580066680908, 13.42914238257933, 13.428112, 13.42292591203159, 13.427592223272118, 13.432474747227445, 13.440109, 13.468333, 13.472886995206306, 13.479038, 13.465505, 13.4570055, 13.458016949935796, 13.45671694, 13.452794504539401, 13.448383888566534, 13.447, 13.415961025425812, 13.39867767582335, 13.390513, 13.390773, 13.37332315521734, 13.366116, 13.365807039152024, 13.365496, 13.366768169046342, 13.361860100000001, 13.355765000801808, 13.3387451171875, 13.328874637889097, 13.322479040254438, 13.323309, 13.31256029583138, 13.30941552258981, 13.304373, 13.303600088098401, 13.290897, 13.301269, 13.2734, 13.236583471298218, 13.286527, 13.30113414941472, 13.344735327360468, 13.3939081, 13.421064, 13.542521], \"marker\": {\"color\": \"DarkSlateGrey\", \"size\": 12}, \"mode\": \"lines\", \"showlegend\": false, \"type\": \"scattermapbox\"}],\n",
       "                        {\"height\": 600, \"legend\": {\"itemsizing\": \"constant\", \"orientation\": \"h\", \"tracegroupgap\": 0, \"x\": 0.18, \"y\": 0.0}, \"mapbox\": {\"center\": {\"lat\": 52.50346508194834, \"lon\": 13.401360332805668}, \"domain\": {\"x\": [0.0, 1.0], \"y\": [0.0, 1.0]}, \"style\": \"open-street-map\", \"zoom\": 10}, \"margin\": {\"b\": 0, \"l\": 1, \"r\": 1, \"t\": 0}, \"showlegend\": true, \"template\": {\"data\": {\"bar\": [{\"error_x\": {\"color\": \"#2a3f5f\"}, \"error_y\": {\"color\": \"#2a3f5f\"}, \"marker\": {\"line\": {\"color\": \"white\", \"width\": 0.5}}, \"type\": \"bar\"}], \"barpolar\": [{\"marker\": {\"line\": {\"color\": \"white\", \"width\": 0.5}}, \"type\": \"barpolar\"}], \"carpet\": [{\"aaxis\": {\"endlinecolor\": \"#2a3f5f\", \"gridcolor\": \"#C8D4E3\", \"linecolor\": \"#C8D4E3\", \"minorgridcolor\": \"#C8D4E3\", \"startlinecolor\": \"#2a3f5f\"}, \"baxis\": {\"endlinecolor\": \"#2a3f5f\", \"gridcolor\": \"#C8D4E3\", \"linecolor\": \"#C8D4E3\", \"minorgridcolor\": \"#C8D4E3\", \"startlinecolor\": \"#2a3f5f\"}, \"type\": \"carpet\"}], \"choropleth\": [{\"colorbar\": {\"outlinewidth\": 0, \"ticks\": \"\"}, \"type\": \"choropleth\"}], \"contour\": [{\"colorbar\": {\"outlinewidth\": 0, \"ticks\": \"\"}, \"colorscale\": [[0.0, \"#0d0887\"], [0.1111111111111111, \"#46039f\"], [0.2222222222222222, \"#7201a8\"], [0.3333333333333333, \"#9c179e\"], [0.4444444444444444, \"#bd3786\"], [0.5555555555555556, \"#d8576b\"], [0.6666666666666666, \"#ed7953\"], [0.7777777777777778, \"#fb9f3a\"], [0.8888888888888888, \"#fdca26\"], [1.0, \"#f0f921\"]], \"type\": \"contour\"}], \"contourcarpet\": [{\"colorbar\": {\"outlinewidth\": 0, \"ticks\": \"\"}, \"type\": \"contourcarpet\"}], \"heatmap\": [{\"colorbar\": {\"outlinewidth\": 0, \"ticks\": \"\"}, \"colorscale\": [[0.0, \"#0d0887\"], [0.1111111111111111, \"#46039f\"], [0.2222222222222222, \"#7201a8\"], [0.3333333333333333, \"#9c179e\"], [0.4444444444444444, \"#bd3786\"], [0.5555555555555556, \"#d8576b\"], [0.6666666666666666, \"#ed7953\"], [0.7777777777777778, \"#fb9f3a\"], [0.8888888888888888, \"#fdca26\"], [1.0, \"#f0f921\"]], \"type\": \"heatmap\"}], \"heatmapgl\": [{\"colorbar\": {\"outlinewidth\": 0, \"ticks\": \"\"}, \"colorscale\": [[0.0, \"#0d0887\"], [0.1111111111111111, \"#46039f\"], [0.2222222222222222, \"#7201a8\"], [0.3333333333333333, \"#9c179e\"], [0.4444444444444444, \"#bd3786\"], [0.5555555555555556, \"#d8576b\"], [0.6666666666666666, \"#ed7953\"], [0.7777777777777778, \"#fb9f3a\"], [0.8888888888888888, \"#fdca26\"], [1.0, \"#f0f921\"]], \"type\": \"heatmapgl\"}], \"histogram\": [{\"marker\": {\"colorbar\": {\"outlinewidth\": 0, \"ticks\": \"\"}}, \"type\": \"histogram\"}], \"histogram2d\": [{\"colorbar\": {\"outlinewidth\": 0, \"ticks\": \"\"}, \"colorscale\": [[0.0, \"#0d0887\"], [0.1111111111111111, \"#46039f\"], [0.2222222222222222, \"#7201a8\"], [0.3333333333333333, \"#9c179e\"], [0.4444444444444444, \"#bd3786\"], [0.5555555555555556, \"#d8576b\"], [0.6666666666666666, \"#ed7953\"], [0.7777777777777778, \"#fb9f3a\"], [0.8888888888888888, \"#fdca26\"], [1.0, \"#f0f921\"]], \"type\": \"histogram2d\"}], \"histogram2dcontour\": [{\"colorbar\": {\"outlinewidth\": 0, \"ticks\": \"\"}, \"colorscale\": [[0.0, \"#0d0887\"], [0.1111111111111111, \"#46039f\"], [0.2222222222222222, \"#7201a8\"], [0.3333333333333333, \"#9c179e\"], [0.4444444444444444, \"#bd3786\"], [0.5555555555555556, \"#d8576b\"], [0.6666666666666666, \"#ed7953\"], [0.7777777777777778, \"#fb9f3a\"], [0.8888888888888888, \"#fdca26\"], [1.0, \"#f0f921\"]], \"type\": \"histogram2dcontour\"}], \"mesh3d\": [{\"colorbar\": {\"outlinewidth\": 0, \"ticks\": \"\"}, \"type\": \"mesh3d\"}], \"parcoords\": [{\"line\": {\"colorbar\": {\"outlinewidth\": 0, \"ticks\": \"\"}}, \"type\": \"parcoords\"}], \"pie\": [{\"automargin\": true, \"type\": \"pie\"}], \"scatter\": [{\"marker\": {\"colorbar\": {\"outlinewidth\": 0, \"ticks\": \"\"}}, \"type\": \"scatter\"}], \"scatter3d\": [{\"line\": {\"colorbar\": {\"outlinewidth\": 0, \"ticks\": \"\"}}, \"marker\": {\"colorbar\": {\"outlinewidth\": 0, \"ticks\": \"\"}}, \"type\": \"scatter3d\"}], \"scattercarpet\": [{\"marker\": {\"colorbar\": {\"outlinewidth\": 0, \"ticks\": \"\"}}, \"type\": \"scattercarpet\"}], \"scattergeo\": [{\"marker\": {\"colorbar\": {\"outlinewidth\": 0, \"ticks\": \"\"}}, \"type\": \"scattergeo\"}], \"scattergl\": [{\"marker\": {\"colorbar\": {\"outlinewidth\": 0, \"ticks\": \"\"}}, \"type\": \"scattergl\"}], \"scattermapbox\": [{\"marker\": {\"colorbar\": {\"outlinewidth\": 0, \"ticks\": \"\"}}, \"type\": \"scattermapbox\"}], \"scatterpolar\": [{\"marker\": {\"colorbar\": {\"outlinewidth\": 0, \"ticks\": \"\"}}, \"type\": \"scatterpolar\"}], \"scatterpolargl\": [{\"marker\": {\"colorbar\": {\"outlinewidth\": 0, \"ticks\": \"\"}}, \"type\": \"scatterpolargl\"}], \"scatterternary\": [{\"marker\": {\"colorbar\": {\"outlinewidth\": 0, \"ticks\": \"\"}}, \"type\": \"scatterternary\"}], \"surface\": [{\"colorbar\": {\"outlinewidth\": 0, \"ticks\": \"\"}, \"colorscale\": [[0.0, \"#0d0887\"], [0.1111111111111111, \"#46039f\"], [0.2222222222222222, \"#7201a8\"], [0.3333333333333333, \"#9c179e\"], [0.4444444444444444, \"#bd3786\"], [0.5555555555555556, \"#d8576b\"], [0.6666666666666666, \"#ed7953\"], [0.7777777777777778, \"#fb9f3a\"], [0.8888888888888888, \"#fdca26\"], [1.0, \"#f0f921\"]], \"type\": \"surface\"}], \"table\": [{\"cells\": {\"fill\": {\"color\": \"#EBF0F8\"}, \"line\": {\"color\": \"white\"}}, \"header\": {\"fill\": {\"color\": \"#C8D4E3\"}, \"line\": {\"color\": \"white\"}}, \"type\": \"table\"}]}, \"layout\": {\"annotationdefaults\": {\"arrowcolor\": \"#2a3f5f\", \"arrowhead\": 0, \"arrowwidth\": 1}, \"coloraxis\": {\"colorbar\": {\"outlinewidth\": 0, \"ticks\": \"\"}}, \"colorscale\": {\"diverging\": [[0, \"#8e0152\"], [0.1, \"#c51b7d\"], [0.2, \"#de77ae\"], [0.3, \"#f1b6da\"], [0.4, \"#fde0ef\"], [0.5, \"#f7f7f7\"], [0.6, \"#e6f5d0\"], [0.7, \"#b8e186\"], [0.8, \"#7fbc41\"], [0.9, \"#4d9221\"], [1, \"#276419\"]], \"sequential\": [[0.0, \"#0d0887\"], [0.1111111111111111, \"#46039f\"], [0.2222222222222222, \"#7201a8\"], [0.3333333333333333, \"#9c179e\"], [0.4444444444444444, \"#bd3786\"], [0.5555555555555556, \"#d8576b\"], [0.6666666666666666, \"#ed7953\"], [0.7777777777777778, \"#fb9f3a\"], [0.8888888888888888, \"#fdca26\"], [1.0, \"#f0f921\"]], \"sequentialminus\": [[0.0, \"#0d0887\"], [0.1111111111111111, \"#46039f\"], [0.2222222222222222, \"#7201a8\"], [0.3333333333333333, \"#9c179e\"], [0.4444444444444444, \"#bd3786\"], [0.5555555555555556, \"#d8576b\"], [0.6666666666666666, \"#ed7953\"], [0.7777777777777778, \"#fb9f3a\"], [0.8888888888888888, \"#fdca26\"], [1.0, \"#f0f921\"]]}, \"colorway\": [\"#636efa\", \"#EF553B\", \"#00cc96\", \"#ab63fa\", \"#FFA15A\", \"#19d3f3\", \"#FF6692\", \"#B6E880\", \"#FF97FF\", \"#FECB52\"], \"font\": {\"color\": \"#2a3f5f\"}, \"geo\": {\"bgcolor\": \"white\", \"lakecolor\": \"white\", \"landcolor\": \"white\", \"showlakes\": true, \"showland\": true, \"subunitcolor\": \"#C8D4E3\"}, \"hoverlabel\": {\"align\": \"left\"}, \"hovermode\": \"closest\", \"mapbox\": {\"style\": \"light\"}, \"paper_bgcolor\": \"white\", \"plot_bgcolor\": \"white\", \"polar\": {\"angularaxis\": {\"gridcolor\": \"#EBF0F8\", \"linecolor\": \"#EBF0F8\", \"ticks\": \"\"}, \"bgcolor\": \"white\", \"radialaxis\": {\"gridcolor\": \"#EBF0F8\", \"linecolor\": \"#EBF0F8\", \"ticks\": \"\"}}, \"scene\": {\"xaxis\": {\"backgroundcolor\": \"white\", \"gridcolor\": \"#DFE8F3\", \"gridwidth\": 2, \"linecolor\": \"#EBF0F8\", \"showbackground\": true, \"ticks\": \"\", \"zerolinecolor\": \"#EBF0F8\"}, \"yaxis\": {\"backgroundcolor\": \"white\", \"gridcolor\": \"#DFE8F3\", \"gridwidth\": 2, \"linecolor\": \"#EBF0F8\", \"showbackground\": true, \"ticks\": \"\", \"zerolinecolor\": \"#EBF0F8\"}, \"zaxis\": {\"backgroundcolor\": \"white\", \"gridcolor\": \"#DFE8F3\", \"gridwidth\": 2, \"linecolor\": \"#EBF0F8\", \"showbackground\": true, \"ticks\": \"\", \"zerolinecolor\": \"#EBF0F8\"}}, \"shapedefaults\": {\"line\": {\"color\": \"#2a3f5f\"}}, \"ternary\": {\"aaxis\": {\"gridcolor\": \"#DFE8F3\", \"linecolor\": \"#A2B1C6\", \"ticks\": \"\"}, \"baxis\": {\"gridcolor\": \"#DFE8F3\", \"linecolor\": \"#A2B1C6\", \"ticks\": \"\"}, \"bgcolor\": \"white\", \"caxis\": {\"gridcolor\": \"#DFE8F3\", \"linecolor\": \"#A2B1C6\", \"ticks\": \"\"}}, \"title\": {\"x\": 0.05}, \"xaxis\": {\"automargin\": true, \"gridcolor\": \"#EBF0F8\", \"linecolor\": \"#EBF0F8\", \"ticks\": \"\", \"title\": {\"standoff\": 15}, \"zerolinecolor\": \"#EBF0F8\", \"zerolinewidth\": 2}, \"yaxis\": {\"automargin\": true, \"gridcolor\": \"#EBF0F8\", \"linecolor\": \"#EBF0F8\", \"ticks\": \"\", \"title\": {\"standoff\": 15}, \"zerolinecolor\": \"#EBF0F8\", \"zerolinewidth\": 2}}}},\n",
       "                        {\"responsive\": true}\n",
       "                    ).then(function(){\n",
       "                            \n",
       "var gd = document.getElementById('645bf21d-4211-41ab-ae45-e591e7726233');\n",
       "var x = new MutationObserver(function (mutations, observer) {{\n",
       "        var display = window.getComputedStyle(gd).display;\n",
       "        if (!display || display === 'none') {{\n",
       "            console.log([gd, 'removed!']);\n",
       "            Plotly.purge(gd);\n",
       "            observer.disconnect();\n",
       "        }}\n",
       "}});\n",
       "\n",
       "// Listen for the removal of the full notebook cells\n",
       "var notebookContainer = gd.closest('#notebook-container');\n",
       "if (notebookContainer) {{\n",
       "    x.observe(notebookContainer, {childList: true});\n",
       "}}\n",
       "\n",
       "// Listen for the clearing of the current output cell\n",
       "var outputEl = gd.closest('.output');\n",
       "if (outputEl) {{\n",
       "    x.observe(outputEl, {childList: true});\n",
       "}}\n",
       "\n",
       "                        })\n",
       "                };\n",
       "                });\n",
       "            </script>\n",
       "        </div>"
      ]
     },
     "metadata": {},
     "output_type": "display_data"
    }
   ],
   "source": [
    "size=ruta['country'].astype(int).apply(lambda x:x*0.1)\n",
    "fig=px.scatter_mapbox(ruta,lat='lat',lon='lng',hover_name=\"name\",opacity=1,color=\"continent\",size_max=6,size=size,color_discrete_map=coloring,zoom=10,template='simple_white')\n",
    "fig.update_layout(mapbox_style=\"open-street-map\")\n",
    "fig.update_layout(margin={\"r\":1,\"t\":0,\"l\":1,\"b\":0})\n",
    "fig.for_each_trace(\n",
    "    lambda trace: trace.update(name=trace.name.replace(\"continent=\", \"\")),\n",
    ")\n",
    "fig.update_layout(\n",
    "    showlegend=True,\n",
    "    legend_orientation=\"h\",\n",
    "    legend_y=0.0,\n",
    "    legend_x=0.18,\n",
    "    template=\"plotly_white\"\n",
    ")\n",
    "\n",
    "fig.add_trace(go.Scattermapbox(lat=(52.503842,52.503842),lon=(13.4075,13.4075),showlegend=False))\n",
    "fig.add_trace(go.Scattermapbox(showlegend=False,lat=ruta['lat'],lon=ruta['lng'],mode = \"lines\",marker=dict(size=12,color='DarkSlateGrey'\n",
    "                                                                                          )))\n",
    "\n",
    "fig.show()"
   ]
  },
  {
   "cell_type": "markdown",
   "metadata": {},
   "source": [
    "## Optimizing the route"
   ]
  },
  {
   "cell_type": "markdown",
   "metadata": {},
   "source": [
    "We see in this map above that the route is not optimized for the selected restaurants. This problem becomes a Traveling Salesman Problem (TSP). There are multiple algorithms developed for this purpose, here the google algorithm will be used. We have to make small changes to it so we can recover the optimal route. Now instead of printing, the print_solution function will return a long string.\n",
    "https://developers.google.com/optimization/routing/tsp"
   ]
  },
  {
   "cell_type": "code",
   "execution_count": 102,
   "metadata": {},
   "outputs": [],
   "source": [
    "# setting the origin to be used in the algorithm\n",
    "techspace=(52503842,13407526)\n",
    "locations=list(zip(ruta['new_lat'],ruta['new_lng']))\n",
    "locations.insert(0,techspace)"
   ]
  },
  {
   "cell_type": "code",
   "execution_count": 103,
   "metadata": {},
   "outputs": [],
   "source": [
    "def create_data_model(locations):\n",
    "    matrix={}\n",
    "    matrix['locations']=locations\n",
    "    matrix['num_vehicles'] = 1\n",
    "    matrix['depot'] = 0\n",
    "    return matrix\n",
    "\n",
    "def print_solution(manager, routing, assignment):\n",
    "    \"\"\"Prints assignment on console.\"\"\"\n",
    "    #print('Objective: {}'.format(assignment.ObjectiveValue()))\n",
    "    index = routing.Start(0)\n",
    "    plan_output = 'Route:\\n'\n",
    "    route_distance = 0\n",
    "    while not routing.IsEnd(index):\n",
    "        plan_output += ' {} ->'.format(manager.IndexToNode(index))\n",
    "        previous_index = index\n",
    "        index = assignment.Value(routing.NextVar(index))\n",
    "        route_distance += routing.GetArcCostForVehicle(previous_index, index, 0)\n",
    "    plan_output += ' {}\\n'.format(manager.IndexToNode(index))\n",
    "    #print(plan_output)\n",
    "    plan_output += 'Objective: {}m\\n'.format(route_distance)\n",
    "    return plan_output\n",
    "\n",
    "def main(locations):\n",
    "    \"\"\"Entry point of the program.\"\"\"\n",
    "    # Instantiate the data problem.\n",
    "    matrix = create_data_model(locations)\n",
    "\n",
    "    # Create the routing index manager.\n",
    "    manager = pywrapcp.RoutingIndexManager(len(matrix['locations']),\n",
    "                                           matrix['num_vehicles'], matrix['depot'])\n",
    "\n",
    "    # Create Routing Model.\n",
    "    routing = pywrapcp.RoutingModel(manager)\n",
    "\n",
    "    distance_matrix = compute_euclidean_distance_matrix(matrix['locations'])\n",
    "\n",
    "    def distance_callback(from_index, to_index):\n",
    "        \"\"\"Returns the distance between the two nodes.\"\"\"\n",
    "        # Convert from routing variable Index to distance matrix NodeIndex.\n",
    "        from_node = manager.IndexToNode(from_index)\n",
    "        to_node = manager.IndexToNode(to_index)\n",
    "        return distance_matrix[from_node][to_node]\n",
    "\n",
    "    transit_callback_index = routing.RegisterTransitCallback(distance_callback)\n",
    "\n",
    "    # Define cost of each arc.\n",
    "    routing.SetArcCostEvaluatorOfAllVehicles(transit_callback_index)\n",
    "\n",
    "    # Setting first solution heuristic.\n",
    "    search_parameters = pywrapcp.DefaultRoutingSearchParameters()\n",
    "    search_parameters.first_solution_strategy = (\n",
    "        routing_enums_pb2.FirstSolutionStrategy.PATH_CHEAPEST_ARC)\n",
    "\n",
    "    # Solve the problem.\n",
    "    assignment = routing.SolveWithParameters(search_parameters)\n",
    "\n",
    "    # Print solution on console.\n",
    "    if assignment:\n",
    "        sol=print_solution(manager, routing, assignment)\n",
    "        return sol\n",
    "\n",
    "\n",
    "if __name__ == '__main__':\n",
    "    sol=main(locations)"
   ]
  },
  {
   "cell_type": "markdown",
   "metadata": {},
   "source": [
    "Cleaning the solution of optimizing the route, so we can continue using it"
   ]
  },
  {
   "cell_type": "code",
   "execution_count": 104,
   "metadata": {},
   "outputs": [],
   "source": [
    "def cleaning_sol(sol,ruta,locations):\n",
    "    # extracting the indexes from the log string that the function returns\n",
    "    guide=sol.split(' -> ')\n",
    "    guide.pop(0)\n",
    "    guide.insert(0,'0')\n",
    "    guide=guide[0:len(guide)-1]\n",
    "    # converting the locations tuples into a df astype int and sorting the locations by the order of the indexes that the function returned\n",
    "    df_loc=pd.DataFrame(locations)\n",
    "    guide2=list(map(int,guide))\n",
    "    sorted_guide=pd.DataFrame(df_loc,index=guide2)\n",
    "    # merging the df with the original one so we can have the name of the restaurants for each location\n",
    "    sorted_guide.rename(columns={0: \"new_lat\", 1: \"new_lng\"},inplace=True)\n",
    "    final_guide=sorted_guide.merge(ruta,how='left',on=['new_lat','new_lng'])\n",
    "    final_guide.head()\n",
    "    # adding our origin point to the df\n",
    "    final_guide.fillna('Techspace',inplace=True)\n",
    "    final_guide.loc[0,'lat']=52503842/(10**6)\n",
    "    final_guide.loc[0,'lng']=13407526/(10**6)\n",
    "    final_guide.loc[0,'country']=1\n",
    "    \n",
    "    last=final_guide.iloc[0].to_frame().transpose()\n",
    "    final_guide=final_guide.append(last,ignore_index=True)\n",
    "    return final_guide"
   ]
  },
  {
   "cell_type": "code",
   "execution_count": 105,
   "metadata": {},
   "outputs": [],
   "source": [
    "final_guide=cleaning_sol(sol,ruta,locations)"
   ]
  },
  {
   "cell_type": "markdown",
   "metadata": {},
   "source": [
    "Plotting the optimized route"
   ]
  },
  {
   "cell_type": "code",
   "execution_count": 106,
   "metadata": {},
   "outputs": [],
   "source": [
    "def plot_optimized(final_guide):\n",
    "    size=final_guide['country'].astype(int).apply(lambda x:x*0.1)\n",
    "    fig=px.scatter_mapbox(final_guide,lat='lat',lon='lng',hover_name='name',opacity=1,color=\"continent\",size_max=6,size=size,color_discrete_map=coloring,zoom=10,template='simple_white')\n",
    "    fig.update_layout(mapbox_style=\"open-street-map\")\n",
    "    fig.update_layout(margin={\"r\":1,\"t\":0,\"l\":1,\"b\":0})\n",
    "    fig.for_each_trace(\n",
    "        lambda trace: trace.update(name=trace.name.replace(\"continent=\", \"\")),\n",
    "    )\n",
    "    fig.update_layout(\n",
    "        showlegend=True,\n",
    "        legend_orientation=\"h\",\n",
    "        legend_y=0.0,\n",
    "        legend_x=0.18,\n",
    "        template=\"plotly_white\"\n",
    "    )\n",
    "    \n",
    "    fig.add_trace(go.Scattermapbox(showlegend=False,lat=final_guide['lat'],lon=final_guide['lng'],mode = \"lines\",marker=dict(size=12,color='DarkSlateGrey'\n",
    "                                                                                              )))\n",
    "    \n",
    "    fig.show()"
   ]
  },
  {
   "cell_type": "code",
   "execution_count": 50,
   "metadata": {},
   "outputs": [
    {
     "data": {
      "application/vnd.plotly.v1+json": {
       "config": {
        "plotlyServerURL": "https://plot.ly"
       },
       "data": [
        {
         "hoverlabel": {
          "namelength": 0
         },
         "hovertemplate": "<b>%{hovertext}</b><br><br>continent=Techspace<br>size=%{marker.size}<br>lat=%{lat}<br>lng=%{lon}",
         "hovertext": [
          "Techspace",
          "Techspace"
         ],
         "lat": [
          52.503842,
          52.503842
         ],
         "legendgroup": "continent=Techspace",
         "lon": [
          13.407526,
          13.407526
         ],
         "marker": {
          "color": "#E377C2",
          "opacity": 1,
          "size": [
           0.1,
           0.1
          ],
          "sizemode": "area",
          "sizeref": 0.002777777777777778
         },
         "mode": "markers",
         "name": "Techspace",
         "showlegend": true,
         "subplot": "mapbox",
         "type": "scattermapbox"
        },
        {
         "hoverlabel": {
          "namelength": 0
         },
         "hovertemplate": "<b>%{hovertext}</b><br><br>continent=Europe<br>size=%{marker.size}<br>lat=%{lat}<br>lng=%{lon}",
         "hovertext": [
          "Finnish Pulled Pork",
          "Munch's Hus",
          "Saeson Nordic Cuisine",
          "Odessa Mama",
          "Restorant Macedonia (Berlin)",
          "Marché Sucre",
          "Zadar Restaurant",
          "Vincent-Burger",
          "Puszta",
          "Tunnbrödsrulle - Swedish Hot Dog Wrap",
          "KIRSONS Alexa",
          "Prager Hopfenstube",
          "Molly Malones Irish Pub",
          "Restaurant Dalmatino",
          "Zum Nussbaum",
          "Bulgarian Banitsa",
          "Prizreni",
          "PINK'S",
          "Schwarze Heidi",
          "Melro",
          "Datscha",
          "Tak Tak Polish Deli",
          "Gasthaus Figl",
          "Wirtshaus zum Mitterhofer",
          "Kreuzberger Weltlaterne",
          "Stari Most",
          "Sol y Sombra",
          "Max und Moritz",
          "Tourlou"
         ],
         "lat": [
          52.4908251,
          52.4965198122726,
          52.503426,
          52.47862271037745,
          52.50466954062061,
          52.583678,
          52.583840098524405,
          52.524436,
          52.52792739868164,
          52.508354,
          52.51812532677293,
          52.51664822145941,
          52.511185,
          52.46514664131191,
          52.466341,
          52.48084325729499,
          52.484627,
          52.50212478637695,
          52.501055,
          52.49403307523592,
          52.49380528273849,
          52.493294,
          52.49038,
          52.491401145358736,
          52.49695561938602,
          52.499920465700356,
          52.502820675654284,
          52.502709184440235,
          52.500637
         ],
         "legendgroup": "continent=Europe",
         "lon": [
          13.3939081,
          13.366768169046342,
          13.366116,
          13.344735327360468,
          13.303600088098401,
          13.286527,
          13.30113414941472,
          13.301269,
          13.3387451171875,
          13.390773,
          13.415961025425812,
          13.448383888566534,
          13.447,
          13.472886995206306,
          13.468333,
          13.432474747227445,
          13.428112,
          13.43171501159668,
          13.423885,
          13.418564750283036,
          13.418690354316261,
          13.418156,
          13.417754,
          13.412989761695771,
          13.417493424194506,
          13.417514602640152,
          13.415470547916776,
          13.414106992314636,
          13.41347
         ],
         "marker": {
          "color": "orange",
          "opacity": 1,
          "size": [
           0.1,
           0.1,
           0.1,
           0.1,
           0.1,
           0.1,
           0.1,
           0.1,
           0.1,
           0.1,
           0.1,
           0.1,
           0.1,
           0.1,
           0.1,
           0.1,
           0.1,
           0.1,
           0.1,
           0.1,
           0.1,
           0.1,
           0.1,
           0.1,
           0.1,
           0,
           0.1,
           0.1,
           0.1
          ],
          "sizemode": "area",
          "sizeref": 0.002777777777777778
         },
         "mode": "markers",
         "name": "Europe",
         "showlegend": true,
         "subplot": "mapbox",
         "type": "scattermapbox"
        },
        {
         "hoverlabel": {
          "namelength": 0
         },
         "hovertemplate": "<b>%{hovertext}</b><br><br>continent=North America<br>size=%{marker.size}<br>lat=%{lat}<br>lng=%{lon}",
         "hovertext": [
          "Panama Restaurant & Bar",
          "Habana",
          "Lagari",
          "Rosa Caleta",
          "Ron Telesky Canadian Pizza",
          "Santa Maria"
         ],
         "lat": [
          52.501233,
          52.51192551,
          52.49058749119413,
          52.501189726579824,
          52.493030386691565,
          52.50171776543595
         ],
         "legendgroup": "continent=North America",
         "lon": [
          13.365496,
          13.45671694,
          13.431580066680908,
          13.432149181080584,
          13.414998091474947,
          13.417892329736027
         ],
         "marker": {
          "color": "red",
          "opacity": 1,
          "size": [
           0.1,
           0.1,
           0.1,
           0.1,
           0.1,
           0.1
          ],
          "sizemode": "area",
          "sizeref": 0.002777777777777778
         },
         "mode": "markers",
         "name": "North America",
         "showlegend": true,
         "subplot": "mapbox",
         "type": "scattermapbox"
        },
        {
         "hoverlabel": {
          "namelength": 0
         },
         "hovertemplate": "<b>%{hovertext}</b><br><br>continent=Asia<br>size=%{marker.size}<br>lat=%{lat}<br>lng=%{lon}",
         "hovertext": [
          "Ayan Filipino Streetfood",
          "Baku Napoli",
          "Seri Melayu",
          "Original Taiwanesische Bauernstube",
          "Taste Singapore Style",
          "Angkor Wat",
          "Mabuhay Mini",
          "Al Hamra",
          "Restaurant Sigiriya",
          "King Wok",
          "Hong Kong Bistro",
          "Jemenitisches Restaurant",
          "Karabach Restaurant",
          "Aldimashqi",
          "Mama Shabz",
          "Rissani",
          "chili chutney",
          "Holy Everest",
          "A-Thai, Viêt Street Kitchen",
          "ammAmma",
          "Lasan",
          "PHO",
          "Green Rice",
          "Rote Laterne",
          "Safran",
          "Tsukushiya - Japanese Deli",
          "Shishi",
          "King's Chicken",
          "Pacifico",
          "Akçaabat Köftesi"
         ],
         "lat": [
          52.50322001571735,
          52.4972644,
          52.506645,
          52.52134435152118,
          52.52401570267303,
          52.52037677752846,
          52.51135,
          52.541788,
          52.51158538304717,
          52.541755,
          52.470389,
          52.474525,
          52.474809751872,
          52.48701529942962,
          52.495696,
          52.498658935046706,
          52.50200765901417,
          52.501999,
          52.500402,
          52.49206985959974,
          52.49984230321145,
          52.50076510297526,
          52.50105935662873,
          52.501557,
          52.5016094430204,
          52.50117562711077,
          52.502155,
          52.503439,
          52.50384734485071,
          52.504879
         ],
         "legendgroup": "continent=Asia",
         "lon": [
          13.365807039152024,
          13.361860100000001,
          13.304373,
          13.322479040254438,
          13.328874637889097,
          13.355765000801808,
          13.390513,
          13.421064,
          13.458016949935796,
          13.542521,
          13.479038,
          13.440109,
          13.427592223272118,
          13.42914238257933,
          13.429364,
          13.43138806228964,
          13.43218031689331,
          13.431763,
          13.426082,
          13.412371420960152,
          13.418157674683414,
          13.419047424097913,
          13.419129676164411,
          13.418314,
          13.4182367612713,
          13.416808742410739,
          13.411516,
          13.411943,
          13.40989250334581,
          13.407337
         ],
         "marker": {
          "color": "dimgray",
          "opacity": 1,
          "size": [
           0.1,
           0.1,
           0.1,
           0.1,
           0.1,
           0.1,
           0.1,
           0.1,
           0.1,
           0.1,
           0.1,
           0.1,
           0.1,
           0.1,
           0.1,
           0,
           0.1,
           0.1,
           0,
           0.1,
           0.1,
           0.1,
           0.1,
           0.1,
           0.1,
           0.1,
           0.1,
           0.1,
           0.1,
           0.1
          ],
          "sizemode": "area",
          "sizeref": 0.002777777777777778
         },
         "mode": "markers",
         "name": "Asia",
         "showlegend": true,
         "subplot": "mapbox",
         "type": "scattermapbox"
        },
        {
         "hoverlabel": {
          "namelength": 0
         },
         "hovertemplate": "<b>%{hovertext}</b><br><br>continent=South America<br>size=%{marker.size}<br>lat=%{lat}<br>lng=%{lon}",
         "hovertext": [
          "La tía rica",
          "La Batea",
          "Pecados",
          "Madinina",
          "Cafe De Colombia",
          "La Casita",
          "Camba La Che",
          "Café Mori",
          "Cevichería"
         ],
         "lat": [
          52.508476,
          52.507406780548706,
          52.511604638346135,
          52.51309029552139,
          52.509335,
          52.493168,
          52.49936505162417,
          52.49858342772442,
          52.501338223645014
         ],
         "legendgroup": "continent=South America",
         "lon": [
          13.323309,
          13.30941552258981,
          13.39867767582335,
          13.452794504539401,
          13.4570055,
          13.465505,
          13.430269190216897,
          13.428599492099389,
          13.416600211798988
         ],
         "marker": {
          "color": "lime",
          "opacity": 1,
          "size": [
           0.1,
           0,
           0.1,
           0,
           0.1,
           0.1,
           0.1,
           0.1,
           0.1
          ],
          "sizemode": "area",
          "sizeref": 0.002777777777777778
         },
         "mode": "markers",
         "name": "South America",
         "showlegend": true,
         "subplot": "mapbox",
         "type": "scattermapbox"
        },
        {
         "hoverlabel": {
          "namelength": 0
         },
         "hovertemplate": "<b>%{hovertext}</b><br><br>continent=Africa<br>size=%{marker.size}<br>lat=%{lat}<br>lng=%{lon}",
         "hovertext": [
          "Makenene",
          "Tembo African Kitchen",
          "Eiscafé Mauritius",
          "Mali Raj",
          "Zoe's Ghana Kitchen",
          "Senegambia",
          "Babylon Grill",
          "Langano",
          "Ela Ent",
          "TZOM",
          "Maroush",
          "2 Cool"
         ],
         "lat": [
          52.51005591409204,
          52.513701,
          52.509946,
          52.54184581627682,
          52.48353962401119,
          52.49462459251267,
          52.498043,
          52.49668429344324,
          52.492936,
          52.49361275394741,
          52.50093770064716,
          52.501803
         ],
         "legendgroup": "continent=Africa",
         "lon": [
          13.31256029583138,
          13.290897,
          13.2734,
          13.236583471298218,
          13.42292591203159,
          13.433660414689246,
          13.421149,
          13.418557674212384,
          13.41789,
          13.412532235726932,
          13.4190620805529,
          13.417574
         ],
         "marker": {
          "color": "deepskyblue",
          "opacity": 1,
          "size": [
           0.1,
           0.1,
           0.1,
           0.1,
           0.1,
           0.1,
           0,
           0.1,
           0.1,
           0.1,
           0.1,
           0.1
          ],
          "sizemode": "area",
          "sizeref": 0.002777777777777778
         },
         "mode": "markers",
         "name": "Africa",
         "showlegend": true,
         "subplot": "mapbox",
         "type": "scattermapbox"
        },
        {
         "hoverlabel": {
          "namelength": 0
         },
         "hovertemplate": "<b>%{hovertext}</b><br><br>continent=Oceania<br>size=%{marker.size}<br>lat=%{lat}<br>lng=%{lon}",
         "hovertext": [
          "Corroboree"
         ],
         "lat": [
          52.51008348180994
         ],
         "legendgroup": "continent=Oceania",
         "lon": [
          13.37332315521734
         ],
         "marker": {
          "color": "mediumslateblue",
          "opacity": 1,
          "size": [
           0.1
          ],
          "sizemode": "area",
          "sizeref": 0.002777777777777778
         },
         "mode": "markers",
         "name": "Oceania",
         "showlegend": true,
         "subplot": "mapbox",
         "type": "scattermapbox"
        },
        {
         "lat": [
          52.503842,
          52.4908251,
          52.4965198122726,
          52.501233,
          52.503426,
          52.50322001571735,
          52.4972644,
          52.47862271037745,
          52.508476,
          52.51005591409204,
          52.507406780548706,
          52.506645,
          52.50466954062061,
          52.513701,
          52.509946,
          52.54184581627682,
          52.583678,
          52.583840098524405,
          52.524436,
          52.52134435152118,
          52.52401570267303,
          52.52792739868164,
          52.52037677752846,
          52.51008348180994,
          52.508354,
          52.51135,
          52.511604638346135,
          52.51812532677293,
          52.541788,
          52.51664822145941,
          52.511185,
          52.51309029552139,
          52.51192551,
          52.51158538304717,
          52.509335,
          52.493168,
          52.541755,
          52.470389,
          52.46514664131191,
          52.466341,
          52.474525,
          52.48084325729499,
          52.474809751872,
          52.48353962401119,
          52.484627,
          52.48701529942962,
          52.49058749119413,
          52.49462459251267,
          52.495696,
          52.498658935046706,
          52.501189726579824,
          52.50200765901417,
          52.50212478637695,
          52.501999,
          52.49936505162417,
          52.49858342772442,
          52.500402,
          52.501055,
          52.498043,
          52.49668429344324,
          52.49403307523592,
          52.49380528273849,
          52.493294,
          52.492936,
          52.49038,
          52.491401145358736,
          52.49206985959974,
          52.49361275394741,
          52.493030386691565,
          52.49695561938602,
          52.499920465700356,
          52.49984230321145,
          52.50076510297526,
          52.50093770064716,
          52.50105935662873,
          52.501557,
          52.5016094430204,
          52.50171776543595,
          52.501803,
          52.50117562711077,
          52.501338223645014,
          52.502820675654284,
          52.502709184440235,
          52.500637,
          52.502155,
          52.503439,
          52.50384734485071,
          52.504879,
          52.503842
         ],
         "lon": [
          13.407526,
          13.3939081,
          13.366768169046342,
          13.365496,
          13.366116,
          13.365807039152024,
          13.361860100000001,
          13.344735327360468,
          13.323309,
          13.31256029583138,
          13.30941552258981,
          13.304373,
          13.303600088098401,
          13.290897,
          13.2734,
          13.236583471298218,
          13.286527,
          13.30113414941472,
          13.301269,
          13.322479040254438,
          13.328874637889097,
          13.3387451171875,
          13.355765000801808,
          13.37332315521734,
          13.390773,
          13.390513,
          13.39867767582335,
          13.415961025425812,
          13.421064,
          13.448383888566534,
          13.447,
          13.452794504539401,
          13.45671694,
          13.458016949935796,
          13.4570055,
          13.465505,
          13.542521,
          13.479038,
          13.472886995206306,
          13.468333,
          13.440109,
          13.432474747227445,
          13.427592223272118,
          13.42292591203159,
          13.428112,
          13.42914238257933,
          13.431580066680908,
          13.433660414689246,
          13.429364,
          13.43138806228964,
          13.432149181080584,
          13.43218031689331,
          13.43171501159668,
          13.431763,
          13.430269190216897,
          13.428599492099389,
          13.426082,
          13.423885,
          13.421149,
          13.418557674212384,
          13.418564750283036,
          13.418690354316261,
          13.418156,
          13.41789,
          13.417754,
          13.412989761695771,
          13.412371420960152,
          13.412532235726932,
          13.414998091474947,
          13.417493424194506,
          13.417514602640152,
          13.418157674683414,
          13.419047424097913,
          13.4190620805529,
          13.419129676164411,
          13.418314,
          13.4182367612713,
          13.417892329736027,
          13.417574,
          13.416808742410739,
          13.416600211798988,
          13.415470547916776,
          13.414106992314636,
          13.41347,
          13.411516,
          13.411943,
          13.40989250334581,
          13.407337,
          13.407526
         ],
         "marker": {
          "color": "DarkSlateGrey",
          "size": 12
         },
         "mode": "lines",
         "showlegend": false,
         "type": "scattermapbox"
        }
       ],
       "layout": {
        "height": 600,
        "legend": {
         "itemsizing": "constant",
         "orientation": "h",
         "tracegroupgap": 0,
         "x": 0.18,
         "y": 0
        },
        "mapbox": {
         "center": {
          "lat": 52.50347355201691,
          "lon": 13.401498887124642
         },
         "domain": {
          "x": [
           0,
           1
          ],
          "y": [
           0,
           1
          ]
         },
         "style": "open-street-map",
         "zoom": 10
        },
        "margin": {
         "b": 0,
         "l": 1,
         "r": 1,
         "t": 0
        },
        "showlegend": true,
        "template": {
         "data": {
          "bar": [
           {
            "error_x": {
             "color": "#2a3f5f"
            },
            "error_y": {
             "color": "#2a3f5f"
            },
            "marker": {
             "line": {
              "color": "white",
              "width": 0.5
             }
            },
            "type": "bar"
           }
          ],
          "barpolar": [
           {
            "marker": {
             "line": {
              "color": "white",
              "width": 0.5
             }
            },
            "type": "barpolar"
           }
          ],
          "carpet": [
           {
            "aaxis": {
             "endlinecolor": "#2a3f5f",
             "gridcolor": "#C8D4E3",
             "linecolor": "#C8D4E3",
             "minorgridcolor": "#C8D4E3",
             "startlinecolor": "#2a3f5f"
            },
            "baxis": {
             "endlinecolor": "#2a3f5f",
             "gridcolor": "#C8D4E3",
             "linecolor": "#C8D4E3",
             "minorgridcolor": "#C8D4E3",
             "startlinecolor": "#2a3f5f"
            },
            "type": "carpet"
           }
          ],
          "choropleth": [
           {
            "colorbar": {
             "outlinewidth": 0,
             "ticks": ""
            },
            "type": "choropleth"
           }
          ],
          "contour": [
           {
            "colorbar": {
             "outlinewidth": 0,
             "ticks": ""
            },
            "colorscale": [
             [
              0,
              "#0d0887"
             ],
             [
              0.1111111111111111,
              "#46039f"
             ],
             [
              0.2222222222222222,
              "#7201a8"
             ],
             [
              0.3333333333333333,
              "#9c179e"
             ],
             [
              0.4444444444444444,
              "#bd3786"
             ],
             [
              0.5555555555555556,
              "#d8576b"
             ],
             [
              0.6666666666666666,
              "#ed7953"
             ],
             [
              0.7777777777777778,
              "#fb9f3a"
             ],
             [
              0.8888888888888888,
              "#fdca26"
             ],
             [
              1,
              "#f0f921"
             ]
            ],
            "type": "contour"
           }
          ],
          "contourcarpet": [
           {
            "colorbar": {
             "outlinewidth": 0,
             "ticks": ""
            },
            "type": "contourcarpet"
           }
          ],
          "heatmap": [
           {
            "colorbar": {
             "outlinewidth": 0,
             "ticks": ""
            },
            "colorscale": [
             [
              0,
              "#0d0887"
             ],
             [
              0.1111111111111111,
              "#46039f"
             ],
             [
              0.2222222222222222,
              "#7201a8"
             ],
             [
              0.3333333333333333,
              "#9c179e"
             ],
             [
              0.4444444444444444,
              "#bd3786"
             ],
             [
              0.5555555555555556,
              "#d8576b"
             ],
             [
              0.6666666666666666,
              "#ed7953"
             ],
             [
              0.7777777777777778,
              "#fb9f3a"
             ],
             [
              0.8888888888888888,
              "#fdca26"
             ],
             [
              1,
              "#f0f921"
             ]
            ],
            "type": "heatmap"
           }
          ],
          "heatmapgl": [
           {
            "colorbar": {
             "outlinewidth": 0,
             "ticks": ""
            },
            "colorscale": [
             [
              0,
              "#0d0887"
             ],
             [
              0.1111111111111111,
              "#46039f"
             ],
             [
              0.2222222222222222,
              "#7201a8"
             ],
             [
              0.3333333333333333,
              "#9c179e"
             ],
             [
              0.4444444444444444,
              "#bd3786"
             ],
             [
              0.5555555555555556,
              "#d8576b"
             ],
             [
              0.6666666666666666,
              "#ed7953"
             ],
             [
              0.7777777777777778,
              "#fb9f3a"
             ],
             [
              0.8888888888888888,
              "#fdca26"
             ],
             [
              1,
              "#f0f921"
             ]
            ],
            "type": "heatmapgl"
           }
          ],
          "histogram": [
           {
            "marker": {
             "colorbar": {
              "outlinewidth": 0,
              "ticks": ""
             }
            },
            "type": "histogram"
           }
          ],
          "histogram2d": [
           {
            "colorbar": {
             "outlinewidth": 0,
             "ticks": ""
            },
            "colorscale": [
             [
              0,
              "#0d0887"
             ],
             [
              0.1111111111111111,
              "#46039f"
             ],
             [
              0.2222222222222222,
              "#7201a8"
             ],
             [
              0.3333333333333333,
              "#9c179e"
             ],
             [
              0.4444444444444444,
              "#bd3786"
             ],
             [
              0.5555555555555556,
              "#d8576b"
             ],
             [
              0.6666666666666666,
              "#ed7953"
             ],
             [
              0.7777777777777778,
              "#fb9f3a"
             ],
             [
              0.8888888888888888,
              "#fdca26"
             ],
             [
              1,
              "#f0f921"
             ]
            ],
            "type": "histogram2d"
           }
          ],
          "histogram2dcontour": [
           {
            "colorbar": {
             "outlinewidth": 0,
             "ticks": ""
            },
            "colorscale": [
             [
              0,
              "#0d0887"
             ],
             [
              0.1111111111111111,
              "#46039f"
             ],
             [
              0.2222222222222222,
              "#7201a8"
             ],
             [
              0.3333333333333333,
              "#9c179e"
             ],
             [
              0.4444444444444444,
              "#bd3786"
             ],
             [
              0.5555555555555556,
              "#d8576b"
             ],
             [
              0.6666666666666666,
              "#ed7953"
             ],
             [
              0.7777777777777778,
              "#fb9f3a"
             ],
             [
              0.8888888888888888,
              "#fdca26"
             ],
             [
              1,
              "#f0f921"
             ]
            ],
            "type": "histogram2dcontour"
           }
          ],
          "mesh3d": [
           {
            "colorbar": {
             "outlinewidth": 0,
             "ticks": ""
            },
            "type": "mesh3d"
           }
          ],
          "parcoords": [
           {
            "line": {
             "colorbar": {
              "outlinewidth": 0,
              "ticks": ""
             }
            },
            "type": "parcoords"
           }
          ],
          "pie": [
           {
            "automargin": true,
            "type": "pie"
           }
          ],
          "scatter": [
           {
            "marker": {
             "colorbar": {
              "outlinewidth": 0,
              "ticks": ""
             }
            },
            "type": "scatter"
           }
          ],
          "scatter3d": [
           {
            "line": {
             "colorbar": {
              "outlinewidth": 0,
              "ticks": ""
             }
            },
            "marker": {
             "colorbar": {
              "outlinewidth": 0,
              "ticks": ""
             }
            },
            "type": "scatter3d"
           }
          ],
          "scattercarpet": [
           {
            "marker": {
             "colorbar": {
              "outlinewidth": 0,
              "ticks": ""
             }
            },
            "type": "scattercarpet"
           }
          ],
          "scattergeo": [
           {
            "marker": {
             "colorbar": {
              "outlinewidth": 0,
              "ticks": ""
             }
            },
            "type": "scattergeo"
           }
          ],
          "scattergl": [
           {
            "marker": {
             "colorbar": {
              "outlinewidth": 0,
              "ticks": ""
             }
            },
            "type": "scattergl"
           }
          ],
          "scattermapbox": [
           {
            "marker": {
             "colorbar": {
              "outlinewidth": 0,
              "ticks": ""
             }
            },
            "type": "scattermapbox"
           }
          ],
          "scatterpolar": [
           {
            "marker": {
             "colorbar": {
              "outlinewidth": 0,
              "ticks": ""
             }
            },
            "type": "scatterpolar"
           }
          ],
          "scatterpolargl": [
           {
            "marker": {
             "colorbar": {
              "outlinewidth": 0,
              "ticks": ""
             }
            },
            "type": "scatterpolargl"
           }
          ],
          "scatterternary": [
           {
            "marker": {
             "colorbar": {
              "outlinewidth": 0,
              "ticks": ""
             }
            },
            "type": "scatterternary"
           }
          ],
          "surface": [
           {
            "colorbar": {
             "outlinewidth": 0,
             "ticks": ""
            },
            "colorscale": [
             [
              0,
              "#0d0887"
             ],
             [
              0.1111111111111111,
              "#46039f"
             ],
             [
              0.2222222222222222,
              "#7201a8"
             ],
             [
              0.3333333333333333,
              "#9c179e"
             ],
             [
              0.4444444444444444,
              "#bd3786"
             ],
             [
              0.5555555555555556,
              "#d8576b"
             ],
             [
              0.6666666666666666,
              "#ed7953"
             ],
             [
              0.7777777777777778,
              "#fb9f3a"
             ],
             [
              0.8888888888888888,
              "#fdca26"
             ],
             [
              1,
              "#f0f921"
             ]
            ],
            "type": "surface"
           }
          ],
          "table": [
           {
            "cells": {
             "fill": {
              "color": "#EBF0F8"
             },
             "line": {
              "color": "white"
             }
            },
            "header": {
             "fill": {
              "color": "#C8D4E3"
             },
             "line": {
              "color": "white"
             }
            },
            "type": "table"
           }
          ]
         },
         "layout": {
          "annotationdefaults": {
           "arrowcolor": "#2a3f5f",
           "arrowhead": 0,
           "arrowwidth": 1
          },
          "coloraxis": {
           "colorbar": {
            "outlinewidth": 0,
            "ticks": ""
           }
          },
          "colorscale": {
           "diverging": [
            [
             0,
             "#8e0152"
            ],
            [
             0.1,
             "#c51b7d"
            ],
            [
             0.2,
             "#de77ae"
            ],
            [
             0.3,
             "#f1b6da"
            ],
            [
             0.4,
             "#fde0ef"
            ],
            [
             0.5,
             "#f7f7f7"
            ],
            [
             0.6,
             "#e6f5d0"
            ],
            [
             0.7,
             "#b8e186"
            ],
            [
             0.8,
             "#7fbc41"
            ],
            [
             0.9,
             "#4d9221"
            ],
            [
             1,
             "#276419"
            ]
           ],
           "sequential": [
            [
             0,
             "#0d0887"
            ],
            [
             0.1111111111111111,
             "#46039f"
            ],
            [
             0.2222222222222222,
             "#7201a8"
            ],
            [
             0.3333333333333333,
             "#9c179e"
            ],
            [
             0.4444444444444444,
             "#bd3786"
            ],
            [
             0.5555555555555556,
             "#d8576b"
            ],
            [
             0.6666666666666666,
             "#ed7953"
            ],
            [
             0.7777777777777778,
             "#fb9f3a"
            ],
            [
             0.8888888888888888,
             "#fdca26"
            ],
            [
             1,
             "#f0f921"
            ]
           ],
           "sequentialminus": [
            [
             0,
             "#0d0887"
            ],
            [
             0.1111111111111111,
             "#46039f"
            ],
            [
             0.2222222222222222,
             "#7201a8"
            ],
            [
             0.3333333333333333,
             "#9c179e"
            ],
            [
             0.4444444444444444,
             "#bd3786"
            ],
            [
             0.5555555555555556,
             "#d8576b"
            ],
            [
             0.6666666666666666,
             "#ed7953"
            ],
            [
             0.7777777777777778,
             "#fb9f3a"
            ],
            [
             0.8888888888888888,
             "#fdca26"
            ],
            [
             1,
             "#f0f921"
            ]
           ]
          },
          "colorway": [
           "#636efa",
           "#EF553B",
           "#00cc96",
           "#ab63fa",
           "#FFA15A",
           "#19d3f3",
           "#FF6692",
           "#B6E880",
           "#FF97FF",
           "#FECB52"
          ],
          "font": {
           "color": "#2a3f5f"
          },
          "geo": {
           "bgcolor": "white",
           "lakecolor": "white",
           "landcolor": "white",
           "showlakes": true,
           "showland": true,
           "subunitcolor": "#C8D4E3"
          },
          "hoverlabel": {
           "align": "left"
          },
          "hovermode": "closest",
          "mapbox": {
           "style": "light"
          },
          "paper_bgcolor": "white",
          "plot_bgcolor": "white",
          "polar": {
           "angularaxis": {
            "gridcolor": "#EBF0F8",
            "linecolor": "#EBF0F8",
            "ticks": ""
           },
           "bgcolor": "white",
           "radialaxis": {
            "gridcolor": "#EBF0F8",
            "linecolor": "#EBF0F8",
            "ticks": ""
           }
          },
          "scene": {
           "xaxis": {
            "backgroundcolor": "white",
            "gridcolor": "#DFE8F3",
            "gridwidth": 2,
            "linecolor": "#EBF0F8",
            "showbackground": true,
            "ticks": "",
            "zerolinecolor": "#EBF0F8"
           },
           "yaxis": {
            "backgroundcolor": "white",
            "gridcolor": "#DFE8F3",
            "gridwidth": 2,
            "linecolor": "#EBF0F8",
            "showbackground": true,
            "ticks": "",
            "zerolinecolor": "#EBF0F8"
           },
           "zaxis": {
            "backgroundcolor": "white",
            "gridcolor": "#DFE8F3",
            "gridwidth": 2,
            "linecolor": "#EBF0F8",
            "showbackground": true,
            "ticks": "",
            "zerolinecolor": "#EBF0F8"
           }
          },
          "shapedefaults": {
           "line": {
            "color": "#2a3f5f"
           }
          },
          "ternary": {
           "aaxis": {
            "gridcolor": "#DFE8F3",
            "linecolor": "#A2B1C6",
            "ticks": ""
           },
           "baxis": {
            "gridcolor": "#DFE8F3",
            "linecolor": "#A2B1C6",
            "ticks": ""
           },
           "bgcolor": "white",
           "caxis": {
            "gridcolor": "#DFE8F3",
            "linecolor": "#A2B1C6",
            "ticks": ""
           }
          },
          "title": {
           "x": 0.05
          },
          "xaxis": {
           "automargin": true,
           "gridcolor": "#EBF0F8",
           "linecolor": "#EBF0F8",
           "ticks": "",
           "title": {
            "standoff": 15
           },
           "zerolinecolor": "#EBF0F8",
           "zerolinewidth": 2
          },
          "yaxis": {
           "automargin": true,
           "gridcolor": "#EBF0F8",
           "linecolor": "#EBF0F8",
           "ticks": "",
           "title": {
            "standoff": 15
           },
           "zerolinecolor": "#EBF0F8",
           "zerolinewidth": 2
          }
         }
        }
       }
      },
      "text/html": [
       "<div>\n",
       "        \n",
       "        \n",
       "            <div id=\"1fe30e64-6c47-410b-b2aa-5253f1e73fa3\" class=\"plotly-graph-div\" style=\"height:600px; width:100%;\"></div>\n",
       "            <script type=\"text/javascript\">\n",
       "                require([\"plotly\"], function(Plotly) {\n",
       "                    window.PLOTLYENV=window.PLOTLYENV || {};\n",
       "                    \n",
       "                if (document.getElementById(\"1fe30e64-6c47-410b-b2aa-5253f1e73fa3\")) {\n",
       "                    Plotly.newPlot(\n",
       "                        '1fe30e64-6c47-410b-b2aa-5253f1e73fa3',\n",
       "                        [{\"hoverlabel\": {\"namelength\": 0}, \"hovertemplate\": \"<b>%{hovertext}</b><br><br>continent=Techspace<br>size=%{marker.size}<br>lat=%{lat}<br>lng=%{lon}\", \"hovertext\": [\"Techspace\", \"Techspace\"], \"lat\": [52.503842, 52.503842], \"legendgroup\": \"continent=Techspace\", \"lon\": [13.407526, 13.407526], \"marker\": {\"color\": \"#E377C2\", \"opacity\": 1, \"size\": [0.1, 0.1], \"sizemode\": \"area\", \"sizeref\": 0.002777777777777778}, \"mode\": \"markers\", \"name\": \"Techspace\", \"showlegend\": true, \"subplot\": \"mapbox\", \"type\": \"scattermapbox\"}, {\"hoverlabel\": {\"namelength\": 0}, \"hovertemplate\": \"<b>%{hovertext}</b><br><br>continent=Europe<br>size=%{marker.size}<br>lat=%{lat}<br>lng=%{lon}\", \"hovertext\": [\"Finnish Pulled Pork\", \"Munch's Hus\", \"Saeson Nordic Cuisine\", \"Odessa Mama\", \"Restorant Macedonia (Berlin)\", \"March\\u00e9 Sucre\", \"Zadar Restaurant\", \"Vincent-Burger\", \"Puszta\", \"Tunnbr\\u00f6dsrulle - Swedish Hot Dog Wrap\", \"KIRSONS Alexa\", \"Prager Hopfenstube\", \"Molly Malones Irish Pub\", \"Restaurant Dalmatino\", \"Zum Nussbaum\", \"Bulgarian Banitsa\", \"Prizreni\", \"PINK'S\", \"Schwarze Heidi\", \"Melro\", \"Datscha\", \"Tak Tak Polish Deli\", \"Gasthaus Figl\", \"Wirtshaus zum Mitterhofer\", \"Kreuzberger Weltlaterne\", \"Stari Most\", \"Sol y Sombra\", \"Max und Moritz\", \"Tourlou\"], \"lat\": [52.4908251, 52.4965198122726, 52.503426, 52.47862271037745, 52.50466954062061, 52.583678, 52.583840098524405, 52.524436, 52.52792739868164, 52.508354, 52.51812532677293, 52.51664822145941, 52.511185, 52.46514664131191, 52.466341, 52.48084325729499, 52.484627, 52.50212478637695, 52.501055, 52.49403307523592, 52.49380528273849, 52.493294, 52.49038, 52.491401145358736, 52.49695561938602, 52.499920465700356, 52.502820675654284, 52.502709184440235, 52.500637], \"legendgroup\": \"continent=Europe\", \"lon\": [13.3939081, 13.366768169046342, 13.366116, 13.344735327360468, 13.303600088098401, 13.286527, 13.30113414941472, 13.301269, 13.3387451171875, 13.390773, 13.415961025425812, 13.448383888566534, 13.447, 13.472886995206306, 13.468333, 13.432474747227445, 13.428112, 13.43171501159668, 13.423885, 13.418564750283036, 13.418690354316261, 13.418156, 13.417754, 13.412989761695771, 13.417493424194506, 13.417514602640152, 13.415470547916776, 13.414106992314636, 13.41347], \"marker\": {\"color\": \"orange\", \"opacity\": 1, \"size\": [0.1, 0.1, 0.1, 0.1, 0.1, 0.1, 0.1, 0.1, 0.1, 0.1, 0.1, 0.1, 0.1, 0.1, 0.1, 0.1, 0.1, 0.1, 0.1, 0.1, 0.1, 0.1, 0.1, 0.1, 0.1, 0.0, 0.1, 0.1, 0.1], \"sizemode\": \"area\", \"sizeref\": 0.002777777777777778}, \"mode\": \"markers\", \"name\": \"Europe\", \"showlegend\": true, \"subplot\": \"mapbox\", \"type\": \"scattermapbox\"}, {\"hoverlabel\": {\"namelength\": 0}, \"hovertemplate\": \"<b>%{hovertext}</b><br><br>continent=North America<br>size=%{marker.size}<br>lat=%{lat}<br>lng=%{lon}\", \"hovertext\": [\"Panama Restaurant & Bar\", \"Habana\", \"Lagari\", \"Rosa Caleta\", \"Ron Telesky Canadian Pizza\", \"Santa Maria\"], \"lat\": [52.501233, 52.51192551, 52.49058749119413, 52.501189726579824, 52.493030386691565, 52.50171776543595], \"legendgroup\": \"continent=North America\", \"lon\": [13.365496, 13.45671694, 13.431580066680908, 13.432149181080584, 13.414998091474947, 13.417892329736027], \"marker\": {\"color\": \"red\", \"opacity\": 1, \"size\": [0.1, 0.1, 0.1, 0.1, 0.1, 0.1], \"sizemode\": \"area\", \"sizeref\": 0.002777777777777778}, \"mode\": \"markers\", \"name\": \"North America\", \"showlegend\": true, \"subplot\": \"mapbox\", \"type\": \"scattermapbox\"}, {\"hoverlabel\": {\"namelength\": 0}, \"hovertemplate\": \"<b>%{hovertext}</b><br><br>continent=Asia<br>size=%{marker.size}<br>lat=%{lat}<br>lng=%{lon}\", \"hovertext\": [\"Ayan Filipino Streetfood\", \"Baku Napoli\", \"Seri Melayu\", \"Original Taiwanesische Bauernstube\", \"Taste Singapore Style\", \"Angkor Wat\", \"Mabuhay Mini\", \"Al Hamra\", \"Restaurant Sigiriya\", \"King Wok\", \"Hong Kong Bistro\", \"Jemenitisches Restaurant\", \"Karabach Restaurant\", \"Aldimashqi\", \"Mama Shabz\", \"Rissani\", \"chili chutney\", \"Holy Everest\", \"A-Thai, Vi\\u00eat Street Kitchen\", \"ammAmma\", \"Lasan\", \"PHO\", \"Green Rice\", \"Rote Laterne\", \"Safran\", \"Tsukushiya - Japanese Deli\", \"Shishi\", \"King's Chicken\", \"Pacifico\", \"Ak\\u00e7aabat K\\u00f6ftesi\"], \"lat\": [52.50322001571735, 52.4972644, 52.506645, 52.52134435152118, 52.52401570267303, 52.52037677752846, 52.51135, 52.541788, 52.51158538304717, 52.541755, 52.470389, 52.474525, 52.474809751872, 52.48701529942962, 52.495696, 52.498658935046706, 52.50200765901417, 52.501999, 52.500402, 52.49206985959974, 52.49984230321145, 52.50076510297526, 52.50105935662873, 52.501557, 52.5016094430204, 52.50117562711077, 52.502155, 52.503439, 52.50384734485071, 52.504879], \"legendgroup\": \"continent=Asia\", \"lon\": [13.365807039152024, 13.361860100000001, 13.304373, 13.322479040254438, 13.328874637889097, 13.355765000801808, 13.390513, 13.421064, 13.458016949935796, 13.542521, 13.479038, 13.440109, 13.427592223272118, 13.42914238257933, 13.429364, 13.43138806228964, 13.43218031689331, 13.431763, 13.426082, 13.412371420960152, 13.418157674683414, 13.419047424097913, 13.419129676164411, 13.418314, 13.4182367612713, 13.416808742410739, 13.411516, 13.411943, 13.40989250334581, 13.407337], \"marker\": {\"color\": \"dimgray\", \"opacity\": 1, \"size\": [0.1, 0.1, 0.1, 0.1, 0.1, 0.1, 0.1, 0.1, 0.1, 0.1, 0.1, 0.1, 0.1, 0.1, 0.1, 0.0, 0.1, 0.1, 0.0, 0.1, 0.1, 0.1, 0.1, 0.1, 0.1, 0.1, 0.1, 0.1, 0.1, 0.1], \"sizemode\": \"area\", \"sizeref\": 0.002777777777777778}, \"mode\": \"markers\", \"name\": \"Asia\", \"showlegend\": true, \"subplot\": \"mapbox\", \"type\": \"scattermapbox\"}, {\"hoverlabel\": {\"namelength\": 0}, \"hovertemplate\": \"<b>%{hovertext}</b><br><br>continent=South America<br>size=%{marker.size}<br>lat=%{lat}<br>lng=%{lon}\", \"hovertext\": [\"La t\\u00eda rica\", \"La Batea\", \"Pecados\", \"Madinina\", \"Cafe De Colombia\", \"La Casita\", \"Camba La Che\", \"Caf\\u00e9 Mori\", \"Cevicher\\u00eda\"], \"lat\": [52.508476, 52.507406780548706, 52.511604638346135, 52.51309029552139, 52.509335, 52.493168, 52.49936505162417, 52.49858342772442, 52.501338223645014], \"legendgroup\": \"continent=South America\", \"lon\": [13.323309, 13.30941552258981, 13.39867767582335, 13.452794504539401, 13.4570055, 13.465505, 13.430269190216897, 13.428599492099389, 13.416600211798988], \"marker\": {\"color\": \"lime\", \"opacity\": 1, \"size\": [0.1, 0.0, 0.1, 0.0, 0.1, 0.1, 0.1, 0.1, 0.1], \"sizemode\": \"area\", \"sizeref\": 0.002777777777777778}, \"mode\": \"markers\", \"name\": \"South America\", \"showlegend\": true, \"subplot\": \"mapbox\", \"type\": \"scattermapbox\"}, {\"hoverlabel\": {\"namelength\": 0}, \"hovertemplate\": \"<b>%{hovertext}</b><br><br>continent=Africa<br>size=%{marker.size}<br>lat=%{lat}<br>lng=%{lon}\", \"hovertext\": [\"Makenene\", \"Tembo African Kitchen\", \"Eiscaf\\u00e9 Mauritius\", \"Mali Raj\", \"Zoe's Ghana Kitchen\", \"Senegambia\", \"Babylon Grill\", \"Langano\", \"Ela Ent\", \"TZOM\", \"Maroush\", \"2 Cool\"], \"lat\": [52.51005591409204, 52.513701, 52.509946, 52.54184581627682, 52.48353962401119, 52.49462459251267, 52.498043, 52.49668429344324, 52.492936, 52.49361275394741, 52.50093770064716, 52.501803], \"legendgroup\": \"continent=Africa\", \"lon\": [13.31256029583138, 13.290897, 13.2734, 13.236583471298218, 13.42292591203159, 13.433660414689246, 13.421149, 13.418557674212384, 13.41789, 13.412532235726932, 13.4190620805529, 13.417574], \"marker\": {\"color\": \"deepskyblue\", \"opacity\": 1, \"size\": [0.1, 0.1, 0.1, 0.1, 0.1, 0.1, 0.0, 0.1, 0.1, 0.1, 0.1, 0.1], \"sizemode\": \"area\", \"sizeref\": 0.002777777777777778}, \"mode\": \"markers\", \"name\": \"Africa\", \"showlegend\": true, \"subplot\": \"mapbox\", \"type\": \"scattermapbox\"}, {\"hoverlabel\": {\"namelength\": 0}, \"hovertemplate\": \"<b>%{hovertext}</b><br><br>continent=Oceania<br>size=%{marker.size}<br>lat=%{lat}<br>lng=%{lon}\", \"hovertext\": [\"Corroboree\"], \"lat\": [52.51008348180994], \"legendgroup\": \"continent=Oceania\", \"lon\": [13.37332315521734], \"marker\": {\"color\": \"mediumslateblue\", \"opacity\": 1, \"size\": [0.1], \"sizemode\": \"area\", \"sizeref\": 0.002777777777777778}, \"mode\": \"markers\", \"name\": \"Oceania\", \"showlegend\": true, \"subplot\": \"mapbox\", \"type\": \"scattermapbox\"}, {\"lat\": [52.503842, 52.4908251, 52.4965198122726, 52.501233, 52.503426, 52.50322001571735, 52.4972644, 52.47862271037745, 52.508476, 52.51005591409204, 52.507406780548706, 52.506645, 52.50466954062061, 52.513701, 52.509946, 52.54184581627682, 52.583678, 52.583840098524405, 52.524436, 52.52134435152118, 52.52401570267303, 52.52792739868164, 52.52037677752846, 52.51008348180994, 52.508354, 52.51135, 52.511604638346135, 52.51812532677293, 52.541788, 52.51664822145941, 52.511185, 52.51309029552139, 52.51192551, 52.51158538304717, 52.509335, 52.493168, 52.541755, 52.470389, 52.46514664131191, 52.466341, 52.474525, 52.48084325729499, 52.474809751872, 52.48353962401119, 52.484627, 52.48701529942962, 52.49058749119413, 52.49462459251267, 52.495696, 52.498658935046706, 52.501189726579824, 52.50200765901417, 52.50212478637695, 52.501999, 52.49936505162417, 52.49858342772442, 52.500402, 52.501055, 52.498043, 52.49668429344324, 52.49403307523592, 52.49380528273849, 52.493294, 52.492936, 52.49038, 52.491401145358736, 52.49206985959974, 52.49361275394741, 52.493030386691565, 52.49695561938602, 52.499920465700356, 52.49984230321145, 52.50076510297526, 52.50093770064716, 52.50105935662873, 52.501557, 52.5016094430204, 52.50171776543595, 52.501803, 52.50117562711077, 52.501338223645014, 52.502820675654284, 52.502709184440235, 52.500637, 52.502155, 52.503439, 52.50384734485071, 52.504879, 52.503842], \"lon\": [13.407526, 13.3939081, 13.366768169046342, 13.365496, 13.366116, 13.365807039152024, 13.361860100000001, 13.344735327360468, 13.323309, 13.31256029583138, 13.30941552258981, 13.304373, 13.303600088098401, 13.290897, 13.2734, 13.236583471298218, 13.286527, 13.30113414941472, 13.301269, 13.322479040254438, 13.328874637889097, 13.3387451171875, 13.355765000801808, 13.37332315521734, 13.390773, 13.390513, 13.39867767582335, 13.415961025425812, 13.421064, 13.448383888566534, 13.447, 13.452794504539401, 13.45671694, 13.458016949935796, 13.4570055, 13.465505, 13.542521, 13.479038, 13.472886995206306, 13.468333, 13.440109, 13.432474747227445, 13.427592223272118, 13.42292591203159, 13.428112, 13.42914238257933, 13.431580066680908, 13.433660414689246, 13.429364, 13.43138806228964, 13.432149181080584, 13.43218031689331, 13.43171501159668, 13.431763, 13.430269190216897, 13.428599492099389, 13.426082, 13.423885, 13.421149, 13.418557674212384, 13.418564750283036, 13.418690354316261, 13.418156, 13.41789, 13.417754, 13.412989761695771, 13.412371420960152, 13.412532235726932, 13.414998091474947, 13.417493424194506, 13.417514602640152, 13.418157674683414, 13.419047424097913, 13.4190620805529, 13.419129676164411, 13.418314, 13.4182367612713, 13.417892329736027, 13.417574, 13.416808742410739, 13.416600211798988, 13.415470547916776, 13.414106992314636, 13.41347, 13.411516, 13.411943, 13.40989250334581, 13.407337, 13.407526], \"marker\": {\"color\": \"DarkSlateGrey\", \"size\": 12}, \"mode\": \"lines\", \"showlegend\": false, \"type\": \"scattermapbox\"}],\n",
       "                        {\"height\": 600, \"legend\": {\"itemsizing\": \"constant\", \"orientation\": \"h\", \"tracegroupgap\": 0, \"x\": 0.18, \"y\": 0.0}, \"mapbox\": {\"center\": {\"lat\": 52.50347355201691, \"lon\": 13.401498887124642}, \"domain\": {\"x\": [0.0, 1.0], \"y\": [0.0, 1.0]}, \"style\": \"open-street-map\", \"zoom\": 10}, \"margin\": {\"b\": 0, \"l\": 1, \"r\": 1, \"t\": 0}, \"showlegend\": true, \"template\": {\"data\": {\"bar\": [{\"error_x\": {\"color\": \"#2a3f5f\"}, \"error_y\": {\"color\": \"#2a3f5f\"}, \"marker\": {\"line\": {\"color\": \"white\", \"width\": 0.5}}, \"type\": \"bar\"}], \"barpolar\": [{\"marker\": {\"line\": {\"color\": \"white\", \"width\": 0.5}}, \"type\": \"barpolar\"}], \"carpet\": [{\"aaxis\": {\"endlinecolor\": \"#2a3f5f\", \"gridcolor\": \"#C8D4E3\", \"linecolor\": \"#C8D4E3\", \"minorgridcolor\": \"#C8D4E3\", \"startlinecolor\": \"#2a3f5f\"}, \"baxis\": {\"endlinecolor\": \"#2a3f5f\", \"gridcolor\": \"#C8D4E3\", \"linecolor\": \"#C8D4E3\", \"minorgridcolor\": \"#C8D4E3\", \"startlinecolor\": \"#2a3f5f\"}, \"type\": \"carpet\"}], \"choropleth\": [{\"colorbar\": {\"outlinewidth\": 0, \"ticks\": \"\"}, \"type\": \"choropleth\"}], \"contour\": [{\"colorbar\": {\"outlinewidth\": 0, \"ticks\": \"\"}, \"colorscale\": [[0.0, \"#0d0887\"], [0.1111111111111111, \"#46039f\"], [0.2222222222222222, \"#7201a8\"], [0.3333333333333333, \"#9c179e\"], [0.4444444444444444, \"#bd3786\"], [0.5555555555555556, \"#d8576b\"], [0.6666666666666666, \"#ed7953\"], [0.7777777777777778, \"#fb9f3a\"], [0.8888888888888888, \"#fdca26\"], [1.0, \"#f0f921\"]], \"type\": \"contour\"}], \"contourcarpet\": [{\"colorbar\": {\"outlinewidth\": 0, \"ticks\": \"\"}, \"type\": \"contourcarpet\"}], \"heatmap\": [{\"colorbar\": {\"outlinewidth\": 0, \"ticks\": \"\"}, \"colorscale\": [[0.0, \"#0d0887\"], [0.1111111111111111, \"#46039f\"], [0.2222222222222222, \"#7201a8\"], [0.3333333333333333, \"#9c179e\"], [0.4444444444444444, \"#bd3786\"], [0.5555555555555556, \"#d8576b\"], [0.6666666666666666, \"#ed7953\"], [0.7777777777777778, \"#fb9f3a\"], [0.8888888888888888, \"#fdca26\"], [1.0, \"#f0f921\"]], \"type\": \"heatmap\"}], \"heatmapgl\": [{\"colorbar\": {\"outlinewidth\": 0, \"ticks\": \"\"}, \"colorscale\": [[0.0, \"#0d0887\"], [0.1111111111111111, \"#46039f\"], [0.2222222222222222, \"#7201a8\"], [0.3333333333333333, \"#9c179e\"], [0.4444444444444444, \"#bd3786\"], [0.5555555555555556, \"#d8576b\"], [0.6666666666666666, \"#ed7953\"], [0.7777777777777778, \"#fb9f3a\"], [0.8888888888888888, \"#fdca26\"], [1.0, \"#f0f921\"]], \"type\": \"heatmapgl\"}], \"histogram\": [{\"marker\": {\"colorbar\": {\"outlinewidth\": 0, \"ticks\": \"\"}}, \"type\": \"histogram\"}], \"histogram2d\": [{\"colorbar\": {\"outlinewidth\": 0, \"ticks\": \"\"}, \"colorscale\": [[0.0, \"#0d0887\"], [0.1111111111111111, \"#46039f\"], [0.2222222222222222, \"#7201a8\"], [0.3333333333333333, \"#9c179e\"], [0.4444444444444444, \"#bd3786\"], [0.5555555555555556, \"#d8576b\"], [0.6666666666666666, \"#ed7953\"], [0.7777777777777778, \"#fb9f3a\"], [0.8888888888888888, \"#fdca26\"], [1.0, \"#f0f921\"]], \"type\": \"histogram2d\"}], \"histogram2dcontour\": [{\"colorbar\": {\"outlinewidth\": 0, \"ticks\": \"\"}, \"colorscale\": [[0.0, \"#0d0887\"], [0.1111111111111111, \"#46039f\"], [0.2222222222222222, \"#7201a8\"], [0.3333333333333333, \"#9c179e\"], [0.4444444444444444, \"#bd3786\"], [0.5555555555555556, \"#d8576b\"], [0.6666666666666666, \"#ed7953\"], [0.7777777777777778, \"#fb9f3a\"], [0.8888888888888888, \"#fdca26\"], [1.0, \"#f0f921\"]], \"type\": \"histogram2dcontour\"}], \"mesh3d\": [{\"colorbar\": {\"outlinewidth\": 0, \"ticks\": \"\"}, \"type\": \"mesh3d\"}], \"parcoords\": [{\"line\": {\"colorbar\": {\"outlinewidth\": 0, \"ticks\": \"\"}}, \"type\": \"parcoords\"}], \"pie\": [{\"automargin\": true, \"type\": \"pie\"}], \"scatter\": [{\"marker\": {\"colorbar\": {\"outlinewidth\": 0, \"ticks\": \"\"}}, \"type\": \"scatter\"}], \"scatter3d\": [{\"line\": {\"colorbar\": {\"outlinewidth\": 0, \"ticks\": \"\"}}, \"marker\": {\"colorbar\": {\"outlinewidth\": 0, \"ticks\": \"\"}}, \"type\": \"scatter3d\"}], \"scattercarpet\": [{\"marker\": {\"colorbar\": {\"outlinewidth\": 0, \"ticks\": \"\"}}, \"type\": \"scattercarpet\"}], \"scattergeo\": [{\"marker\": {\"colorbar\": {\"outlinewidth\": 0, \"ticks\": \"\"}}, \"type\": \"scattergeo\"}], \"scattergl\": [{\"marker\": {\"colorbar\": {\"outlinewidth\": 0, \"ticks\": \"\"}}, \"type\": \"scattergl\"}], \"scattermapbox\": [{\"marker\": {\"colorbar\": {\"outlinewidth\": 0, \"ticks\": \"\"}}, \"type\": \"scattermapbox\"}], \"scatterpolar\": [{\"marker\": {\"colorbar\": {\"outlinewidth\": 0, \"ticks\": \"\"}}, \"type\": \"scatterpolar\"}], \"scatterpolargl\": [{\"marker\": {\"colorbar\": {\"outlinewidth\": 0, \"ticks\": \"\"}}, \"type\": \"scatterpolargl\"}], \"scatterternary\": [{\"marker\": {\"colorbar\": {\"outlinewidth\": 0, \"ticks\": \"\"}}, \"type\": \"scatterternary\"}], \"surface\": [{\"colorbar\": {\"outlinewidth\": 0, \"ticks\": \"\"}, \"colorscale\": [[0.0, \"#0d0887\"], [0.1111111111111111, \"#46039f\"], [0.2222222222222222, \"#7201a8\"], [0.3333333333333333, \"#9c179e\"], [0.4444444444444444, \"#bd3786\"], [0.5555555555555556, \"#d8576b\"], [0.6666666666666666, \"#ed7953\"], [0.7777777777777778, \"#fb9f3a\"], [0.8888888888888888, \"#fdca26\"], [1.0, \"#f0f921\"]], \"type\": \"surface\"}], \"table\": [{\"cells\": {\"fill\": {\"color\": \"#EBF0F8\"}, \"line\": {\"color\": \"white\"}}, \"header\": {\"fill\": {\"color\": \"#C8D4E3\"}, \"line\": {\"color\": \"white\"}}, \"type\": \"table\"}]}, \"layout\": {\"annotationdefaults\": {\"arrowcolor\": \"#2a3f5f\", \"arrowhead\": 0, \"arrowwidth\": 1}, \"coloraxis\": {\"colorbar\": {\"outlinewidth\": 0, \"ticks\": \"\"}}, \"colorscale\": {\"diverging\": [[0, \"#8e0152\"], [0.1, \"#c51b7d\"], [0.2, \"#de77ae\"], [0.3, \"#f1b6da\"], [0.4, \"#fde0ef\"], [0.5, \"#f7f7f7\"], [0.6, \"#e6f5d0\"], [0.7, \"#b8e186\"], [0.8, \"#7fbc41\"], [0.9, \"#4d9221\"], [1, \"#276419\"]], \"sequential\": [[0.0, \"#0d0887\"], [0.1111111111111111, \"#46039f\"], [0.2222222222222222, \"#7201a8\"], [0.3333333333333333, \"#9c179e\"], [0.4444444444444444, \"#bd3786\"], [0.5555555555555556, \"#d8576b\"], [0.6666666666666666, \"#ed7953\"], [0.7777777777777778, \"#fb9f3a\"], [0.8888888888888888, \"#fdca26\"], [1.0, \"#f0f921\"]], \"sequentialminus\": [[0.0, \"#0d0887\"], [0.1111111111111111, \"#46039f\"], [0.2222222222222222, \"#7201a8\"], [0.3333333333333333, \"#9c179e\"], [0.4444444444444444, \"#bd3786\"], [0.5555555555555556, \"#d8576b\"], [0.6666666666666666, \"#ed7953\"], [0.7777777777777778, \"#fb9f3a\"], [0.8888888888888888, \"#fdca26\"], [1.0, \"#f0f921\"]]}, \"colorway\": [\"#636efa\", \"#EF553B\", \"#00cc96\", \"#ab63fa\", \"#FFA15A\", \"#19d3f3\", \"#FF6692\", \"#B6E880\", \"#FF97FF\", \"#FECB52\"], \"font\": {\"color\": \"#2a3f5f\"}, \"geo\": {\"bgcolor\": \"white\", \"lakecolor\": \"white\", \"landcolor\": \"white\", \"showlakes\": true, \"showland\": true, \"subunitcolor\": \"#C8D4E3\"}, \"hoverlabel\": {\"align\": \"left\"}, \"hovermode\": \"closest\", \"mapbox\": {\"style\": \"light\"}, \"paper_bgcolor\": \"white\", \"plot_bgcolor\": \"white\", \"polar\": {\"angularaxis\": {\"gridcolor\": \"#EBF0F8\", \"linecolor\": \"#EBF0F8\", \"ticks\": \"\"}, \"bgcolor\": \"white\", \"radialaxis\": {\"gridcolor\": \"#EBF0F8\", \"linecolor\": \"#EBF0F8\", \"ticks\": \"\"}}, \"scene\": {\"xaxis\": {\"backgroundcolor\": \"white\", \"gridcolor\": \"#DFE8F3\", \"gridwidth\": 2, \"linecolor\": \"#EBF0F8\", \"showbackground\": true, \"ticks\": \"\", \"zerolinecolor\": \"#EBF0F8\"}, \"yaxis\": {\"backgroundcolor\": \"white\", \"gridcolor\": \"#DFE8F3\", \"gridwidth\": 2, \"linecolor\": \"#EBF0F8\", \"showbackground\": true, \"ticks\": \"\", \"zerolinecolor\": \"#EBF0F8\"}, \"zaxis\": {\"backgroundcolor\": \"white\", \"gridcolor\": \"#DFE8F3\", \"gridwidth\": 2, \"linecolor\": \"#EBF0F8\", \"showbackground\": true, \"ticks\": \"\", \"zerolinecolor\": \"#EBF0F8\"}}, \"shapedefaults\": {\"line\": {\"color\": \"#2a3f5f\"}}, \"ternary\": {\"aaxis\": {\"gridcolor\": \"#DFE8F3\", \"linecolor\": \"#A2B1C6\", \"ticks\": \"\"}, \"baxis\": {\"gridcolor\": \"#DFE8F3\", \"linecolor\": \"#A2B1C6\", \"ticks\": \"\"}, \"bgcolor\": \"white\", \"caxis\": {\"gridcolor\": \"#DFE8F3\", \"linecolor\": \"#A2B1C6\", \"ticks\": \"\"}}, \"title\": {\"x\": 0.05}, \"xaxis\": {\"automargin\": true, \"gridcolor\": \"#EBF0F8\", \"linecolor\": \"#EBF0F8\", \"ticks\": \"\", \"title\": {\"standoff\": 15}, \"zerolinecolor\": \"#EBF0F8\", \"zerolinewidth\": 2}, \"yaxis\": {\"automargin\": true, \"gridcolor\": \"#EBF0F8\", \"linecolor\": \"#EBF0F8\", \"ticks\": \"\", \"title\": {\"standoff\": 15}, \"zerolinecolor\": \"#EBF0F8\", \"zerolinewidth\": 2}}}},\n",
       "                        {\"responsive\": true}\n",
       "                    ).then(function(){\n",
       "                            \n",
       "var gd = document.getElementById('1fe30e64-6c47-410b-b2aa-5253f1e73fa3');\n",
       "var x = new MutationObserver(function (mutations, observer) {{\n",
       "        var display = window.getComputedStyle(gd).display;\n",
       "        if (!display || display === 'none') {{\n",
       "            console.log([gd, 'removed!']);\n",
       "            Plotly.purge(gd);\n",
       "            observer.disconnect();\n",
       "        }}\n",
       "}});\n",
       "\n",
       "// Listen for the removal of the full notebook cells\n",
       "var notebookContainer = gd.closest('#notebook-container');\n",
       "if (notebookContainer) {{\n",
       "    x.observe(notebookContainer, {childList: true});\n",
       "}}\n",
       "\n",
       "// Listen for the clearing of the current output cell\n",
       "var outputEl = gd.closest('.output');\n",
       "if (outputEl) {{\n",
       "    x.observe(outputEl, {childList: true});\n",
       "}}\n",
       "\n",
       "                        })\n",
       "                };\n",
       "                });\n",
       "            </script>\n",
       "        </div>"
      ]
     },
     "metadata": {},
     "output_type": "display_data"
    }
   ],
   "source": [
    "plot_optimized(final_guide)"
   ]
  },
  {
   "cell_type": "markdown",
   "metadata": {},
   "source": [
    "### Calculating the time needed for \"traveling around the globe\" without leaving berlin"
   ]
  },
  {
   "cell_type": "markdown",
   "metadata": {},
   "source": [
    "Storing the locations of the restaurants as tuple in the optimized order"
   ]
  },
  {
   "cell_type": "code",
   "execution_count": 16,
   "metadata": {},
   "outputs": [],
   "source": [
    "final_restaurants=list(zip(final_guide['lat'],final_guide['lng']))"
   ]
  },
  {
   "cell_type": "markdown",
   "metadata": {},
   "source": [
    "We call the API of Here to get the directions by foot or by public transport to get from one place to another"
   ]
  },
  {
   "cell_type": "code",
   "execution_count": 17,
   "metadata": {
    "scrolled": true
   },
   "outputs": [],
   "source": [
    "# Defining the df where we will store the info\n",
    "guide_directions=pd.DataFrame(columns=['Origin','Destination','Time (min)','Summary','Directions'])\n",
    "# we call the api for each par of locations (origin, destination)\n",
    "for x in range(len(final_restaurants)-1):\n",
    "    origin=final_guide.iloc[x]['name']\n",
    "    destination=final_guide.iloc[x+1]['name']\n",
    "    start=str(final_restaurants[x][0])+','+str(final_restaurants[x][1])\n",
    "    end=str(final_restaurants[x+1][0])+','+str(final_restaurants[x+1][1])\n",
    "    \n",
    "    #calling API\n",
    "    url=f\"https://route.api.here.com/routing/7.2/calculateroute.json?app_id={app_id}&app_code={app_code}&departure=2019-12-07T12:00:00&waypoint0=geo!{start}&waypoint1=geo!{end}&mode=shortest;publicTransport;traffic:disabled\"\n",
    "    response=requests.get(url)\n",
    "    data=response.json()\n",
    "    # extracting the directions from the response\n",
    "    directions=''\n",
    "    for x in range(len(data['response']['route'][0]['leg'][0]['maneuver'])):\n",
    "        ins=data['response']['route'][0]['leg'][0]['maneuver'][x]['instruction']\n",
    "        directions=directions+ins\n",
    "    # using regex to clean the response that is in html format\n",
    "    directions=re.split('(?<=\\<).*?(?=\\>)',directions)\n",
    "    directions=\" \".join(directions)\n",
    "    directions=\"\".join(directions.split('< >'))\n",
    "    #extracting the public transport lines if any needed\n",
    "    public_lines=''\n",
    "    try:\n",
    "        for x in range(len(data['response']['route'][0]['publicTransportLine'])):\n",
    "            line=data['response']['route'][0]['publicTransportLine'][x]['lineName']\n",
    "            if x==(len(data['response']['route'][0]['publicTransportLine'])-1):\n",
    "                public_lines=public_lines+line\n",
    "            else:\n",
    "                public_lines=public_lines+line+', '\n",
    "    except:\n",
    "        continue\n",
    "        \n",
    "    # adding the extracted and transformed info into the dataframe\n",
    "    time=data['response']['route'][0]['summary']['baseTime']/60\n",
    "    info=pd.Series((origin,destination,time,public_lines,directions),index=list(guide_directions.columns)).to_frame().transpose()\n",
    "    new_df=pd.DataFrame(data=info,columns=list(guide_directions.columns))\n",
    "    guide_directions=guide_directions.append(new_df,ignore_index=True)"
   ]
  },
  {
   "cell_type": "markdown",
   "metadata": {},
   "source": [
    "#### Saving the dataframe with the directions as pickle so we dont need to call the API again"
   ]
  },
  {
   "cell_type": "code",
   "execution_count": 19,
   "metadata": {},
   "outputs": [],
   "source": [
    "guide_directions.to_pickle('data/directions.pkl')"
   ]
  },
  {
   "cell_type": "code",
   "execution_count": 20,
   "metadata": {},
   "outputs": [
    {
     "data": {
      "text/html": [
       "<div>\n",
       "<style scoped>\n",
       "    .dataframe tbody tr th:only-of-type {\n",
       "        vertical-align: middle;\n",
       "    }\n",
       "\n",
       "    .dataframe tbody tr th {\n",
       "        vertical-align: top;\n",
       "    }\n",
       "\n",
       "    .dataframe thead th {\n",
       "        text-align: right;\n",
       "    }\n",
       "</style>\n",
       "<table border=\"1\" class=\"dataframe\">\n",
       "  <thead>\n",
       "    <tr style=\"text-align: right;\">\n",
       "      <th></th>\n",
       "      <th>Origin</th>\n",
       "      <th>Destination</th>\n",
       "      <th>Time (min)</th>\n",
       "      <th>Summary</th>\n",
       "      <th>Directions</th>\n",
       "    </tr>\n",
       "  </thead>\n",
       "  <tbody>\n",
       "    <tr>\n",
       "      <th>0</th>\n",
       "      <td>Techspace</td>\n",
       "      <td>Finnish Pulled Pork</td>\n",
       "      <td>24.6167</td>\n",
       "      <td>U8, U7</td>\n",
       "      <td>Head northeast on Lobeckstraße. Go for 72 m.Tu...</td>\n",
       "    </tr>\n",
       "    <tr>\n",
       "      <th>1</th>\n",
       "      <td>Finnish Pulled Pork</td>\n",
       "      <td>Munch's Hus</td>\n",
       "      <td>21.1333</td>\n",
       "      <td>U7</td>\n",
       "      <td>Head north on Zossener Straße. Go for 74 m.Tur...</td>\n",
       "    </tr>\n",
       "    <tr>\n",
       "      <th>2</th>\n",
       "      <td>Munch's Hus</td>\n",
       "      <td>Panama Restaurant &amp; Bar</td>\n",
       "      <td>14.3333</td>\n",
       "      <td></td>\n",
       "      <td>Head north on Bülowstraße. Go for 24 m.Take th...</td>\n",
       "    </tr>\n",
       "    <tr>\n",
       "      <th>3</th>\n",
       "      <td>Panama Restaurant &amp; Bar</td>\n",
       "      <td>Saeson Nordic Cuisine</td>\n",
       "      <td>7.7</td>\n",
       "      <td></td>\n",
       "      <td>Head west on Pohlstraße. Go for 114 m.Turn rig...</td>\n",
       "    </tr>\n",
       "    <tr>\n",
       "      <th>4</th>\n",
       "      <td>Saeson Nordic Cuisine</td>\n",
       "      <td>Ayan Filipino Streetfood</td>\n",
       "      <td>0.516667</td>\n",
       "      <td></td>\n",
       "      <td>Head southwest on Potsdamer Straße. Go for 31 ...</td>\n",
       "    </tr>\n",
       "  </tbody>\n",
       "</table>\n",
       "</div>"
      ],
      "text/plain": [
       "                    Origin               Destination Time (min) Summary  \\\n",
       "0                Techspace       Finnish Pulled Pork    24.6167  U8, U7   \n",
       "1      Finnish Pulled Pork               Munch's Hus    21.1333      U7   \n",
       "2              Munch's Hus   Panama Restaurant & Bar    14.3333           \n",
       "3  Panama Restaurant & Bar     Saeson Nordic Cuisine        7.7           \n",
       "4    Saeson Nordic Cuisine  Ayan Filipino Streetfood   0.516667           \n",
       "\n",
       "                                          Directions  \n",
       "0  Head northeast on Lobeckstraße. Go for 72 m.Tu...  \n",
       "1  Head north on Zossener Straße. Go for 74 m.Tur...  \n",
       "2  Head north on Bülowstraße. Go for 24 m.Take th...  \n",
       "3  Head west on Pohlstraße. Go for 114 m.Turn rig...  \n",
       "4  Head southwest on Potsdamer Straße. Go for 31 ...  "
      ]
     },
     "execution_count": 20,
     "metadata": {},
     "output_type": "execute_result"
    }
   ],
   "source": [
    "guide_directions_read=pd.read_pickle('data/directions.pkl')\n",
    "guide_directions_read.head()"
   ]
  },
  {
   "cell_type": "markdown",
   "metadata": {},
   "source": [
    "# Hours needed to travel around the world!"
   ]
  },
  {
   "cell_type": "markdown",
   "metadata": {},
   "source": [
    "Assuming that you dont make any stop in the restaurants ..."
   ]
  },
  {
   "cell_type": "code",
   "execution_count": 21,
   "metadata": {},
   "outputs": [
    {
     "data": {
      "text/plain": [
       "17.419722222222223"
      ]
     },
     "execution_count": 21,
     "metadata": {},
     "output_type": "execute_result"
    }
   ],
   "source": [
    "guide_directions['Time (min)'].sum()/60"
   ]
  },
  {
   "cell_type": "code",
   "execution_count": 22,
   "metadata": {},
   "outputs": [
    {
     "data": {
      "text/plain": [
       "'Head northeast on Oranienstraße. Go for 71 m.Turn right onto Oranienstraße. Go for 97 m.Arrive at Lobeckstraße. Your destination is on the left.'"
      ]
     },
     "execution_count": 22,
     "metadata": {},
     "output_type": "execute_result"
    }
   ],
   "source": [
    "directions # Example of the intructions that one would be able to see"
   ]
  },
  {
   "cell_type": "markdown",
   "metadata": {},
   "source": [
    "# 2. Looking for the closest restaurant of each country to Techspace"
   ]
  },
  {
   "cell_type": "code",
   "execution_count": 92,
   "metadata": {},
   "outputs": [],
   "source": [
    "ber=berlin.copy()\n",
    "ber['new_lat']=ber['lat']*(10**6)\n",
    "ber['new_lng']=ber['lng']*(10**6)\n",
    "\n",
    "ber['new_lat']=ber['new_lat'].astype(int)\n",
    "ber['new_lng']=ber['new_lng'].astype(int)\n",
    "#Subsetting the df to the restaurants that we are interested in\n",
    "df1_ber=ber[ber['country']==1]\n",
    "df2_ber=ber[ber['area']==1]\n",
    "df3_ber=df1_ber.append(df2_ber,ignore_index=True)\n",
    "\n",
    "# making a list of all the countries and areas that we have to visit\n",
    "represented_countries=list(df3_ber[df3_ber[\"country\"]==1][\"new_category\"].unique())\n",
    "represented_areas=list(df3_ber[df3_ber[\"area\"]==1][\"new_category\"].unique())\n",
    "represented_ber=represented_areas+represented_countries\n",
    "\n",
    "# setting the starting point the techspace and creating a list of tuples with the lat and lon of each restaurant\n",
    "techspace=(52503842,13407526)\n",
    "locations=list(zip(df3_ber['new_lat'],df3_ber['new_lng']))\n",
    "locations.insert(0,techspace)\n",
    "\n",
    "# first iteration\n",
    "list_paises=[]\n",
    "ruta_ber=pd.DataFrame(columns=df3_ber.columns)\n",
    "\n",
    "dis=compute_euclidean_distance_matrix(locations)\n",
    "\n",
    "dis_df=pd.DataFrame(dis)\n",
    "\n",
    "minimum=dis_df[dis_df>0].iloc[0].min()\n",
    "id_res=dis_df[dis_df[0]==minimum].index\n",
    "\n",
    "ruta_ber=ruta_ber.append(df3_ber.iloc[id_res-1],ignore_index=True)\n",
    "pais=df3_ber.iloc[id_res-1]['new_category'].values[0]\n",
    "\n",
    "list_paises.append(pais)\n",
    "\n",
    "i=0\n",
    "while set(list_paises)!=set(represented_ber):\n",
    "\n",
    "    # following iterations\n",
    "    \n",
    "    df3_ber=df3_ber[df3_ber['new_category']!=pais]\n",
    "    \n",
    "    locations=list(zip(df3_ber['new_lat'],df3_ber['new_lng']))\n",
    "    locations.insert(0,techspace)\n",
    "    \n",
    "    dis=compute_euclidean_distance_matrix(locations)\n",
    "    dis_df=pd.DataFrame(dis)\n",
    "\n",
    "    minimum=dis_df[dis_df>0].iloc[0].min()\n",
    "    id_res=dis_df[dis_df[0]==minimum].index\n",
    "    \n",
    "    ruta_ber=ruta_ber.append(df3_ber.iloc[id_res-1],ignore_index=True)\n",
    "    pais=df3_ber.iloc[id_res-1]['new_category'].values[0]\n",
    "    \n",
    "    list_paises.append(pais)\n",
    "    \n",
    "    i+=1\n",
    "    if i>=100:\n",
    "        break"
   ]
  },
  {
   "cell_type": "code",
   "execution_count": 93,
   "metadata": {},
   "outputs": [
    {
     "data": {
      "text/html": [
       "<div>\n",
       "<style scoped>\n",
       "    .dataframe tbody tr th:only-of-type {\n",
       "        vertical-align: middle;\n",
       "    }\n",
       "\n",
       "    .dataframe tbody tr th {\n",
       "        vertical-align: top;\n",
       "    }\n",
       "\n",
       "    .dataframe thead th {\n",
       "        text-align: right;\n",
       "    }\n",
       "</style>\n",
       "<table border=\"1\" class=\"dataframe\">\n",
       "  <thead>\n",
       "    <tr style=\"text-align: right;\">\n",
       "      <th></th>\n",
       "      <th>name</th>\n",
       "      <th>lat</th>\n",
       "      <th>lng</th>\n",
       "      <th>query</th>\n",
       "      <th>category</th>\n",
       "      <th>new_category</th>\n",
       "      <th>country</th>\n",
       "      <th>area</th>\n",
       "      <th>continent</th>\n",
       "      <th>new_lat</th>\n",
       "      <th>new_lng</th>\n",
       "    </tr>\n",
       "  </thead>\n",
       "  <tbody>\n",
       "    <tr>\n",
       "      <th>0</th>\n",
       "      <td>Akçaabat Köftesi</td>\n",
       "      <td>52.504879</td>\n",
       "      <td>13.407337</td>\n",
       "      <td>BBQ Joint</td>\n",
       "      <td>Turkish Restaurant</td>\n",
       "      <td>Turkish</td>\n",
       "      <td>1</td>\n",
       "      <td>0</td>\n",
       "      <td>Asia</td>\n",
       "      <td>52504879</td>\n",
       "      <td>13407337</td>\n",
       "    </tr>\n",
       "    <tr>\n",
       "      <th>1</th>\n",
       "      <td>Pacifico</td>\n",
       "      <td>52.503847</td>\n",
       "      <td>13.409893</td>\n",
       "      <td>Korea</td>\n",
       "      <td>Korean Restaurant</td>\n",
       "      <td>Korean</td>\n",
       "      <td>1</td>\n",
       "      <td>0</td>\n",
       "      <td>Asia</td>\n",
       "      <td>52503847</td>\n",
       "      <td>13409892</td>\n",
       "    </tr>\n",
       "    <tr>\n",
       "      <th>2</th>\n",
       "      <td>Shishi</td>\n",
       "      <td>52.502155</td>\n",
       "      <td>13.411516</td>\n",
       "      <td>Israel</td>\n",
       "      <td>Israeli Restaurant</td>\n",
       "      <td>Israeli</td>\n",
       "      <td>1</td>\n",
       "      <td>0</td>\n",
       "      <td>Asia</td>\n",
       "      <td>52502155</td>\n",
       "      <td>13411516</td>\n",
       "    </tr>\n",
       "    <tr>\n",
       "      <th>3</th>\n",
       "      <td>King's Chicken</td>\n",
       "      <td>52.503439</td>\n",
       "      <td>13.411943</td>\n",
       "      <td>Iran</td>\n",
       "      <td>Persian Restaurant</td>\n",
       "      <td>Lebanese</td>\n",
       "      <td>1</td>\n",
       "      <td>0</td>\n",
       "      <td>Asia</td>\n",
       "      <td>52503439</td>\n",
       "      <td>13411943</td>\n",
       "    </tr>\n",
       "    <tr>\n",
       "      <th>4</th>\n",
       "      <td>Tapas y más</td>\n",
       "      <td>52.510118</td>\n",
       "      <td>13.406298</td>\n",
       "      <td>Spain</td>\n",
       "      <td>Tapas Restaurant</td>\n",
       "      <td>Spanish</td>\n",
       "      <td>1</td>\n",
       "      <td>0</td>\n",
       "      <td>Europe</td>\n",
       "      <td>52510117</td>\n",
       "      <td>13406298</td>\n",
       "    </tr>\n",
       "  </tbody>\n",
       "</table>\n",
       "</div>"
      ],
      "text/plain": [
       "               name        lat        lng      query            category  \\\n",
       "0  Akçaabat Köftesi  52.504879  13.407337  BBQ Joint  Turkish Restaurant   \n",
       "1          Pacifico  52.503847  13.409893      Korea   Korean Restaurant   \n",
       "2            Shishi  52.502155  13.411516     Israel  Israeli Restaurant   \n",
       "3    King's Chicken  52.503439  13.411943       Iran  Persian Restaurant   \n",
       "4       Tapas y más  52.510118  13.406298      Spain    Tapas Restaurant   \n",
       "\n",
       "  new_category country area continent   new_lat   new_lng  \n",
       "0      Turkish       1    0      Asia  52504879  13407337  \n",
       "1       Korean       1    0      Asia  52503847  13409892  \n",
       "2      Israeli       1    0      Asia  52502155  13411516  \n",
       "3     Lebanese       1    0      Asia  52503439  13411943  \n",
       "4      Spanish       1    0    Europe  52510117  13406298  "
      ]
     },
     "execution_count": 93,
     "metadata": {},
     "output_type": "execute_result"
    }
   ],
   "source": [
    "ruta_ber.head()"
   ]
  },
  {
   "cell_type": "markdown",
   "metadata": {},
   "source": [
    "Plotting the restaurants closest to Techspace"
   ]
  },
  {
   "cell_type": "code",
   "execution_count": 94,
   "metadata": {},
   "outputs": [
    {
     "data": {
      "application/vnd.plotly.v1+json": {
       "config": {
        "plotlyServerURL": "https://plot.ly"
       },
       "data": [
        {
         "hoverlabel": {
          "namelength": 0
         },
         "hovertemplate": "<b>%{hovertext}</b><br><br>continent=Asia<br>size=%{marker.size}<br>lat=%{lat}<br>lng=%{lon}",
         "hovertext": [
          "Akçaabat Köftesi",
          "Pacifico",
          "Shishi",
          "King's Chicken",
          "Shezan",
          "Thai Huong Lieferservice",
          "Tsukushiya - Japanese Deli",
          "Safran",
          "Rote Laterne",
          "Lasan",
          "PHO",
          "Mabuhay Mini",
          "Tibet-Haus",
          "A-Thai, Viêt Street Kitchen",
          "Theepan",
          "Heiße Fatira",
          "Mama Shabz",
          "Kin-Za",
          "Rissani",
          "chili chutney",
          "Al Hamra",
          "Ayan Filipino Streetfood",
          "Jemenitisches Restaurant",
          "Baku Napoli",
          "Angkor Wat",
          "China Restaurant Cocktail-Bar Hong Kong City",
          "Taste Singapore Style",
          "Original Taiwanesische Bauernstube",
          "Seri Melayu",
          "King Wok"
         ],
         "lat": [
          52.504879,
          52.50384734485071,
          52.502155,
          52.503439,
          52.512192682338004,
          52.50697498086002,
          52.50117562711077,
          52.5016094430204,
          52.501557,
          52.49984230321145,
          52.50076510297526,
          52.51135,
          52.49072211396973,
          52.500402,
          52.48912,
          52.48877,
          52.495696,
          52.524928,
          52.498658935046706,
          52.50200765901417,
          52.541788,
          52.50322001571735,
          52.474525,
          52.4972644,
          52.52037677752846,
          52.549221166636016,
          52.52401570267303,
          52.52134435152118,
          52.506645,
          52.541755
         ],
         "legendgroup": "continent=Asia",
         "lon": [
          13.407337,
          13.40989250334581,
          13.411516,
          13.411943,
          13.408539575150119,
          13.416194915771484,
          13.416808742410739,
          13.4182367612713,
          13.418314,
          13.418157674683414,
          13.419047424097913,
          13.390513,
          13.394179079111902,
          13.426082,
          13.395131,
          13.423339,
          13.429364,
          13.395808,
          13.43138806228964,
          13.43218031689331,
          13.421064,
          13.365807039152024,
          13.440109,
          13.361860100000001,
          13.355765000801808,
          13.456007949632403,
          13.328874637889097,
          13.322479040254438,
          13.304373,
          13.542521
         ],
         "marker": {
          "color": "dimgray",
          "opacity": 1,
          "size": [
           0.1,
           0.1,
           0.1,
           0.1,
           0.1,
           0.1,
           0.1,
           0.1,
           0.1,
           0.1,
           0.1,
           0.1,
           0.1,
           0,
           0.1,
           0.1,
           0.1,
           0.1,
           0,
           0.1,
           0.1,
           0.1,
           0.1,
           0.1,
           0.1,
           0.1,
           0.1,
           0.1,
           0.1,
           0.1
          ],
          "sizemode": "area",
          "sizeref": 0.0020408163265306124
         },
         "mode": "markers",
         "name": "Asia",
         "showlegend": true,
         "subplot": "mapbox",
         "type": "scattermapbox"
        },
        {
         "hoverlabel": {
          "namelength": 0
         },
         "hovertemplate": "<b>%{hovertext}</b><br><br>continent=Europe<br>size=%{marker.size}<br>lat=%{lat}<br>lng=%{lon}",
         "hovertext": [
          "Tapas y más",
          "Max und Moritz",
          "Tourlou",
          "Kirchenwirt",
          "San Salvo",
          "Bei Lydia",
          "Gasthaus Glashaus",
          "The Oscar Wilde Irish Pub",
          "Kreuzberger Weltlaterne",
          "Melro",
          "Tak Tak Polish Deli",
          "KIRSONS Alexa",
          "Schwarze Heidi",
          "Tunnbrödsrulle - Swedish Hot Dog Wrap",
          "Hellogoodpie",
          "Finnish Pulled Pork",
          "Sofra Bäckerei & Konditorei",
          "Sofia Bar",
          "Munch's Hus",
          "Saeson Nordic Cuisine",
          "Prager Hopfenstube",
          "Blaue Adria - Kroatisches Restaurant",
          "Odessa Mama",
          "Zum Nussbaum",
          "Puszta",
          "Restorant Macedonia (Berlin)",
          "Vincent-Burger",
          "Zadar Restaurant",
          "Marché Sucre"
         ],
         "lat": [
          52.510117883068425,
          52.502709184440235,
          52.500637,
          52.500547,
          52.49508820168941,
          52.51261098130769,
          52.50519654678214,
          52.511024529611795,
          52.49695561938602,
          52.49403307523592,
          52.493294,
          52.51812532677293,
          52.501055,
          52.508354,
          52.49053913644055,
          52.4908251,
          52.485055989120276,
          52.52352444347078,
          52.4965198122726,
          52.503426,
          52.51664822145941,
          52.52867622324605,
          52.47862271037745,
          52.466341,
          52.52792739868164,
          52.50466954062061,
          52.524436,
          52.583840098524405,
          52.583678
         ],
         "legendgroup": "continent=Europe",
         "lon": [
          13.406298452082641,
          13.414106992314636,
          13.41347,
          13.400806,
          13.406447587032494,
          13.411759932377612,
          13.396909579977276,
          13.398056402161886,
          13.417493424194506,
          13.418564750283036,
          13.418156,
          13.415961025425812,
          13.423885,
          13.390773,
          13.395895616517187,
          13.3939081,
          13.426655611198603,
          13.430927413726165,
          13.366768169046342,
          13.366116,
          13.448383888566534,
          13.449175357818604,
          13.344735327360468,
          13.468333,
          13.3387451171875,
          13.303600088098401,
          13.301269,
          13.30113414941472,
          13.286527
         ],
         "marker": {
          "color": "orange",
          "opacity": 1,
          "size": [
           0.1,
           0.1,
           0.1,
           0.1,
           0.1,
           0.1,
           0,
           0.1,
           0.1,
           0.1,
           0.1,
           0.1,
           0.1,
           0.1,
           0.1,
           0.1,
           0.1,
           0.1,
           0.1,
           0.1,
           0.1,
           0.1,
           0.1,
           0.1,
           0.1,
           0.1,
           0.1,
           0.1,
           0.1
          ],
          "sizemode": "area",
          "sizeref": 0.0020408163265306124
         },
         "mode": "markers",
         "name": "Europe",
         "showlegend": true,
         "subplot": "mapbox",
         "type": "scattermapbox"
        },
        {
         "hoverlabel": {
          "namelength": 0
         },
         "hovertemplate": "<b>%{hovertext}</b><br><br>continent=South America<br>size=%{marker.size}<br>lat=%{lat}<br>lng=%{lon}",
         "hovertext": [
          "Cevichería",
          "Pecados",
          "Tierra Colombiana",
          "Steakhaus Asador",
          "Popołudniowa Kawa Z Misiem",
          "El Chilenito",
          "Qea cafe",
          "La Casita",
          "La Batea"
         ],
         "lat": [
          52.501338223645014,
          52.511604638346135,
          52.49016265519161,
          52.503518645755335,
          52.52492,
          52.48993924,
          52.548133850097656,
          52.493168,
          52.507406780548706
         ],
         "legendgroup": "continent=South America",
         "lon": [
          13.416600211798988,
          13.39867767582335,
          13.396104505417478,
          13.387594842287493,
          13.403315,
          13.38931071,
          13.412403106689453,
          13.465505,
          13.30941552258981
         ],
         "marker": {
          "color": "lime",
          "opacity": 1,
          "size": [
           0.1,
           0.1,
           0.1,
           0.1,
           0.1,
           0.1,
           0,
           0.1,
           0
          ],
          "sizemode": "area",
          "sizeref": 0.0020408163265306124
         },
         "mode": "markers",
         "name": "South America",
         "showlegend": true,
         "subplot": "mapbox",
         "type": "scattermapbox"
        },
        {
         "hoverlabel": {
          "namelength": 0
         },
         "hovertemplate": "<b>%{hovertext}</b><br><br>continent=Africa<br>size=%{marker.size}<br>lat=%{lat}<br>lng=%{lon}",
         "hovertext": [
          "2 Cool",
          "TZOM",
          "Maroush",
          "Langano",
          "Babylon Grill",
          "Ela Ent",
          "Zoe's Ghana Kitchen",
          "Senegambia",
          "Makenene",
          "Tembo African Kitchen",
          "Eiscafé Mauritius",
          "Mali Raj"
         ],
         "lat": [
          52.501803,
          52.49361275394741,
          52.50093770064716,
          52.49668429344324,
          52.498043,
          52.492936,
          52.48353962401119,
          52.49462459251267,
          52.51005591409204,
          52.513701,
          52.509946,
          52.54184581627682
         ],
         "legendgroup": "continent=Africa",
         "lon": [
          13.417574,
          13.412532235726932,
          13.4190620805529,
          13.418557674212384,
          13.421149,
          13.41789,
          13.42292591203159,
          13.433660414689246,
          13.31256029583138,
          13.290897,
          13.2734,
          13.236583471298218
         ],
         "marker": {
          "color": "deepskyblue",
          "opacity": 1,
          "size": [
           0.1,
           0.1,
           0.1,
           0.1,
           0,
           0.1,
           0.1,
           0.1,
           0.1,
           0.1,
           0.1,
           0.1
          ],
          "sizemode": "area",
          "sizeref": 0.0020408163265306124
         },
         "mode": "markers",
         "name": "Africa",
         "showlegend": true,
         "subplot": "mapbox",
         "type": "scattermapbox"
        },
        {
         "hoverlabel": {
          "namelength": 0
         },
         "hovertemplate": "<b>%{hovertext}</b><br><br>continent=North America<br>size=%{marker.size}<br>lat=%{lat}<br>lng=%{lon}",
         "hovertext": [
          "Santa Maria",
          "Ron Telesky Canadian Pizza",
          "Bagel Company",
          "Rosa Caleta",
          "Qba Restaurant",
          "Panama Restaurant & Bar"
         ],
         "lat": [
          52.50171776543595,
          52.493030386691565,
          52.5217393722604,
          52.501189726579824,
          52.52590146976719,
          52.501233
         ],
         "legendgroup": "continent=North America",
         "lon": [
          13.417892329736027,
          13.414998091474947,
          13.40335027120626,
          13.432149181080584,
          13.389566624158595,
          13.365496
         ],
         "marker": {
          "color": "red",
          "opacity": 1,
          "size": [
           0.1,
           0.1,
           0.1,
           0.1,
           0.1,
           0.1
          ],
          "sizemode": "area",
          "sizeref": 0.0020408163265306124
         },
         "mode": "markers",
         "name": "North America",
         "showlegend": true,
         "subplot": "mapbox",
         "type": "scattermapbox"
        },
        {
         "hoverlabel": {
          "namelength": 0
         },
         "hovertemplate": "<b>%{hovertext}</b><br><br>continent=Oceania<br>size=%{marker.size}<br>lat=%{lat}<br>lng=%{lon}",
         "hovertext": [
          "Corroboree"
         ],
         "lat": [
          52.51008348180994
         ],
         "legendgroup": "continent=Oceania",
         "lon": [
          13.37332315521734
         ],
         "marker": {
          "color": "mediumslateblue",
          "opacity": 1,
          "size": [
           0.1
          ],
          "sizemode": "area",
          "sizeref": 0.0020408163265306124
         },
         "mode": "markers",
         "name": "Oceania",
         "showlegend": true,
         "subplot": "mapbox",
         "type": "scattermapbox"
        },
        {
         "lat": [
          52.503842,
          52.503842
         ],
         "lon": [
          13.4075,
          13.4075
         ],
         "showlegend": false,
         "type": "scattermapbox"
        },
        {
         "lat": [
          52.503842,
          52.504879
         ],
         "lon": [
          13.407526,
          13.407337
         ],
         "marker": {
          "color": "Grey",
          "size": 12
         },
         "mode": "lines",
         "opacity": 0.5,
         "showlegend": false,
         "type": "scattermapbox"
        },
        {
         "lat": [
          52.503842,
          52.50384734485071
         ],
         "lon": [
          13.407526,
          13.40989250334581
         ],
         "marker": {
          "color": "Grey",
          "size": 12
         },
         "mode": "lines",
         "opacity": 0.5,
         "showlegend": false,
         "type": "scattermapbox"
        },
        {
         "lat": [
          52.503842,
          52.502155
         ],
         "lon": [
          13.407526,
          13.411516
         ],
         "marker": {
          "color": "Grey",
          "size": 12
         },
         "mode": "lines",
         "opacity": 0.5,
         "showlegend": false,
         "type": "scattermapbox"
        },
        {
         "lat": [
          52.503842,
          52.503439
         ],
         "lon": [
          13.407526,
          13.411943
         ],
         "marker": {
          "color": "Grey",
          "size": 12
         },
         "mode": "lines",
         "opacity": 0.5,
         "showlegend": false,
         "type": "scattermapbox"
        },
        {
         "lat": [
          52.503842,
          52.510117883068425
         ],
         "lon": [
          13.407526,
          13.406298452082641
         ],
         "marker": {
          "color": "Grey",
          "size": 12
         },
         "mode": "lines",
         "opacity": 0.5,
         "showlegend": false,
         "type": "scattermapbox"
        },
        {
         "lat": [
          52.503842,
          52.502709184440235
         ],
         "lon": [
          13.407526,
          13.414106992314636
         ],
         "marker": {
          "color": "Grey",
          "size": 12
         },
         "mode": "lines",
         "opacity": 0.5,
         "showlegend": false,
         "type": "scattermapbox"
        },
        {
         "lat": [
          52.503842,
          52.500637
         ],
         "lon": [
          13.407526,
          13.41347
         ],
         "marker": {
          "color": "Grey",
          "size": 12
         },
         "mode": "lines",
         "opacity": 0.5,
         "showlegend": false,
         "type": "scattermapbox"
        },
        {
         "lat": [
          52.503842,
          52.500547
         ],
         "lon": [
          13.407526,
          13.400806
         ],
         "marker": {
          "color": "Grey",
          "size": 12
         },
         "mode": "lines",
         "opacity": 0.5,
         "showlegend": false,
         "type": "scattermapbox"
        },
        {
         "lat": [
          52.503842,
          52.512192682338004
         ],
         "lon": [
          13.407526,
          13.408539575150119
         ],
         "marker": {
          "color": "Grey",
          "size": 12
         },
         "mode": "lines",
         "opacity": 0.5,
         "showlegend": false,
         "type": "scattermapbox"
        },
        {
         "lat": [
          52.503842,
          52.49508820168941
         ],
         "lon": [
          13.407526,
          13.406447587032494
         ],
         "marker": {
          "color": "Grey",
          "size": 12
         },
         "mode": "lines",
         "opacity": 0.5,
         "showlegend": false,
         "type": "scattermapbox"
        },
        {
         "lat": [
          52.503842,
          52.50697498086002
         ],
         "lon": [
          13.407526,
          13.416194915771484
         ],
         "marker": {
          "color": "Grey",
          "size": 12
         },
         "mode": "lines",
         "opacity": 0.5,
         "showlegend": false,
         "type": "scattermapbox"
        },
        {
         "lat": [
          52.503842,
          52.501338223645014
         ],
         "lon": [
          13.407526,
          13.416600211798988
         ],
         "marker": {
          "color": "Grey",
          "size": 12
         },
         "mode": "lines",
         "opacity": 0.5,
         "showlegend": false,
         "type": "scattermapbox"
        },
        {
         "lat": [
          52.503842,
          52.50117562711077
         ],
         "lon": [
          13.407526,
          13.416808742410739
         ],
         "marker": {
          "color": "Grey",
          "size": 12
         },
         "mode": "lines",
         "opacity": 0.5,
         "showlegend": false,
         "type": "scattermapbox"
        },
        {
         "lat": [
          52.503842,
          52.51261098130769
         ],
         "lon": [
          13.407526,
          13.411759932377612
         ],
         "marker": {
          "color": "Grey",
          "size": 12
         },
         "mode": "lines",
         "opacity": 0.5,
         "showlegend": false,
         "type": "scattermapbox"
        },
        {
         "lat": [
          52.503842,
          52.501803
         ],
         "lon": [
          13.407526,
          13.417574
         ],
         "marker": {
          "color": "Grey",
          "size": 12
         },
         "mode": "lines",
         "opacity": 0.5,
         "showlegend": false,
         "type": "scattermapbox"
        },
        {
         "lat": [
          52.503842,
          52.50171776543595
         ],
         "lon": [
          13.407526,
          13.417892329736027
         ],
         "marker": {
          "color": "Grey",
          "size": 12
         },
         "mode": "lines",
         "opacity": 0.5,
         "showlegend": false,
         "type": "scattermapbox"
        },
        {
         "lat": [
          52.503842,
          52.50519654678214
         ],
         "lon": [
          13.407526,
          13.396909579977276
         ],
         "marker": {
          "color": "Grey",
          "size": 12
         },
         "mode": "lines",
         "opacity": 0.5,
         "showlegend": false,
         "type": "scattermapbox"
        },
        {
         "lat": [
          52.503842,
          52.5016094430204
         ],
         "lon": [
          13.407526,
          13.4182367612713
         ],
         "marker": {
          "color": "Grey",
          "size": 12
         },
         "mode": "lines",
         "opacity": 0.5,
         "showlegend": false,
         "type": "scattermapbox"
        },
        {
         "lat": [
          52.503842,
          52.501557
         ],
         "lon": [
          13.407526,
          13.418314
         ],
         "marker": {
          "color": "Grey",
          "size": 12
         },
         "mode": "lines",
         "opacity": 0.5,
         "showlegend": false,
         "type": "scattermapbox"
        },
        {
         "lat": [
          52.503842,
          52.49984230321145
         ],
         "lon": [
          13.407526,
          13.418157674683414
         ],
         "marker": {
          "color": "Grey",
          "size": 12
         },
         "mode": "lines",
         "opacity": 0.5,
         "showlegend": false,
         "type": "scattermapbox"
        },
        {
         "lat": [
          52.503842,
          52.49361275394741
         ],
         "lon": [
          13.407526,
          13.412532235726932
         ],
         "marker": {
          "color": "Grey",
          "size": 12
         },
         "mode": "lines",
         "opacity": 0.5,
         "showlegend": false,
         "type": "scattermapbox"
        },
        {
         "lat": [
          52.503842,
          52.511604638346135
         ],
         "lon": [
          13.407526,
          13.39867767582335
         ],
         "marker": {
          "color": "Grey",
          "size": 12
         },
         "mode": "lines",
         "opacity": 0.5,
         "showlegend": false,
         "type": "scattermapbox"
        },
        {
         "lat": [
          52.503842,
          52.511024529611795
         ],
         "lon": [
          13.407526,
          13.398056402161886
         ],
         "marker": {
          "color": "Grey",
          "size": 12
         },
         "mode": "lines",
         "opacity": 0.5,
         "showlegend": false,
         "type": "scattermapbox"
        },
        {
         "lat": [
          52.503842,
          52.50093770064716
         ],
         "lon": [
          13.407526,
          13.4190620805529
         ],
         "marker": {
          "color": "Grey",
          "size": 12
         },
         "mode": "lines",
         "opacity": 0.5,
         "showlegend": false,
         "type": "scattermapbox"
        },
        {
         "lat": [
          52.503842,
          52.50076510297526
         ],
         "lon": [
          13.407526,
          13.419047424097913
         ],
         "marker": {
          "color": "Grey",
          "size": 12
         },
         "mode": "lines",
         "opacity": 0.5,
         "showlegend": false,
         "type": "scattermapbox"
        },
        {
         "lat": [
          52.503842,
          52.49695561938602
         ],
         "lon": [
          13.407526,
          13.417493424194506
         ],
         "marker": {
          "color": "Grey",
          "size": 12
         },
         "mode": "lines",
         "opacity": 0.5,
         "showlegend": false,
         "type": "scattermapbox"
        },
        {
         "lat": [
          52.503842,
          52.493030386691565
         ],
         "lon": [
          13.407526,
          13.414998091474947
         ],
         "marker": {
          "color": "Grey",
          "size": 12
         },
         "mode": "lines",
         "opacity": 0.5,
         "showlegend": false,
         "type": "scattermapbox"
        },
        {
         "lat": [
          52.503842,
          52.49668429344324
         ],
         "lon": [
          13.407526,
          13.418557674212384
         ],
         "marker": {
          "color": "Grey",
          "size": 12
         },
         "mode": "lines",
         "opacity": 0.5,
         "showlegend": false,
         "type": "scattermapbox"
        },
        {
         "lat": [
          52.503842,
          52.49403307523592
         ],
         "lon": [
          13.407526,
          13.418564750283036
         ],
         "marker": {
          "color": "Grey",
          "size": 12
         },
         "mode": "lines",
         "opacity": 0.5,
         "showlegend": false,
         "type": "scattermapbox"
        },
        {
         "lat": [
          52.503842,
          52.498043
         ],
         "lon": [
          13.407526,
          13.421149
         ],
         "marker": {
          "color": "Grey",
          "size": 12
         },
         "mode": "lines",
         "opacity": 0.5,
         "showlegend": false,
         "type": "scattermapbox"
        },
        {
         "lat": [
          52.503842,
          52.493294
         ],
         "lon": [
          13.407526,
          13.418156
         ],
         "marker": {
          "color": "Grey",
          "size": 12
         },
         "mode": "lines",
         "opacity": 0.5,
         "showlegend": false,
         "type": "scattermapbox"
        },
        {
         "lat": [
          52.503842,
          52.492936
         ],
         "lon": [
          13.407526,
          13.41789
         ],
         "marker": {
          "color": "Grey",
          "size": 12
         },
         "mode": "lines",
         "opacity": 0.5,
         "showlegend": false,
         "type": "scattermapbox"
        },
        {
         "lat": [
          52.503842,
          52.51812532677293
         ],
         "lon": [
          13.407526,
          13.415961025425812
         ],
         "marker": {
          "color": "Grey",
          "size": 12
         },
         "mode": "lines",
         "opacity": 0.5,
         "showlegend": false,
         "type": "scattermapbox"
        },
        {
         "lat": [
          52.503842,
          52.501055
         ],
         "lon": [
          13.407526,
          13.423885
         ],
         "marker": {
          "color": "Grey",
          "size": 12
         },
         "mode": "lines",
         "opacity": 0.5,
         "showlegend": false,
         "type": "scattermapbox"
        },
        {
         "lat": [
          52.503842,
          52.508354
         ],
         "lon": [
          13.407526,
          13.390773
         ],
         "marker": {
          "color": "Grey",
          "size": 12
         },
         "mode": "lines",
         "opacity": 0.5,
         "showlegend": false,
         "type": "scattermapbox"
        },
        {
         "lat": [
          52.503842,
          52.49053913644055
         ],
         "lon": [
          13.407526,
          13.395895616517187
         ],
         "marker": {
          "color": "Grey",
          "size": 12
         },
         "mode": "lines",
         "opacity": 0.5,
         "showlegend": false,
         "type": "scattermapbox"
        },
        {
         "lat": [
          52.503842,
          52.49016265519161
         ],
         "lon": [
          13.407526,
          13.396104505417478
         ],
         "marker": {
          "color": "Grey",
          "size": 12
         },
         "mode": "lines",
         "opacity": 0.5,
         "showlegend": false,
         "type": "scattermapbox"
        },
        {
         "lat": [
          52.503842,
          52.5217393722604
         ],
         "lon": [
          13.407526,
          13.40335027120626
         ],
         "marker": {
          "color": "Grey",
          "size": 12
         },
         "mode": "lines",
         "opacity": 0.5,
         "showlegend": false,
         "type": "scattermapbox"
        },
        {
         "lat": [
          52.503842,
          52.51135
         ],
         "lon": [
          13.407526,
          13.390513
         ],
         "marker": {
          "color": "Grey",
          "size": 12
         },
         "mode": "lines",
         "opacity": 0.5,
         "showlegend": false,
         "type": "scattermapbox"
        },
        {
         "lat": [
          52.503842,
          52.49072211396973
         ],
         "lon": [
          13.407526,
          13.394179079111902
         ],
         "marker": {
          "color": "Grey",
          "size": 12
         },
         "mode": "lines",
         "opacity": 0.5,
         "showlegend": false,
         "type": "scattermapbox"
        },
        {
         "lat": [
          52.503842,
          52.4908251
         ],
         "lon": [
          13.407526,
          13.3939081
         ],
         "marker": {
          "color": "Grey",
          "size": 12
         },
         "mode": "lines",
         "opacity": 0.5,
         "showlegend": false,
         "type": "scattermapbox"
        },
        {
         "lat": [
          52.503842,
          52.500402
         ],
         "lon": [
          13.407526,
          13.426082
         ],
         "marker": {
          "color": "Grey",
          "size": 12
         },
         "mode": "lines",
         "opacity": 0.5,
         "showlegend": false,
         "type": "scattermapbox"
        },
        {
         "lat": [
          52.503842,
          52.48912
         ],
         "lon": [
          13.407526,
          13.395131
         ],
         "marker": {
          "color": "Grey",
          "size": 12
         },
         "mode": "lines",
         "opacity": 0.5,
         "showlegend": false,
         "type": "scattermapbox"
        },
        {
         "lat": [
          52.503842,
          52.503518645755335
         ],
         "lon": [
          13.407526,
          13.387594842287493
         ],
         "marker": {
          "color": "Grey",
          "size": 12
         },
         "mode": "lines",
         "opacity": 0.5,
         "showlegend": false,
         "type": "scattermapbox"
        },
        {
         "lat": [
          52.503842,
          52.52492
         ],
         "lon": [
          13.407526,
          13.403315
         ],
         "marker": {
          "color": "Grey",
          "size": 12
         },
         "mode": "lines",
         "opacity": 0.5,
         "showlegend": false,
         "type": "scattermapbox"
        },
        {
         "lat": [
          52.503842,
          52.48877
         ],
         "lon": [
          13.407526,
          13.423339
         ],
         "marker": {
          "color": "Grey",
          "size": 12
         },
         "mode": "lines",
         "opacity": 0.5,
         "showlegend": false,
         "type": "scattermapbox"
        },
        {
         "lat": [
          52.503842,
          52.48993924
         ],
         "lon": [
          13.407526,
          13.38931071
         ],
         "marker": {
          "color": "Grey",
          "size": 12
         },
         "mode": "lines",
         "opacity": 0.5,
         "showlegend": false,
         "type": "scattermapbox"
        },
        {
         "lat": [
          52.503842,
          52.495696
         ],
         "lon": [
          13.407526,
          13.429364
         ],
         "marker": {
          "color": "Grey",
          "size": 12
         },
         "mode": "lines",
         "opacity": 0.5,
         "showlegend": false,
         "type": "scattermapbox"
        },
        {
         "lat": [
          52.503842,
          52.524928
         ],
         "lon": [
          13.407526,
          13.395808
         ],
         "marker": {
          "color": "Grey",
          "size": 12
         },
         "mode": "lines",
         "opacity": 0.5,
         "showlegend": false,
         "type": "scattermapbox"
        },
        {
         "lat": [
          52.503842,
          52.498658935046706
         ],
         "lon": [
          13.407526,
          13.43138806228964
         ],
         "marker": {
          "color": "Grey",
          "size": 12
         },
         "mode": "lines",
         "opacity": 0.5,
         "showlegend": false,
         "type": "scattermapbox"
        },
        {
         "lat": [
          52.503842,
          52.50200765901417
         ],
         "lon": [
          13.407526,
          13.43218031689331
         ],
         "marker": {
          "color": "Grey",
          "size": 12
         },
         "mode": "lines",
         "opacity": 0.5,
         "showlegend": false,
         "type": "scattermapbox"
        },
        {
         "lat": [
          52.503842,
          52.501189726579824
         ],
         "lon": [
          13.407526,
          13.432149181080584
         ],
         "marker": {
          "color": "Grey",
          "size": 12
         },
         "mode": "lines",
         "opacity": 0.5,
         "showlegend": false,
         "type": "scattermapbox"
        },
        {
         "lat": [
          52.503842,
          52.48353962401119
         ],
         "lon": [
          13.407526,
          13.42292591203159
         ],
         "marker": {
          "color": "Grey",
          "size": 12
         },
         "mode": "lines",
         "opacity": 0.5,
         "showlegend": false,
         "type": "scattermapbox"
        },
        {
         "lat": [
          52.503842,
          52.485055989120276
         ],
         "lon": [
          13.407526,
          13.426655611198603
         ],
         "marker": {
          "color": "Grey",
          "size": 12
         },
         "mode": "lines",
         "opacity": 0.5,
         "showlegend": false,
         "type": "scattermapbox"
        },
        {
         "lat": [
          52.503842,
          52.49462459251267
         ],
         "lon": [
          13.407526,
          13.433660414689246
         ],
         "marker": {
          "color": "Grey",
          "size": 12
         },
         "mode": "lines",
         "opacity": 0.5,
         "showlegend": false,
         "type": "scattermapbox"
        },
        {
         "lat": [
          52.503842,
          52.52590146976719
         ],
         "lon": [
          13.407526,
          13.389566624158595
         ],
         "marker": {
          "color": "Grey",
          "size": 12
         },
         "mode": "lines",
         "opacity": 0.5,
         "showlegend": false,
         "type": "scattermapbox"
        },
        {
         "lat": [
          52.503842,
          52.52352444347078
         ],
         "lon": [
          13.407526,
          13.430927413726165
         ],
         "marker": {
          "color": "Grey",
          "size": 12
         },
         "mode": "lines",
         "opacity": 0.5,
         "showlegend": false,
         "type": "scattermapbox"
        },
        {
         "lat": [
          52.503842,
          52.51008348180994
         ],
         "lon": [
          13.407526,
          13.37332315521734
         ],
         "marker": {
          "color": "Grey",
          "size": 12
         },
         "mode": "lines",
         "opacity": 0.5,
         "showlegend": false,
         "type": "scattermapbox"
        },
        {
         "lat": [
          52.503842,
          52.541788
         ],
         "lon": [
          13.407526,
          13.421064
         ],
         "marker": {
          "color": "Grey",
          "size": 12
         },
         "mode": "lines",
         "opacity": 0.5,
         "showlegend": false,
         "type": "scattermapbox"
        },
        {
         "lat": [
          52.503842,
          52.4965198122726
         ],
         "lon": [
          13.407526,
          13.366768169046342
         ],
         "marker": {
          "color": "Grey",
          "size": 12
         },
         "mode": "lines",
         "opacity": 0.5,
         "showlegend": false,
         "type": "scattermapbox"
        },
        {
         "lat": [
          52.503842,
          52.503426
         ],
         "lon": [
          13.407526,
          13.366116
         ],
         "marker": {
          "color": "Grey",
          "size": 12
         },
         "mode": "lines",
         "opacity": 0.5,
         "showlegend": false,
         "type": "scattermapbox"
        },
        {
         "lat": [
          52.503842,
          52.50322001571735
         ],
         "lon": [
          13.407526,
          13.365807039152024
         ],
         "marker": {
          "color": "Grey",
          "size": 12
         },
         "mode": "lines",
         "opacity": 0.5,
         "showlegend": false,
         "type": "scattermapbox"
        },
        {
         "lat": [
          52.503842,
          52.501233
         ],
         "lon": [
          13.407526,
          13.365496
         ],
         "marker": {
          "color": "Grey",
          "size": 12
         },
         "mode": "lines",
         "opacity": 0.5,
         "showlegend": false,
         "type": "scattermapbox"
        },
        {
         "lat": [
          52.503842,
          52.51664822145941
         ],
         "lon": [
          13.407526,
          13.448383888566534
         ],
         "marker": {
          "color": "Grey",
          "size": 12
         },
         "mode": "lines",
         "opacity": 0.5,
         "showlegend": false,
         "type": "scattermapbox"
        },
        {
         "lat": [
          52.503842,
          52.474525
         ],
         "lon": [
          13.407526,
          13.440109
         ],
         "marker": {
          "color": "Grey",
          "size": 12
         },
         "mode": "lines",
         "opacity": 0.5,
         "showlegend": false,
         "type": "scattermapbox"
        },
        {
         "lat": [
          52.503842,
          52.548133850097656
         ],
         "lon": [
          13.407526,
          13.412403106689453
         ],
         "marker": {
          "color": "Grey",
          "size": 12
         },
         "mode": "lines",
         "opacity": 0.5,
         "showlegend": false,
         "type": "scattermapbox"
        },
        {
         "lat": [
          52.503842,
          52.4972644
         ],
         "lon": [
          13.407526,
          13.361860100000001
         ],
         "marker": {
          "color": "Grey",
          "size": 12
         },
         "mode": "lines",
         "opacity": 0.5,
         "showlegend": false,
         "type": "scattermapbox"
        },
        {
         "lat": [
          52.503842,
          52.52867622324605
         ],
         "lon": [
          13.407526,
          13.449175357818604
         ],
         "marker": {
          "color": "Grey",
          "size": 12
         },
         "mode": "lines",
         "opacity": 0.5,
         "showlegend": false,
         "type": "scattermapbox"
        },
        {
         "lat": [
          52.503842,
          52.52037677752846
         ],
         "lon": [
          13.407526,
          13.355765000801808
         ],
         "marker": {
          "color": "Grey",
          "size": 12
         },
         "mode": "lines",
         "opacity": 0.5,
         "showlegend": false,
         "type": "scattermapbox"
        },
        {
         "lat": [
          52.503842,
          52.493168
         ],
         "lon": [
          13.407526,
          13.465505
         ],
         "marker": {
          "color": "Grey",
          "size": 12
         },
         "mode": "lines",
         "opacity": 0.5,
         "showlegend": false,
         "type": "scattermapbox"
        },
        {
         "lat": [
          52.503842,
          52.549221166636016
         ],
         "lon": [
          13.407526,
          13.456007949632403
         ],
         "marker": {
          "color": "Grey",
          "size": 12
         },
         "mode": "lines",
         "opacity": 0.5,
         "showlegend": false,
         "type": "scattermapbox"
        },
        {
         "lat": [
          52.503842,
          52.47862271037745
         ],
         "lon": [
          13.407526,
          13.344735327360468
         ],
         "marker": {
          "color": "Grey",
          "size": 12
         },
         "mode": "lines",
         "opacity": 0.5,
         "showlegend": false,
         "type": "scattermapbox"
        },
        {
         "lat": [
          52.503842,
          52.466341
         ],
         "lon": [
          13.407526,
          13.468333
         ],
         "marker": {
          "color": "Grey",
          "size": 12
         },
         "mode": "lines",
         "opacity": 0.5,
         "showlegend": false,
         "type": "scattermapbox"
        },
        {
         "lat": [
          52.503842,
          52.52792739868164
         ],
         "lon": [
          13.407526,
          13.3387451171875
         ],
         "marker": {
          "color": "Grey",
          "size": 12
         },
         "mode": "lines",
         "opacity": 0.5,
         "showlegend": false,
         "type": "scattermapbox"
        },
        {
         "lat": [
          52.503842,
          52.52401570267303
         ],
         "lon": [
          13.407526,
          13.328874637889097
         ],
         "marker": {
          "color": "Grey",
          "size": 12
         },
         "mode": "lines",
         "opacity": 0.5,
         "showlegend": false,
         "type": "scattermapbox"
        },
        {
         "lat": [
          52.503842,
          52.52134435152118
         ],
         "lon": [
          13.407526,
          13.322479040254438
         ],
         "marker": {
          "color": "Grey",
          "size": 12
         },
         "mode": "lines",
         "opacity": 0.5,
         "showlegend": false,
         "type": "scattermapbox"
        },
        {
         "lat": [
          52.503842,
          52.51005591409204
         ],
         "lon": [
          13.407526,
          13.31256029583138
         ],
         "marker": {
          "color": "Grey",
          "size": 12
         },
         "mode": "lines",
         "opacity": 0.5,
         "showlegend": false,
         "type": "scattermapbox"
        },
        {
         "lat": [
          52.503842,
          52.507406780548706
         ],
         "lon": [
          13.407526,
          13.30941552258981
         ],
         "marker": {
          "color": "Grey",
          "size": 12
         },
         "mode": "lines",
         "opacity": 0.5,
         "showlegend": false,
         "type": "scattermapbox"
        },
        {
         "lat": [
          52.503842,
          52.506645
         ],
         "lon": [
          13.407526,
          13.304373
         ],
         "marker": {
          "color": "Grey",
          "size": 12
         },
         "mode": "lines",
         "opacity": 0.5,
         "showlegend": false,
         "type": "scattermapbox"
        },
        {
         "lat": [
          52.503842,
          52.50466954062061
         ],
         "lon": [
          13.407526,
          13.303600088098401
         ],
         "marker": {
          "color": "Grey",
          "size": 12
         },
         "mode": "lines",
         "opacity": 0.5,
         "showlegend": false,
         "type": "scattermapbox"
        },
        {
         "lat": [
          52.503842,
          52.524436
         ],
         "lon": [
          13.407526,
          13.301269
         ],
         "marker": {
          "color": "Grey",
          "size": 12
         },
         "mode": "lines",
         "opacity": 0.5,
         "showlegend": false,
         "type": "scattermapbox"
        },
        {
         "lat": [
          52.503842,
          52.513701
         ],
         "lon": [
          13.407526,
          13.290897
         ],
         "marker": {
          "color": "Grey",
          "size": 12
         },
         "mode": "lines",
         "opacity": 0.5,
         "showlegend": false,
         "type": "scattermapbox"
        },
        {
         "lat": [
          52.503842,
          52.583840098524405
         ],
         "lon": [
          13.407526,
          13.30113414941472
         ],
         "marker": {
          "color": "Grey",
          "size": 12
         },
         "mode": "lines",
         "opacity": 0.5,
         "showlegend": false,
         "type": "scattermapbox"
        },
        {
         "lat": [
          52.503842,
          52.509946
         ],
         "lon": [
          13.407526,
          13.2734
         ],
         "marker": {
          "color": "Grey",
          "size": 12
         },
         "mode": "lines",
         "opacity": 0.5,
         "showlegend": false,
         "type": "scattermapbox"
        },
        {
         "lat": [
          52.503842,
          52.541755
         ],
         "lon": [
          13.407526,
          13.542521
         ],
         "marker": {
          "color": "Grey",
          "size": 12
         },
         "mode": "lines",
         "opacity": 0.5,
         "showlegend": false,
         "type": "scattermapbox"
        },
        {
         "lat": [
          52.503842,
          52.583678
         ],
         "lon": [
          13.407526,
          13.286527
         ],
         "marker": {
          "color": "Grey",
          "size": 12
         },
         "mode": "lines",
         "opacity": 0.5,
         "showlegend": false,
         "type": "scattermapbox"
        },
        {
         "lat": [
          52.503842,
          52.54184581627682
         ],
         "lon": [
          13.407526,
          13.236583471298218
         ],
         "marker": {
          "color": "Grey",
          "size": 12
         },
         "mode": "lines",
         "opacity": 0.5,
         "showlegend": false,
         "type": "scattermapbox"
        }
       ],
       "layout": {
        "height": 600,
        "legend": {
         "itemsizing": "constant",
         "orientation": "h",
         "tracegroupgap": 0,
         "x": 0.18,
         "y": 0
        },
        "mapbox": {
         "center": {
          "lat": 52.50732807540277,
          "lon": 13.395174587578888
         },
         "domain": {
          "x": [
           0,
           1
          ],
          "y": [
           0,
           1
          ]
         },
         "style": "open-street-map",
         "zoom": 10
        },
        "margin": {
         "b": 0,
         "l": 1,
         "r": 1,
         "t": 0
        },
        "showlegend": true,
        "template": {
         "data": {
          "bar": [
           {
            "error_x": {
             "color": "#2a3f5f"
            },
            "error_y": {
             "color": "#2a3f5f"
            },
            "marker": {
             "line": {
              "color": "white",
              "width": 0.5
             }
            },
            "type": "bar"
           }
          ],
          "barpolar": [
           {
            "marker": {
             "line": {
              "color": "white",
              "width": 0.5
             }
            },
            "type": "barpolar"
           }
          ],
          "carpet": [
           {
            "aaxis": {
             "endlinecolor": "#2a3f5f",
             "gridcolor": "#C8D4E3",
             "linecolor": "#C8D4E3",
             "minorgridcolor": "#C8D4E3",
             "startlinecolor": "#2a3f5f"
            },
            "baxis": {
             "endlinecolor": "#2a3f5f",
             "gridcolor": "#C8D4E3",
             "linecolor": "#C8D4E3",
             "minorgridcolor": "#C8D4E3",
             "startlinecolor": "#2a3f5f"
            },
            "type": "carpet"
           }
          ],
          "choropleth": [
           {
            "colorbar": {
             "outlinewidth": 0,
             "ticks": ""
            },
            "type": "choropleth"
           }
          ],
          "contour": [
           {
            "colorbar": {
             "outlinewidth": 0,
             "ticks": ""
            },
            "colorscale": [
             [
              0,
              "#0d0887"
             ],
             [
              0.1111111111111111,
              "#46039f"
             ],
             [
              0.2222222222222222,
              "#7201a8"
             ],
             [
              0.3333333333333333,
              "#9c179e"
             ],
             [
              0.4444444444444444,
              "#bd3786"
             ],
             [
              0.5555555555555556,
              "#d8576b"
             ],
             [
              0.6666666666666666,
              "#ed7953"
             ],
             [
              0.7777777777777778,
              "#fb9f3a"
             ],
             [
              0.8888888888888888,
              "#fdca26"
             ],
             [
              1,
              "#f0f921"
             ]
            ],
            "type": "contour"
           }
          ],
          "contourcarpet": [
           {
            "colorbar": {
             "outlinewidth": 0,
             "ticks": ""
            },
            "type": "contourcarpet"
           }
          ],
          "heatmap": [
           {
            "colorbar": {
             "outlinewidth": 0,
             "ticks": ""
            },
            "colorscale": [
             [
              0,
              "#0d0887"
             ],
             [
              0.1111111111111111,
              "#46039f"
             ],
             [
              0.2222222222222222,
              "#7201a8"
             ],
             [
              0.3333333333333333,
              "#9c179e"
             ],
             [
              0.4444444444444444,
              "#bd3786"
             ],
             [
              0.5555555555555556,
              "#d8576b"
             ],
             [
              0.6666666666666666,
              "#ed7953"
             ],
             [
              0.7777777777777778,
              "#fb9f3a"
             ],
             [
              0.8888888888888888,
              "#fdca26"
             ],
             [
              1,
              "#f0f921"
             ]
            ],
            "type": "heatmap"
           }
          ],
          "heatmapgl": [
           {
            "colorbar": {
             "outlinewidth": 0,
             "ticks": ""
            },
            "colorscale": [
             [
              0,
              "#0d0887"
             ],
             [
              0.1111111111111111,
              "#46039f"
             ],
             [
              0.2222222222222222,
              "#7201a8"
             ],
             [
              0.3333333333333333,
              "#9c179e"
             ],
             [
              0.4444444444444444,
              "#bd3786"
             ],
             [
              0.5555555555555556,
              "#d8576b"
             ],
             [
              0.6666666666666666,
              "#ed7953"
             ],
             [
              0.7777777777777778,
              "#fb9f3a"
             ],
             [
              0.8888888888888888,
              "#fdca26"
             ],
             [
              1,
              "#f0f921"
             ]
            ],
            "type": "heatmapgl"
           }
          ],
          "histogram": [
           {
            "marker": {
             "colorbar": {
              "outlinewidth": 0,
              "ticks": ""
             }
            },
            "type": "histogram"
           }
          ],
          "histogram2d": [
           {
            "colorbar": {
             "outlinewidth": 0,
             "ticks": ""
            },
            "colorscale": [
             [
              0,
              "#0d0887"
             ],
             [
              0.1111111111111111,
              "#46039f"
             ],
             [
              0.2222222222222222,
              "#7201a8"
             ],
             [
              0.3333333333333333,
              "#9c179e"
             ],
             [
              0.4444444444444444,
              "#bd3786"
             ],
             [
              0.5555555555555556,
              "#d8576b"
             ],
             [
              0.6666666666666666,
              "#ed7953"
             ],
             [
              0.7777777777777778,
              "#fb9f3a"
             ],
             [
              0.8888888888888888,
              "#fdca26"
             ],
             [
              1,
              "#f0f921"
             ]
            ],
            "type": "histogram2d"
           }
          ],
          "histogram2dcontour": [
           {
            "colorbar": {
             "outlinewidth": 0,
             "ticks": ""
            },
            "colorscale": [
             [
              0,
              "#0d0887"
             ],
             [
              0.1111111111111111,
              "#46039f"
             ],
             [
              0.2222222222222222,
              "#7201a8"
             ],
             [
              0.3333333333333333,
              "#9c179e"
             ],
             [
              0.4444444444444444,
              "#bd3786"
             ],
             [
              0.5555555555555556,
              "#d8576b"
             ],
             [
              0.6666666666666666,
              "#ed7953"
             ],
             [
              0.7777777777777778,
              "#fb9f3a"
             ],
             [
              0.8888888888888888,
              "#fdca26"
             ],
             [
              1,
              "#f0f921"
             ]
            ],
            "type": "histogram2dcontour"
           }
          ],
          "mesh3d": [
           {
            "colorbar": {
             "outlinewidth": 0,
             "ticks": ""
            },
            "type": "mesh3d"
           }
          ],
          "parcoords": [
           {
            "line": {
             "colorbar": {
              "outlinewidth": 0,
              "ticks": ""
             }
            },
            "type": "parcoords"
           }
          ],
          "pie": [
           {
            "automargin": true,
            "type": "pie"
           }
          ],
          "scatter": [
           {
            "marker": {
             "colorbar": {
              "outlinewidth": 0,
              "ticks": ""
             }
            },
            "type": "scatter"
           }
          ],
          "scatter3d": [
           {
            "line": {
             "colorbar": {
              "outlinewidth": 0,
              "ticks": ""
             }
            },
            "marker": {
             "colorbar": {
              "outlinewidth": 0,
              "ticks": ""
             }
            },
            "type": "scatter3d"
           }
          ],
          "scattercarpet": [
           {
            "marker": {
             "colorbar": {
              "outlinewidth": 0,
              "ticks": ""
             }
            },
            "type": "scattercarpet"
           }
          ],
          "scattergeo": [
           {
            "marker": {
             "colorbar": {
              "outlinewidth": 0,
              "ticks": ""
             }
            },
            "type": "scattergeo"
           }
          ],
          "scattergl": [
           {
            "marker": {
             "colorbar": {
              "outlinewidth": 0,
              "ticks": ""
             }
            },
            "type": "scattergl"
           }
          ],
          "scattermapbox": [
           {
            "marker": {
             "colorbar": {
              "outlinewidth": 0,
              "ticks": ""
             }
            },
            "type": "scattermapbox"
           }
          ],
          "scatterpolar": [
           {
            "marker": {
             "colorbar": {
              "outlinewidth": 0,
              "ticks": ""
             }
            },
            "type": "scatterpolar"
           }
          ],
          "scatterpolargl": [
           {
            "marker": {
             "colorbar": {
              "outlinewidth": 0,
              "ticks": ""
             }
            },
            "type": "scatterpolargl"
           }
          ],
          "scatterternary": [
           {
            "marker": {
             "colorbar": {
              "outlinewidth": 0,
              "ticks": ""
             }
            },
            "type": "scatterternary"
           }
          ],
          "surface": [
           {
            "colorbar": {
             "outlinewidth": 0,
             "ticks": ""
            },
            "colorscale": [
             [
              0,
              "#0d0887"
             ],
             [
              0.1111111111111111,
              "#46039f"
             ],
             [
              0.2222222222222222,
              "#7201a8"
             ],
             [
              0.3333333333333333,
              "#9c179e"
             ],
             [
              0.4444444444444444,
              "#bd3786"
             ],
             [
              0.5555555555555556,
              "#d8576b"
             ],
             [
              0.6666666666666666,
              "#ed7953"
             ],
             [
              0.7777777777777778,
              "#fb9f3a"
             ],
             [
              0.8888888888888888,
              "#fdca26"
             ],
             [
              1,
              "#f0f921"
             ]
            ],
            "type": "surface"
           }
          ],
          "table": [
           {
            "cells": {
             "fill": {
              "color": "#EBF0F8"
             },
             "line": {
              "color": "white"
             }
            },
            "header": {
             "fill": {
              "color": "#C8D4E3"
             },
             "line": {
              "color": "white"
             }
            },
            "type": "table"
           }
          ]
         },
         "layout": {
          "annotationdefaults": {
           "arrowcolor": "#2a3f5f",
           "arrowhead": 0,
           "arrowwidth": 1
          },
          "coloraxis": {
           "colorbar": {
            "outlinewidth": 0,
            "ticks": ""
           }
          },
          "colorscale": {
           "diverging": [
            [
             0,
             "#8e0152"
            ],
            [
             0.1,
             "#c51b7d"
            ],
            [
             0.2,
             "#de77ae"
            ],
            [
             0.3,
             "#f1b6da"
            ],
            [
             0.4,
             "#fde0ef"
            ],
            [
             0.5,
             "#f7f7f7"
            ],
            [
             0.6,
             "#e6f5d0"
            ],
            [
             0.7,
             "#b8e186"
            ],
            [
             0.8,
             "#7fbc41"
            ],
            [
             0.9,
             "#4d9221"
            ],
            [
             1,
             "#276419"
            ]
           ],
           "sequential": [
            [
             0,
             "#0d0887"
            ],
            [
             0.1111111111111111,
             "#46039f"
            ],
            [
             0.2222222222222222,
             "#7201a8"
            ],
            [
             0.3333333333333333,
             "#9c179e"
            ],
            [
             0.4444444444444444,
             "#bd3786"
            ],
            [
             0.5555555555555556,
             "#d8576b"
            ],
            [
             0.6666666666666666,
             "#ed7953"
            ],
            [
             0.7777777777777778,
             "#fb9f3a"
            ],
            [
             0.8888888888888888,
             "#fdca26"
            ],
            [
             1,
             "#f0f921"
            ]
           ],
           "sequentialminus": [
            [
             0,
             "#0d0887"
            ],
            [
             0.1111111111111111,
             "#46039f"
            ],
            [
             0.2222222222222222,
             "#7201a8"
            ],
            [
             0.3333333333333333,
             "#9c179e"
            ],
            [
             0.4444444444444444,
             "#bd3786"
            ],
            [
             0.5555555555555556,
             "#d8576b"
            ],
            [
             0.6666666666666666,
             "#ed7953"
            ],
            [
             0.7777777777777778,
             "#fb9f3a"
            ],
            [
             0.8888888888888888,
             "#fdca26"
            ],
            [
             1,
             "#f0f921"
            ]
           ]
          },
          "colorway": [
           "#636efa",
           "#EF553B",
           "#00cc96",
           "#ab63fa",
           "#FFA15A",
           "#19d3f3",
           "#FF6692",
           "#B6E880",
           "#FF97FF",
           "#FECB52"
          ],
          "font": {
           "color": "#2a3f5f"
          },
          "geo": {
           "bgcolor": "white",
           "lakecolor": "white",
           "landcolor": "white",
           "showlakes": true,
           "showland": true,
           "subunitcolor": "#C8D4E3"
          },
          "hoverlabel": {
           "align": "left"
          },
          "hovermode": "closest",
          "mapbox": {
           "style": "light"
          },
          "paper_bgcolor": "white",
          "plot_bgcolor": "white",
          "polar": {
           "angularaxis": {
            "gridcolor": "#EBF0F8",
            "linecolor": "#EBF0F8",
            "ticks": ""
           },
           "bgcolor": "white",
           "radialaxis": {
            "gridcolor": "#EBF0F8",
            "linecolor": "#EBF0F8",
            "ticks": ""
           }
          },
          "scene": {
           "xaxis": {
            "backgroundcolor": "white",
            "gridcolor": "#DFE8F3",
            "gridwidth": 2,
            "linecolor": "#EBF0F8",
            "showbackground": true,
            "ticks": "",
            "zerolinecolor": "#EBF0F8"
           },
           "yaxis": {
            "backgroundcolor": "white",
            "gridcolor": "#DFE8F3",
            "gridwidth": 2,
            "linecolor": "#EBF0F8",
            "showbackground": true,
            "ticks": "",
            "zerolinecolor": "#EBF0F8"
           },
           "zaxis": {
            "backgroundcolor": "white",
            "gridcolor": "#DFE8F3",
            "gridwidth": 2,
            "linecolor": "#EBF0F8",
            "showbackground": true,
            "ticks": "",
            "zerolinecolor": "#EBF0F8"
           }
          },
          "shapedefaults": {
           "line": {
            "color": "#2a3f5f"
           }
          },
          "ternary": {
           "aaxis": {
            "gridcolor": "#DFE8F3",
            "linecolor": "#A2B1C6",
            "ticks": ""
           },
           "baxis": {
            "gridcolor": "#DFE8F3",
            "linecolor": "#A2B1C6",
            "ticks": ""
           },
           "bgcolor": "white",
           "caxis": {
            "gridcolor": "#DFE8F3",
            "linecolor": "#A2B1C6",
            "ticks": ""
           }
          },
          "title": {
           "x": 0.05
          },
          "xaxis": {
           "automargin": true,
           "gridcolor": "#EBF0F8",
           "linecolor": "#EBF0F8",
           "ticks": "",
           "title": {
            "standoff": 15
           },
           "zerolinecolor": "#EBF0F8",
           "zerolinewidth": 2
          },
          "yaxis": {
           "automargin": true,
           "gridcolor": "#EBF0F8",
           "linecolor": "#EBF0F8",
           "ticks": "",
           "title": {
            "standoff": 15
           },
           "zerolinecolor": "#EBF0F8",
           "zerolinewidth": 2
          }
         }
        }
       }
      },
      "text/html": [
       "<div>\n",
       "        \n",
       "        \n",
       "            <div id=\"711e2d9c-45f2-45c9-ada9-4ff5c4db2cbe\" class=\"plotly-graph-div\" style=\"height:600px; width:100%;\"></div>\n",
       "            <script type=\"text/javascript\">\n",
       "                require([\"plotly\"], function(Plotly) {\n",
       "                    window.PLOTLYENV=window.PLOTLYENV || {};\n",
       "                    \n",
       "                if (document.getElementById(\"711e2d9c-45f2-45c9-ada9-4ff5c4db2cbe\")) {\n",
       "                    Plotly.newPlot(\n",
       "                        '711e2d9c-45f2-45c9-ada9-4ff5c4db2cbe',\n",
       "                        [{\"hoverlabel\": {\"namelength\": 0}, \"hovertemplate\": \"<b>%{hovertext}</b><br><br>continent=Asia<br>size=%{marker.size}<br>lat=%{lat}<br>lng=%{lon}\", \"hovertext\": [\"Ak\\u00e7aabat K\\u00f6ftesi\", \"Pacifico\", \"Shishi\", \"King's Chicken\", \"Shezan\", \"Thai Huong Lieferservice\", \"Tsukushiya - Japanese Deli\", \"Safran\", \"Rote Laterne\", \"Lasan\", \"PHO\", \"Mabuhay Mini\", \"Tibet-Haus\", \"A-Thai, Vi\\u00eat Street Kitchen\", \"Theepan\", \"Hei\\u00dfe Fatira\", \"Mama Shabz\", \"Kin-Za\", \"Rissani\", \"chili chutney\", \"Al Hamra\", \"Ayan Filipino Streetfood\", \"Jemenitisches Restaurant\", \"Baku Napoli\", \"Angkor Wat\", \"China Restaurant Cocktail-Bar Hong Kong City\", \"Taste Singapore Style\", \"Original Taiwanesische Bauernstube\", \"Seri Melayu\", \"King Wok\"], \"lat\": [52.504879, 52.50384734485071, 52.502155, 52.503439, 52.512192682338004, 52.50697498086002, 52.50117562711077, 52.5016094430204, 52.501557, 52.49984230321145, 52.50076510297526, 52.51135, 52.49072211396973, 52.500402, 52.48912, 52.48877, 52.495696, 52.524928, 52.498658935046706, 52.50200765901417, 52.541788, 52.50322001571735, 52.474525, 52.4972644, 52.52037677752846, 52.549221166636016, 52.52401570267303, 52.52134435152118, 52.506645, 52.541755], \"legendgroup\": \"continent=Asia\", \"lon\": [13.407337, 13.40989250334581, 13.411516, 13.411943, 13.408539575150119, 13.416194915771484, 13.416808742410739, 13.4182367612713, 13.418314, 13.418157674683414, 13.419047424097913, 13.390513, 13.394179079111902, 13.426082, 13.395131, 13.423339, 13.429364, 13.395808, 13.43138806228964, 13.43218031689331, 13.421064, 13.365807039152024, 13.440109, 13.361860100000001, 13.355765000801808, 13.456007949632403, 13.328874637889097, 13.322479040254438, 13.304373, 13.542521], \"marker\": {\"color\": \"dimgray\", \"opacity\": 1, \"size\": [0.1, 0.1, 0.1, 0.1, 0.1, 0.1, 0.1, 0.1, 0.1, 0.1, 0.1, 0.1, 0.1, 0.0, 0.1, 0.1, 0.1, 0.1, 0.0, 0.1, 0.1, 0.1, 0.1, 0.1, 0.1, 0.1, 0.1, 0.1, 0.1, 0.1], \"sizemode\": \"area\", \"sizeref\": 0.0020408163265306124}, \"mode\": \"markers\", \"name\": \"Asia\", \"showlegend\": true, \"subplot\": \"mapbox\", \"type\": \"scattermapbox\"}, {\"hoverlabel\": {\"namelength\": 0}, \"hovertemplate\": \"<b>%{hovertext}</b><br><br>continent=Europe<br>size=%{marker.size}<br>lat=%{lat}<br>lng=%{lon}\", \"hovertext\": [\"Tapas y m\\u00e1s\", \"Max und Moritz\", \"Tourlou\", \"Kirchenwirt\", \"San Salvo\", \"Bei Lydia\", \"Gasthaus Glashaus\", \"The Oscar Wilde Irish Pub\", \"Kreuzberger Weltlaterne\", \"Melro\", \"Tak Tak Polish Deli\", \"KIRSONS Alexa\", \"Schwarze Heidi\", \"Tunnbr\\u00f6dsrulle - Swedish Hot Dog Wrap\", \"Hellogoodpie\", \"Finnish Pulled Pork\", \"Sofra B\\u00e4ckerei & Konditorei\", \"Sofia Bar\", \"Munch's Hus\", \"Saeson Nordic Cuisine\", \"Prager Hopfenstube\", \"Blaue Adria - Kroatisches Restaurant\", \"Odessa Mama\", \"Zum Nussbaum\", \"Puszta\", \"Restorant Macedonia (Berlin)\", \"Vincent-Burger\", \"Zadar Restaurant\", \"March\\u00e9 Sucre\"], \"lat\": [52.510117883068425, 52.502709184440235, 52.500637, 52.500547, 52.49508820168941, 52.51261098130769, 52.50519654678214, 52.511024529611795, 52.49695561938602, 52.49403307523592, 52.493294, 52.51812532677293, 52.501055, 52.508354, 52.49053913644055, 52.4908251, 52.485055989120276, 52.52352444347078, 52.4965198122726, 52.503426, 52.51664822145941, 52.52867622324605, 52.47862271037745, 52.466341, 52.52792739868164, 52.50466954062061, 52.524436, 52.583840098524405, 52.583678], \"legendgroup\": \"continent=Europe\", \"lon\": [13.406298452082641, 13.414106992314636, 13.41347, 13.400806, 13.406447587032494, 13.411759932377612, 13.396909579977276, 13.398056402161886, 13.417493424194506, 13.418564750283036, 13.418156, 13.415961025425812, 13.423885, 13.390773, 13.395895616517187, 13.3939081, 13.426655611198603, 13.430927413726165, 13.366768169046342, 13.366116, 13.448383888566534, 13.449175357818604, 13.344735327360468, 13.468333, 13.3387451171875, 13.303600088098401, 13.301269, 13.30113414941472, 13.286527], \"marker\": {\"color\": \"orange\", \"opacity\": 1, \"size\": [0.1, 0.1, 0.1, 0.1, 0.1, 0.1, 0.0, 0.1, 0.1, 0.1, 0.1, 0.1, 0.1, 0.1, 0.1, 0.1, 0.1, 0.1, 0.1, 0.1, 0.1, 0.1, 0.1, 0.1, 0.1, 0.1, 0.1, 0.1, 0.1], \"sizemode\": \"area\", \"sizeref\": 0.0020408163265306124}, \"mode\": \"markers\", \"name\": \"Europe\", \"showlegend\": true, \"subplot\": \"mapbox\", \"type\": \"scattermapbox\"}, {\"hoverlabel\": {\"namelength\": 0}, \"hovertemplate\": \"<b>%{hovertext}</b><br><br>continent=South America<br>size=%{marker.size}<br>lat=%{lat}<br>lng=%{lon}\", \"hovertext\": [\"Cevicher\\u00eda\", \"Pecados\", \"Tierra Colombiana\", \"Steakhaus Asador\", \"Popo\\u0142udniowa Kawa Z Misiem\", \"El Chilenito\", \"Qea cafe\", \"La Casita\", \"La Batea\"], \"lat\": [52.501338223645014, 52.511604638346135, 52.49016265519161, 52.503518645755335, 52.52492, 52.48993924, 52.548133850097656, 52.493168, 52.507406780548706], \"legendgroup\": \"continent=South America\", \"lon\": [13.416600211798988, 13.39867767582335, 13.396104505417478, 13.387594842287493, 13.403315, 13.38931071, 13.412403106689453, 13.465505, 13.30941552258981], \"marker\": {\"color\": \"lime\", \"opacity\": 1, \"size\": [0.1, 0.1, 0.1, 0.1, 0.1, 0.1, 0.0, 0.1, 0.0], \"sizemode\": \"area\", \"sizeref\": 0.0020408163265306124}, \"mode\": \"markers\", \"name\": \"South America\", \"showlegend\": true, \"subplot\": \"mapbox\", \"type\": \"scattermapbox\"}, {\"hoverlabel\": {\"namelength\": 0}, \"hovertemplate\": \"<b>%{hovertext}</b><br><br>continent=Africa<br>size=%{marker.size}<br>lat=%{lat}<br>lng=%{lon}\", \"hovertext\": [\"2 Cool\", \"TZOM\", \"Maroush\", \"Langano\", \"Babylon Grill\", \"Ela Ent\", \"Zoe's Ghana Kitchen\", \"Senegambia\", \"Makenene\", \"Tembo African Kitchen\", \"Eiscaf\\u00e9 Mauritius\", \"Mali Raj\"], \"lat\": [52.501803, 52.49361275394741, 52.50093770064716, 52.49668429344324, 52.498043, 52.492936, 52.48353962401119, 52.49462459251267, 52.51005591409204, 52.513701, 52.509946, 52.54184581627682], \"legendgroup\": \"continent=Africa\", \"lon\": [13.417574, 13.412532235726932, 13.4190620805529, 13.418557674212384, 13.421149, 13.41789, 13.42292591203159, 13.433660414689246, 13.31256029583138, 13.290897, 13.2734, 13.236583471298218], \"marker\": {\"color\": \"deepskyblue\", \"opacity\": 1, \"size\": [0.1, 0.1, 0.1, 0.1, 0.0, 0.1, 0.1, 0.1, 0.1, 0.1, 0.1, 0.1], \"sizemode\": \"area\", \"sizeref\": 0.0020408163265306124}, \"mode\": \"markers\", \"name\": \"Africa\", \"showlegend\": true, \"subplot\": \"mapbox\", \"type\": \"scattermapbox\"}, {\"hoverlabel\": {\"namelength\": 0}, \"hovertemplate\": \"<b>%{hovertext}</b><br><br>continent=North America<br>size=%{marker.size}<br>lat=%{lat}<br>lng=%{lon}\", \"hovertext\": [\"Santa Maria\", \"Ron Telesky Canadian Pizza\", \"Bagel Company\", \"Rosa Caleta\", \"Qba Restaurant\", \"Panama Restaurant & Bar\"], \"lat\": [52.50171776543595, 52.493030386691565, 52.5217393722604, 52.501189726579824, 52.52590146976719, 52.501233], \"legendgroup\": \"continent=North America\", \"lon\": [13.417892329736027, 13.414998091474947, 13.40335027120626, 13.432149181080584, 13.389566624158595, 13.365496], \"marker\": {\"color\": \"red\", \"opacity\": 1, \"size\": [0.1, 0.1, 0.1, 0.1, 0.1, 0.1], \"sizemode\": \"area\", \"sizeref\": 0.0020408163265306124}, \"mode\": \"markers\", \"name\": \"North America\", \"showlegend\": true, \"subplot\": \"mapbox\", \"type\": \"scattermapbox\"}, {\"hoverlabel\": {\"namelength\": 0}, \"hovertemplate\": \"<b>%{hovertext}</b><br><br>continent=Oceania<br>size=%{marker.size}<br>lat=%{lat}<br>lng=%{lon}\", \"hovertext\": [\"Corroboree\"], \"lat\": [52.51008348180994], \"legendgroup\": \"continent=Oceania\", \"lon\": [13.37332315521734], \"marker\": {\"color\": \"mediumslateblue\", \"opacity\": 1, \"size\": [0.1], \"sizemode\": \"area\", \"sizeref\": 0.0020408163265306124}, \"mode\": \"markers\", \"name\": \"Oceania\", \"showlegend\": true, \"subplot\": \"mapbox\", \"type\": \"scattermapbox\"}, {\"lat\": [52.503842, 52.503842], \"lon\": [13.4075, 13.4075], \"showlegend\": false, \"type\": \"scattermapbox\"}, {\"lat\": [52.503842, 52.504879], \"lon\": [13.407526, 13.407337], \"marker\": {\"color\": \"Grey\", \"size\": 12}, \"mode\": \"lines\", \"opacity\": 0.5, \"showlegend\": false, \"type\": \"scattermapbox\"}, {\"lat\": [52.503842, 52.50384734485071], \"lon\": [13.407526, 13.40989250334581], \"marker\": {\"color\": \"Grey\", \"size\": 12}, \"mode\": \"lines\", \"opacity\": 0.5, \"showlegend\": false, \"type\": \"scattermapbox\"}, {\"lat\": [52.503842, 52.502155], \"lon\": [13.407526, 13.411516], \"marker\": {\"color\": \"Grey\", \"size\": 12}, \"mode\": \"lines\", \"opacity\": 0.5, \"showlegend\": false, \"type\": \"scattermapbox\"}, {\"lat\": [52.503842, 52.503439], \"lon\": [13.407526, 13.411943], \"marker\": {\"color\": \"Grey\", \"size\": 12}, \"mode\": \"lines\", \"opacity\": 0.5, \"showlegend\": false, \"type\": \"scattermapbox\"}, {\"lat\": [52.503842, 52.510117883068425], \"lon\": [13.407526, 13.406298452082641], \"marker\": {\"color\": \"Grey\", \"size\": 12}, \"mode\": \"lines\", \"opacity\": 0.5, \"showlegend\": false, \"type\": \"scattermapbox\"}, {\"lat\": [52.503842, 52.502709184440235], \"lon\": [13.407526, 13.414106992314636], \"marker\": {\"color\": \"Grey\", \"size\": 12}, \"mode\": \"lines\", \"opacity\": 0.5, \"showlegend\": false, \"type\": \"scattermapbox\"}, {\"lat\": [52.503842, 52.500637], \"lon\": [13.407526, 13.41347], \"marker\": {\"color\": \"Grey\", \"size\": 12}, \"mode\": \"lines\", \"opacity\": 0.5, \"showlegend\": false, \"type\": \"scattermapbox\"}, {\"lat\": [52.503842, 52.500547], \"lon\": [13.407526, 13.400806], \"marker\": {\"color\": \"Grey\", \"size\": 12}, \"mode\": \"lines\", \"opacity\": 0.5, \"showlegend\": false, \"type\": \"scattermapbox\"}, {\"lat\": [52.503842, 52.512192682338004], \"lon\": [13.407526, 13.408539575150119], \"marker\": {\"color\": \"Grey\", \"size\": 12}, \"mode\": \"lines\", \"opacity\": 0.5, \"showlegend\": false, \"type\": \"scattermapbox\"}, {\"lat\": [52.503842, 52.49508820168941], \"lon\": [13.407526, 13.406447587032494], \"marker\": {\"color\": \"Grey\", \"size\": 12}, \"mode\": \"lines\", \"opacity\": 0.5, \"showlegend\": false, \"type\": \"scattermapbox\"}, {\"lat\": [52.503842, 52.50697498086002], \"lon\": [13.407526, 13.416194915771484], \"marker\": {\"color\": \"Grey\", \"size\": 12}, \"mode\": \"lines\", \"opacity\": 0.5, \"showlegend\": false, \"type\": \"scattermapbox\"}, {\"lat\": [52.503842, 52.501338223645014], \"lon\": [13.407526, 13.416600211798988], \"marker\": {\"color\": \"Grey\", \"size\": 12}, \"mode\": \"lines\", \"opacity\": 0.5, \"showlegend\": false, \"type\": \"scattermapbox\"}, {\"lat\": [52.503842, 52.50117562711077], \"lon\": [13.407526, 13.416808742410739], \"marker\": {\"color\": \"Grey\", \"size\": 12}, \"mode\": \"lines\", \"opacity\": 0.5, \"showlegend\": false, \"type\": \"scattermapbox\"}, {\"lat\": [52.503842, 52.51261098130769], \"lon\": [13.407526, 13.411759932377612], \"marker\": {\"color\": \"Grey\", \"size\": 12}, \"mode\": \"lines\", \"opacity\": 0.5, \"showlegend\": false, \"type\": \"scattermapbox\"}, {\"lat\": [52.503842, 52.501803], \"lon\": [13.407526, 13.417574], \"marker\": {\"color\": \"Grey\", \"size\": 12}, \"mode\": \"lines\", \"opacity\": 0.5, \"showlegend\": false, \"type\": \"scattermapbox\"}, {\"lat\": [52.503842, 52.50171776543595], \"lon\": [13.407526, 13.417892329736027], \"marker\": {\"color\": \"Grey\", \"size\": 12}, \"mode\": \"lines\", \"opacity\": 0.5, \"showlegend\": false, \"type\": \"scattermapbox\"}, {\"lat\": [52.503842, 52.50519654678214], \"lon\": [13.407526, 13.396909579977276], \"marker\": {\"color\": \"Grey\", \"size\": 12}, \"mode\": \"lines\", \"opacity\": 0.5, \"showlegend\": false, \"type\": \"scattermapbox\"}, {\"lat\": [52.503842, 52.5016094430204], \"lon\": [13.407526, 13.4182367612713], \"marker\": {\"color\": \"Grey\", \"size\": 12}, \"mode\": \"lines\", \"opacity\": 0.5, \"showlegend\": false, \"type\": \"scattermapbox\"}, {\"lat\": [52.503842, 52.501557], \"lon\": [13.407526, 13.418314], \"marker\": {\"color\": \"Grey\", \"size\": 12}, \"mode\": \"lines\", \"opacity\": 0.5, \"showlegend\": false, \"type\": \"scattermapbox\"}, {\"lat\": [52.503842, 52.49984230321145], \"lon\": [13.407526, 13.418157674683414], \"marker\": {\"color\": \"Grey\", \"size\": 12}, \"mode\": \"lines\", \"opacity\": 0.5, \"showlegend\": false, \"type\": \"scattermapbox\"}, {\"lat\": [52.503842, 52.49361275394741], \"lon\": [13.407526, 13.412532235726932], \"marker\": {\"color\": \"Grey\", \"size\": 12}, \"mode\": \"lines\", \"opacity\": 0.5, \"showlegend\": false, \"type\": \"scattermapbox\"}, {\"lat\": [52.503842, 52.511604638346135], \"lon\": [13.407526, 13.39867767582335], \"marker\": {\"color\": \"Grey\", \"size\": 12}, \"mode\": \"lines\", \"opacity\": 0.5, \"showlegend\": false, \"type\": \"scattermapbox\"}, {\"lat\": [52.503842, 52.511024529611795], \"lon\": [13.407526, 13.398056402161886], \"marker\": {\"color\": \"Grey\", \"size\": 12}, \"mode\": \"lines\", \"opacity\": 0.5, \"showlegend\": false, \"type\": \"scattermapbox\"}, {\"lat\": [52.503842, 52.50093770064716], \"lon\": [13.407526, 13.4190620805529], \"marker\": {\"color\": \"Grey\", \"size\": 12}, \"mode\": \"lines\", \"opacity\": 0.5, \"showlegend\": false, \"type\": \"scattermapbox\"}, {\"lat\": [52.503842, 52.50076510297526], \"lon\": [13.407526, 13.419047424097913], \"marker\": {\"color\": \"Grey\", \"size\": 12}, \"mode\": \"lines\", \"opacity\": 0.5, \"showlegend\": false, \"type\": \"scattermapbox\"}, {\"lat\": [52.503842, 52.49695561938602], \"lon\": [13.407526, 13.417493424194506], \"marker\": {\"color\": \"Grey\", \"size\": 12}, \"mode\": \"lines\", \"opacity\": 0.5, \"showlegend\": false, \"type\": \"scattermapbox\"}, {\"lat\": [52.503842, 52.493030386691565], \"lon\": [13.407526, 13.414998091474947], \"marker\": {\"color\": \"Grey\", \"size\": 12}, \"mode\": \"lines\", \"opacity\": 0.5, \"showlegend\": false, \"type\": \"scattermapbox\"}, {\"lat\": [52.503842, 52.49668429344324], \"lon\": [13.407526, 13.418557674212384], \"marker\": {\"color\": \"Grey\", \"size\": 12}, \"mode\": \"lines\", \"opacity\": 0.5, \"showlegend\": false, \"type\": \"scattermapbox\"}, {\"lat\": [52.503842, 52.49403307523592], \"lon\": [13.407526, 13.418564750283036], \"marker\": {\"color\": \"Grey\", \"size\": 12}, \"mode\": \"lines\", \"opacity\": 0.5, \"showlegend\": false, \"type\": \"scattermapbox\"}, {\"lat\": [52.503842, 52.498043], \"lon\": [13.407526, 13.421149], \"marker\": {\"color\": \"Grey\", \"size\": 12}, \"mode\": \"lines\", \"opacity\": 0.5, \"showlegend\": false, \"type\": \"scattermapbox\"}, {\"lat\": [52.503842, 52.493294], \"lon\": [13.407526, 13.418156], \"marker\": {\"color\": \"Grey\", \"size\": 12}, \"mode\": \"lines\", \"opacity\": 0.5, \"showlegend\": false, \"type\": \"scattermapbox\"}, {\"lat\": [52.503842, 52.492936], \"lon\": [13.407526, 13.41789], \"marker\": {\"color\": \"Grey\", \"size\": 12}, \"mode\": \"lines\", \"opacity\": 0.5, \"showlegend\": false, \"type\": \"scattermapbox\"}, {\"lat\": [52.503842, 52.51812532677293], \"lon\": [13.407526, 13.415961025425812], \"marker\": {\"color\": \"Grey\", \"size\": 12}, \"mode\": \"lines\", \"opacity\": 0.5, \"showlegend\": false, \"type\": \"scattermapbox\"}, {\"lat\": [52.503842, 52.501055], \"lon\": [13.407526, 13.423885], \"marker\": {\"color\": \"Grey\", \"size\": 12}, \"mode\": \"lines\", \"opacity\": 0.5, \"showlegend\": false, \"type\": \"scattermapbox\"}, {\"lat\": [52.503842, 52.508354], \"lon\": [13.407526, 13.390773], \"marker\": {\"color\": \"Grey\", \"size\": 12}, \"mode\": \"lines\", \"opacity\": 0.5, \"showlegend\": false, \"type\": \"scattermapbox\"}, {\"lat\": [52.503842, 52.49053913644055], \"lon\": [13.407526, 13.395895616517187], \"marker\": {\"color\": \"Grey\", \"size\": 12}, \"mode\": \"lines\", \"opacity\": 0.5, \"showlegend\": false, \"type\": \"scattermapbox\"}, {\"lat\": [52.503842, 52.49016265519161], \"lon\": [13.407526, 13.396104505417478], \"marker\": {\"color\": \"Grey\", \"size\": 12}, \"mode\": \"lines\", \"opacity\": 0.5, \"showlegend\": false, \"type\": \"scattermapbox\"}, {\"lat\": [52.503842, 52.5217393722604], \"lon\": [13.407526, 13.40335027120626], \"marker\": {\"color\": \"Grey\", \"size\": 12}, \"mode\": \"lines\", \"opacity\": 0.5, \"showlegend\": false, \"type\": \"scattermapbox\"}, {\"lat\": [52.503842, 52.51135], \"lon\": [13.407526, 13.390513], \"marker\": {\"color\": \"Grey\", \"size\": 12}, \"mode\": \"lines\", \"opacity\": 0.5, \"showlegend\": false, \"type\": \"scattermapbox\"}, {\"lat\": [52.503842, 52.49072211396973], \"lon\": [13.407526, 13.394179079111902], \"marker\": {\"color\": \"Grey\", \"size\": 12}, \"mode\": \"lines\", \"opacity\": 0.5, \"showlegend\": false, \"type\": \"scattermapbox\"}, {\"lat\": [52.503842, 52.4908251], \"lon\": [13.407526, 13.3939081], \"marker\": {\"color\": \"Grey\", \"size\": 12}, \"mode\": \"lines\", \"opacity\": 0.5, \"showlegend\": false, \"type\": \"scattermapbox\"}, {\"lat\": [52.503842, 52.500402], \"lon\": [13.407526, 13.426082], \"marker\": {\"color\": \"Grey\", \"size\": 12}, \"mode\": \"lines\", \"opacity\": 0.5, \"showlegend\": false, \"type\": \"scattermapbox\"}, {\"lat\": [52.503842, 52.48912], \"lon\": [13.407526, 13.395131], \"marker\": {\"color\": \"Grey\", \"size\": 12}, \"mode\": \"lines\", \"opacity\": 0.5, \"showlegend\": false, \"type\": \"scattermapbox\"}, {\"lat\": [52.503842, 52.503518645755335], \"lon\": [13.407526, 13.387594842287493], \"marker\": {\"color\": \"Grey\", \"size\": 12}, \"mode\": \"lines\", \"opacity\": 0.5, \"showlegend\": false, \"type\": \"scattermapbox\"}, {\"lat\": [52.503842, 52.52492], \"lon\": [13.407526, 13.403315], \"marker\": {\"color\": \"Grey\", \"size\": 12}, \"mode\": \"lines\", \"opacity\": 0.5, \"showlegend\": false, \"type\": \"scattermapbox\"}, {\"lat\": [52.503842, 52.48877], \"lon\": [13.407526, 13.423339], \"marker\": {\"color\": \"Grey\", \"size\": 12}, \"mode\": \"lines\", \"opacity\": 0.5, \"showlegend\": false, \"type\": \"scattermapbox\"}, {\"lat\": [52.503842, 52.48993924], \"lon\": [13.407526, 13.38931071], \"marker\": {\"color\": \"Grey\", \"size\": 12}, \"mode\": \"lines\", \"opacity\": 0.5, \"showlegend\": false, \"type\": \"scattermapbox\"}, {\"lat\": [52.503842, 52.495696], \"lon\": [13.407526, 13.429364], \"marker\": {\"color\": \"Grey\", \"size\": 12}, \"mode\": \"lines\", \"opacity\": 0.5, \"showlegend\": false, \"type\": \"scattermapbox\"}, {\"lat\": [52.503842, 52.524928], \"lon\": [13.407526, 13.395808], \"marker\": {\"color\": \"Grey\", \"size\": 12}, \"mode\": \"lines\", \"opacity\": 0.5, \"showlegend\": false, \"type\": \"scattermapbox\"}, {\"lat\": [52.503842, 52.498658935046706], \"lon\": [13.407526, 13.43138806228964], \"marker\": {\"color\": \"Grey\", \"size\": 12}, \"mode\": \"lines\", \"opacity\": 0.5, \"showlegend\": false, \"type\": \"scattermapbox\"}, {\"lat\": [52.503842, 52.50200765901417], \"lon\": [13.407526, 13.43218031689331], \"marker\": {\"color\": \"Grey\", \"size\": 12}, \"mode\": \"lines\", \"opacity\": 0.5, \"showlegend\": false, \"type\": \"scattermapbox\"}, {\"lat\": [52.503842, 52.501189726579824], \"lon\": [13.407526, 13.432149181080584], \"marker\": {\"color\": \"Grey\", \"size\": 12}, \"mode\": \"lines\", \"opacity\": 0.5, \"showlegend\": false, \"type\": \"scattermapbox\"}, {\"lat\": [52.503842, 52.48353962401119], \"lon\": [13.407526, 13.42292591203159], \"marker\": {\"color\": \"Grey\", \"size\": 12}, \"mode\": \"lines\", \"opacity\": 0.5, \"showlegend\": false, \"type\": \"scattermapbox\"}, {\"lat\": [52.503842, 52.485055989120276], \"lon\": [13.407526, 13.426655611198603], \"marker\": {\"color\": \"Grey\", \"size\": 12}, \"mode\": \"lines\", \"opacity\": 0.5, \"showlegend\": false, \"type\": \"scattermapbox\"}, {\"lat\": [52.503842, 52.49462459251267], \"lon\": [13.407526, 13.433660414689246], \"marker\": {\"color\": \"Grey\", \"size\": 12}, \"mode\": \"lines\", \"opacity\": 0.5, \"showlegend\": false, \"type\": \"scattermapbox\"}, {\"lat\": [52.503842, 52.52590146976719], \"lon\": [13.407526, 13.389566624158595], \"marker\": {\"color\": \"Grey\", \"size\": 12}, \"mode\": \"lines\", \"opacity\": 0.5, \"showlegend\": false, \"type\": \"scattermapbox\"}, {\"lat\": [52.503842, 52.52352444347078], \"lon\": [13.407526, 13.430927413726165], \"marker\": {\"color\": \"Grey\", \"size\": 12}, \"mode\": \"lines\", \"opacity\": 0.5, \"showlegend\": false, \"type\": \"scattermapbox\"}, {\"lat\": [52.503842, 52.51008348180994], \"lon\": [13.407526, 13.37332315521734], \"marker\": {\"color\": \"Grey\", \"size\": 12}, \"mode\": \"lines\", \"opacity\": 0.5, \"showlegend\": false, \"type\": \"scattermapbox\"}, {\"lat\": [52.503842, 52.541788], \"lon\": [13.407526, 13.421064], \"marker\": {\"color\": \"Grey\", \"size\": 12}, \"mode\": \"lines\", \"opacity\": 0.5, \"showlegend\": false, \"type\": \"scattermapbox\"}, {\"lat\": [52.503842, 52.4965198122726], \"lon\": [13.407526, 13.366768169046342], \"marker\": {\"color\": \"Grey\", \"size\": 12}, \"mode\": \"lines\", \"opacity\": 0.5, \"showlegend\": false, \"type\": \"scattermapbox\"}, {\"lat\": [52.503842, 52.503426], \"lon\": [13.407526, 13.366116], \"marker\": {\"color\": \"Grey\", \"size\": 12}, \"mode\": \"lines\", \"opacity\": 0.5, \"showlegend\": false, \"type\": \"scattermapbox\"}, {\"lat\": [52.503842, 52.50322001571735], \"lon\": [13.407526, 13.365807039152024], \"marker\": {\"color\": \"Grey\", \"size\": 12}, \"mode\": \"lines\", \"opacity\": 0.5, \"showlegend\": false, \"type\": \"scattermapbox\"}, {\"lat\": [52.503842, 52.501233], \"lon\": [13.407526, 13.365496], \"marker\": {\"color\": \"Grey\", \"size\": 12}, \"mode\": \"lines\", \"opacity\": 0.5, \"showlegend\": false, \"type\": \"scattermapbox\"}, {\"lat\": [52.503842, 52.51664822145941], \"lon\": [13.407526, 13.448383888566534], \"marker\": {\"color\": \"Grey\", \"size\": 12}, \"mode\": \"lines\", \"opacity\": 0.5, \"showlegend\": false, \"type\": \"scattermapbox\"}, {\"lat\": [52.503842, 52.474525], \"lon\": [13.407526, 13.440109], \"marker\": {\"color\": \"Grey\", \"size\": 12}, \"mode\": \"lines\", \"opacity\": 0.5, \"showlegend\": false, \"type\": \"scattermapbox\"}, {\"lat\": [52.503842, 52.548133850097656], \"lon\": [13.407526, 13.412403106689453], \"marker\": {\"color\": \"Grey\", \"size\": 12}, \"mode\": \"lines\", \"opacity\": 0.5, \"showlegend\": false, \"type\": \"scattermapbox\"}, {\"lat\": [52.503842, 52.4972644], \"lon\": [13.407526, 13.361860100000001], \"marker\": {\"color\": \"Grey\", \"size\": 12}, \"mode\": \"lines\", \"opacity\": 0.5, \"showlegend\": false, \"type\": \"scattermapbox\"}, {\"lat\": [52.503842, 52.52867622324605], \"lon\": [13.407526, 13.449175357818604], \"marker\": {\"color\": \"Grey\", \"size\": 12}, \"mode\": \"lines\", \"opacity\": 0.5, \"showlegend\": false, \"type\": \"scattermapbox\"}, {\"lat\": [52.503842, 52.52037677752846], \"lon\": [13.407526, 13.355765000801808], \"marker\": {\"color\": \"Grey\", \"size\": 12}, \"mode\": \"lines\", \"opacity\": 0.5, \"showlegend\": false, \"type\": \"scattermapbox\"}, {\"lat\": [52.503842, 52.493168], \"lon\": [13.407526, 13.465505], \"marker\": {\"color\": \"Grey\", \"size\": 12}, \"mode\": \"lines\", \"opacity\": 0.5, \"showlegend\": false, \"type\": \"scattermapbox\"}, {\"lat\": [52.503842, 52.549221166636016], \"lon\": [13.407526, 13.456007949632403], \"marker\": {\"color\": \"Grey\", \"size\": 12}, \"mode\": \"lines\", \"opacity\": 0.5, \"showlegend\": false, \"type\": \"scattermapbox\"}, {\"lat\": [52.503842, 52.47862271037745], \"lon\": [13.407526, 13.344735327360468], \"marker\": {\"color\": \"Grey\", \"size\": 12}, \"mode\": \"lines\", \"opacity\": 0.5, \"showlegend\": false, \"type\": \"scattermapbox\"}, {\"lat\": [52.503842, 52.466341], \"lon\": [13.407526, 13.468333], \"marker\": {\"color\": \"Grey\", \"size\": 12}, \"mode\": \"lines\", \"opacity\": 0.5, \"showlegend\": false, \"type\": \"scattermapbox\"}, {\"lat\": [52.503842, 52.52792739868164], \"lon\": [13.407526, 13.3387451171875], \"marker\": {\"color\": \"Grey\", \"size\": 12}, \"mode\": \"lines\", \"opacity\": 0.5, \"showlegend\": false, \"type\": \"scattermapbox\"}, {\"lat\": [52.503842, 52.52401570267303], \"lon\": [13.407526, 13.328874637889097], \"marker\": {\"color\": \"Grey\", \"size\": 12}, \"mode\": \"lines\", \"opacity\": 0.5, \"showlegend\": false, \"type\": \"scattermapbox\"}, {\"lat\": [52.503842, 52.52134435152118], \"lon\": [13.407526, 13.322479040254438], \"marker\": {\"color\": \"Grey\", \"size\": 12}, \"mode\": \"lines\", \"opacity\": 0.5, \"showlegend\": false, \"type\": \"scattermapbox\"}, {\"lat\": [52.503842, 52.51005591409204], \"lon\": [13.407526, 13.31256029583138], \"marker\": {\"color\": \"Grey\", \"size\": 12}, \"mode\": \"lines\", \"opacity\": 0.5, \"showlegend\": false, \"type\": \"scattermapbox\"}, {\"lat\": [52.503842, 52.507406780548706], \"lon\": [13.407526, 13.30941552258981], \"marker\": {\"color\": \"Grey\", \"size\": 12}, \"mode\": \"lines\", \"opacity\": 0.5, \"showlegend\": false, \"type\": \"scattermapbox\"}, {\"lat\": [52.503842, 52.506645], \"lon\": [13.407526, 13.304373], \"marker\": {\"color\": \"Grey\", \"size\": 12}, \"mode\": \"lines\", \"opacity\": 0.5, \"showlegend\": false, \"type\": \"scattermapbox\"}, {\"lat\": [52.503842, 52.50466954062061], \"lon\": [13.407526, 13.303600088098401], \"marker\": {\"color\": \"Grey\", \"size\": 12}, \"mode\": \"lines\", \"opacity\": 0.5, \"showlegend\": false, \"type\": \"scattermapbox\"}, {\"lat\": [52.503842, 52.524436], \"lon\": [13.407526, 13.301269], \"marker\": {\"color\": \"Grey\", \"size\": 12}, \"mode\": \"lines\", \"opacity\": 0.5, \"showlegend\": false, \"type\": \"scattermapbox\"}, {\"lat\": [52.503842, 52.513701], \"lon\": [13.407526, 13.290897], \"marker\": {\"color\": \"Grey\", \"size\": 12}, \"mode\": \"lines\", \"opacity\": 0.5, \"showlegend\": false, \"type\": \"scattermapbox\"}, {\"lat\": [52.503842, 52.583840098524405], \"lon\": [13.407526, 13.30113414941472], \"marker\": {\"color\": \"Grey\", \"size\": 12}, \"mode\": \"lines\", \"opacity\": 0.5, \"showlegend\": false, \"type\": \"scattermapbox\"}, {\"lat\": [52.503842, 52.509946], \"lon\": [13.407526, 13.2734], \"marker\": {\"color\": \"Grey\", \"size\": 12}, \"mode\": \"lines\", \"opacity\": 0.5, \"showlegend\": false, \"type\": \"scattermapbox\"}, {\"lat\": [52.503842, 52.541755], \"lon\": [13.407526, 13.542521], \"marker\": {\"color\": \"Grey\", \"size\": 12}, \"mode\": \"lines\", \"opacity\": 0.5, \"showlegend\": false, \"type\": \"scattermapbox\"}, {\"lat\": [52.503842, 52.583678], \"lon\": [13.407526, 13.286527], \"marker\": {\"color\": \"Grey\", \"size\": 12}, \"mode\": \"lines\", \"opacity\": 0.5, \"showlegend\": false, \"type\": \"scattermapbox\"}, {\"lat\": [52.503842, 52.54184581627682], \"lon\": [13.407526, 13.236583471298218], \"marker\": {\"color\": \"Grey\", \"size\": 12}, \"mode\": \"lines\", \"opacity\": 0.5, \"showlegend\": false, \"type\": \"scattermapbox\"}],\n",
       "                        {\"height\": 600, \"legend\": {\"itemsizing\": \"constant\", \"orientation\": \"h\", \"tracegroupgap\": 0, \"x\": 0.18, \"y\": 0.0}, \"mapbox\": {\"center\": {\"lat\": 52.50732807540277, \"lon\": 13.395174587578888}, \"domain\": {\"x\": [0.0, 1.0], \"y\": [0.0, 1.0]}, \"style\": \"open-street-map\", \"zoom\": 10}, \"margin\": {\"b\": 0, \"l\": 1, \"r\": 1, \"t\": 0}, \"showlegend\": true, \"template\": {\"data\": {\"bar\": [{\"error_x\": {\"color\": \"#2a3f5f\"}, \"error_y\": {\"color\": \"#2a3f5f\"}, \"marker\": {\"line\": {\"color\": \"white\", \"width\": 0.5}}, \"type\": \"bar\"}], \"barpolar\": [{\"marker\": {\"line\": {\"color\": \"white\", \"width\": 0.5}}, \"type\": \"barpolar\"}], \"carpet\": [{\"aaxis\": {\"endlinecolor\": \"#2a3f5f\", \"gridcolor\": \"#C8D4E3\", \"linecolor\": \"#C8D4E3\", \"minorgridcolor\": \"#C8D4E3\", \"startlinecolor\": \"#2a3f5f\"}, \"baxis\": {\"endlinecolor\": \"#2a3f5f\", \"gridcolor\": \"#C8D4E3\", \"linecolor\": \"#C8D4E3\", \"minorgridcolor\": \"#C8D4E3\", \"startlinecolor\": \"#2a3f5f\"}, \"type\": \"carpet\"}], \"choropleth\": [{\"colorbar\": {\"outlinewidth\": 0, \"ticks\": \"\"}, \"type\": \"choropleth\"}], \"contour\": [{\"colorbar\": {\"outlinewidth\": 0, \"ticks\": \"\"}, \"colorscale\": [[0.0, \"#0d0887\"], [0.1111111111111111, \"#46039f\"], [0.2222222222222222, \"#7201a8\"], [0.3333333333333333, \"#9c179e\"], [0.4444444444444444, \"#bd3786\"], [0.5555555555555556, \"#d8576b\"], [0.6666666666666666, \"#ed7953\"], [0.7777777777777778, \"#fb9f3a\"], [0.8888888888888888, \"#fdca26\"], [1.0, \"#f0f921\"]], \"type\": \"contour\"}], \"contourcarpet\": [{\"colorbar\": {\"outlinewidth\": 0, \"ticks\": \"\"}, \"type\": \"contourcarpet\"}], \"heatmap\": [{\"colorbar\": {\"outlinewidth\": 0, \"ticks\": \"\"}, \"colorscale\": [[0.0, \"#0d0887\"], [0.1111111111111111, \"#46039f\"], [0.2222222222222222, \"#7201a8\"], [0.3333333333333333, \"#9c179e\"], [0.4444444444444444, \"#bd3786\"], [0.5555555555555556, \"#d8576b\"], [0.6666666666666666, \"#ed7953\"], [0.7777777777777778, \"#fb9f3a\"], [0.8888888888888888, \"#fdca26\"], [1.0, \"#f0f921\"]], \"type\": \"heatmap\"}], \"heatmapgl\": [{\"colorbar\": {\"outlinewidth\": 0, \"ticks\": \"\"}, \"colorscale\": [[0.0, \"#0d0887\"], [0.1111111111111111, \"#46039f\"], [0.2222222222222222, \"#7201a8\"], [0.3333333333333333, \"#9c179e\"], [0.4444444444444444, \"#bd3786\"], [0.5555555555555556, \"#d8576b\"], [0.6666666666666666, \"#ed7953\"], [0.7777777777777778, \"#fb9f3a\"], [0.8888888888888888, \"#fdca26\"], [1.0, \"#f0f921\"]], \"type\": \"heatmapgl\"}], \"histogram\": [{\"marker\": {\"colorbar\": {\"outlinewidth\": 0, \"ticks\": \"\"}}, \"type\": \"histogram\"}], \"histogram2d\": [{\"colorbar\": {\"outlinewidth\": 0, \"ticks\": \"\"}, \"colorscale\": [[0.0, \"#0d0887\"], [0.1111111111111111, \"#46039f\"], [0.2222222222222222, \"#7201a8\"], [0.3333333333333333, \"#9c179e\"], [0.4444444444444444, \"#bd3786\"], [0.5555555555555556, \"#d8576b\"], [0.6666666666666666, \"#ed7953\"], [0.7777777777777778, \"#fb9f3a\"], [0.8888888888888888, \"#fdca26\"], [1.0, \"#f0f921\"]], \"type\": \"histogram2d\"}], \"histogram2dcontour\": [{\"colorbar\": {\"outlinewidth\": 0, \"ticks\": \"\"}, \"colorscale\": [[0.0, \"#0d0887\"], [0.1111111111111111, \"#46039f\"], [0.2222222222222222, \"#7201a8\"], [0.3333333333333333, \"#9c179e\"], [0.4444444444444444, \"#bd3786\"], [0.5555555555555556, \"#d8576b\"], [0.6666666666666666, \"#ed7953\"], [0.7777777777777778, \"#fb9f3a\"], [0.8888888888888888, \"#fdca26\"], [1.0, \"#f0f921\"]], \"type\": \"histogram2dcontour\"}], \"mesh3d\": [{\"colorbar\": {\"outlinewidth\": 0, \"ticks\": \"\"}, \"type\": \"mesh3d\"}], \"parcoords\": [{\"line\": {\"colorbar\": {\"outlinewidth\": 0, \"ticks\": \"\"}}, \"type\": \"parcoords\"}], \"pie\": [{\"automargin\": true, \"type\": \"pie\"}], \"scatter\": [{\"marker\": {\"colorbar\": {\"outlinewidth\": 0, \"ticks\": \"\"}}, \"type\": \"scatter\"}], \"scatter3d\": [{\"line\": {\"colorbar\": {\"outlinewidth\": 0, \"ticks\": \"\"}}, \"marker\": {\"colorbar\": {\"outlinewidth\": 0, \"ticks\": \"\"}}, \"type\": \"scatter3d\"}], \"scattercarpet\": [{\"marker\": {\"colorbar\": {\"outlinewidth\": 0, \"ticks\": \"\"}}, \"type\": \"scattercarpet\"}], \"scattergeo\": [{\"marker\": {\"colorbar\": {\"outlinewidth\": 0, \"ticks\": \"\"}}, \"type\": \"scattergeo\"}], \"scattergl\": [{\"marker\": {\"colorbar\": {\"outlinewidth\": 0, \"ticks\": \"\"}}, \"type\": \"scattergl\"}], \"scattermapbox\": [{\"marker\": {\"colorbar\": {\"outlinewidth\": 0, \"ticks\": \"\"}}, \"type\": \"scattermapbox\"}], \"scatterpolar\": [{\"marker\": {\"colorbar\": {\"outlinewidth\": 0, \"ticks\": \"\"}}, \"type\": \"scatterpolar\"}], \"scatterpolargl\": [{\"marker\": {\"colorbar\": {\"outlinewidth\": 0, \"ticks\": \"\"}}, \"type\": \"scatterpolargl\"}], \"scatterternary\": [{\"marker\": {\"colorbar\": {\"outlinewidth\": 0, \"ticks\": \"\"}}, \"type\": \"scatterternary\"}], \"surface\": [{\"colorbar\": {\"outlinewidth\": 0, \"ticks\": \"\"}, \"colorscale\": [[0.0, \"#0d0887\"], [0.1111111111111111, \"#46039f\"], [0.2222222222222222, \"#7201a8\"], [0.3333333333333333, \"#9c179e\"], [0.4444444444444444, \"#bd3786\"], [0.5555555555555556, \"#d8576b\"], [0.6666666666666666, \"#ed7953\"], [0.7777777777777778, \"#fb9f3a\"], [0.8888888888888888, \"#fdca26\"], [1.0, \"#f0f921\"]], \"type\": \"surface\"}], \"table\": [{\"cells\": {\"fill\": {\"color\": \"#EBF0F8\"}, \"line\": {\"color\": \"white\"}}, \"header\": {\"fill\": {\"color\": \"#C8D4E3\"}, \"line\": {\"color\": \"white\"}}, \"type\": \"table\"}]}, \"layout\": {\"annotationdefaults\": {\"arrowcolor\": \"#2a3f5f\", \"arrowhead\": 0, \"arrowwidth\": 1}, \"coloraxis\": {\"colorbar\": {\"outlinewidth\": 0, \"ticks\": \"\"}}, \"colorscale\": {\"diverging\": [[0, \"#8e0152\"], [0.1, \"#c51b7d\"], [0.2, \"#de77ae\"], [0.3, \"#f1b6da\"], [0.4, \"#fde0ef\"], [0.5, \"#f7f7f7\"], [0.6, \"#e6f5d0\"], [0.7, \"#b8e186\"], [0.8, \"#7fbc41\"], [0.9, \"#4d9221\"], [1, \"#276419\"]], \"sequential\": [[0.0, \"#0d0887\"], [0.1111111111111111, \"#46039f\"], [0.2222222222222222, \"#7201a8\"], [0.3333333333333333, \"#9c179e\"], [0.4444444444444444, \"#bd3786\"], [0.5555555555555556, \"#d8576b\"], [0.6666666666666666, \"#ed7953\"], [0.7777777777777778, \"#fb9f3a\"], [0.8888888888888888, \"#fdca26\"], [1.0, \"#f0f921\"]], \"sequentialminus\": [[0.0, \"#0d0887\"], [0.1111111111111111, \"#46039f\"], [0.2222222222222222, \"#7201a8\"], [0.3333333333333333, \"#9c179e\"], [0.4444444444444444, \"#bd3786\"], [0.5555555555555556, \"#d8576b\"], [0.6666666666666666, \"#ed7953\"], [0.7777777777777778, \"#fb9f3a\"], [0.8888888888888888, \"#fdca26\"], [1.0, \"#f0f921\"]]}, \"colorway\": [\"#636efa\", \"#EF553B\", \"#00cc96\", \"#ab63fa\", \"#FFA15A\", \"#19d3f3\", \"#FF6692\", \"#B6E880\", \"#FF97FF\", \"#FECB52\"], \"font\": {\"color\": \"#2a3f5f\"}, \"geo\": {\"bgcolor\": \"white\", \"lakecolor\": \"white\", \"landcolor\": \"white\", \"showlakes\": true, \"showland\": true, \"subunitcolor\": \"#C8D4E3\"}, \"hoverlabel\": {\"align\": \"left\"}, \"hovermode\": \"closest\", \"mapbox\": {\"style\": \"light\"}, \"paper_bgcolor\": \"white\", \"plot_bgcolor\": \"white\", \"polar\": {\"angularaxis\": {\"gridcolor\": \"#EBF0F8\", \"linecolor\": \"#EBF0F8\", \"ticks\": \"\"}, \"bgcolor\": \"white\", \"radialaxis\": {\"gridcolor\": \"#EBF0F8\", \"linecolor\": \"#EBF0F8\", \"ticks\": \"\"}}, \"scene\": {\"xaxis\": {\"backgroundcolor\": \"white\", \"gridcolor\": \"#DFE8F3\", \"gridwidth\": 2, \"linecolor\": \"#EBF0F8\", \"showbackground\": true, \"ticks\": \"\", \"zerolinecolor\": \"#EBF0F8\"}, \"yaxis\": {\"backgroundcolor\": \"white\", \"gridcolor\": \"#DFE8F3\", \"gridwidth\": 2, \"linecolor\": \"#EBF0F8\", \"showbackground\": true, \"ticks\": \"\", \"zerolinecolor\": \"#EBF0F8\"}, \"zaxis\": {\"backgroundcolor\": \"white\", \"gridcolor\": \"#DFE8F3\", \"gridwidth\": 2, \"linecolor\": \"#EBF0F8\", \"showbackground\": true, \"ticks\": \"\", \"zerolinecolor\": \"#EBF0F8\"}}, \"shapedefaults\": {\"line\": {\"color\": \"#2a3f5f\"}}, \"ternary\": {\"aaxis\": {\"gridcolor\": \"#DFE8F3\", \"linecolor\": \"#A2B1C6\", \"ticks\": \"\"}, \"baxis\": {\"gridcolor\": \"#DFE8F3\", \"linecolor\": \"#A2B1C6\", \"ticks\": \"\"}, \"bgcolor\": \"white\", \"caxis\": {\"gridcolor\": \"#DFE8F3\", \"linecolor\": \"#A2B1C6\", \"ticks\": \"\"}}, \"title\": {\"x\": 0.05}, \"xaxis\": {\"automargin\": true, \"gridcolor\": \"#EBF0F8\", \"linecolor\": \"#EBF0F8\", \"ticks\": \"\", \"title\": {\"standoff\": 15}, \"zerolinecolor\": \"#EBF0F8\", \"zerolinewidth\": 2}, \"yaxis\": {\"automargin\": true, \"gridcolor\": \"#EBF0F8\", \"linecolor\": \"#EBF0F8\", \"ticks\": \"\", \"title\": {\"standoff\": 15}, \"zerolinecolor\": \"#EBF0F8\", \"zerolinewidth\": 2}}}},\n",
       "                        {\"responsive\": true}\n",
       "                    ).then(function(){\n",
       "                            \n",
       "var gd = document.getElementById('711e2d9c-45f2-45c9-ada9-4ff5c4db2cbe');\n",
       "var x = new MutationObserver(function (mutations, observer) {{\n",
       "        var display = window.getComputedStyle(gd).display;\n",
       "        if (!display || display === 'none') {{\n",
       "            console.log([gd, 'removed!']);\n",
       "            Plotly.purge(gd);\n",
       "            observer.disconnect();\n",
       "        }}\n",
       "}});\n",
       "\n",
       "// Listen for the removal of the full notebook cells\n",
       "var notebookContainer = gd.closest('#notebook-container');\n",
       "if (notebookContainer) {{\n",
       "    x.observe(notebookContainer, {childList: true});\n",
       "}}\n",
       "\n",
       "// Listen for the clearing of the current output cell\n",
       "var outputEl = gd.closest('.output');\n",
       "if (outputEl) {{\n",
       "    x.observe(outputEl, {childList: true});\n",
       "}}\n",
       "\n",
       "                        })\n",
       "                };\n",
       "                });\n",
       "            </script>\n",
       "        </div>"
      ]
     },
     "metadata": {},
     "output_type": "display_data"
    }
   ],
   "source": [
    "size=ruta_ber['country'].astype(int).apply(lambda x:x*0.1)\n",
    "fig=px.scatter_mapbox(ruta_ber,lat='lat',lon='lng',hover_name=\"name\",opacity=1,color=\"continent\",size_max=7,size=size,color_discrete_map=coloring,zoom=10,template='simple_white')\n",
    "fig.update_layout(mapbox_style=\"open-street-map\")\n",
    "fig.update_layout(margin={\"r\":1,\"t\":0,\"l\":1,\"b\":0})\n",
    "fig.for_each_trace(\n",
    "    lambda trace: trace.update(name=trace.name.replace(\"continent=\", \"\")),\n",
    ")\n",
    "fig.update_layout(\n",
    "    showlegend=True,\n",
    "    legend_orientation=\"h\",\n",
    "    legend_y=0.0,\n",
    "    legend_x=0.18,\n",
    "    template=\"plotly_white\"\n",
    ")\n",
    "\n",
    "fig.add_trace(go.Scattermapbox(lat=(52.503842,52.503842),lon=(13.4075,13.4075),showlegend=False))\n",
    "\n",
    "\n",
    "\n",
    "for x in range(len(ruta_ber)):\n",
    "    \n",
    "    ruta_ber_lat=52.503842,ruta_ber.iloc[x]['lat']\n",
    "    ruta_ber_lng=13.407526,ruta_ber.iloc[x]['lng']\n",
    "    \n",
    "    fig.add_trace(go.Scattermapbox(showlegend=False,lat=ruta_ber_lat,lon=ruta_ber_lng,mode = \"lines\",marker=dict(size=12,color='Grey'),opacity=0.5))\n",
    "\n",
    "fig.show()"
   ]
  },
  {
   "cell_type": "markdown",
   "metadata": {},
   "source": [
    "## Calculating the time needed to go to each restaurant from Techspace"
   ]
  },
  {
   "cell_type": "code",
   "execution_count": 26,
   "metadata": {},
   "outputs": [],
   "source": [
    "final_restaurants_techsp=list(zip(ruta_ber['lat'],ruta_ber['lng']))"
   ]
  },
  {
   "cell_type": "code",
   "execution_count": 27,
   "metadata": {},
   "outputs": [],
   "source": [
    "guide_directions_from_techsp=pd.DataFrame(columns=['Origin','Destination','Time (min)','Summary','Directions'])\n",
    "for x in range(len(final_restaurants_techsp)):\n",
    "    origin='Techspace'\n",
    "    destination=ruta_ber.iloc[x]['name']\n",
    "    start='52.503842,13.407526'\n",
    "    end=str(final_restaurants_techsp[x][0])+','+str(final_restaurants_techsp[x][1])\n",
    "    #calling API\n",
    "    url=f\"https://route.api.here.com/routing/7.2/calculateroute.json?app_id={app_id}&app_code={app_code}&departure=2019-12-07T12:00:00&waypoint0=geo!{start}&waypoint1=geo!{end}&mode=shortest;publicTransport;traffic:disabled\"\n",
    "    response=requests.get(url)\n",
    "    data=response.json()\n",
    "    \n",
    "    directions=''\n",
    "    for x in range(len(data['response']['route'][0]['leg'][0]['maneuver'])):\n",
    "        ins=data['response']['route'][0]['leg'][0]['maneuver'][x]['instruction']\n",
    "        directions=directions+ins\n",
    "    \n",
    "    directions=re.split('(?<=\\<).*?(?=\\>)',directions)\n",
    "    directions=\" \".join(directions)\n",
    "    directions=\"\".join(directions.split('< >'))\n",
    "    \n",
    "    public_lines=''\n",
    "    try:\n",
    "        for x in range(len(data['response']['route'][0]['publicTransportLine'])):\n",
    "            line=data['response']['route'][0]['publicTransportLine'][x]['lineName']\n",
    "            if x==(len(data['response']['route'][0]['publicTransportLine'])-1):\n",
    "                public_lines=public_lines+line\n",
    "            else:\n",
    "                public_lines=public_lines+line+', '\n",
    "    except:\n",
    "        public_lines='No need of public transport'\n",
    "        \n",
    "        \n",
    "    time=data['response']['route'][0]['summary']['baseTime']/60\n",
    "    info=pd.Series((origin,destination,time,public_lines,directions),index=list(guide_directions_from_techsp.columns)).to_frame().transpose()\n",
    "    new_df=pd.DataFrame(data=info,columns=list(guide_directions_from_techsp.columns))\n",
    "    guide_directions_from_techsp=guide_directions_from_techsp.append(new_df,ignore_index=True)"
   ]
  },
  {
   "cell_type": "markdown",
   "metadata": {},
   "source": [
    "Exporting the direction as pickle so we don't need to call the API again"
   ]
  },
  {
   "cell_type": "code",
   "execution_count": 29,
   "metadata": {},
   "outputs": [],
   "source": [
    "guide_directions_from_techsp.to_pickle('data/directions_from_techspace.pkl')"
   ]
  },
  {
   "cell_type": "code",
   "execution_count": 30,
   "metadata": {},
   "outputs": [
    {
     "data": {
      "text/html": [
       "<div>\n",
       "<style scoped>\n",
       "    .dataframe tbody tr th:only-of-type {\n",
       "        vertical-align: middle;\n",
       "    }\n",
       "\n",
       "    .dataframe tbody tr th {\n",
       "        vertical-align: top;\n",
       "    }\n",
       "\n",
       "    .dataframe thead th {\n",
       "        text-align: right;\n",
       "    }\n",
       "</style>\n",
       "<table border=\"1\" class=\"dataframe\">\n",
       "  <thead>\n",
       "    <tr style=\"text-align: right;\">\n",
       "      <th></th>\n",
       "      <th>Origin</th>\n",
       "      <th>Destination</th>\n",
       "      <th>Time (min)</th>\n",
       "      <th>Summary</th>\n",
       "      <th>Directions</th>\n",
       "    </tr>\n",
       "  </thead>\n",
       "  <tbody>\n",
       "    <tr>\n",
       "      <th>0</th>\n",
       "      <td>Techspace</td>\n",
       "      <td>Akçaabat Köftesi</td>\n",
       "      <td>2.83333</td>\n",
       "      <td></td>\n",
       "      <td>Head northeast on Lobeckstraße. Go for 72 m.Co...</td>\n",
       "    </tr>\n",
       "    <tr>\n",
       "      <th>1</th>\n",
       "      <td>Techspace</td>\n",
       "      <td>Pacifico</td>\n",
       "      <td>3.8</td>\n",
       "      <td></td>\n",
       "      <td>Head northeast on Lobeckstraße. Go for 72 m.Tu...</td>\n",
       "    </tr>\n",
       "    <tr>\n",
       "      <th>2</th>\n",
       "      <td>Techspace</td>\n",
       "      <td>Shishi</td>\n",
       "      <td>8.5</td>\n",
       "      <td></td>\n",
       "      <td>Head northeast on Lobeckstraße. Go for 72 m.Tu...</td>\n",
       "    </tr>\n",
       "    <tr>\n",
       "      <th>3</th>\n",
       "      <td>Techspace</td>\n",
       "      <td>King's Chicken</td>\n",
       "      <td>7</td>\n",
       "      <td></td>\n",
       "      <td>Head northeast on Lobeckstraße. Go for 72 m.Tu...</td>\n",
       "    </tr>\n",
       "    <tr>\n",
       "      <th>4</th>\n",
       "      <td>Techspace</td>\n",
       "      <td>Tapas y más</td>\n",
       "      <td>14.9833</td>\n",
       "      <td></td>\n",
       "      <td>Head northeast on Lobeckstraße. Go for 72 m.Co...</td>\n",
       "    </tr>\n",
       "  </tbody>\n",
       "</table>\n",
       "</div>"
      ],
      "text/plain": [
       "      Origin       Destination Time (min) Summary  \\\n",
       "0  Techspace  Akçaabat Köftesi    2.83333           \n",
       "1  Techspace          Pacifico        3.8           \n",
       "2  Techspace            Shishi        8.5           \n",
       "3  Techspace    King's Chicken          7           \n",
       "4  Techspace       Tapas y más    14.9833           \n",
       "\n",
       "                                          Directions  \n",
       "0  Head northeast on Lobeckstraße. Go for 72 m.Co...  \n",
       "1  Head northeast on Lobeckstraße. Go for 72 m.Tu...  \n",
       "2  Head northeast on Lobeckstraße. Go for 72 m.Tu...  \n",
       "3  Head northeast on Lobeckstraße. Go for 72 m.Tu...  \n",
       "4  Head northeast on Lobeckstraße. Go for 72 m.Co...  "
      ]
     },
     "execution_count": 30,
     "metadata": {},
     "output_type": "execute_result"
    }
   ],
   "source": [
    "guide_directions_from_techsp_read= pd.read_pickle('data/directions_from_techspace.pkl')\n",
    "guide_directions_from_techsp_read.head()"
   ]
  },
  {
   "cell_type": "markdown",
   "metadata": {},
   "source": [
    "# 3. Optimizing route for restaurants by continent"
   ]
  },
  {
   "cell_type": "code",
   "execution_count": 68,
   "metadata": {},
   "outputs": [],
   "source": [
    "continent=berlin.copy()\n",
    "# converting the coordinates in order not to lose precision when using the optimization algorithm\n",
    "continent['new_lat']=continent['lat']*(10**6)\n",
    "continent['new_lng']=continent['lng']*(10**6)\n",
    "\n",
    "continent['new_lat']=continent['new_lat'].astype(int)\n",
    "continent['new_lng']=continent['new_lng'].astype(int)"
   ]
  },
  {
   "cell_type": "code",
   "execution_count": 91,
   "metadata": {},
   "outputs": [],
   "source": [
    "def by_continent(continent_name):\n",
    "\n",
    "    cont_df=continent[continent['continent']==continent_name]\n",
    "    #display(cont_df)\n",
    "    techspace=(52503842,13407526)\n",
    "    locations=list(zip(cont_df['new_lat'],cont_df['new_lng']))\n",
    "    locations.insert(0,techspace)\n",
    "    #print(locations)\n",
    "    if __name__ == '__main__':\n",
    "        sol=main(locations)\n",
    "    #print(sol)\n",
    "    cont_guide=cleaning_sol(sol,continent,locations)\n",
    "    #display(cont_guide)\n",
    "    plot_optimized(cont_guide)"
   ]
  },
  {
   "cell_type": "markdown",
   "metadata": {},
   "source": [
    "### Taking South America as an example"
   ]
  },
  {
   "cell_type": "code",
   "execution_count": 89,
   "metadata": {},
   "outputs": [
    {
     "data": {
      "application/vnd.plotly.v1+json": {
       "config": {
        "plotlyServerURL": "https://plot.ly"
       },
       "data": [
        {
         "hoverlabel": {
          "namelength": 0
         },
         "hovertemplate": "<b>%{hovertext}</b><br><br>continent=Techspace<br>size=%{marker.size}<br>lat=%{lat}<br>lng=%{lon}",
         "hovertext": [
          "Techspace",
          "Techspace"
         ],
         "lat": [
          52.503842,
          52.503842
         ],
         "legendgroup": "continent=Techspace",
         "lon": [
          13.407526,
          13.407526
         ],
         "marker": {
          "color": "#E377C2",
          "opacity": 1,
          "size": [
           0.1,
           0.1
          ],
          "sizemode": "area",
          "sizeref": 0.002777777777777778
         },
         "mode": "markers",
         "name": "Techspace",
         "showlegend": true,
         "subplot": "mapbox",
         "type": "scattermapbox"
        },
        {
         "hoverlabel": {
          "namelength": 0
         },
         "hovertemplate": "<b>%{hovertext}</b><br><br>continent=South America<br>size=%{marker.size}<br>lat=%{lat}<br>lng=%{lon}",
         "hovertext": [
          "Pecados",
          "Popołudniowa Kawa Z Misiem",
          "Pisco Peru",
          "Nauta",
          "Rodolfos Tapas Bar",
          "Steakhouse Las Malvinas",
          "Cafezinho",
          "La Criolla Empanadas",
          "Café GULA",
          "Gloria Empanadas",
          "Villa Rodizio",
          "Qea cafe",
          "Açaí Juice Shop",
          "La Casita",
          "El Gaucho",
          "Steakhaus Barbecue",
          "Punta Arenas",
          "Rosario Steakhaus Schöneiche",
          "El Dorado",
          "Don Giovanni",
          "Posadas Steakhouse Bar",
          "Las Vacas Locas - Steakhaus, Pizzeria",
          "Steakhouse Barbecue",
          "Mendoza Steakhaus Am Tierpark",
          "kärrecho",
          "La Despensa",
          "Tapiocaria",
          "milk and Coffee",
          "Madinina",
          "Mecato",
          "Cafe De Colombia",
          "Mestre Cuca",
          "La Casita",
          "El Toro Steakhaus",
          "Restaurant Roseneck",
          "Pocito",
          "San Mendoza",
          "black bull",
          "Como En Casa",
          "Don Giovanni",
          "Asado",
          "Steakhaus Mendoza",
          "Chili Argentinisches Steakhaus",
          "karibisch-afrikanisches restaurant",
          "Matador Restaurant",
          "Casa Toro Negro",
          "Steakhouse Buenos Aires",
          "Plancha II",
          "Vitello",
          "Argentinisches Steakhaus",
          "Steakhaus MENDOZA",
          "Cordoba",
          "Sweet Jane",
          "La Batea",
          "Cayenne",
          "Paracas",
          "Sabor Latino",
          "Egger's",
          "Argentino",
          "Doree",
          "Esmeraldas Inka-Café",
          "Esmeralda’s Inka-Café",
          "Caribbean Grill Bar",
          "Rocoto Restaurant",
          "Motz 18",
          "Copa Brazilian Deli",
          "Rivado Argentinisches Beefsteak",
          "New Montevideo",
          "Sueno",
          "Ojo De Agua",
          "Restaurante Serrano",
          "Rubirosa",
          "Aj Brasil",
          "Vida",
          "La tía rica",
          "mia y leo",
          "Naninka",
          "Gaucho Steakhouse",
          "Steakhaus Asado",
          "Aventuras",
          "El Boyero",
          "Becerro Steakhaus",
          "Steakhaus Mendoza",
          "El Dorando",
          "la granja Grill",
          "Las Vigas",
          "La Parrilla",
          "Steakhaus Asador",
          "Paracas",
          "Tupac",
          "El Almacén De Fausto",
          "Café do Brasil",
          "El Chilenito",
          "Tierra Colombiana",
          "LMGM Peruanische Fressenorgie",
          "Chicha",
          "Gloria Resto-Bar",
          "Bärsilien",
          "La Calle",
          "Camba La Che",
          "Café Mori",
          "Cevichería"
         ],
         "lat": [
          52.511604638346135,
          52.52492,
          52.535199,
          52.53415644152194,
          52.53488540649414,
          52.5261799,
          52.532868765939924,
          52.534793388813846,
          52.539799,
          52.54058409985839,
          52.545483723225516,
          52.548133850097656,
          52.554463513551596,
          52.60658753025766,
          52.75392429255787,
          52.521643736677824,
          52.53600369170091,
          52.467225,
          52.4672922497156,
          52.427732,
          52.43970163739141,
          52.46147908562489,
          52.486614,
          52.497264,
          52.5067660052729,
          52.515922,
          52.51627309503224,
          52.526123046875,
          52.51309029552139,
          52.509384386826135,
          52.509335,
          52.50944093146394,
          52.493168,
          52.45684249433329,
          52.44428940812568,
          52.460799,
          52.455877362857386,
          52.464929789148194,
          52.471362,
          52.446593904086164,
          52.43240096625822,
          52.390055,
          52.40237299464704,
          52.400136,
          52.39953313729827,
          52.54331757457397,
          52.518010187203586,
          52.54183566906403,
          52.54155347297676,
          52.53683029837386,
          52.51969061893842,
          52.517590512897264,
          52.509922,
          52.507406780548706,
          52.500254,
          52.491891,
          52.48609421096733,
          52.48701459266969,
          52.48527872027593,
          52.48135416298124,
          52.486087659454206,
          52.486145,
          52.4898796081543,
          52.49615299922453,
          52.49873963465519,
          52.498385021185925,
          52.504215468599725,
          52.496061,
          52.50186504936699,
          52.498033087380385,
          52.49872789500794,
          52.50643259135687,
          52.50632,
          52.50737908415794,
          52.508476,
          52.52388511409241,
          52.527824,
          52.56058584896244,
          52.56798284932453,
          52.580727984789476,
          52.632151567507506,
          52.595293963635754,
          52.59163014,
          52.574001,
          52.571218,
          52.548804,
          52.521376,
          52.503518645755335,
          52.50158732226628,
          52.491497,
          52.49068280091301,
          52.48495875843233,
          52.48993924,
          52.49016265519161,
          52.493736950000006,
          52.493239,
          52.49624314384604,
          52.498278,
          52.49814224243164,
          52.49936505162417,
          52.49858342772442,
          52.501338223645014
         ],
         "legendgroup": "continent=South America",
         "lon": [
          13.39867767582335,
          13.403315,
          13.402176,
          13.405053609531022,
          13.408740997314453,
          13.42269,
          13.435749291775648,
          13.424606792515412,
          13.420701,
          13.415749933578928,
          13.41155824369651,
          13.412403106689453,
          13.414134979248047,
          13.41985713615559,
          13.471633308169723,
          13.618807945313582,
          13.846802597918714,
          13.688716,
          13.688621520996094,
          13.581263422966003,
          13.553226339049985,
          13.518177912683207,
          13.527388,
          13.520363,
          13.470634245602737,
          13.46479,
          13.464839458465576,
          13.451416015625,
          13.452794504539401,
          13.456884241313672,
          13.4570055,
          13.459152780118497,
          13.465505,
          13.437243450443622,
          13.433872720791612,
          13.418299,
          13.38371864420852,
          13.377512528761288,
          13.323569,
          13.314979076385498,
          13.235903809880744,
          13.097709,
          13.053188361562471,
          13.049889,
          13.048543729179054,
          13.058139450423571,
          13.197613025148355,
          13.199387652952067,
          13.238491038039994,
          13.265927146628668,
          13.270528363896988,
          13.290219786484029,
          13.297811,
          13.30941552258981,
          13.309756,
          13.321121,
          13.329900428763835,
          13.33066751291655,
          13.3450244982588,
          13.350238564408302,
          13.350465943006421,
          13.350344,
          13.353650093078613,
          13.358801007270811,
          13.350319592577373,
          13.349668564952989,
          13.34617741851909,
          13.341224,
          13.329038967956613,
          13.324939004986236,
          13.322806899174262,
          13.317356482164303,
          13.319987,
          13.321351289824495,
          13.323309,
          13.333861827850342,
          13.339021,
          13.334453310576546,
          13.31007921363037,
          13.302711137130101,
          13.31042502290462,
          13.332670399902629,
          13.33391824,
          13.35854,
          13.362748,
          13.354565,
          13.384844,
          13.387594842287493,
          13.391445750901426,
          13.384456,
          13.376796146033612,
          13.3856055821928,
          13.38931071,
          13.396104505417478,
          13.401618,
          13.427978,
          13.441603266996044,
          13.44205,
          13.436134338378906,
          13.430269190216897,
          13.428599492099389,
          13.416600211798988
         ],
         "marker": {
          "color": "lime",
          "opacity": 1,
          "size": [
           0.1,
           0.1,
           0.1,
           0.1,
           0.1,
           0,
           0.1,
           0.1,
           0.1,
           0.1,
           0.1,
           0,
           0.1,
           0.1,
           0.1,
           0.1,
           0.1,
           0.1,
           0.1,
           0.1,
           0.1,
           0.1,
           0.1,
           0.1,
           0.1,
           0.1,
           0.1,
           0,
           0,
           0.1,
           0.1,
           0.1,
           0.1,
           0.1,
           0.1,
           0.1,
           0.1,
           0.1,
           0.1,
           0.1,
           0.1,
           0.1,
           0.1,
           0,
           0.1,
           0.1,
           0.1,
           0.1,
           0,
           0.1,
           0.1,
           0.1,
           0.1,
           0,
           0.1,
           0.1,
           0.1,
           0.1,
           0.1,
           0.1,
           0.1,
           0.1,
           0,
           0.1,
           0,
           0.1,
           0.1,
           0.1,
           0.1,
           0.1,
           0.1,
           0.1,
           0.1,
           0,
           0.1,
           0.1,
           0.1,
           0.1,
           0.1,
           0.1,
           0.1,
           0.1,
           0.1,
           0.1,
           0.1,
           0.1,
           0.1,
           0.1,
           0.1,
           0.1,
           0.1,
           0.1,
           0.1,
           0.1,
           0.1,
           0.1,
           0.1,
           0.1,
           0.1,
           0.1,
           0.1,
           0.1
          ],
          "sizemode": "area",
          "sizeref": 0.002777777777777778
         },
         "mode": "markers",
         "name": "South America",
         "showlegend": true,
         "subplot": "mapbox",
         "type": "scattermapbox"
        },
        {
         "lat": [
          52.503842,
          52.511604638346135,
          52.52492,
          52.535199,
          52.53415644152194,
          52.53488540649414,
          52.5261799,
          52.532868765939924,
          52.534793388813846,
          52.539799,
          52.54058409985839,
          52.545483723225516,
          52.548133850097656,
          52.554463513551596,
          52.60658753025766,
          52.75392429255787,
          52.521643736677824,
          52.53600369170091,
          52.467225,
          52.4672922497156,
          52.427732,
          52.43970163739141,
          52.46147908562489,
          52.486614,
          52.497264,
          52.5067660052729,
          52.515922,
          52.51627309503224,
          52.526123046875,
          52.51309029552139,
          52.509384386826135,
          52.509335,
          52.50944093146394,
          52.493168,
          52.45684249433329,
          52.44428940812568,
          52.460799,
          52.455877362857386,
          52.464929789148194,
          52.471362,
          52.446593904086164,
          52.43240096625822,
          52.390055,
          52.40237299464704,
          52.400136,
          52.39953313729827,
          52.54331757457397,
          52.518010187203586,
          52.54183566906403,
          52.54155347297676,
          52.53683029837386,
          52.51969061893842,
          52.517590512897264,
          52.509922,
          52.507406780548706,
          52.500254,
          52.491891,
          52.48609421096733,
          52.48701459266969,
          52.48527872027593,
          52.48135416298124,
          52.486087659454206,
          52.486145,
          52.4898796081543,
          52.49615299922453,
          52.49873963465519,
          52.498385021185925,
          52.504215468599725,
          52.496061,
          52.50186504936699,
          52.498033087380385,
          52.49872789500794,
          52.50643259135687,
          52.50632,
          52.50737908415794,
          52.508476,
          52.52388511409241,
          52.527824,
          52.56058584896244,
          52.56798284932453,
          52.580727984789476,
          52.632151567507506,
          52.595293963635754,
          52.59163014,
          52.574001,
          52.571218,
          52.548804,
          52.521376,
          52.503518645755335,
          52.50158732226628,
          52.491497,
          52.49068280091301,
          52.48495875843233,
          52.48993924,
          52.49016265519161,
          52.493736950000006,
          52.493239,
          52.49624314384604,
          52.498278,
          52.49814224243164,
          52.49936505162417,
          52.49858342772442,
          52.501338223645014,
          52.503842
         ],
         "lon": [
          13.407526,
          13.39867767582335,
          13.403315,
          13.402176,
          13.405053609531022,
          13.408740997314453,
          13.42269,
          13.435749291775648,
          13.424606792515412,
          13.420701,
          13.415749933578928,
          13.41155824369651,
          13.412403106689453,
          13.414134979248047,
          13.41985713615559,
          13.471633308169723,
          13.618807945313582,
          13.846802597918714,
          13.688716,
          13.688621520996094,
          13.581263422966003,
          13.553226339049985,
          13.518177912683207,
          13.527388,
          13.520363,
          13.470634245602737,
          13.46479,
          13.464839458465576,
          13.451416015625,
          13.452794504539401,
          13.456884241313672,
          13.4570055,
          13.459152780118497,
          13.465505,
          13.437243450443622,
          13.433872720791612,
          13.418299,
          13.38371864420852,
          13.377512528761288,
          13.323569,
          13.314979076385498,
          13.235903809880744,
          13.097709,
          13.053188361562471,
          13.049889,
          13.048543729179054,
          13.058139450423571,
          13.197613025148355,
          13.199387652952067,
          13.238491038039994,
          13.265927146628668,
          13.270528363896988,
          13.290219786484029,
          13.297811,
          13.30941552258981,
          13.309756,
          13.321121,
          13.329900428763835,
          13.33066751291655,
          13.3450244982588,
          13.350238564408302,
          13.350465943006421,
          13.350344,
          13.353650093078613,
          13.358801007270811,
          13.350319592577373,
          13.349668564952989,
          13.34617741851909,
          13.341224,
          13.329038967956613,
          13.324939004986236,
          13.322806899174262,
          13.317356482164303,
          13.319987,
          13.321351289824495,
          13.323309,
          13.333861827850342,
          13.339021,
          13.334453310576546,
          13.31007921363037,
          13.302711137130101,
          13.31042502290462,
          13.332670399902629,
          13.33391824,
          13.35854,
          13.362748,
          13.354565,
          13.384844,
          13.387594842287493,
          13.391445750901426,
          13.384456,
          13.376796146033612,
          13.3856055821928,
          13.38931071,
          13.396104505417478,
          13.401618,
          13.427978,
          13.441603266996044,
          13.44205,
          13.436134338378906,
          13.430269190216897,
          13.428599492099389,
          13.416600211798988,
          13.407526
         ],
         "marker": {
          "color": "DarkSlateGrey",
          "size": 12
         },
         "mode": "lines",
         "showlegend": false,
         "type": "scattermapbox"
        }
       ],
       "layout": {
        "height": 600,
        "legend": {
         "itemsizing": "constant",
         "orientation": "h",
         "tracegroupgap": 0,
         "x": 0.18,
         "y": 0
        },
        "mapbox": {
         "center": {
          "lat": 52.50806360192,
          "lon": 13.377986531948492
         },
         "domain": {
          "x": [
           0,
           1
          ],
          "y": [
           0,
           1
          ]
         },
         "style": "open-street-map",
         "zoom": 10
        },
        "margin": {
         "b": 0,
         "l": 1,
         "r": 1,
         "t": 0
        },
        "showlegend": true,
        "template": {
         "data": {
          "bar": [
           {
            "error_x": {
             "color": "#2a3f5f"
            },
            "error_y": {
             "color": "#2a3f5f"
            },
            "marker": {
             "line": {
              "color": "white",
              "width": 0.5
             }
            },
            "type": "bar"
           }
          ],
          "barpolar": [
           {
            "marker": {
             "line": {
              "color": "white",
              "width": 0.5
             }
            },
            "type": "barpolar"
           }
          ],
          "carpet": [
           {
            "aaxis": {
             "endlinecolor": "#2a3f5f",
             "gridcolor": "#C8D4E3",
             "linecolor": "#C8D4E3",
             "minorgridcolor": "#C8D4E3",
             "startlinecolor": "#2a3f5f"
            },
            "baxis": {
             "endlinecolor": "#2a3f5f",
             "gridcolor": "#C8D4E3",
             "linecolor": "#C8D4E3",
             "minorgridcolor": "#C8D4E3",
             "startlinecolor": "#2a3f5f"
            },
            "type": "carpet"
           }
          ],
          "choropleth": [
           {
            "colorbar": {
             "outlinewidth": 0,
             "ticks": ""
            },
            "type": "choropleth"
           }
          ],
          "contour": [
           {
            "colorbar": {
             "outlinewidth": 0,
             "ticks": ""
            },
            "colorscale": [
             [
              0,
              "#0d0887"
             ],
             [
              0.1111111111111111,
              "#46039f"
             ],
             [
              0.2222222222222222,
              "#7201a8"
             ],
             [
              0.3333333333333333,
              "#9c179e"
             ],
             [
              0.4444444444444444,
              "#bd3786"
             ],
             [
              0.5555555555555556,
              "#d8576b"
             ],
             [
              0.6666666666666666,
              "#ed7953"
             ],
             [
              0.7777777777777778,
              "#fb9f3a"
             ],
             [
              0.8888888888888888,
              "#fdca26"
             ],
             [
              1,
              "#f0f921"
             ]
            ],
            "type": "contour"
           }
          ],
          "contourcarpet": [
           {
            "colorbar": {
             "outlinewidth": 0,
             "ticks": ""
            },
            "type": "contourcarpet"
           }
          ],
          "heatmap": [
           {
            "colorbar": {
             "outlinewidth": 0,
             "ticks": ""
            },
            "colorscale": [
             [
              0,
              "#0d0887"
             ],
             [
              0.1111111111111111,
              "#46039f"
             ],
             [
              0.2222222222222222,
              "#7201a8"
             ],
             [
              0.3333333333333333,
              "#9c179e"
             ],
             [
              0.4444444444444444,
              "#bd3786"
             ],
             [
              0.5555555555555556,
              "#d8576b"
             ],
             [
              0.6666666666666666,
              "#ed7953"
             ],
             [
              0.7777777777777778,
              "#fb9f3a"
             ],
             [
              0.8888888888888888,
              "#fdca26"
             ],
             [
              1,
              "#f0f921"
             ]
            ],
            "type": "heatmap"
           }
          ],
          "heatmapgl": [
           {
            "colorbar": {
             "outlinewidth": 0,
             "ticks": ""
            },
            "colorscale": [
             [
              0,
              "#0d0887"
             ],
             [
              0.1111111111111111,
              "#46039f"
             ],
             [
              0.2222222222222222,
              "#7201a8"
             ],
             [
              0.3333333333333333,
              "#9c179e"
             ],
             [
              0.4444444444444444,
              "#bd3786"
             ],
             [
              0.5555555555555556,
              "#d8576b"
             ],
             [
              0.6666666666666666,
              "#ed7953"
             ],
             [
              0.7777777777777778,
              "#fb9f3a"
             ],
             [
              0.8888888888888888,
              "#fdca26"
             ],
             [
              1,
              "#f0f921"
             ]
            ],
            "type": "heatmapgl"
           }
          ],
          "histogram": [
           {
            "marker": {
             "colorbar": {
              "outlinewidth": 0,
              "ticks": ""
             }
            },
            "type": "histogram"
           }
          ],
          "histogram2d": [
           {
            "colorbar": {
             "outlinewidth": 0,
             "ticks": ""
            },
            "colorscale": [
             [
              0,
              "#0d0887"
             ],
             [
              0.1111111111111111,
              "#46039f"
             ],
             [
              0.2222222222222222,
              "#7201a8"
             ],
             [
              0.3333333333333333,
              "#9c179e"
             ],
             [
              0.4444444444444444,
              "#bd3786"
             ],
             [
              0.5555555555555556,
              "#d8576b"
             ],
             [
              0.6666666666666666,
              "#ed7953"
             ],
             [
              0.7777777777777778,
              "#fb9f3a"
             ],
             [
              0.8888888888888888,
              "#fdca26"
             ],
             [
              1,
              "#f0f921"
             ]
            ],
            "type": "histogram2d"
           }
          ],
          "histogram2dcontour": [
           {
            "colorbar": {
             "outlinewidth": 0,
             "ticks": ""
            },
            "colorscale": [
             [
              0,
              "#0d0887"
             ],
             [
              0.1111111111111111,
              "#46039f"
             ],
             [
              0.2222222222222222,
              "#7201a8"
             ],
             [
              0.3333333333333333,
              "#9c179e"
             ],
             [
              0.4444444444444444,
              "#bd3786"
             ],
             [
              0.5555555555555556,
              "#d8576b"
             ],
             [
              0.6666666666666666,
              "#ed7953"
             ],
             [
              0.7777777777777778,
              "#fb9f3a"
             ],
             [
              0.8888888888888888,
              "#fdca26"
             ],
             [
              1,
              "#f0f921"
             ]
            ],
            "type": "histogram2dcontour"
           }
          ],
          "mesh3d": [
           {
            "colorbar": {
             "outlinewidth": 0,
             "ticks": ""
            },
            "type": "mesh3d"
           }
          ],
          "parcoords": [
           {
            "line": {
             "colorbar": {
              "outlinewidth": 0,
              "ticks": ""
             }
            },
            "type": "parcoords"
           }
          ],
          "pie": [
           {
            "automargin": true,
            "type": "pie"
           }
          ],
          "scatter": [
           {
            "marker": {
             "colorbar": {
              "outlinewidth": 0,
              "ticks": ""
             }
            },
            "type": "scatter"
           }
          ],
          "scatter3d": [
           {
            "line": {
             "colorbar": {
              "outlinewidth": 0,
              "ticks": ""
             }
            },
            "marker": {
             "colorbar": {
              "outlinewidth": 0,
              "ticks": ""
             }
            },
            "type": "scatter3d"
           }
          ],
          "scattercarpet": [
           {
            "marker": {
             "colorbar": {
              "outlinewidth": 0,
              "ticks": ""
             }
            },
            "type": "scattercarpet"
           }
          ],
          "scattergeo": [
           {
            "marker": {
             "colorbar": {
              "outlinewidth": 0,
              "ticks": ""
             }
            },
            "type": "scattergeo"
           }
          ],
          "scattergl": [
           {
            "marker": {
             "colorbar": {
              "outlinewidth": 0,
              "ticks": ""
             }
            },
            "type": "scattergl"
           }
          ],
          "scattermapbox": [
           {
            "marker": {
             "colorbar": {
              "outlinewidth": 0,
              "ticks": ""
             }
            },
            "type": "scattermapbox"
           }
          ],
          "scatterpolar": [
           {
            "marker": {
             "colorbar": {
              "outlinewidth": 0,
              "ticks": ""
             }
            },
            "type": "scatterpolar"
           }
          ],
          "scatterpolargl": [
           {
            "marker": {
             "colorbar": {
              "outlinewidth": 0,
              "ticks": ""
             }
            },
            "type": "scatterpolargl"
           }
          ],
          "scatterternary": [
           {
            "marker": {
             "colorbar": {
              "outlinewidth": 0,
              "ticks": ""
             }
            },
            "type": "scatterternary"
           }
          ],
          "surface": [
           {
            "colorbar": {
             "outlinewidth": 0,
             "ticks": ""
            },
            "colorscale": [
             [
              0,
              "#0d0887"
             ],
             [
              0.1111111111111111,
              "#46039f"
             ],
             [
              0.2222222222222222,
              "#7201a8"
             ],
             [
              0.3333333333333333,
              "#9c179e"
             ],
             [
              0.4444444444444444,
              "#bd3786"
             ],
             [
              0.5555555555555556,
              "#d8576b"
             ],
             [
              0.6666666666666666,
              "#ed7953"
             ],
             [
              0.7777777777777778,
              "#fb9f3a"
             ],
             [
              0.8888888888888888,
              "#fdca26"
             ],
             [
              1,
              "#f0f921"
             ]
            ],
            "type": "surface"
           }
          ],
          "table": [
           {
            "cells": {
             "fill": {
              "color": "#EBF0F8"
             },
             "line": {
              "color": "white"
             }
            },
            "header": {
             "fill": {
              "color": "#C8D4E3"
             },
             "line": {
              "color": "white"
             }
            },
            "type": "table"
           }
          ]
         },
         "layout": {
          "annotationdefaults": {
           "arrowcolor": "#2a3f5f",
           "arrowhead": 0,
           "arrowwidth": 1
          },
          "coloraxis": {
           "colorbar": {
            "outlinewidth": 0,
            "ticks": ""
           }
          },
          "colorscale": {
           "diverging": [
            [
             0,
             "#8e0152"
            ],
            [
             0.1,
             "#c51b7d"
            ],
            [
             0.2,
             "#de77ae"
            ],
            [
             0.3,
             "#f1b6da"
            ],
            [
             0.4,
             "#fde0ef"
            ],
            [
             0.5,
             "#f7f7f7"
            ],
            [
             0.6,
             "#e6f5d0"
            ],
            [
             0.7,
             "#b8e186"
            ],
            [
             0.8,
             "#7fbc41"
            ],
            [
             0.9,
             "#4d9221"
            ],
            [
             1,
             "#276419"
            ]
           ],
           "sequential": [
            [
             0,
             "#0d0887"
            ],
            [
             0.1111111111111111,
             "#46039f"
            ],
            [
             0.2222222222222222,
             "#7201a8"
            ],
            [
             0.3333333333333333,
             "#9c179e"
            ],
            [
             0.4444444444444444,
             "#bd3786"
            ],
            [
             0.5555555555555556,
             "#d8576b"
            ],
            [
             0.6666666666666666,
             "#ed7953"
            ],
            [
             0.7777777777777778,
             "#fb9f3a"
            ],
            [
             0.8888888888888888,
             "#fdca26"
            ],
            [
             1,
             "#f0f921"
            ]
           ],
           "sequentialminus": [
            [
             0,
             "#0d0887"
            ],
            [
             0.1111111111111111,
             "#46039f"
            ],
            [
             0.2222222222222222,
             "#7201a8"
            ],
            [
             0.3333333333333333,
             "#9c179e"
            ],
            [
             0.4444444444444444,
             "#bd3786"
            ],
            [
             0.5555555555555556,
             "#d8576b"
            ],
            [
             0.6666666666666666,
             "#ed7953"
            ],
            [
             0.7777777777777778,
             "#fb9f3a"
            ],
            [
             0.8888888888888888,
             "#fdca26"
            ],
            [
             1,
             "#f0f921"
            ]
           ]
          },
          "colorway": [
           "#636efa",
           "#EF553B",
           "#00cc96",
           "#ab63fa",
           "#FFA15A",
           "#19d3f3",
           "#FF6692",
           "#B6E880",
           "#FF97FF",
           "#FECB52"
          ],
          "font": {
           "color": "#2a3f5f"
          },
          "geo": {
           "bgcolor": "white",
           "lakecolor": "white",
           "landcolor": "white",
           "showlakes": true,
           "showland": true,
           "subunitcolor": "#C8D4E3"
          },
          "hoverlabel": {
           "align": "left"
          },
          "hovermode": "closest",
          "mapbox": {
           "style": "light"
          },
          "paper_bgcolor": "white",
          "plot_bgcolor": "white",
          "polar": {
           "angularaxis": {
            "gridcolor": "#EBF0F8",
            "linecolor": "#EBF0F8",
            "ticks": ""
           },
           "bgcolor": "white",
           "radialaxis": {
            "gridcolor": "#EBF0F8",
            "linecolor": "#EBF0F8",
            "ticks": ""
           }
          },
          "scene": {
           "xaxis": {
            "backgroundcolor": "white",
            "gridcolor": "#DFE8F3",
            "gridwidth": 2,
            "linecolor": "#EBF0F8",
            "showbackground": true,
            "ticks": "",
            "zerolinecolor": "#EBF0F8"
           },
           "yaxis": {
            "backgroundcolor": "white",
            "gridcolor": "#DFE8F3",
            "gridwidth": 2,
            "linecolor": "#EBF0F8",
            "showbackground": true,
            "ticks": "",
            "zerolinecolor": "#EBF0F8"
           },
           "zaxis": {
            "backgroundcolor": "white",
            "gridcolor": "#DFE8F3",
            "gridwidth": 2,
            "linecolor": "#EBF0F8",
            "showbackground": true,
            "ticks": "",
            "zerolinecolor": "#EBF0F8"
           }
          },
          "shapedefaults": {
           "line": {
            "color": "#2a3f5f"
           }
          },
          "ternary": {
           "aaxis": {
            "gridcolor": "#DFE8F3",
            "linecolor": "#A2B1C6",
            "ticks": ""
           },
           "baxis": {
            "gridcolor": "#DFE8F3",
            "linecolor": "#A2B1C6",
            "ticks": ""
           },
           "bgcolor": "white",
           "caxis": {
            "gridcolor": "#DFE8F3",
            "linecolor": "#A2B1C6",
            "ticks": ""
           }
          },
          "title": {
           "x": 0.05
          },
          "xaxis": {
           "automargin": true,
           "gridcolor": "#EBF0F8",
           "linecolor": "#EBF0F8",
           "ticks": "",
           "title": {
            "standoff": 15
           },
           "zerolinecolor": "#EBF0F8",
           "zerolinewidth": 2
          },
          "yaxis": {
           "automargin": true,
           "gridcolor": "#EBF0F8",
           "linecolor": "#EBF0F8",
           "ticks": "",
           "title": {
            "standoff": 15
           },
           "zerolinecolor": "#EBF0F8",
           "zerolinewidth": 2
          }
         }
        }
       }
      },
      "text/html": [
       "<div>\n",
       "        \n",
       "        \n",
       "            <div id=\"e03c8a50-9ef6-498c-a4e6-eca97c36c9db\" class=\"plotly-graph-div\" style=\"height:600px; width:100%;\"></div>\n",
       "            <script type=\"text/javascript\">\n",
       "                require([\"plotly\"], function(Plotly) {\n",
       "                    window.PLOTLYENV=window.PLOTLYENV || {};\n",
       "                    \n",
       "                if (document.getElementById(\"e03c8a50-9ef6-498c-a4e6-eca97c36c9db\")) {\n",
       "                    Plotly.newPlot(\n",
       "                        'e03c8a50-9ef6-498c-a4e6-eca97c36c9db',\n",
       "                        [{\"hoverlabel\": {\"namelength\": 0}, \"hovertemplate\": \"<b>%{hovertext}</b><br><br>continent=Techspace<br>size=%{marker.size}<br>lat=%{lat}<br>lng=%{lon}\", \"hovertext\": [\"Techspace\", \"Techspace\"], \"lat\": [52.503842, 52.503842], \"legendgroup\": \"continent=Techspace\", \"lon\": [13.407526, 13.407526], \"marker\": {\"color\": \"#E377C2\", \"opacity\": 1, \"size\": [0.1, 0.1], \"sizemode\": \"area\", \"sizeref\": 0.002777777777777778}, \"mode\": \"markers\", \"name\": \"Techspace\", \"showlegend\": true, \"subplot\": \"mapbox\", \"type\": \"scattermapbox\"}, {\"hoverlabel\": {\"namelength\": 0}, \"hovertemplate\": \"<b>%{hovertext}</b><br><br>continent=South America<br>size=%{marker.size}<br>lat=%{lat}<br>lng=%{lon}\", \"hovertext\": [\"Pecados\", \"Popo\\u0142udniowa Kawa Z Misiem\", \"Pisco Peru\", \"Nauta\", \"Rodolfos Tapas Bar\", \"Steakhouse Las Malvinas\", \"Cafezinho\", \"La Criolla Empanadas\", \"Caf\\u00e9 GULA\", \"Gloria Empanadas\", \"Villa Rodizio\", \"Qea cafe\", \"A\\u00e7a\\u00ed Juice Shop\", \"La Casita\", \"El Gaucho\", \"Steakhaus Barbecue\", \"Punta Arenas\", \"Rosario Steakhaus Sch\\u00f6neiche\", \"El Dorado\", \"Don Giovanni\", \"Posadas Steakhouse Bar\", \"Las Vacas Locas - Steakhaus, Pizzeria\", \"Steakhouse Barbecue\", \"Mendoza Steakhaus Am Tierpark\", \"k\\u00e4rrecho\", \"La Despensa\", \"Tapiocaria\", \"milk and Coffee\", \"Madinina\", \"Mecato\", \"Cafe De Colombia\", \"Mestre Cuca\", \"La Casita\", \"El Toro Steakhaus\", \"Restaurant Roseneck\", \"Pocito\", \"San Mendoza\", \"black bull\", \"Como En Casa\", \"Don Giovanni\", \"Asado\", \"Steakhaus Mendoza\", \"Chili Argentinisches Steakhaus\", \"karibisch-afrikanisches restaurant\", \"Matador Restaurant\", \"Casa Toro Negro\", \"Steakhouse Buenos Aires\", \"Plancha II\", \"Vitello\", \"Argentinisches Steakhaus\", \"Steakhaus MENDOZA\", \"Cordoba\", \"Sweet Jane\", \"La Batea\", \"Cayenne\", \"Paracas\", \"Sabor Latino\", \"Egger's\", \"Argentino\", \"Doree\", \"Esmeraldas Inka-Caf\\u00e9\", \"Esmeralda\\u2019s Inka-Caf\\u00e9\", \"Caribbean Grill Bar\", \"Rocoto Restaurant\", \"Motz 18\", \"Copa Brazilian Deli\", \"Rivado Argentinisches Beefsteak\", \"New Montevideo\", \"Sueno\", \"Ojo De Agua\", \"Restaurante Serrano\", \"Rubirosa\", \"Aj Brasil\", \"Vida\", \"La t\\u00eda rica\", \"mia y leo\", \"Naninka\", \"Gaucho Steakhouse\", \"Steakhaus Asado\", \"Aventuras\", \"El Boyero\", \"Becerro Steakhaus\", \"Steakhaus Mendoza\", \"El Dorando\", \"la granja Grill\", \"Las Vigas\", \"La Parrilla\", \"Steakhaus Asador\", \"Paracas\", \"Tupac\", \"El Almac\\u00e9n De Fausto\", \"Caf\\u00e9 do Brasil\", \"El Chilenito\", \"Tierra Colombiana\", \"LMGM Peruanische Fressenorgie\", \"Chicha\", \"Gloria Resto-Bar\", \"B\\u00e4rsilien\", \"La Calle\", \"Camba La Che\", \"Caf\\u00e9 Mori\", \"Cevicher\\u00eda\"], \"lat\": [52.511604638346135, 52.52492, 52.535199, 52.53415644152194, 52.53488540649414, 52.5261799, 52.532868765939924, 52.534793388813846, 52.539799, 52.54058409985839, 52.545483723225516, 52.548133850097656, 52.554463513551596, 52.60658753025766, 52.75392429255787, 52.521643736677824, 52.53600369170091, 52.467225, 52.4672922497156, 52.427732, 52.43970163739141, 52.46147908562489, 52.486614, 52.497264, 52.5067660052729, 52.515922, 52.51627309503224, 52.526123046875, 52.51309029552139, 52.509384386826135, 52.509335, 52.50944093146394, 52.493168, 52.45684249433329, 52.44428940812568, 52.460799, 52.455877362857386, 52.464929789148194, 52.471362, 52.446593904086164, 52.43240096625822, 52.390055, 52.40237299464704, 52.400136, 52.39953313729827, 52.54331757457397, 52.518010187203586, 52.54183566906403, 52.54155347297676, 52.53683029837386, 52.51969061893842, 52.517590512897264, 52.509922, 52.507406780548706, 52.500254, 52.491891, 52.48609421096733, 52.48701459266969, 52.48527872027593, 52.48135416298124, 52.486087659454206, 52.486145, 52.4898796081543, 52.49615299922453, 52.49873963465519, 52.498385021185925, 52.504215468599725, 52.496061, 52.50186504936699, 52.498033087380385, 52.49872789500794, 52.50643259135687, 52.50632, 52.50737908415794, 52.508476, 52.52388511409241, 52.527824, 52.56058584896244, 52.56798284932453, 52.580727984789476, 52.632151567507506, 52.595293963635754, 52.59163014, 52.574001, 52.571218, 52.548804, 52.521376, 52.503518645755335, 52.50158732226628, 52.491497, 52.49068280091301, 52.48495875843233, 52.48993924, 52.49016265519161, 52.493736950000006, 52.493239, 52.49624314384604, 52.498278, 52.49814224243164, 52.49936505162417, 52.49858342772442, 52.501338223645014], \"legendgroup\": \"continent=South America\", \"lon\": [13.39867767582335, 13.403315, 13.402176, 13.405053609531022, 13.408740997314453, 13.42269, 13.435749291775648, 13.424606792515412, 13.420701, 13.415749933578928, 13.41155824369651, 13.412403106689453, 13.414134979248047, 13.41985713615559, 13.471633308169723, 13.618807945313582, 13.846802597918714, 13.688716, 13.688621520996094, 13.581263422966003, 13.553226339049985, 13.518177912683207, 13.527388, 13.520363, 13.470634245602737, 13.46479, 13.464839458465576, 13.451416015625, 13.452794504539401, 13.456884241313672, 13.4570055, 13.459152780118497, 13.465505, 13.437243450443622, 13.433872720791612, 13.418299, 13.38371864420852, 13.377512528761288, 13.323569, 13.314979076385498, 13.235903809880744, 13.097709, 13.053188361562471, 13.049889, 13.048543729179054, 13.058139450423571, 13.197613025148355, 13.199387652952067, 13.238491038039994, 13.265927146628668, 13.270528363896988, 13.290219786484029, 13.297811, 13.30941552258981, 13.309756, 13.321121, 13.329900428763835, 13.33066751291655, 13.3450244982588, 13.350238564408302, 13.350465943006421, 13.350344, 13.353650093078613, 13.358801007270811, 13.350319592577373, 13.349668564952989, 13.34617741851909, 13.341224, 13.329038967956613, 13.324939004986236, 13.322806899174262, 13.317356482164303, 13.319987, 13.321351289824495, 13.323309, 13.333861827850342, 13.339021, 13.334453310576546, 13.31007921363037, 13.302711137130101, 13.31042502290462, 13.332670399902629, 13.33391824, 13.35854, 13.362748, 13.354565, 13.384844, 13.387594842287493, 13.391445750901426, 13.384456, 13.376796146033612, 13.3856055821928, 13.38931071, 13.396104505417478, 13.401618, 13.427978, 13.441603266996044, 13.44205, 13.436134338378906, 13.430269190216897, 13.428599492099389, 13.416600211798988], \"marker\": {\"color\": \"lime\", \"opacity\": 1, \"size\": [0.1, 0.1, 0.1, 0.1, 0.1, 0.0, 0.1, 0.1, 0.1, 0.1, 0.1, 0.0, 0.1, 0.1, 0.1, 0.1, 0.1, 0.1, 0.1, 0.1, 0.1, 0.1, 0.1, 0.1, 0.1, 0.1, 0.1, 0.0, 0.0, 0.1, 0.1, 0.1, 0.1, 0.1, 0.1, 0.1, 0.1, 0.1, 0.1, 0.1, 0.1, 0.1, 0.1, 0.0, 0.1, 0.1, 0.1, 0.1, 0.0, 0.1, 0.1, 0.1, 0.1, 0.0, 0.1, 0.1, 0.1, 0.1, 0.1, 0.1, 0.1, 0.1, 0.0, 0.1, 0.0, 0.1, 0.1, 0.1, 0.1, 0.1, 0.1, 0.1, 0.1, 0.0, 0.1, 0.1, 0.1, 0.1, 0.1, 0.1, 0.1, 0.1, 0.1, 0.1, 0.1, 0.1, 0.1, 0.1, 0.1, 0.1, 0.1, 0.1, 0.1, 0.1, 0.1, 0.1, 0.1, 0.1, 0.1, 0.1, 0.1, 0.1], \"sizemode\": \"area\", \"sizeref\": 0.002777777777777778}, \"mode\": \"markers\", \"name\": \"South America\", \"showlegend\": true, \"subplot\": \"mapbox\", \"type\": \"scattermapbox\"}, {\"lat\": [52.503842, 52.511604638346135, 52.52492, 52.535199, 52.53415644152194, 52.53488540649414, 52.5261799, 52.532868765939924, 52.534793388813846, 52.539799, 52.54058409985839, 52.545483723225516, 52.548133850097656, 52.554463513551596, 52.60658753025766, 52.75392429255787, 52.521643736677824, 52.53600369170091, 52.467225, 52.4672922497156, 52.427732, 52.43970163739141, 52.46147908562489, 52.486614, 52.497264, 52.5067660052729, 52.515922, 52.51627309503224, 52.526123046875, 52.51309029552139, 52.509384386826135, 52.509335, 52.50944093146394, 52.493168, 52.45684249433329, 52.44428940812568, 52.460799, 52.455877362857386, 52.464929789148194, 52.471362, 52.446593904086164, 52.43240096625822, 52.390055, 52.40237299464704, 52.400136, 52.39953313729827, 52.54331757457397, 52.518010187203586, 52.54183566906403, 52.54155347297676, 52.53683029837386, 52.51969061893842, 52.517590512897264, 52.509922, 52.507406780548706, 52.500254, 52.491891, 52.48609421096733, 52.48701459266969, 52.48527872027593, 52.48135416298124, 52.486087659454206, 52.486145, 52.4898796081543, 52.49615299922453, 52.49873963465519, 52.498385021185925, 52.504215468599725, 52.496061, 52.50186504936699, 52.498033087380385, 52.49872789500794, 52.50643259135687, 52.50632, 52.50737908415794, 52.508476, 52.52388511409241, 52.527824, 52.56058584896244, 52.56798284932453, 52.580727984789476, 52.632151567507506, 52.595293963635754, 52.59163014, 52.574001, 52.571218, 52.548804, 52.521376, 52.503518645755335, 52.50158732226628, 52.491497, 52.49068280091301, 52.48495875843233, 52.48993924, 52.49016265519161, 52.493736950000006, 52.493239, 52.49624314384604, 52.498278, 52.49814224243164, 52.49936505162417, 52.49858342772442, 52.501338223645014, 52.503842], \"lon\": [13.407526, 13.39867767582335, 13.403315, 13.402176, 13.405053609531022, 13.408740997314453, 13.42269, 13.435749291775648, 13.424606792515412, 13.420701, 13.415749933578928, 13.41155824369651, 13.412403106689453, 13.414134979248047, 13.41985713615559, 13.471633308169723, 13.618807945313582, 13.846802597918714, 13.688716, 13.688621520996094, 13.581263422966003, 13.553226339049985, 13.518177912683207, 13.527388, 13.520363, 13.470634245602737, 13.46479, 13.464839458465576, 13.451416015625, 13.452794504539401, 13.456884241313672, 13.4570055, 13.459152780118497, 13.465505, 13.437243450443622, 13.433872720791612, 13.418299, 13.38371864420852, 13.377512528761288, 13.323569, 13.314979076385498, 13.235903809880744, 13.097709, 13.053188361562471, 13.049889, 13.048543729179054, 13.058139450423571, 13.197613025148355, 13.199387652952067, 13.238491038039994, 13.265927146628668, 13.270528363896988, 13.290219786484029, 13.297811, 13.30941552258981, 13.309756, 13.321121, 13.329900428763835, 13.33066751291655, 13.3450244982588, 13.350238564408302, 13.350465943006421, 13.350344, 13.353650093078613, 13.358801007270811, 13.350319592577373, 13.349668564952989, 13.34617741851909, 13.341224, 13.329038967956613, 13.324939004986236, 13.322806899174262, 13.317356482164303, 13.319987, 13.321351289824495, 13.323309, 13.333861827850342, 13.339021, 13.334453310576546, 13.31007921363037, 13.302711137130101, 13.31042502290462, 13.332670399902629, 13.33391824, 13.35854, 13.362748, 13.354565, 13.384844, 13.387594842287493, 13.391445750901426, 13.384456, 13.376796146033612, 13.3856055821928, 13.38931071, 13.396104505417478, 13.401618, 13.427978, 13.441603266996044, 13.44205, 13.436134338378906, 13.430269190216897, 13.428599492099389, 13.416600211798988, 13.407526], \"marker\": {\"color\": \"DarkSlateGrey\", \"size\": 12}, \"mode\": \"lines\", \"showlegend\": false, \"type\": \"scattermapbox\"}],\n",
       "                        {\"height\": 600, \"legend\": {\"itemsizing\": \"constant\", \"orientation\": \"h\", \"tracegroupgap\": 0, \"x\": 0.18, \"y\": 0.0}, \"mapbox\": {\"center\": {\"lat\": 52.50806360192, \"lon\": 13.377986531948492}, \"domain\": {\"x\": [0.0, 1.0], \"y\": [0.0, 1.0]}, \"style\": \"open-street-map\", \"zoom\": 10}, \"margin\": {\"b\": 0, \"l\": 1, \"r\": 1, \"t\": 0}, \"showlegend\": true, \"template\": {\"data\": {\"bar\": [{\"error_x\": {\"color\": \"#2a3f5f\"}, \"error_y\": {\"color\": \"#2a3f5f\"}, \"marker\": {\"line\": {\"color\": \"white\", \"width\": 0.5}}, \"type\": \"bar\"}], \"barpolar\": [{\"marker\": {\"line\": {\"color\": \"white\", \"width\": 0.5}}, \"type\": \"barpolar\"}], \"carpet\": [{\"aaxis\": {\"endlinecolor\": \"#2a3f5f\", \"gridcolor\": \"#C8D4E3\", \"linecolor\": \"#C8D4E3\", \"minorgridcolor\": \"#C8D4E3\", \"startlinecolor\": \"#2a3f5f\"}, \"baxis\": {\"endlinecolor\": \"#2a3f5f\", \"gridcolor\": \"#C8D4E3\", \"linecolor\": \"#C8D4E3\", \"minorgridcolor\": \"#C8D4E3\", \"startlinecolor\": \"#2a3f5f\"}, \"type\": \"carpet\"}], \"choropleth\": [{\"colorbar\": {\"outlinewidth\": 0, \"ticks\": \"\"}, \"type\": \"choropleth\"}], \"contour\": [{\"colorbar\": {\"outlinewidth\": 0, \"ticks\": \"\"}, \"colorscale\": [[0.0, \"#0d0887\"], [0.1111111111111111, \"#46039f\"], [0.2222222222222222, \"#7201a8\"], [0.3333333333333333, \"#9c179e\"], [0.4444444444444444, \"#bd3786\"], [0.5555555555555556, \"#d8576b\"], [0.6666666666666666, \"#ed7953\"], [0.7777777777777778, \"#fb9f3a\"], [0.8888888888888888, \"#fdca26\"], [1.0, \"#f0f921\"]], \"type\": \"contour\"}], \"contourcarpet\": [{\"colorbar\": {\"outlinewidth\": 0, \"ticks\": \"\"}, \"type\": \"contourcarpet\"}], \"heatmap\": [{\"colorbar\": {\"outlinewidth\": 0, \"ticks\": \"\"}, \"colorscale\": [[0.0, \"#0d0887\"], [0.1111111111111111, \"#46039f\"], [0.2222222222222222, \"#7201a8\"], [0.3333333333333333, \"#9c179e\"], [0.4444444444444444, \"#bd3786\"], [0.5555555555555556, \"#d8576b\"], [0.6666666666666666, \"#ed7953\"], [0.7777777777777778, \"#fb9f3a\"], [0.8888888888888888, \"#fdca26\"], [1.0, \"#f0f921\"]], \"type\": \"heatmap\"}], \"heatmapgl\": [{\"colorbar\": {\"outlinewidth\": 0, \"ticks\": \"\"}, \"colorscale\": [[0.0, \"#0d0887\"], [0.1111111111111111, \"#46039f\"], [0.2222222222222222, \"#7201a8\"], [0.3333333333333333, \"#9c179e\"], [0.4444444444444444, \"#bd3786\"], [0.5555555555555556, \"#d8576b\"], [0.6666666666666666, \"#ed7953\"], [0.7777777777777778, \"#fb9f3a\"], [0.8888888888888888, \"#fdca26\"], [1.0, \"#f0f921\"]], \"type\": \"heatmapgl\"}], \"histogram\": [{\"marker\": {\"colorbar\": {\"outlinewidth\": 0, \"ticks\": \"\"}}, \"type\": \"histogram\"}], \"histogram2d\": [{\"colorbar\": {\"outlinewidth\": 0, \"ticks\": \"\"}, \"colorscale\": [[0.0, \"#0d0887\"], [0.1111111111111111, \"#46039f\"], [0.2222222222222222, \"#7201a8\"], [0.3333333333333333, \"#9c179e\"], [0.4444444444444444, \"#bd3786\"], [0.5555555555555556, \"#d8576b\"], [0.6666666666666666, \"#ed7953\"], [0.7777777777777778, \"#fb9f3a\"], [0.8888888888888888, \"#fdca26\"], [1.0, \"#f0f921\"]], \"type\": \"histogram2d\"}], \"histogram2dcontour\": [{\"colorbar\": {\"outlinewidth\": 0, \"ticks\": \"\"}, \"colorscale\": [[0.0, \"#0d0887\"], [0.1111111111111111, \"#46039f\"], [0.2222222222222222, \"#7201a8\"], [0.3333333333333333, \"#9c179e\"], [0.4444444444444444, \"#bd3786\"], [0.5555555555555556, \"#d8576b\"], [0.6666666666666666, \"#ed7953\"], [0.7777777777777778, \"#fb9f3a\"], [0.8888888888888888, \"#fdca26\"], [1.0, \"#f0f921\"]], \"type\": \"histogram2dcontour\"}], \"mesh3d\": [{\"colorbar\": {\"outlinewidth\": 0, \"ticks\": \"\"}, \"type\": \"mesh3d\"}], \"parcoords\": [{\"line\": {\"colorbar\": {\"outlinewidth\": 0, \"ticks\": \"\"}}, \"type\": \"parcoords\"}], \"pie\": [{\"automargin\": true, \"type\": \"pie\"}], \"scatter\": [{\"marker\": {\"colorbar\": {\"outlinewidth\": 0, \"ticks\": \"\"}}, \"type\": \"scatter\"}], \"scatter3d\": [{\"line\": {\"colorbar\": {\"outlinewidth\": 0, \"ticks\": \"\"}}, \"marker\": {\"colorbar\": {\"outlinewidth\": 0, \"ticks\": \"\"}}, \"type\": \"scatter3d\"}], \"scattercarpet\": [{\"marker\": {\"colorbar\": {\"outlinewidth\": 0, \"ticks\": \"\"}}, \"type\": \"scattercarpet\"}], \"scattergeo\": [{\"marker\": {\"colorbar\": {\"outlinewidth\": 0, \"ticks\": \"\"}}, \"type\": \"scattergeo\"}], \"scattergl\": [{\"marker\": {\"colorbar\": {\"outlinewidth\": 0, \"ticks\": \"\"}}, \"type\": \"scattergl\"}], \"scattermapbox\": [{\"marker\": {\"colorbar\": {\"outlinewidth\": 0, \"ticks\": \"\"}}, \"type\": \"scattermapbox\"}], \"scatterpolar\": [{\"marker\": {\"colorbar\": {\"outlinewidth\": 0, \"ticks\": \"\"}}, \"type\": \"scatterpolar\"}], \"scatterpolargl\": [{\"marker\": {\"colorbar\": {\"outlinewidth\": 0, \"ticks\": \"\"}}, \"type\": \"scatterpolargl\"}], \"scatterternary\": [{\"marker\": {\"colorbar\": {\"outlinewidth\": 0, \"ticks\": \"\"}}, \"type\": \"scatterternary\"}], \"surface\": [{\"colorbar\": {\"outlinewidth\": 0, \"ticks\": \"\"}, \"colorscale\": [[0.0, \"#0d0887\"], [0.1111111111111111, \"#46039f\"], [0.2222222222222222, \"#7201a8\"], [0.3333333333333333, \"#9c179e\"], [0.4444444444444444, \"#bd3786\"], [0.5555555555555556, \"#d8576b\"], [0.6666666666666666, \"#ed7953\"], [0.7777777777777778, \"#fb9f3a\"], [0.8888888888888888, \"#fdca26\"], [1.0, \"#f0f921\"]], \"type\": \"surface\"}], \"table\": [{\"cells\": {\"fill\": {\"color\": \"#EBF0F8\"}, \"line\": {\"color\": \"white\"}}, \"header\": {\"fill\": {\"color\": \"#C8D4E3\"}, \"line\": {\"color\": \"white\"}}, \"type\": \"table\"}]}, \"layout\": {\"annotationdefaults\": {\"arrowcolor\": \"#2a3f5f\", \"arrowhead\": 0, \"arrowwidth\": 1}, \"coloraxis\": {\"colorbar\": {\"outlinewidth\": 0, \"ticks\": \"\"}}, \"colorscale\": {\"diverging\": [[0, \"#8e0152\"], [0.1, \"#c51b7d\"], [0.2, \"#de77ae\"], [0.3, \"#f1b6da\"], [0.4, \"#fde0ef\"], [0.5, \"#f7f7f7\"], [0.6, \"#e6f5d0\"], [0.7, \"#b8e186\"], [0.8, \"#7fbc41\"], [0.9, \"#4d9221\"], [1, \"#276419\"]], \"sequential\": [[0.0, \"#0d0887\"], [0.1111111111111111, \"#46039f\"], [0.2222222222222222, \"#7201a8\"], [0.3333333333333333, \"#9c179e\"], [0.4444444444444444, \"#bd3786\"], [0.5555555555555556, \"#d8576b\"], [0.6666666666666666, \"#ed7953\"], [0.7777777777777778, \"#fb9f3a\"], [0.8888888888888888, \"#fdca26\"], [1.0, \"#f0f921\"]], \"sequentialminus\": [[0.0, \"#0d0887\"], [0.1111111111111111, \"#46039f\"], [0.2222222222222222, \"#7201a8\"], [0.3333333333333333, \"#9c179e\"], [0.4444444444444444, \"#bd3786\"], [0.5555555555555556, \"#d8576b\"], [0.6666666666666666, \"#ed7953\"], [0.7777777777777778, \"#fb9f3a\"], [0.8888888888888888, \"#fdca26\"], [1.0, \"#f0f921\"]]}, \"colorway\": [\"#636efa\", \"#EF553B\", \"#00cc96\", \"#ab63fa\", \"#FFA15A\", \"#19d3f3\", \"#FF6692\", \"#B6E880\", \"#FF97FF\", \"#FECB52\"], \"font\": {\"color\": \"#2a3f5f\"}, \"geo\": {\"bgcolor\": \"white\", \"lakecolor\": \"white\", \"landcolor\": \"white\", \"showlakes\": true, \"showland\": true, \"subunitcolor\": \"#C8D4E3\"}, \"hoverlabel\": {\"align\": \"left\"}, \"hovermode\": \"closest\", \"mapbox\": {\"style\": \"light\"}, \"paper_bgcolor\": \"white\", \"plot_bgcolor\": \"white\", \"polar\": {\"angularaxis\": {\"gridcolor\": \"#EBF0F8\", \"linecolor\": \"#EBF0F8\", \"ticks\": \"\"}, \"bgcolor\": \"white\", \"radialaxis\": {\"gridcolor\": \"#EBF0F8\", \"linecolor\": \"#EBF0F8\", \"ticks\": \"\"}}, \"scene\": {\"xaxis\": {\"backgroundcolor\": \"white\", \"gridcolor\": \"#DFE8F3\", \"gridwidth\": 2, \"linecolor\": \"#EBF0F8\", \"showbackground\": true, \"ticks\": \"\", \"zerolinecolor\": \"#EBF0F8\"}, \"yaxis\": {\"backgroundcolor\": \"white\", \"gridcolor\": \"#DFE8F3\", \"gridwidth\": 2, \"linecolor\": \"#EBF0F8\", \"showbackground\": true, \"ticks\": \"\", \"zerolinecolor\": \"#EBF0F8\"}, \"zaxis\": {\"backgroundcolor\": \"white\", \"gridcolor\": \"#DFE8F3\", \"gridwidth\": 2, \"linecolor\": \"#EBF0F8\", \"showbackground\": true, \"ticks\": \"\", \"zerolinecolor\": \"#EBF0F8\"}}, \"shapedefaults\": {\"line\": {\"color\": \"#2a3f5f\"}}, \"ternary\": {\"aaxis\": {\"gridcolor\": \"#DFE8F3\", \"linecolor\": \"#A2B1C6\", \"ticks\": \"\"}, \"baxis\": {\"gridcolor\": \"#DFE8F3\", \"linecolor\": \"#A2B1C6\", \"ticks\": \"\"}, \"bgcolor\": \"white\", \"caxis\": {\"gridcolor\": \"#DFE8F3\", \"linecolor\": \"#A2B1C6\", \"ticks\": \"\"}}, \"title\": {\"x\": 0.05}, \"xaxis\": {\"automargin\": true, \"gridcolor\": \"#EBF0F8\", \"linecolor\": \"#EBF0F8\", \"ticks\": \"\", \"title\": {\"standoff\": 15}, \"zerolinecolor\": \"#EBF0F8\", \"zerolinewidth\": 2}, \"yaxis\": {\"automargin\": true, \"gridcolor\": \"#EBF0F8\", \"linecolor\": \"#EBF0F8\", \"ticks\": \"\", \"title\": {\"standoff\": 15}, \"zerolinecolor\": \"#EBF0F8\", \"zerolinewidth\": 2}}}},\n",
       "                        {\"responsive\": true}\n",
       "                    ).then(function(){\n",
       "                            \n",
       "var gd = document.getElementById('e03c8a50-9ef6-498c-a4e6-eca97c36c9db');\n",
       "var x = new MutationObserver(function (mutations, observer) {{\n",
       "        var display = window.getComputedStyle(gd).display;\n",
       "        if (!display || display === 'none') {{\n",
       "            console.log([gd, 'removed!']);\n",
       "            Plotly.purge(gd);\n",
       "            observer.disconnect();\n",
       "        }}\n",
       "}});\n",
       "\n",
       "// Listen for the removal of the full notebook cells\n",
       "var notebookContainer = gd.closest('#notebook-container');\n",
       "if (notebookContainer) {{\n",
       "    x.observe(notebookContainer, {childList: true});\n",
       "}}\n",
       "\n",
       "// Listen for the clearing of the current output cell\n",
       "var outputEl = gd.closest('.output');\n",
       "if (outputEl) {{\n",
       "    x.observe(outputEl, {childList: true});\n",
       "}}\n",
       "\n",
       "                        })\n",
       "                };\n",
       "                });\n",
       "            </script>\n",
       "        </div>"
      ]
     },
     "metadata": {},
     "output_type": "display_data"
    }
   ],
   "source": [
    "by_continent('South America')"
   ]
  },
  {
   "cell_type": "markdown",
   "metadata": {},
   "source": [
    "closest spanish restaurants to me"
   ]
  },
  {
   "cell_type": "code",
   "execution_count": null,
   "metadata": {},
   "outputs": [],
   "source": []
  }
 ],
 "metadata": {
  "kernelspec": {
   "display_name": "Python 3",
   "language": "python",
   "name": "python3"
  },
  "language_info": {
   "codemirror_mode": {
    "name": "ipython",
    "version": 3
   },
   "file_extension": ".py",
   "mimetype": "text/x-python",
   "name": "python",
   "nbconvert_exporter": "python",
   "pygments_lexer": "ipython3",
   "version": "3.7.5"
  }
 },
 "nbformat": 4,
 "nbformat_minor": 2
}
