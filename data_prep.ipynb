{
 "cells": [
  {
   "cell_type": "markdown",
   "metadata": {},
   "source": [
    "# Travel around the world from Berlin"
   ]
  },
  {
   "cell_type": "markdown",
   "metadata": {},
   "source": [
    "The aim of this project is to analyze whether it is possible to 'travel' around the world without moving from Berlin. Meaning: Is there at least one restaurant from each country in the world in Berlin?"
   ]
  },
  {
   "cell_type": "markdown",
   "metadata": {},
   "source": [
    "One of the keys of this project will be to get the data from the Foursquare API. Before getting to that point we need to get a list of all countries and of their denomination: eg Italy - italian. This will be really helpful when performing searches through the mentioned api."
   ]
  },
  {
   "cell_type": "code",
   "execution_count": 1,
   "metadata": {},
   "outputs": [],
   "source": [
    "import pandas as pd\n",
    "import requests\n",
    "import json\n",
    "import pycountry_convert as pc\n",
    "import getpass\n",
    "pd.set_option('display.max_rows', 6000)"
   ]
  },
  {
   "cell_type": "markdown",
   "metadata": {},
   "source": [
    "### Creating a list of countries using the library pycountry_convert"
   ]
  },
  {
   "cell_type": "code",
   "execution_count": 2,
   "metadata": {},
   "outputs": [],
   "source": [
    "countries=[val['alpha_2'] for key,val in pc.map_countries().items()]\n",
    "countries=list(dict.fromkeys(countries))\n",
    "countries=[pc.country_alpha2_to_country_name(c,cn_name_format=\"default\") for c in countries]"
   ]
  },
  {
   "cell_type": "code",
   "execution_count": 3,
   "metadata": {},
   "outputs": [],
   "source": [
    "countries=countries+['Malvinas',\"Macao\",\"Kurdistan\"]"
   ]
  },
  {
   "cell_type": "code",
   "execution_count": 4,
   "metadata": {},
   "outputs": [],
   "source": [
    "countries=pd.DataFrame(countries,columns=['country'])"
   ]
  },
  {
   "cell_type": "markdown",
   "metadata": {},
   "source": [
    "##### Changing some names of countries"
   ]
  },
  {
   "cell_type": "code",
   "execution_count": 5,
   "metadata": {},
   "outputs": [],
   "source": [
    "to_change_country={'Bahamas, The':'Bahamas',\n",
    "                   'Brunei Darussalam':'Brunei',\n",
    "                   'Moldova, Republic of':'Moldova',\n",
    "                   'Bolivia, Plurinational State of':'Bolivia',\n",
    "                   'Åland Islands':'Aland Islands',\n",
    "                   'Falkland Islands (Malvinas)':'Malvinas',\n",
    "                   'Micronesia, Federated States of':'Micronesia',\n",
    "                   'Cocos (Keeling) Islands':'Cocos Islands',\n",
    "                   'Congo, The Democratic Republic of the':'Dem. Rep. Congo',\n",
    "                   'Egypt, Arab Rep.':'Egypt',\n",
    "                   'Micronesia, Fed. Sts.':'Micronesia',\n",
    "                   'Gambia, The':'Gambia',\n",
    "                   'Hong Kong SAR, China':'Hong Kong',\n",
    "                   'Hong Kong, China':'Hong Kong',\n",
    "                   'Iran, Islamic Republic of':'Iran',\n",
    "                   \"Lao People's Democratic Republic\":\"Laos\",\n",
    "                   'Kyrgyz Republic':'Kyrgyzstan',\n",
    "                   'Syrian Arab Republic':'Syria',\n",
    "                   'Korea, Rep.':'South Korea',\n",
    "                   'Saint Martin (French part)':'St. Martin',\n",
    "                   'Sint Maarten (Dutch part)':'St. Martin',\n",
    "                   'Macedonia, FYR':'Macedonia',\n",
    "                   'Korea, Republic of':'Korea',\n",
    "                   'Korea, Dem. Rep.':'North Korea',\n",
    "                   \"Korea, Democratic People's Republic of\":\"North Korea\",\n",
    "                   'Palestine, State of':'Palestine',\n",
    "                   'Russian Federation':'Russia',\n",
    "                   'Slovak Republic':'Slovakia',\n",
    "                   'Syrian Arab Republic':'Syria',\n",
    "                   'Czechia':'Czech Republic',\n",
    "                   'Taiwan, Province of China':\"Taiwan\",\n",
    "                   'Venezuela, Bolivarian Republic of':'Venezuela',\n",
    "                   'Viet Nam':'Vietnam',\n",
    "                   'Réunion':'Reunion',\n",
    "                   'Virgin Islands, British':'Virgin Islands',\n",
    "                   'Virgin Islands, U.S.':'Virgin Islands',\n",
    "                   'Tanzania, United Republic of':'Tanzania',\n",
    "                   'Yemen, Rep.':'Yemen'\n",
    "                  }"
   ]
  },
  {
   "cell_type": "markdown",
   "metadata": {},
   "source": [
    "##### Replcaing old names with new names"
   ]
  },
  {
   "cell_type": "code",
   "execution_count": 6,
   "metadata": {},
   "outputs": [
    {
     "data": {
      "text/html": [
       "<div>\n",
       "<style scoped>\n",
       "    .dataframe tbody tr th:only-of-type {\n",
       "        vertical-align: middle;\n",
       "    }\n",
       "\n",
       "    .dataframe tbody tr th {\n",
       "        vertical-align: top;\n",
       "    }\n",
       "\n",
       "    .dataframe thead th {\n",
       "        text-align: right;\n",
       "    }\n",
       "</style>\n",
       "<table border=\"1\" class=\"dataframe\">\n",
       "  <thead>\n",
       "    <tr style=\"text-align: right;\">\n",
       "      <th></th>\n",
       "      <th>country</th>\n",
       "      <th>new</th>\n",
       "    </tr>\n",
       "  </thead>\n",
       "  <tbody>\n",
       "    <tr>\n",
       "      <th>0</th>\n",
       "      <td>Aruba</td>\n",
       "      <td>1</td>\n",
       "    </tr>\n",
       "    <tr>\n",
       "      <th>1</th>\n",
       "      <td>Afghanistan</td>\n",
       "      <td>1</td>\n",
       "    </tr>\n",
       "    <tr>\n",
       "      <th>2</th>\n",
       "      <td>Angola</td>\n",
       "      <td>1</td>\n",
       "    </tr>\n",
       "    <tr>\n",
       "      <th>3</th>\n",
       "      <td>Anguilla</td>\n",
       "      <td>1</td>\n",
       "    </tr>\n",
       "    <tr>\n",
       "      <th>4</th>\n",
       "      <td>Aland Islands</td>\n",
       "      <td>1</td>\n",
       "    </tr>\n",
       "  </tbody>\n",
       "</table>\n",
       "</div>"
      ],
      "text/plain": [
       "         country  new\n",
       "0          Aruba    1\n",
       "1    Afghanistan    1\n",
       "2         Angola    1\n",
       "3       Anguilla    1\n",
       "4  Aland Islands    1"
      ]
     },
     "execution_count": 6,
     "metadata": {},
     "output_type": "execute_result"
    }
   ],
   "source": [
    "countries.replace({\"country\": to_change_country},inplace=True)\n",
    "countries[\"new\"]=1\n",
    "countries.head()"
   ]
  },
  {
   "cell_type": "markdown",
   "metadata": {},
   "source": [
    "### Importing a list of denominations by country using a list based on the work done by knowitall in github\n",
    "https://github.com/knowitall/chunkedextractor/blob/master/src/main/resources/edu/knowitall/chunkedextractor/demonyms.csv"
   ]
  },
  {
   "cell_type": "code",
   "execution_count": 7,
   "metadata": {},
   "outputs": [
    {
     "data": {
      "text/html": [
       "<div>\n",
       "<style scoped>\n",
       "    .dataframe tbody tr th:only-of-type {\n",
       "        vertical-align: middle;\n",
       "    }\n",
       "\n",
       "    .dataframe tbody tr th {\n",
       "        vertical-align: top;\n",
       "    }\n",
       "\n",
       "    .dataframe thead th {\n",
       "        text-align: right;\n",
       "    }\n",
       "</style>\n",
       "<table border=\"1\" class=\"dataframe\">\n",
       "  <thead>\n",
       "    <tr style=\"text-align: right;\">\n",
       "      <th></th>\n",
       "      <th>deno</th>\n",
       "      <th>country</th>\n",
       "    </tr>\n",
       "  </thead>\n",
       "  <tbody>\n",
       "    <tr>\n",
       "      <th>0</th>\n",
       "      <td>Aalborgenser</td>\n",
       "      <td>Aalborg</td>\n",
       "    </tr>\n",
       "    <tr>\n",
       "      <th>1</th>\n",
       "      <td>Aberdonian</td>\n",
       "      <td>Aberdeen</td>\n",
       "    </tr>\n",
       "    <tr>\n",
       "      <th>2</th>\n",
       "      <td>Abkhaz</td>\n",
       "      <td>Abkhazia</td>\n",
       "    </tr>\n",
       "    <tr>\n",
       "      <th>3</th>\n",
       "      <td>Abkhazian</td>\n",
       "      <td>Abkhazia</td>\n",
       "    </tr>\n",
       "    <tr>\n",
       "      <th>4</th>\n",
       "      <td>Abrenian</td>\n",
       "      <td>Abra</td>\n",
       "    </tr>\n",
       "  </tbody>\n",
       "</table>\n",
       "</div>"
      ],
      "text/plain": [
       "           deno   country\n",
       "0  Aalborgenser   Aalborg\n",
       "1    Aberdonian  Aberdeen\n",
       "2        Abkhaz  Abkhazia\n",
       "3     Abkhazian  Abkhazia\n",
       "4      Abrenian      Abra"
      ]
     },
     "execution_count": 7,
     "metadata": {},
     "output_type": "execute_result"
    }
   ],
   "source": [
    "deno=pd.read_csv(\"input/denonyms.csv\",sep=\"\\t\",header=None,names=[\"deno\",\"country\"])\n",
    "deno.head()"
   ]
  },
  {
   "cell_type": "markdown",
   "metadata": {},
   "source": [
    "### Merging both list but keeping countries that have no match in the deno df"
   ]
  },
  {
   "cell_type": "code",
   "execution_count": 8,
   "metadata": {},
   "outputs": [
    {
     "data": {
      "text/html": [
       "<div>\n",
       "<style scoped>\n",
       "    .dataframe tbody tr th:only-of-type {\n",
       "        vertical-align: middle;\n",
       "    }\n",
       "\n",
       "    .dataframe tbody tr th {\n",
       "        vertical-align: top;\n",
       "    }\n",
       "\n",
       "    .dataframe thead th {\n",
       "        text-align: right;\n",
       "    }\n",
       "</style>\n",
       "<table border=\"1\" class=\"dataframe\">\n",
       "  <thead>\n",
       "    <tr style=\"text-align: right;\">\n",
       "      <th></th>\n",
       "      <th>country</th>\n",
       "      <th>new</th>\n",
       "      <th>deno</th>\n",
       "    </tr>\n",
       "  </thead>\n",
       "  <tbody>\n",
       "    <tr>\n",
       "      <th>0</th>\n",
       "      <td>Aruba</td>\n",
       "      <td>1</td>\n",
       "      <td>Aruba</td>\n",
       "    </tr>\n",
       "    <tr>\n",
       "      <th>1</th>\n",
       "      <td>Afghanistan</td>\n",
       "      <td>1</td>\n",
       "      <td>Afghan</td>\n",
       "    </tr>\n",
       "    <tr>\n",
       "      <th>2</th>\n",
       "      <td>Angola</td>\n",
       "      <td>1</td>\n",
       "      <td>Angolan</td>\n",
       "    </tr>\n",
       "    <tr>\n",
       "      <th>3</th>\n",
       "      <td>Anguilla</td>\n",
       "      <td>1</td>\n",
       "      <td>Anguilla</td>\n",
       "    </tr>\n",
       "    <tr>\n",
       "      <th>4</th>\n",
       "      <td>Aland Islands</td>\n",
       "      <td>1</td>\n",
       "      <td>Aland Islands</td>\n",
       "    </tr>\n",
       "  </tbody>\n",
       "</table>\n",
       "</div>"
      ],
      "text/plain": [
       "         country  new           deno\n",
       "0          Aruba    1          Aruba\n",
       "1    Afghanistan    1         Afghan\n",
       "2         Angola    1        Angolan\n",
       "3       Anguilla    1       Anguilla\n",
       "4  Aland Islands    1  Aland Islands"
      ]
     },
     "execution_count": 8,
     "metadata": {},
     "output_type": "execute_result"
    }
   ],
   "source": [
    "list_countries=countries.merge(deno,how=\"left\",left_on=\"country\",right_on=\"country\")\n",
    "list_countries.head()"
   ]
  },
  {
   "cell_type": "markdown",
   "metadata": {},
   "source": [
    "### Importing a list of the categories of restaurants defined by Foursquare"
   ]
  },
  {
   "cell_type": "code",
   "execution_count": 9,
   "metadata": {},
   "outputs": [
    {
     "data": {
      "text/html": [
       "<div>\n",
       "<style scoped>\n",
       "    .dataframe tbody tr th:only-of-type {\n",
       "        vertical-align: middle;\n",
       "    }\n",
       "\n",
       "    .dataframe tbody tr th {\n",
       "        vertical-align: top;\n",
       "    }\n",
       "\n",
       "    .dataframe thead th {\n",
       "        text-align: right;\n",
       "    }\n",
       "</style>\n",
       "<table border=\"1\" class=\"dataframe\">\n",
       "  <thead>\n",
       "    <tr style=\"text-align: right;\">\n",
       "      <th></th>\n",
       "      <th>type</th>\n",
       "      <th>food</th>\n",
       "      <th>id</th>\n",
       "    </tr>\n",
       "  </thead>\n",
       "  <tbody>\n",
       "    <tr>\n",
       "      <th>0</th>\n",
       "      <td>country</td>\n",
       "      <td>Food</td>\n",
       "      <td>4d4b7105d754a06374d81259</td>\n",
       "    </tr>\n",
       "    <tr>\n",
       "      <th>1</th>\n",
       "      <td>country</td>\n",
       "      <td>Afghan</td>\n",
       "      <td>503288ae91d4c4b30a586d67</td>\n",
       "    </tr>\n",
       "    <tr>\n",
       "      <th>2</th>\n",
       "      <td>country</td>\n",
       "      <td>African</td>\n",
       "      <td>4bf58dd8d48988d1c8941735</td>\n",
       "    </tr>\n",
       "    <tr>\n",
       "      <th>3</th>\n",
       "      <td>country</td>\n",
       "      <td>Ethiopian</td>\n",
       "      <td>4bf58dd8d48988d10a941735</td>\n",
       "    </tr>\n",
       "    <tr>\n",
       "      <th>4</th>\n",
       "      <td>country</td>\n",
       "      <td>American</td>\n",
       "      <td>4bf58dd8d48988d14e941735</td>\n",
       "    </tr>\n",
       "  </tbody>\n",
       "</table>\n",
       "</div>"
      ],
      "text/plain": [
       "      type       food                        id\n",
       "0  country       Food  4d4b7105d754a06374d81259\n",
       "1  country     Afghan  503288ae91d4c4b30a586d67\n",
       "2  country    African  4bf58dd8d48988d1c8941735\n",
       "3  country  Ethiopian  4bf58dd8d48988d10a941735\n",
       "4  country   American  4bf58dd8d48988d14e941735"
      ]
     },
     "execution_count": 9,
     "metadata": {},
     "output_type": "execute_result"
    }
   ],
   "source": [
    "rest_categories=pd.read_csv(\"input/rest_categories.csv\",header=None,names=[\"type\",\"food\",\"id\"])\n",
    "rest_categories.head()"
   ]
  },
  {
   "cell_type": "markdown",
   "metadata": {},
   "source": [
    "#### Merging the category of restaurants df with the list of countries df"
   ]
  },
  {
   "cell_type": "code",
   "execution_count": 10,
   "metadata": {},
   "outputs": [
    {
     "data": {
      "text/html": [
       "<div>\n",
       "<style scoped>\n",
       "    .dataframe tbody tr th:only-of-type {\n",
       "        vertical-align: middle;\n",
       "    }\n",
       "\n",
       "    .dataframe tbody tr th {\n",
       "        vertical-align: top;\n",
       "    }\n",
       "\n",
       "    .dataframe thead th {\n",
       "        text-align: right;\n",
       "    }\n",
       "</style>\n",
       "<table border=\"1\" class=\"dataframe\">\n",
       "  <thead>\n",
       "    <tr style=\"text-align: right;\">\n",
       "      <th></th>\n",
       "      <th>country</th>\n",
       "      <th>new</th>\n",
       "      <th>deno</th>\n",
       "      <th>type</th>\n",
       "      <th>food</th>\n",
       "      <th>id</th>\n",
       "    </tr>\n",
       "  </thead>\n",
       "  <tbody>\n",
       "    <tr>\n",
       "      <th>0</th>\n",
       "      <td>Aruba</td>\n",
       "      <td>1</td>\n",
       "      <td>Aruba</td>\n",
       "      <td>empty</td>\n",
       "      <td>empty</td>\n",
       "      <td>empty</td>\n",
       "    </tr>\n",
       "    <tr>\n",
       "      <th>1</th>\n",
       "      <td>Afghanistan</td>\n",
       "      <td>1</td>\n",
       "      <td>Afghan</td>\n",
       "      <td>country</td>\n",
       "      <td>Afghan</td>\n",
       "      <td>503288ae91d4c4b30a586d67</td>\n",
       "    </tr>\n",
       "    <tr>\n",
       "      <th>2</th>\n",
       "      <td>Angola</td>\n",
       "      <td>1</td>\n",
       "      <td>Angolan</td>\n",
       "      <td>empty</td>\n",
       "      <td>empty</td>\n",
       "      <td>empty</td>\n",
       "    </tr>\n",
       "    <tr>\n",
       "      <th>3</th>\n",
       "      <td>Anguilla</td>\n",
       "      <td>1</td>\n",
       "      <td>Anguilla</td>\n",
       "      <td>empty</td>\n",
       "      <td>empty</td>\n",
       "      <td>empty</td>\n",
       "    </tr>\n",
       "    <tr>\n",
       "      <th>4</th>\n",
       "      <td>Aland Islands</td>\n",
       "      <td>1</td>\n",
       "      <td>Aland Islands</td>\n",
       "      <td>empty</td>\n",
       "      <td>empty</td>\n",
       "      <td>empty</td>\n",
       "    </tr>\n",
       "  </tbody>\n",
       "</table>\n",
       "</div>"
      ],
      "text/plain": [
       "         country new           deno     type    food                        id\n",
       "0          Aruba   1          Aruba    empty   empty                     empty\n",
       "1    Afghanistan   1         Afghan  country  Afghan  503288ae91d4c4b30a586d67\n",
       "2         Angola   1        Angolan    empty   empty                     empty\n",
       "3       Anguilla   1       Anguilla    empty   empty                     empty\n",
       "4  Aland Islands   1  Aland Islands    empty   empty                     empty"
      ]
     },
     "execution_count": 10,
     "metadata": {},
     "output_type": "execute_result"
    }
   ],
   "source": [
    "restaurants=list_countries.merge(rest_categories,how=\"outer\",left_on=\"deno\",right_on=\"food\")\n",
    "restaurants.fillna(\"empty\",inplace=True)\n",
    "restaurants=restaurants.drop_duplicates().reset_index(drop=True)\n",
    "restaurants.head()"
   ]
  },
  {
   "cell_type": "markdown",
   "metadata": {},
   "source": [
    "##### We export the restaurants df to pickle 'cause we might need it later to check how many countries are not represented"
   ]
  },
  {
   "cell_type": "code",
   "execution_count": 11,
   "metadata": {},
   "outputs": [],
   "source": [
    "restaurants.to_pickle(\"data/countries_complete.pkl\")"
   ]
  },
  {
   "cell_type": "markdown",
   "metadata": {},
   "source": [
    "## Calling the API doing a query by country and by denomination"
   ]
  },
  {
   "cell_type": "code",
   "execution_count": 103,
   "metadata": {},
   "outputs": [
    {
     "name": "stdout",
     "output_type": "stream",
     "text": [
      "········\n"
     ]
    }
   ],
   "source": [
    "client_id=getpass.getpass()"
   ]
  },
  {
   "cell_type": "code",
   "execution_count": 104,
   "metadata": {},
   "outputs": [
    {
     "name": "stdout",
     "output_type": "stream",
     "text": [
      "········\n"
     ]
    }
   ],
   "source": [
    "client_secret=getpass.getpass()"
   ]
  },
  {
   "cell_type": "code",
   "execution_count": 111,
   "metadata": {},
   "outputs": [
    {
     "ename": "KeyError",
     "evalue": "'venues'",
     "output_type": "error",
     "traceback": [
      "\u001b[0;31m---------------------------------------------------------------------------\u001b[0m",
      "\u001b[0;31mKeyError\u001b[0m                                  Traceback (most recent call last)",
      "\u001b[0;32m<ipython-input-111-4a8e15bab154>\u001b[0m in \u001b[0;36m<module>\u001b[0;34m\u001b[0m\n\u001b[1;32m     44\u001b[0m         \u001b[0mdata\u001b[0m \u001b[0;34m=\u001b[0m \u001b[0mjson\u001b[0m\u001b[0;34m.\u001b[0m\u001b[0mloads\u001b[0m\u001b[0;34m(\u001b[0m\u001b[0mresp\u001b[0m\u001b[0;34m.\u001b[0m\u001b[0mtext\u001b[0m\u001b[0;34m)\u001b[0m\u001b[0;34m\u001b[0m\u001b[0;34m\u001b[0m\u001b[0m\n\u001b[1;32m     45\u001b[0m \u001b[0;34m\u001b[0m\u001b[0m\n\u001b[0;32m---> 46\u001b[0;31m         \u001b[0;32mfor\u001b[0m \u001b[0mx\u001b[0m \u001b[0;32min\u001b[0m \u001b[0mrange\u001b[0m\u001b[0;34m(\u001b[0m\u001b[0mlen\u001b[0m\u001b[0;34m(\u001b[0m\u001b[0mdata\u001b[0m\u001b[0;34m[\u001b[0m\u001b[0;34m\"response\"\u001b[0m\u001b[0;34m]\u001b[0m\u001b[0;34m[\u001b[0m\u001b[0;34m\"venues\"\u001b[0m\u001b[0;34m]\u001b[0m\u001b[0;34m)\u001b[0m\u001b[0;34m)\u001b[0m\u001b[0;34m:\u001b[0m\u001b[0;34m\u001b[0m\u001b[0;34m\u001b[0m\u001b[0m\n\u001b[0m\u001b[1;32m     47\u001b[0m             \u001b[0mname\u001b[0m\u001b[0;34m=\u001b[0m\u001b[0mdata\u001b[0m\u001b[0;34m[\u001b[0m\u001b[0;34m\"response\"\u001b[0m\u001b[0;34m]\u001b[0m\u001b[0;34m[\u001b[0m\u001b[0;34m\"venues\"\u001b[0m\u001b[0;34m]\u001b[0m\u001b[0;34m[\u001b[0m\u001b[0mx\u001b[0m\u001b[0;34m]\u001b[0m\u001b[0;34m[\u001b[0m\u001b[0;34m\"name\"\u001b[0m\u001b[0;34m]\u001b[0m\u001b[0;34m\u001b[0m\u001b[0;34m\u001b[0m\u001b[0m\n\u001b[1;32m     48\u001b[0m             \u001b[0mlat\u001b[0m\u001b[0;34m=\u001b[0m\u001b[0mdata\u001b[0m\u001b[0;34m[\u001b[0m\u001b[0;34m\"response\"\u001b[0m\u001b[0;34m]\u001b[0m\u001b[0;34m[\u001b[0m\u001b[0;34m\"venues\"\u001b[0m\u001b[0;34m]\u001b[0m\u001b[0;34m[\u001b[0m\u001b[0mx\u001b[0m\u001b[0;34m]\u001b[0m\u001b[0;34m[\u001b[0m\u001b[0;34m\"location\"\u001b[0m\u001b[0;34m]\u001b[0m\u001b[0;34m[\u001b[0m\u001b[0;34m\"lat\"\u001b[0m\u001b[0;34m]\u001b[0m\u001b[0;34m\u001b[0m\u001b[0;34m\u001b[0m\u001b[0m\n",
      "\u001b[0;31mKeyError\u001b[0m: 'venues'"
     ]
    }
   ],
   "source": [
    "url = 'https://api.foursquare.com/v2/venues/search'\n",
    "\n",
    "new_df=pd.DataFrame(columns=[\"name\",\"lat\",\"lng\",'query',\"category\"],dtype=object)\n",
    "for rest in list(range(248)):\n",
    "    if (restaurants[\"country\"].iloc[rest]==restaurants[\"deno\"].iloc[rest])|(restaurants[\"deno\"].iloc[rest]==\"empty\"):\n",
    "        query=restaurants[\"country\"].iloc[rest]\n",
    "        params = dict(\n",
    "            client_id=client_id,\n",
    "            client_secret=client_secret,\n",
    "            v='20191203',\n",
    "            near=\"Berlin\",\n",
    "            categoryId=\"4d4b7105d754a06374d81259\",\n",
    "            sw=\"13.0284,52.3712\",\n",
    "            ne=\"13.7141,52.6504\",\n",
    "            query=query,\n",
    "            limit=50,\n",
    "            offset=50)\n",
    "        resp = requests.get(url=url, params=params)\n",
    "        data = json.loads(resp.text)\n",
    "        \n",
    "        for x in range(len(data[\"response\"][\"venues\"])):\n",
    "            name=data[\"response\"][\"venues\"][x][\"name\"]\n",
    "            lat=data[\"response\"][\"venues\"][x][\"location\"][\"lat\"]\n",
    "            lng=data[\"response\"][\"venues\"][x][\"location\"][\"lng\"]\n",
    "            cat=data[\"response\"][\"venues\"][x][\"categories\"][0][\"name\"]\n",
    "            data_df=pd.DataFrame(data=[[name,lat,lng,query,cat]],columns=[\"name\",\"lat\",\"lng\",'query',\"category\"],dtype=object)\n",
    "            new_df=new_df.append(data_df,ignore_index=True)\n",
    "    \n",
    "    else:\n",
    "        #looking by counrty eg Italy\n",
    "        query=restaurants[\"country\"].iloc[rest]\n",
    "        params = dict(\n",
    "            client_id=client_id,\n",
    "            client_secret=client_secret,\n",
    "            v='20191203',\n",
    "            near=\"Berlin\",\n",
    "            categoryId=\"4d4b7105d754a06374d81259\",\n",
    "            sw=\"13.0284,52.3712\",\n",
    "            ne=\"13.7141,52.6504\",\n",
    "            query=query,\n",
    "            limit=50,\n",
    "            offset=50)\n",
    "        resp = requests.get(url=url, params=params)\n",
    "        data = json.loads(resp.text)\n",
    "        \n",
    "        for x in range(len(data[\"response\"][\"venues\"])):\n",
    "            name=data[\"response\"][\"venues\"][x][\"name\"]\n",
    "            lat=data[\"response\"][\"venues\"][x][\"location\"][\"lat\"]\n",
    "            lng=data[\"response\"][\"venues\"][x][\"location\"][\"lng\"]\n",
    "            cat=data[\"response\"][\"venues\"][x][\"categories\"][0][\"name\"]\n",
    "            data_df=pd.DataFrame(data=[[name,lat,lng,query,cat]],columns=[\"name\",\"lat\",\"lng\",'query',\"category\"],dtype=object)\n",
    "            new_df=new_df.append(data_df,ignore_index=True)\n",
    "        \n",
    "        #looking by nationality eg italian\n",
    "        query2=restaurants[\"deno\"].iloc[rest]\n",
    "        params = dict(\n",
    "            client_id=client_id,\n",
    "            client_secret=client_secret,\n",
    "            v='20191203',\n",
    "            near=\"Berlin\",\n",
    "            categoryId=\"4d4b7105d754a06374d81259\",\n",
    "            sw=\"13.0284,52.3712\",\n",
    "            ne=\"13.7141,52.6504\",\n",
    "            query=query2,\n",
    "            limit=50,\n",
    "            offset=50)\n",
    "        resp = requests.get(url=url, params=params)\n",
    "        data = json.loads(resp.text)\n",
    "        try:\n",
    "            for x in range(len(data[\"response\"][\"venues\"])):\n",
    "                name=data[\"response\"][\"venues\"][x][\"name\"]\n",
    "                lat=data[\"response\"][\"venues\"][x][\"location\"][\"lat\"]\n",
    "                lng=data[\"response\"][\"venues\"][x][\"location\"][\"lng\"]\n",
    "                cat=data[\"response\"][\"venues\"][x][\"categories\"][0][\"name\"]\n",
    "                data_df=pd.DataFrame(data=[[name,lat,lng,query,cat]],columns=[\"name\",\"lat\",\"lng\",'query',\"category\"],dtype=object)\n",
    "                new_df=new_df.append(data_df,ignore_index=True)\n",
    "        except:\n",
    "            continue"
   ]
  },
  {
   "cell_type": "code",
   "execution_count": 112,
   "metadata": {},
   "outputs": [
    {
     "data": {
      "text/plain": [
       "{'meta': {'code': 429,\n",
       "  'errorType': 'quota_exceeded',\n",
       "  'errorDetail': 'Quota exceeded',\n",
       "  'requestId': '5dea6d5729ce6a001b847590'},\n",
       " 'response': {}}"
      ]
     },
     "execution_count": 112,
     "metadata": {},
     "output_type": "execute_result"
    }
   ],
   "source": [
    "data"
   ]
  },
  {
   "cell_type": "markdown",
   "metadata": {},
   "source": [
    "### Saving the resulting df into pkl so we dont need to call again the API if restarting the kernel"
   ]
  },
  {
   "cell_type": "code",
   "execution_count": 15,
   "metadata": {},
   "outputs": [],
   "source": [
    "new_df.to_pickle(\"data/data_restaurants_api.pkl\")"
   ]
  },
  {
   "cell_type": "code",
   "execution_count": 11,
   "metadata": {},
   "outputs": [
    {
     "data": {
      "text/html": [
       "<div>\n",
       "<style scoped>\n",
       "    .dataframe tbody tr th:only-of-type {\n",
       "        vertical-align: middle;\n",
       "    }\n",
       "\n",
       "    .dataframe tbody tr th {\n",
       "        vertical-align: top;\n",
       "    }\n",
       "\n",
       "    .dataframe thead th {\n",
       "        text-align: right;\n",
       "    }\n",
       "</style>\n",
       "<table border=\"1\" class=\"dataframe\">\n",
       "  <thead>\n",
       "    <tr style=\"text-align: right;\">\n",
       "      <th></th>\n",
       "      <th>name</th>\n",
       "      <th>lat</th>\n",
       "      <th>lng</th>\n",
       "      <th>query</th>\n",
       "      <th>category</th>\n",
       "    </tr>\n",
       "  </thead>\n",
       "  <tbody>\n",
       "    <tr>\n",
       "      <th>0</th>\n",
       "      <td>Safrani Afghan Und Persian Halal Food</td>\n",
       "      <td>52.5103</td>\n",
       "      <td>13.3055</td>\n",
       "      <td>Afghanistan</td>\n",
       "      <td>Afghan Restaurant</td>\n",
       "    </tr>\n",
       "    <tr>\n",
       "      <th>1</th>\n",
       "      <td>Al-Ándalus</td>\n",
       "      <td>52.5335</td>\n",
       "      <td>13.4283</td>\n",
       "      <td>Aland Islands</td>\n",
       "      <td>Tapas Restaurant</td>\n",
       "    </tr>\n",
       "    <tr>\n",
       "      <th>2</th>\n",
       "      <td>Al-andalous</td>\n",
       "      <td>52.4849</td>\n",
       "      <td>13.4342</td>\n",
       "      <td>Aland Islands</td>\n",
       "      <td>Falafel Restaurant</td>\n",
       "    </tr>\n",
       "    <tr>\n",
       "      <th>3</th>\n",
       "      <td>Al Andalos</td>\n",
       "      <td>52.4857</td>\n",
       "      <td>13.4313</td>\n",
       "      <td>Aland Islands</td>\n",
       "      <td>Falafel Restaurant</td>\n",
       "    </tr>\n",
       "    <tr>\n",
       "      <th>4</th>\n",
       "      <td>American Diner</td>\n",
       "      <td>52.5346</td>\n",
       "      <td>13.4193</td>\n",
       "      <td>American Samoa</td>\n",
       "      <td>Diner</td>\n",
       "    </tr>\n",
       "  </tbody>\n",
       "</table>\n",
       "</div>"
      ],
      "text/plain": [
       "                                    name      lat      lng           query  \\\n",
       "0  Safrani Afghan Und Persian Halal Food  52.5103  13.3055     Afghanistan   \n",
       "1                             Al-Ándalus  52.5335  13.4283   Aland Islands   \n",
       "2                            Al-andalous  52.4849  13.4342   Aland Islands   \n",
       "3                             Al Andalos  52.4857  13.4313   Aland Islands   \n",
       "4                         American Diner  52.5346  13.4193  American Samoa   \n",
       "\n",
       "             category  \n",
       "0   Afghan Restaurant  \n",
       "1    Tapas Restaurant  \n",
       "2  Falafel Restaurant  \n",
       "3  Falafel Restaurant  \n",
       "4               Diner  "
      ]
     },
     "execution_count": 11,
     "metadata": {},
     "output_type": "execute_result"
    }
   ],
   "source": [
    "ber_rest=pd.read_pickle(\"data/data_restaurants_api.pkl\")\n",
    "ber_rest.head()"
   ]
  },
  {
   "cell_type": "markdown",
   "metadata": {},
   "source": [
    "## Calling the API using the ids of the different categories defined by Foursquare"
   ]
  },
  {
   "cell_type": "code",
   "execution_count": 19,
   "metadata": {},
   "outputs": [
    {
     "name": "stdout",
     "output_type": "stream",
     "text": [
      "not possible capturing category for 274,4\n"
     ]
    }
   ],
   "source": [
    "url = 'https://api.foursquare.com/v2/venues/search'\n",
    "\n",
    "cat_new_df=pd.DataFrame(columns=[\"name\",\"lat\",\"lng\",'query',\"category\"],dtype=object)\n",
    "\n",
    "for rest in range(len(restaurants)):\n",
    "    if (restaurants[\"id\"].iloc[rest]!=\"empty\"):\n",
    "        categoryId=restaurants[\"id\"].iloc[rest]\n",
    "        query=restaurants[\"food\"].iloc[rest]\n",
    "        params = dict(\n",
    "                client_id=client_id,\n",
    "                client_secret=client_secret,\n",
    "                v='20191203',\n",
    "                near=\"Berlin\",\n",
    "                categoryId=categoryId,\n",
    "                sw=\"13.0284,52.3712\",\n",
    "                ne=\"13.7141,52.6504\",\n",
    "                limit=50,\n",
    "                offset=50)\n",
    "        resp = requests.get(url=url, params=params)\n",
    "        data = json.loads(resp.text)\n",
    "            \n",
    "        for x in range(len(data[\"response\"][\"venues\"])):\n",
    "            name=data[\"response\"][\"venues\"][x][\"name\"]\n",
    "            lat=data[\"response\"][\"venues\"][x][\"location\"][\"lat\"]\n",
    "            lng=data[\"response\"][\"venues\"][x][\"location\"][\"lng\"]\n",
    "            try:\n",
    "                cat=data[\"response\"][\"venues\"][x][\"categories\"][0][\"name\"]\n",
    "            except:\n",
    "                print(f\"not possible capturing category for {rest},{x}\")\n",
    "            data_df=pd.DataFrame(data=[[name,lat,lng,query,cat]],columns=[\"name\",\"lat\",\"lng\",'query',\"category\"],dtype=object)\n",
    "            cat_new_df=cat_new_df.append(data_df,ignore_index=True)"
   ]
  },
  {
   "cell_type": "markdown",
   "metadata": {},
   "source": [
    "#### Saving the resulting df into pkl so we dont need to call again the API if restarting the kernel"
   ]
  },
  {
   "cell_type": "code",
   "execution_count": 22,
   "metadata": {},
   "outputs": [],
   "source": [
    "cat_new_df.to_pickle(\"data/cat_data_restaurants_api.pkl\")"
   ]
  },
  {
   "cell_type": "code",
   "execution_count": 12,
   "metadata": {
    "scrolled": true
   },
   "outputs": [
    {
     "data": {
      "text/html": [
       "<div>\n",
       "<style scoped>\n",
       "    .dataframe tbody tr th:only-of-type {\n",
       "        vertical-align: middle;\n",
       "    }\n",
       "\n",
       "    .dataframe tbody tr th {\n",
       "        vertical-align: top;\n",
       "    }\n",
       "\n",
       "    .dataframe thead th {\n",
       "        text-align: right;\n",
       "    }\n",
       "</style>\n",
       "<table border=\"1\" class=\"dataframe\">\n",
       "  <thead>\n",
       "    <tr style=\"text-align: right;\">\n",
       "      <th></th>\n",
       "      <th>name</th>\n",
       "      <th>lat</th>\n",
       "      <th>lng</th>\n",
       "      <th>query</th>\n",
       "      <th>category</th>\n",
       "    </tr>\n",
       "  </thead>\n",
       "  <tbody>\n",
       "    <tr>\n",
       "      <th>2585</th>\n",
       "      <td>Little Green Rabbit</td>\n",
       "      <td>52.5142</td>\n",
       "      <td>13.3955</td>\n",
       "      <td>Soup Place</td>\n",
       "      <td>Salad Place</td>\n",
       "    </tr>\n",
       "    <tr>\n",
       "      <th>2586</th>\n",
       "      <td>Suppengrün</td>\n",
       "      <td>52.512</td>\n",
       "      <td>13.4127</td>\n",
       "      <td>Soup Place</td>\n",
       "      <td>Soup Place</td>\n",
       "    </tr>\n",
       "    <tr>\n",
       "      <th>2587</th>\n",
       "      <td>Saigoncomnieu</td>\n",
       "      <td>52.4987</td>\n",
       "      <td>13.3571</td>\n",
       "      <td>Soup Place</td>\n",
       "      <td>Vietnamese Restaurant</td>\n",
       "    </tr>\n",
       "    <tr>\n",
       "      <th>2588</th>\n",
       "      <td>Suppen-Cult</td>\n",
       "      <td>52.536</td>\n",
       "      <td>13.4224</td>\n",
       "      <td>Soup Place</td>\n",
       "      <td>Soup Place</td>\n",
       "    </tr>\n",
       "    <tr>\n",
       "      <th>2589</th>\n",
       "      <td>Die Löffelei</td>\n",
       "      <td>52.5028</td>\n",
       "      <td>13.3655</td>\n",
       "      <td>Soup Place</td>\n",
       "      <td>Soup Place</td>\n",
       "    </tr>\n",
       "  </tbody>\n",
       "</table>\n",
       "</div>"
      ],
      "text/plain": [
       "                     name      lat      lng       query               category\n",
       "2585  Little Green Rabbit  52.5142  13.3955  Soup Place            Salad Place\n",
       "2586           Suppengrün   52.512  13.4127  Soup Place             Soup Place\n",
       "2587        Saigoncomnieu  52.4987  13.3571  Soup Place  Vietnamese Restaurant\n",
       "2588          Suppen-Cult   52.536  13.4224  Soup Place             Soup Place\n",
       "2589         Die Löffelei  52.5028  13.3655  Soup Place             Soup Place"
      ]
     },
     "execution_count": 12,
     "metadata": {},
     "output_type": "execute_result"
    }
   ],
   "source": [
    "cat_ber_rest=pd.read_pickle(\"data/cat_data_restaurants_api.pkl\")\n",
    "cat_ber_rest.tail()"
   ]
  },
  {
   "cell_type": "markdown",
   "metadata": {},
   "source": [
    "#### Unifying both dfs to have one single df"
   ]
  },
  {
   "cell_type": "code",
   "execution_count": 13,
   "metadata": {},
   "outputs": [
    {
     "data": {
      "text/html": [
       "<div>\n",
       "<style scoped>\n",
       "    .dataframe tbody tr th:only-of-type {\n",
       "        vertical-align: middle;\n",
       "    }\n",
       "\n",
       "    .dataframe tbody tr th {\n",
       "        vertical-align: top;\n",
       "    }\n",
       "\n",
       "    .dataframe thead th {\n",
       "        text-align: right;\n",
       "    }\n",
       "</style>\n",
       "<table border=\"1\" class=\"dataframe\">\n",
       "  <thead>\n",
       "    <tr style=\"text-align: right;\">\n",
       "      <th></th>\n",
       "      <th>name</th>\n",
       "      <th>lat</th>\n",
       "      <th>lng</th>\n",
       "      <th>query</th>\n",
       "      <th>category</th>\n",
       "    </tr>\n",
       "  </thead>\n",
       "  <tbody>\n",
       "    <tr>\n",
       "      <th>0</th>\n",
       "      <td>Safrani Afghan Und Persian Halal Food</td>\n",
       "      <td>52.5103</td>\n",
       "      <td>13.3055</td>\n",
       "      <td>Afghanistan</td>\n",
       "      <td>Afghan Restaurant</td>\n",
       "    </tr>\n",
       "    <tr>\n",
       "      <th>1</th>\n",
       "      <td>Al-Ándalus</td>\n",
       "      <td>52.5335</td>\n",
       "      <td>13.4283</td>\n",
       "      <td>Aland Islands</td>\n",
       "      <td>Tapas Restaurant</td>\n",
       "    </tr>\n",
       "    <tr>\n",
       "      <th>2</th>\n",
       "      <td>Al-andalous</td>\n",
       "      <td>52.4849</td>\n",
       "      <td>13.4342</td>\n",
       "      <td>Aland Islands</td>\n",
       "      <td>Falafel Restaurant</td>\n",
       "    </tr>\n",
       "    <tr>\n",
       "      <th>3</th>\n",
       "      <td>Al Andalos</td>\n",
       "      <td>52.4857</td>\n",
       "      <td>13.4313</td>\n",
       "      <td>Aland Islands</td>\n",
       "      <td>Falafel Restaurant</td>\n",
       "    </tr>\n",
       "    <tr>\n",
       "      <th>4</th>\n",
       "      <td>American Diner</td>\n",
       "      <td>52.5346</td>\n",
       "      <td>13.4193</td>\n",
       "      <td>American Samoa</td>\n",
       "      <td>Diner</td>\n",
       "    </tr>\n",
       "  </tbody>\n",
       "</table>\n",
       "</div>"
      ],
      "text/plain": [
       "                                    name      lat      lng           query  \\\n",
       "0  Safrani Afghan Und Persian Halal Food  52.5103  13.3055     Afghanistan   \n",
       "1                             Al-Ándalus  52.5335  13.4283   Aland Islands   \n",
       "2                            Al-andalous  52.4849  13.4342   Aland Islands   \n",
       "3                             Al Andalos  52.4857  13.4313   Aland Islands   \n",
       "4                         American Diner  52.5346  13.4193  American Samoa   \n",
       "\n",
       "             category  \n",
       "0   Afghan Restaurant  \n",
       "1    Tapas Restaurant  \n",
       "2  Falafel Restaurant  \n",
       "3  Falafel Restaurant  \n",
       "4               Diner  "
      ]
     },
     "execution_count": 13,
     "metadata": {},
     "output_type": "execute_result"
    }
   ],
   "source": [
    "ber_rest_complete=ber_rest.append(cat_ber_rest,ignore_index=True)\n",
    "ber_rest_complete.head()"
   ]
  },
  {
   "cell_type": "markdown",
   "metadata": {},
   "source": [
    "# Cleaning data"
   ]
  },
  {
   "cell_type": "code",
   "execution_count": 14,
   "metadata": {},
   "outputs": [],
   "source": [
    "countries_dict=restaurants[[\"country\",\"deno\"]].set_index(\"deno\").to_dict()[\"country\"]"
   ]
  },
  {
   "cell_type": "code",
   "execution_count": 15,
   "metadata": {},
   "outputs": [],
   "source": [
    "countries_dict={key:val for key,val in countries_dict.items() if key!=val}"
   ]
  },
  {
   "cell_type": "markdown",
   "metadata": {},
   "source": [
    "## Cleaning dfs separately"
   ]
  },
  {
   "cell_type": "markdown",
   "metadata": {},
   "source": [
    "### first df"
   ]
  },
  {
   "cell_type": "code",
   "execution_count": 16,
   "metadata": {},
   "outputs": [
    {
     "data": {
      "text/html": [
       "<div>\n",
       "<style scoped>\n",
       "    .dataframe tbody tr th:only-of-type {\n",
       "        vertical-align: middle;\n",
       "    }\n",
       "\n",
       "    .dataframe tbody tr th {\n",
       "        vertical-align: top;\n",
       "    }\n",
       "\n",
       "    .dataframe thead th {\n",
       "        text-align: right;\n",
       "    }\n",
       "</style>\n",
       "<table border=\"1\" class=\"dataframe\">\n",
       "  <thead>\n",
       "    <tr style=\"text-align: right;\">\n",
       "      <th></th>\n",
       "      <th>name</th>\n",
       "      <th>lat</th>\n",
       "      <th>lng</th>\n",
       "      <th>query</th>\n",
       "      <th>category</th>\n",
       "    </tr>\n",
       "  </thead>\n",
       "  <tbody>\n",
       "    <tr>\n",
       "      <th>0</th>\n",
       "      <td>Safrani Afghan Und Persian Halal Food</td>\n",
       "      <td>52.5103</td>\n",
       "      <td>13.3055</td>\n",
       "      <td>Afghanistan</td>\n",
       "      <td>Afghan Restaurant</td>\n",
       "    </tr>\n",
       "    <tr>\n",
       "      <th>1</th>\n",
       "      <td>Al-Ándalus</td>\n",
       "      <td>52.5335</td>\n",
       "      <td>13.4283</td>\n",
       "      <td>Aland Islands</td>\n",
       "      <td>Tapas Restaurant</td>\n",
       "    </tr>\n",
       "    <tr>\n",
       "      <th>2</th>\n",
       "      <td>Al-andalous</td>\n",
       "      <td>52.4849</td>\n",
       "      <td>13.4342</td>\n",
       "      <td>Aland Islands</td>\n",
       "      <td>Falafel Restaurant</td>\n",
       "    </tr>\n",
       "    <tr>\n",
       "      <th>3</th>\n",
       "      <td>Al Andalos</td>\n",
       "      <td>52.4857</td>\n",
       "      <td>13.4313</td>\n",
       "      <td>Aland Islands</td>\n",
       "      <td>Falafel Restaurant</td>\n",
       "    </tr>\n",
       "    <tr>\n",
       "      <th>4</th>\n",
       "      <td>American Diner</td>\n",
       "      <td>52.5346</td>\n",
       "      <td>13.4193</td>\n",
       "      <td>American Samoa</td>\n",
       "      <td>Diner</td>\n",
       "    </tr>\n",
       "  </tbody>\n",
       "</table>\n",
       "</div>"
      ],
      "text/plain": [
       "                                    name      lat      lng           query  \\\n",
       "0  Safrani Afghan Und Persian Halal Food  52.5103  13.3055     Afghanistan   \n",
       "1                             Al-Ándalus  52.5335  13.4283   Aland Islands   \n",
       "2                            Al-andalous  52.4849  13.4342   Aland Islands   \n",
       "3                             Al Andalos  52.4857  13.4313   Aland Islands   \n",
       "4                         American Diner  52.5346  13.4193  American Samoa   \n",
       "\n",
       "             category  \n",
       "0   Afghan Restaurant  \n",
       "1    Tapas Restaurant  \n",
       "2  Falafel Restaurant  \n",
       "3  Falafel Restaurant  \n",
       "4               Diner  "
      ]
     },
     "execution_count": 16,
     "metadata": {},
     "output_type": "execute_result"
    }
   ],
   "source": [
    "ber_rest.head()"
   ]
  },
  {
   "cell_type": "code",
   "execution_count": 18,
   "metadata": {},
   "outputs": [],
   "source": [
    "countries_dict_reverse={val:key for key,val in countries_dict.items()}"
   ]
  },
  {
   "cell_type": "code",
   "execution_count": 19,
   "metadata": {},
   "outputs": [],
   "source": [
    "ber_rest_clean=pd.DataFrame(columns=ber_rest.columns,dtype=object)\n",
    "for x in range(len(ber_rest)):\n",
    "    if ber_rest[\"query\"].iloc[x] in list(countries_dict.values())+list(countries_dict.keys()):\n",
    "        name_split=ber_rest[\"name\"].iloc[x].replace(\"-\",\" \").replace(\"'\",\" \").lower().split(\" \")\n",
    "        country=ber_rest[\"query\"].iloc[x]\n",
    "        a=countries_dict_reverse[country]\n",
    "        if a.lower() in name_split or country.lower() in name_split:\n",
    "            ber_rest_clean=ber_rest_clean.append(ber_rest.iloc[x].to_frame().transpose(),ignore_index=True)\n",
    "        else:\n",
    "            name=ber_rest[\"name\"].iloc[x]\n",
    "            lat=ber_rest[\"lat\"].iloc[x]\n",
    "            lng=ber_rest[\"lng\"].iloc[x]\n",
    "            query=\"other\"\n",
    "            cat=ber_rest[\"category\"].iloc[x]\n",
    "            temp_df=pd.DataFrame(data=[[name,lat,lng,query,cat]],columns=[\"name\",\"lat\",\"lng\",'query',\"category\"],dtype=object)\n",
    "            ber_rest_clean=ber_rest_clean.append(temp_df, ignore_index=True)\n",
    "    else:\n",
    "        name_split=ber_rest[\"name\"].iloc[x].replace(\"-\",\" \").replace(\"'\",\" \").lower().split(\" \")\n",
    "        country=ber_rest[\"query\"].iloc[x]\n",
    "        if country.lower() in name_split:\n",
    "            ber_rest_clean=ber_rest_clean.append(ber_rest.iloc[x].to_frame().transpose(),ignore_index=True)\n",
    "        else:\n",
    "            name=ber_rest[\"name\"].iloc[x]\n",
    "            lat=ber_rest[\"lat\"].iloc[x]\n",
    "            lng=ber_rest[\"lng\"].iloc[x]\n",
    "            query=\"other\"\n",
    "            cat=ber_rest[\"category\"].iloc[x]\n",
    "            temp_df=pd.DataFrame(data=[[name,lat,lng,query,cat]],columns=[\"name\",\"lat\",\"lng\",'query',\"category\"],dtype=object)\n",
    "            ber_rest_clean=ber_rest_clean.append(temp_df, ignore_index=True)\n",
    "            "
   ]
  },
  {
   "cell_type": "code",
   "execution_count": 20,
   "metadata": {},
   "outputs": [],
   "source": [
    "ber_rest_clean=ber_rest_clean.drop_duplicates().reset_index(drop=True)"
   ]
  },
  {
   "cell_type": "code",
   "execution_count": 21,
   "metadata": {},
   "outputs": [],
   "source": [
    "ber_rest_clean=ber_rest_clean.assign(new_category=\"\")"
   ]
  },
  {
   "cell_type": "code",
   "execution_count": 22,
   "metadata": {},
   "outputs": [],
   "source": [
    "for x in range(len(ber_rest_clean)): \n",
    "    if ber_rest_clean[\"query\"].iloc[x]!=\"other\":\n",
    "        if ber_rest_clean[\"query\"].iloc[x] in list(countries_dict.values())+list(countries_dict.keys()):\n",
    "            country=ber_rest_clean[\"query\"].iloc[x]\n",
    "            ber_rest_clean[\"new_category\"].iloc[x]=countries_dict_reverse[country]+\" Restaurant\"\n",
    "        else:\n",
    "            country=ber_rest_clean[\"query\"].iloc[x]\n",
    "            ber_rest_clean[\"new_category\"].iloc[x]=country+\" Restaurant\"\n",
    "    else:\n",
    "        ber_rest_clean[\"new_category\"].iloc[x]=ber_rest_clean[\"category\"].iloc[x]+\" Restaurant\""
   ]
  },
  {
   "cell_type": "code",
   "execution_count": 23,
   "metadata": {},
   "outputs": [
    {
     "data": {
      "text/html": [
       "<div>\n",
       "<style scoped>\n",
       "    .dataframe tbody tr th:only-of-type {\n",
       "        vertical-align: middle;\n",
       "    }\n",
       "\n",
       "    .dataframe tbody tr th {\n",
       "        vertical-align: top;\n",
       "    }\n",
       "\n",
       "    .dataframe thead th {\n",
       "        text-align: right;\n",
       "    }\n",
       "</style>\n",
       "<table border=\"1\" class=\"dataframe\">\n",
       "  <thead>\n",
       "    <tr style=\"text-align: right;\">\n",
       "      <th></th>\n",
       "      <th>name</th>\n",
       "      <th>lat</th>\n",
       "      <th>lng</th>\n",
       "      <th>query</th>\n",
       "      <th>category</th>\n",
       "      <th>new_category</th>\n",
       "    </tr>\n",
       "  </thead>\n",
       "  <tbody>\n",
       "    <tr>\n",
       "      <th>0</th>\n",
       "      <td>Safrani Afghan Und Persian Halal Food</td>\n",
       "      <td>52.5103</td>\n",
       "      <td>13.3055</td>\n",
       "      <td>Afghanistan</td>\n",
       "      <td>Afghan Restaurant</td>\n",
       "      <td>Afghan Restaurant</td>\n",
       "    </tr>\n",
       "    <tr>\n",
       "      <th>1</th>\n",
       "      <td>Al-Ándalus</td>\n",
       "      <td>52.5335</td>\n",
       "      <td>13.4283</td>\n",
       "      <td>other</td>\n",
       "      <td>Tapas Restaurant</td>\n",
       "      <td>Tapas Restaurant Restaurant</td>\n",
       "    </tr>\n",
       "    <tr>\n",
       "      <th>2</th>\n",
       "      <td>Al-andalous</td>\n",
       "      <td>52.4849</td>\n",
       "      <td>13.4342</td>\n",
       "      <td>other</td>\n",
       "      <td>Falafel Restaurant</td>\n",
       "      <td>Falafel Restaurant Restaurant</td>\n",
       "    </tr>\n",
       "    <tr>\n",
       "      <th>3</th>\n",
       "      <td>Al Andalos</td>\n",
       "      <td>52.4857</td>\n",
       "      <td>13.4313</td>\n",
       "      <td>other</td>\n",
       "      <td>Falafel Restaurant</td>\n",
       "      <td>Falafel Restaurant Restaurant</td>\n",
       "    </tr>\n",
       "    <tr>\n",
       "      <th>4</th>\n",
       "      <td>American Diner</td>\n",
       "      <td>52.5346</td>\n",
       "      <td>13.4193</td>\n",
       "      <td>other</td>\n",
       "      <td>Diner</td>\n",
       "      <td>Diner Restaurant</td>\n",
       "    </tr>\n",
       "  </tbody>\n",
       "</table>\n",
       "</div>"
      ],
      "text/plain": [
       "                                    name      lat      lng        query  \\\n",
       "0  Safrani Afghan Und Persian Halal Food  52.5103  13.3055  Afghanistan   \n",
       "1                             Al-Ándalus  52.5335  13.4283        other   \n",
       "2                            Al-andalous  52.4849  13.4342        other   \n",
       "3                             Al Andalos  52.4857  13.4313        other   \n",
       "4                         American Diner  52.5346  13.4193        other   \n",
       "\n",
       "             category                   new_category  \n",
       "0   Afghan Restaurant              Afghan Restaurant  \n",
       "1    Tapas Restaurant    Tapas Restaurant Restaurant  \n",
       "2  Falafel Restaurant  Falafel Restaurant Restaurant  \n",
       "3  Falafel Restaurant  Falafel Restaurant Restaurant  \n",
       "4               Diner               Diner Restaurant  "
      ]
     },
     "execution_count": 23,
     "metadata": {},
     "output_type": "execute_result"
    }
   ],
   "source": [
    "ber_rest_clean.head()"
   ]
  },
  {
   "cell_type": "markdown",
   "metadata": {},
   "source": [
    "### second df"
   ]
  },
  {
   "cell_type": "code",
   "execution_count": 24,
   "metadata": {},
   "outputs": [
    {
     "data": {
      "text/html": [
       "<div>\n",
       "<style scoped>\n",
       "    .dataframe tbody tr th:only-of-type {\n",
       "        vertical-align: middle;\n",
       "    }\n",
       "\n",
       "    .dataframe tbody tr th {\n",
       "        vertical-align: top;\n",
       "    }\n",
       "\n",
       "    .dataframe thead th {\n",
       "        text-align: right;\n",
       "    }\n",
       "</style>\n",
       "<table border=\"1\" class=\"dataframe\">\n",
       "  <thead>\n",
       "    <tr style=\"text-align: right;\">\n",
       "      <th></th>\n",
       "      <th>name</th>\n",
       "      <th>lat</th>\n",
       "      <th>lng</th>\n",
       "      <th>query</th>\n",
       "      <th>category</th>\n",
       "    </tr>\n",
       "  </thead>\n",
       "  <tbody>\n",
       "    <tr>\n",
       "      <th>0</th>\n",
       "      <td>Kabul Bistro</td>\n",
       "      <td>52.4694</td>\n",
       "      <td>13.3328</td>\n",
       "      <td>Afghan</td>\n",
       "      <td>Afghan Restaurant</td>\n",
       "    </tr>\n",
       "    <tr>\n",
       "      <th>1</th>\n",
       "      <td>Restorant Macedonia (Berlin)</td>\n",
       "      <td>52.5047</td>\n",
       "      <td>13.3036</td>\n",
       "      <td>Afghan</td>\n",
       "      <td>Afghan Restaurant</td>\n",
       "    </tr>\n",
       "    <tr>\n",
       "      <th>2</th>\n",
       "      <td>chili chutney</td>\n",
       "      <td>52.502</td>\n",
       "      <td>13.4322</td>\n",
       "      <td>Afghan</td>\n",
       "      <td>Afghan Restaurant</td>\n",
       "    </tr>\n",
       "    <tr>\n",
       "      <th>3</th>\n",
       "      <td>Safrani Afghan Und Persian Halal Food</td>\n",
       "      <td>52.5103</td>\n",
       "      <td>13.3055</td>\n",
       "      <td>Afghan</td>\n",
       "      <td>Afghan Restaurant</td>\n",
       "    </tr>\n",
       "    <tr>\n",
       "      <th>4</th>\n",
       "      <td>Fruhstuckbar</td>\n",
       "      <td>52.524</td>\n",
       "      <td>13.3683</td>\n",
       "      <td>Afghan</td>\n",
       "      <td>Afghan Restaurant</td>\n",
       "    </tr>\n",
       "  </tbody>\n",
       "</table>\n",
       "</div>"
      ],
      "text/plain": [
       "                                    name      lat      lng   query  \\\n",
       "0                           Kabul Bistro  52.4694  13.3328  Afghan   \n",
       "1           Restorant Macedonia (Berlin)  52.5047  13.3036  Afghan   \n",
       "2                          chili chutney   52.502  13.4322  Afghan   \n",
       "3  Safrani Afghan Und Persian Halal Food  52.5103  13.3055  Afghan   \n",
       "4                           Fruhstuckbar   52.524  13.3683  Afghan   \n",
       "\n",
       "            category  \n",
       "0  Afghan Restaurant  \n",
       "1  Afghan Restaurant  \n",
       "2  Afghan Restaurant  \n",
       "3  Afghan Restaurant  \n",
       "4  Afghan Restaurant  "
      ]
     },
     "execution_count": 24,
     "metadata": {},
     "output_type": "execute_result"
    }
   ],
   "source": [
    "cat_ber_rest.head()"
   ]
  },
  {
   "cell_type": "code",
   "execution_count": 25,
   "metadata": {},
   "outputs": [
    {
     "data": {
      "text/html": [
       "<div>\n",
       "<style scoped>\n",
       "    .dataframe tbody tr th:only-of-type {\n",
       "        vertical-align: middle;\n",
       "    }\n",
       "\n",
       "    .dataframe tbody tr th {\n",
       "        vertical-align: top;\n",
       "    }\n",
       "\n",
       "    .dataframe thead th {\n",
       "        text-align: right;\n",
       "    }\n",
       "</style>\n",
       "<table border=\"1\" class=\"dataframe\">\n",
       "  <thead>\n",
       "    <tr style=\"text-align: right;\">\n",
       "      <th></th>\n",
       "      <th>name</th>\n",
       "      <th>lat</th>\n",
       "      <th>lng</th>\n",
       "      <th>query</th>\n",
       "      <th>category</th>\n",
       "    </tr>\n",
       "  </thead>\n",
       "  <tbody>\n",
       "    <tr>\n",
       "      <th>0</th>\n",
       "      <td>Kabul Bistro</td>\n",
       "      <td>52.4694</td>\n",
       "      <td>13.3328</td>\n",
       "      <td>Afghanistan</td>\n",
       "      <td>Afghan Restaurant</td>\n",
       "    </tr>\n",
       "    <tr>\n",
       "      <th>1</th>\n",
       "      <td>Restorant Macedonia (Berlin)</td>\n",
       "      <td>52.5047</td>\n",
       "      <td>13.3036</td>\n",
       "      <td>Afghanistan</td>\n",
       "      <td>Afghan Restaurant</td>\n",
       "    </tr>\n",
       "    <tr>\n",
       "      <th>2</th>\n",
       "      <td>chili chutney</td>\n",
       "      <td>52.502</td>\n",
       "      <td>13.4322</td>\n",
       "      <td>Afghanistan</td>\n",
       "      <td>Afghan Restaurant</td>\n",
       "    </tr>\n",
       "    <tr>\n",
       "      <th>3</th>\n",
       "      <td>Safrani Afghan Und Persian Halal Food</td>\n",
       "      <td>52.5103</td>\n",
       "      <td>13.3055</td>\n",
       "      <td>Afghanistan</td>\n",
       "      <td>Afghan Restaurant</td>\n",
       "    </tr>\n",
       "    <tr>\n",
       "      <th>4</th>\n",
       "      <td>Fruhstuckbar</td>\n",
       "      <td>52.524</td>\n",
       "      <td>13.3683</td>\n",
       "      <td>Afghanistan</td>\n",
       "      <td>Afghan Restaurant</td>\n",
       "    </tr>\n",
       "  </tbody>\n",
       "</table>\n",
       "</div>"
      ],
      "text/plain": [
       "                                    name      lat      lng        query  \\\n",
       "0                           Kabul Bistro  52.4694  13.3328  Afghanistan   \n",
       "1           Restorant Macedonia (Berlin)  52.5047  13.3036  Afghanistan   \n",
       "2                          chili chutney   52.502  13.4322  Afghanistan   \n",
       "3  Safrani Afghan Und Persian Halal Food  52.5103  13.3055  Afghanistan   \n",
       "4                           Fruhstuckbar   52.524  13.3683  Afghanistan   \n",
       "\n",
       "            category  \n",
       "0  Afghan Restaurant  \n",
       "1  Afghan Restaurant  \n",
       "2  Afghan Restaurant  \n",
       "3  Afghan Restaurant  \n",
       "4  Afghan Restaurant  "
      ]
     },
     "execution_count": 25,
     "metadata": {},
     "output_type": "execute_result"
    }
   ],
   "source": [
    "cat_ber_rest=cat_ber_rest.replace({\"query\":countries_dict})\n",
    "cat_ber_rest.head()"
   ]
  },
  {
   "cell_type": "code",
   "execution_count": 26,
   "metadata": {},
   "outputs": [],
   "source": [
    "cat_ber_rest=cat_ber_rest.assign(new_category=\"\")"
   ]
  },
  {
   "cell_type": "code",
   "execution_count": 27,
   "metadata": {},
   "outputs": [],
   "source": [
    "for x in range(len(cat_ber_rest)): \n",
    "    if cat_ber_rest[\"query\"].iloc[x] in list(countries_dict.values())+list(countries_dict.keys()):\n",
    "        country=cat_ber_rest[\"query\"].iloc[x]\n",
    "        cat_ber_rest[\"new_category\"].iloc[x]=countries_dict_reverse[country]+\" Restaurant\"\n",
    "    else:\n",
    "        country=cat_ber_rest[\"category\"].iloc[x]\n",
    "        cat_ber_rest[\"new_category\"].iloc[x]=country+\" Restaurant\""
   ]
  },
  {
   "cell_type": "markdown",
   "metadata": {},
   "source": [
    "## final merging of restaurant df"
   ]
  },
  {
   "cell_type": "code",
   "execution_count": 124,
   "metadata": {
    "scrolled": true
   },
   "outputs": [],
   "source": [
    "final_rest=ber_rest_clean.append(cat_ber_rest,ignore_index=True)"
   ]
  },
  {
   "cell_type": "code",
   "execution_count": 125,
   "metadata": {
    "scrolled": true
   },
   "outputs": [
    {
     "data": {
      "text/html": [
       "<div>\n",
       "<style scoped>\n",
       "    .dataframe tbody tr th:only-of-type {\n",
       "        vertical-align: middle;\n",
       "    }\n",
       "\n",
       "    .dataframe tbody tr th {\n",
       "        vertical-align: top;\n",
       "    }\n",
       "\n",
       "    .dataframe thead th {\n",
       "        text-align: right;\n",
       "    }\n",
       "</style>\n",
       "<table border=\"1\" class=\"dataframe\">\n",
       "  <thead>\n",
       "    <tr style=\"text-align: right;\">\n",
       "      <th></th>\n",
       "      <th>name</th>\n",
       "      <th>lat</th>\n",
       "      <th>lng</th>\n",
       "      <th>query</th>\n",
       "      <th>category</th>\n",
       "      <th>new_category</th>\n",
       "    </tr>\n",
       "  </thead>\n",
       "  <tbody>\n",
       "    <tr>\n",
       "      <th>0</th>\n",
       "      <td>Safrani Afghan Und Persian Halal Food</td>\n",
       "      <td>52.5103</td>\n",
       "      <td>13.3055</td>\n",
       "      <td>Afghanistan</td>\n",
       "      <td>Afghan Restaurant</td>\n",
       "      <td>Afghan Restaurant</td>\n",
       "    </tr>\n",
       "    <tr>\n",
       "      <th>1</th>\n",
       "      <td>Al-Ándalus</td>\n",
       "      <td>52.5335</td>\n",
       "      <td>13.4283</td>\n",
       "      <td>other</td>\n",
       "      <td>Tapas Restaurant</td>\n",
       "      <td>Tapas Restaurant Restaurant</td>\n",
       "    </tr>\n",
       "    <tr>\n",
       "      <th>2</th>\n",
       "      <td>Al-andalous</td>\n",
       "      <td>52.4849</td>\n",
       "      <td>13.4342</td>\n",
       "      <td>other</td>\n",
       "      <td>Falafel Restaurant</td>\n",
       "      <td>Falafel Restaurant Restaurant</td>\n",
       "    </tr>\n",
       "    <tr>\n",
       "      <th>3</th>\n",
       "      <td>Al Andalos</td>\n",
       "      <td>52.4857</td>\n",
       "      <td>13.4313</td>\n",
       "      <td>other</td>\n",
       "      <td>Falafel Restaurant</td>\n",
       "      <td>Falafel Restaurant Restaurant</td>\n",
       "    </tr>\n",
       "    <tr>\n",
       "      <th>4</th>\n",
       "      <td>American Diner</td>\n",
       "      <td>52.5346</td>\n",
       "      <td>13.4193</td>\n",
       "      <td>other</td>\n",
       "      <td>Diner</td>\n",
       "      <td>Diner Restaurant</td>\n",
       "    </tr>\n",
       "  </tbody>\n",
       "</table>\n",
       "</div>"
      ],
      "text/plain": [
       "                                    name      lat      lng        query  \\\n",
       "0  Safrani Afghan Und Persian Halal Food  52.5103  13.3055  Afghanistan   \n",
       "1                             Al-Ándalus  52.5335  13.4283        other   \n",
       "2                            Al-andalous  52.4849  13.4342        other   \n",
       "3                             Al Andalos  52.4857  13.4313        other   \n",
       "4                         American Diner  52.5346  13.4193        other   \n",
       "\n",
       "             category                   new_category  \n",
       "0   Afghan Restaurant              Afghan Restaurant  \n",
       "1    Tapas Restaurant    Tapas Restaurant Restaurant  \n",
       "2  Falafel Restaurant  Falafel Restaurant Restaurant  \n",
       "3  Falafel Restaurant  Falafel Restaurant Restaurant  \n",
       "4               Diner               Diner Restaurant  "
      ]
     },
     "execution_count": 125,
     "metadata": {},
     "output_type": "execute_result"
    }
   ],
   "source": [
    "final_rest.head()"
   ]
  },
  {
   "cell_type": "code",
   "execution_count": 126,
   "metadata": {},
   "outputs": [],
   "source": [
    "final_rest[\"new_category\"]=final_rest[\"new_category\"].str.replace(\"Restaurant\",\"\").str.strip()"
   ]
  },
  {
   "cell_type": "code",
   "execution_count": 127,
   "metadata": {},
   "outputs": [
    {
     "data": {
      "text/plain": [
       "name            object\n",
       "lat             object\n",
       "lng             object\n",
       "query           object\n",
       "category        object\n",
       "new_category    object\n",
       "dtype: object"
      ]
     },
     "execution_count": 127,
     "metadata": {},
     "output_type": "execute_result"
    }
   ],
   "source": [
    "final_rest.dtypes"
   ]
  },
  {
   "cell_type": "code",
   "execution_count": 128,
   "metadata": {},
   "outputs": [],
   "source": [
    "final_rest['lat']=final_rest['lat'].astype(float)\n",
    "final_rest['lng']=final_rest['lng'].astype(float)"
   ]
  },
  {
   "cell_type": "code",
   "execution_count": 129,
   "metadata": {},
   "outputs": [
    {
     "data": {
      "text/plain": [
       "name             object\n",
       "lat             float64\n",
       "lng             float64\n",
       "query            object\n",
       "category         object\n",
       "new_category     object\n",
       "dtype: object"
      ]
     },
     "execution_count": 129,
     "metadata": {},
     "output_type": "execute_result"
    }
   ],
   "source": [
    "final_rest.dtypes"
   ]
  },
  {
   "cell_type": "code",
   "execution_count": 130,
   "metadata": {},
   "outputs": [],
   "source": [
    "dict_to_change={\n",
    "    'Burrito Place':'Mexican',\n",
    "    'Bavarian':'German',\n",
    "    'Irish Pub':'Irish',\n",
    "    'Ramen':'Japanese',\n",
    "    'Sushi':'Japanese',\n",
    "    'Dim Sum':'Chinese',\n",
    "    'Cantonese':'Hongkongese',\n",
    "    'Noodle House':'Thai',\n",
    "    'Caucasian':'Georgian',\n",
    "    'Empanada':'Argentinian',\n",
    "    'Himalayan':'Nepali',\n",
    "    'South American':'Latin American',\n",
    "    'Jewish':'Israeli',\n",
    "    'Fondue':'Swiss',\n",
    "    'Falafel':'Turkish',\n",
    "    'Shawarma Place':'Lebanese',\n",
    "    'Trattoria/Osteria':'Italian',\n",
    "    'Poke Place':'Hawaiian',\n",
    "    'Persian':'Iranian',\n",
    "    'Kebab':'Turkish',\n",
    "    'Doner':'Turkish',\n",
    "    'Cajun / Creole':\"American\",\n",
    "    'Pizza Place':'Italian',\n",
    "    '':'Other'\n",
    "}"
   ]
  },
  {
   "cell_type": "code",
   "execution_count": 131,
   "metadata": {},
   "outputs": [],
   "source": [
    "final_rest=final_rest.replace({'new_category':dict_to_change})"
   ]
  },
  {
   "cell_type": "code",
   "execution_count": 132,
   "metadata": {},
   "outputs": [
    {
     "data": {
      "text/html": [
       "<div>\n",
       "<style scoped>\n",
       "    .dataframe tbody tr th:only-of-type {\n",
       "        vertical-align: middle;\n",
       "    }\n",
       "\n",
       "    .dataframe tbody tr th {\n",
       "        vertical-align: top;\n",
       "    }\n",
       "\n",
       "    .dataframe thead th {\n",
       "        text-align: right;\n",
       "    }\n",
       "</style>\n",
       "<table border=\"1\" class=\"dataframe\">\n",
       "  <thead>\n",
       "    <tr style=\"text-align: right;\">\n",
       "      <th></th>\n",
       "      <th>name</th>\n",
       "      <th>lat</th>\n",
       "      <th>lng</th>\n",
       "      <th>query</th>\n",
       "      <th>category</th>\n",
       "      <th>new_category</th>\n",
       "    </tr>\n",
       "  </thead>\n",
       "  <tbody>\n",
       "    <tr>\n",
       "      <th>0</th>\n",
       "      <td>Safrani Afghan Und Persian Halal Food</td>\n",
       "      <td>52.510331</td>\n",
       "      <td>13.305543</td>\n",
       "      <td>Afghanistan</td>\n",
       "      <td>Afghan Restaurant</td>\n",
       "      <td>Afghan</td>\n",
       "    </tr>\n",
       "    <tr>\n",
       "      <th>1</th>\n",
       "      <td>Al-Ándalus</td>\n",
       "      <td>52.533491</td>\n",
       "      <td>13.428347</td>\n",
       "      <td>other</td>\n",
       "      <td>Tapas Restaurant</td>\n",
       "      <td>Tapas</td>\n",
       "    </tr>\n",
       "    <tr>\n",
       "      <th>2</th>\n",
       "      <td>Al-andalous</td>\n",
       "      <td>52.484928</td>\n",
       "      <td>13.434201</td>\n",
       "      <td>other</td>\n",
       "      <td>Falafel Restaurant</td>\n",
       "      <td>Turkish</td>\n",
       "    </tr>\n",
       "    <tr>\n",
       "      <th>3</th>\n",
       "      <td>Al Andalos</td>\n",
       "      <td>52.485735</td>\n",
       "      <td>13.431296</td>\n",
       "      <td>other</td>\n",
       "      <td>Falafel Restaurant</td>\n",
       "      <td>Turkish</td>\n",
       "    </tr>\n",
       "    <tr>\n",
       "      <th>4</th>\n",
       "      <td>American Diner</td>\n",
       "      <td>52.534623</td>\n",
       "      <td>13.419337</td>\n",
       "      <td>other</td>\n",
       "      <td>Diner</td>\n",
       "      <td>Diner</td>\n",
       "    </tr>\n",
       "  </tbody>\n",
       "</table>\n",
       "</div>"
      ],
      "text/plain": [
       "                                    name        lat        lng        query  \\\n",
       "0  Safrani Afghan Und Persian Halal Food  52.510331  13.305543  Afghanistan   \n",
       "1                             Al-Ándalus  52.533491  13.428347        other   \n",
       "2                            Al-andalous  52.484928  13.434201        other   \n",
       "3                             Al Andalos  52.485735  13.431296        other   \n",
       "4                         American Diner  52.534623  13.419337        other   \n",
       "\n",
       "             category new_category  \n",
       "0   Afghan Restaurant       Afghan  \n",
       "1    Tapas Restaurant        Tapas  \n",
       "2  Falafel Restaurant      Turkish  \n",
       "3  Falafel Restaurant      Turkish  \n",
       "4               Diner        Diner  "
      ]
     },
     "execution_count": 132,
     "metadata": {},
     "output_type": "execute_result"
    }
   ],
   "source": [
    "final_rest.head()"
   ]
  },
  {
   "cell_type": "markdown",
   "metadata": {},
   "source": [
    "### Cleaning some of the categories that are not specific enough and we would lose information of the countries otherwise"
   ]
  },
  {
   "cell_type": "markdown",
   "metadata": {},
   "source": [
    "Cleaning East Europe"
   ]
  },
  {
   "cell_type": "code",
   "execution_count": 133,
   "metadata": {},
   "outputs": [],
   "source": [
    "mace=final_rest[final_rest[\"name\"].str.contains('Macedonia')].index\n",
    "for x in mace:   \n",
    "    final_rest[\"new_category\"].iloc[x]='Macedonian'\n",
    "\n",
    "croat=final_rest[final_rest[\"name\"].str.contains('Dubrov')|final_rest[\"name\"].str.contains('Kroatis')|final_rest[\"name\"].str.contains('Dalma')|final_rest[\"name\"].str.contains('Zagreb')|final_rest[\"name\"].str.contains('Borik')|final_rest[\"name\"].str.contains('Dorfaue')|final_rest[\"name\"].str.contains('Kadena')|final_rest[\"name\"].str.contains('Konoba')|final_rest[\"name\"].str.contains('Marjan')].index\n",
    "for x in croat:\n",
    "    final_rest[\"new_category\"].iloc[x]='Croatian'\n",
    "\n",
    "bulg=final_rest[final_rest[\"name\"].str.contains('Mehana')|final_rest[\"name\"].str.contains('Sofia')].index\n",
    "for x in bulg:\n",
    "    final_rest[\"new_category\"].iloc[x]='Bulgarian'\n",
    "    \n",
    "rus=final_rest[final_rest[\"name\"].str.contains('4YOU')|final_rest[\"name\"].str.contains('Avantg')].index\n",
    "for x in rus:\n",
    "    final_rest[\"new_category\"].iloc[x]='Russian'\n",
    "    \n",
    "pol=final_rest[final_rest[\"name\"].str.contains('Polnische')].index\n",
    "for x in pol:   \n",
    "    final_rest[\"new_category\"].iloc[x]='Polish'\n",
    "    \n",
    "hun=final_rest[final_rest[\"name\"].str.contains('Goulash')].index\n",
    "for x in hun:   \n",
    "    final_rest[\"new_category\"].iloc[x]='Hungarian'\n",
    "\n",
    "aze=final_rest[final_rest[\"name\"].str.contains('Baku')].index\n",
    "for x in aze:   \n",
    "    final_rest[\"new_category\"].iloc[x]='Azerbaijani'\n",
    "    \n",
    "latv=final_rest[final_rest[\"name\"].str.contains('KIRSONS')].index\n",
    "for x in latv:   \n",
    "    final_rest[\"new_category\"].iloc[x]='Latvian'\n",
    "    \n",
    "ser=final_rest[final_rest[\"name\"].str.contains('Zadar')].index\n",
    "for x in ser:   \n",
    "    final_rest[\"new_category\"].iloc[x]='Serbian'"
   ]
  },
  {
   "cell_type": "markdown",
   "metadata": {},
   "source": [
    "Cleaning Latin America"
   ]
  },
  {
   "cell_type": "code",
   "execution_count": 134,
   "metadata": {},
   "outputs": [],
   "source": [
    "chil=final_rest[final_rest[\"name\"].str.contains('La tía rica')].index\n",
    "for x in chil:   \n",
    "    final_rest[\"new_category\"].iloc[x]='Chilean'\n",
    "\n",
    "mex=final_rest[final_rest[\"name\"].str.contains('El Sabor')].index\n",
    "for x in mex:   \n",
    "    final_rest[\"new_category\"].iloc[x]='Mexican'\n",
    "    \n",
    "uru=final_rest[final_rest[\"name\"].str.contains('Pecados')|final_rest[\"name\"].str.contains('New Montevideo')].index\n",
    "for x in uru:   \n",
    "    final_rest[\"new_category\"].iloc[x]='Uruguayan'\n",
    "    \n",
    "arg=final_rest[final_rest[\"name\"].str.contains('La Despensa')].index\n",
    "for x in arg:   \n",
    "    final_rest[\"new_category\"].iloc[x]='Argentinian'\n",
    "    \n",
    "peru=final_rest[final_rest[\"name\"].str.contains('Peruanische')|final_rest[\"name\"].str.contains('Serrano')|final_rest[\"name\"].str.contains('Paracas')].index\n",
    "for x in peru:\n",
    "    final_rest[\"new_category\"].iloc[x]='Peruvian'\n",
    "\n",
    "chile=final_rest[final_rest[\"name\"]=='El Chilenito'].index\n",
    "final_rest[\"new_category\"].iloc[chile]=\"Chilean\""
   ]
  },
  {
   "cell_type": "markdown",
   "metadata": {},
   "source": [
    "Cleaning Scandinavian"
   ]
  },
  {
   "cell_type": "code",
   "execution_count": 135,
   "metadata": {},
   "outputs": [],
   "source": [
    "swe=final_rest[final_rest[\"name\"].str.contains('IKEA')].index\n",
    "for x in swe:   \n",
    "    final_rest[\"new_category\"].iloc[x]='Swedish'\n",
    "    \n",
    "dan=final_rest[final_rest[\"name\"].str.contains('Saeson Nordic Cuisine')].index\n",
    "for x in dan:   \n",
    "    final_rest[\"new_category\"].iloc[x]='Danish'\n",
    "    \n",
    "nor=final_rest[final_rest[\"name\"].str.contains('Munch')|final_rest[\"name\"].str.contains('Felleshus')].index\n",
    "for x in nor:\n",
    "    final_rest[\"new_category\"].iloc[x]='Norwegian'"
   ]
  },
  {
   "cell_type": "markdown",
   "metadata": {},
   "source": [
    "Cleaning Asia"
   ]
  },
  {
   "cell_type": "code",
   "execution_count": 136,
   "metadata": {},
   "outputs": [],
   "source": [
    "hk=final_rest[final_rest[\"name\"].str.contains('Hong Kong')|final_rest[\"name\"].str.contains('HongKong')|final_rest[\"name\"].str.contains('Hongkong')].index\n",
    "for x in hk:\n",
    "    final_rest[\"new_category\"].iloc[x]='Hongkongese'\n",
    "    \n",
    "thai=final_rest[final_rest[\"name\"].str.contains('Cocos')|final_rest[\"name\"].str.contains('cocos')|final_rest[\"name\"].str.contains('Goodtime')].index\n",
    "for x in thai:\n",
    "    final_rest[\"new_category\"].iloc[x]='Thai'\n",
    "    \n",
    "viet=final_rest[final_rest[\"name\"].str.contains('Viet')|final_rest[\"name\"].str.contains('viet')|final_rest[\"name\"].str.contains('Ngoc Han')|final_rest[\"name\"].str.contains('New Friends')].index\n",
    "for x in viet:\n",
    "    final_rest[\"new_category\"].iloc[x]='Vietnamese'\n",
    "    \n",
    "chin=final_rest[final_rest[\"name\"].str.contains('Hongfu')|final_rest[\"name\"].str.contains('Phan Gia')|final_rest[\"name\"].str.contains('New Asia Food')|final_rest[\"name\"].str.contains('Wok to go')].index\n",
    "for x in chin:\n",
    "    final_rest[\"new_category\"].iloc[x]='Chinese'\n",
    "    \n",
    "taiw=final_rest[final_rest[\"name\"].str.contains('Taiwanesische')].index\n",
    "final_rest[\"new_category\"].iloc[taiw]=\"Taiwanese\""
   ]
  },
  {
   "cell_type": "markdown",
   "metadata": {},
   "source": [
    "Cleaning Caribbean"
   ]
  },
  {
   "cell_type": "code",
   "execution_count": 137,
   "metadata": {},
   "outputs": [],
   "source": [
    "cub=final_rest[final_rest[\"name\"].str.contains('Habana')].index\n",
    "for x in cub:\n",
    "    final_rest[\"new_category\"].iloc[x]=\"Cuban\"\n",
    "    \n",
    "jam=final_rest[final_rest[\"name\"].str.contains('Ya-Man')|final_rest[\"name\"].str.contains('Rosa Caleta')].index\n",
    "for x in jam:\n",
    "    final_rest[\"new_category\"].iloc[x]=\"Jamaican\"\n"
   ]
  },
  {
   "cell_type": "markdown",
   "metadata": {},
   "source": [
    "Cleaning Mediterranean"
   ]
  },
  {
   "cell_type": "code",
   "execution_count": 138,
   "metadata": {},
   "outputs": [],
   "source": [
    "turk=final_rest[final_rest[\"name\"].str.contains('Meyan')|final_rest[\"name\"].str.contains('No Bananas')].index\n",
    "for x in turk:\n",
    "    final_rest[\"new_category\"].iloc[x]=\"Turkish\"\n",
    "\n",
    "isr=final_rest[final_rest[\"name\"].str.contains('Layla')|final_rest[\"name\"].str.contains('Nanoosh')].index\n",
    "for x in isr:\n",
    "    final_rest[\"new_category\"].iloc[x]=\"Israeli\""
   ]
  },
  {
   "cell_type": "markdown",
   "metadata": {},
   "source": [
    "Cleaning African"
   ]
  },
  {
   "cell_type": "code",
   "execution_count": 139,
   "metadata": {},
   "outputs": [],
   "source": [
    "eg=final_rest[final_rest[\"name\"].str.contains('Ägyptische')|final_rest[\"name\"].str.contains('Maroush')].index\n",
    "for x in eg:\n",
    "    final_rest[\"new_category\"].iloc[x]=\"Egyptian\"\n",
    "    \n",
    "gh=final_rest[final_rest[\"name\"].str.contains('African Kingdom')|final_rest[\"name\"].str.contains('Dedeede')|final_rest[\"name\"].str.contains('Ghana')].index\n",
    "for x in gh:\n",
    "    final_rest[\"new_category\"].iloc[x]=\"Ghanaian\"\n",
    "    \n",
    "kn=final_rest[final_rest[\"name\"].str.contains('Tembo African Kitchen')].index\n",
    "for x in kn:\n",
    "    final_rest[\"new_category\"].iloc[x]=\"Kenyan\"\n",
    "    \n",
    "ng=final_rest[final_rest[\"name\"].str.contains('Makenene')].index\n",
    "for x in ng:\n",
    "    final_rest[\"new_category\"].iloc[x]=\"Nigerian\"\n",
    "\n",
    "sudan=final_rest[final_rest[\"name\"].str.contains('Sudanesische')|final_rest[\"name\"].str.contains('Sahara')|final_rest[\"name\"].str.contains('Kordofan')|final_rest[\"name\"].str.contains('2 Cool')|final_rest[\"name\"].str.contains('Basmah')|final_rest[\"name\"].str.contains('Khartoum')|final_rest[\"name\"].str.contains('Darfur')].index\n",
    "for x in sudan:\n",
    "    final_rest[\"new_category\"].iloc[x]=\"Sudanese\"\n",
    "    \n",
    "eri=final_rest[final_rest[\"name\"].str.contains('Savanna')|final_rest[\"name\"].str.contains('TZOM')].index\n",
    "for x in eri:\n",
    "    final_rest[\"new_category\"].iloc[x]=\"Eritrean\"\n",
    "\n",
    "sen=final_rest[final_rest[\"name\"].str.contains('Senegambia')].index\n",
    "for x in sen:\n",
    "    final_rest[\"new_category\"].iloc[x]=\"Senegalese\"\n",
    "\n",
    "eti=final_rest[final_rest[\"name\"].str.contains('Blue Nile')].index\n",
    "for x in eti:\n",
    "    final_rest[\"new_category\"].iloc[x]=\"Ethiopian\""
   ]
  },
  {
   "cell_type": "markdown",
   "metadata": {},
   "source": [
    "Cleaning Middle East"
   ]
  },
  {
   "cell_type": "code",
   "execution_count": 140,
   "metadata": {},
   "outputs": [],
   "source": [
    "leb=final_rest[final_rest[\"name\"].str.contains('Qadmous')|final_rest[\"name\"].str.contains('Beirut')|final_rest[\"name\"].str.contains('Tyrus')|final_rest[\"name\"].str.contains('Al Safa')|final_rest[\"name\"].str.contains('Fatoush')|final_rest[\"name\"].str.contains(\"King's Chicken\")].index\n",
    "for x in leb:\n",
    "    final_rest[\"new_category\"].iloc[x]=\"Lebanese\"\n",
    "    \n",
    "sir=final_rest[final_rest[\"name\"].str.contains('Gilgamesch')|final_rest[\"name\"].str.contains('Shaam Restaurant')].index\n",
    "for x in sir:\n",
    "    final_rest[\"new_category\"].iloc[x]=\"Syrian\"\n",
    "\n",
    "tur=final_rest[final_rest[\"name\"].str.contains('Esra')|final_rest[\"name\"].str.contains('Unka Köfte Burger')].index\n",
    "for x in tur:\n",
    "    final_rest[\"new_category\"].iloc[x]=\"Turkish\"\n",
    "    \n",
    "mar=final_rest[final_rest[\"name\"].str.contains('Casalot')].index\n",
    "for x in mar:\n",
    "    final_rest[\"new_category\"].iloc[x]=\"Moroccan\"\n",
    "\n"
   ]
  },
  {
   "cell_type": "markdown",
   "metadata": {},
   "source": [
    "Cleaning other"
   ]
  },
  {
   "cell_type": "code",
   "execution_count": 141,
   "metadata": {},
   "outputs": [],
   "source": [
    "other=final_rest[final_rest[\"name\"].str.contains('gehts wieder?')|final_rest[\"new_category\"].str.contains('Scandinavian')|final_rest[\"name\"].str.contains(\"Jamal's Kuche\")|final_rest[\"name\"].str.contains('Outback')|final_rest[\"name\"].str.contains('Bosphorus Cafe')|final_rest[\"name\"].str.contains('#60')|final_rest[\"name\"].str.contains('Ok Girl')|final_rest[\"name\"].str.contains('Betrif')|final_rest[\"name\"].str.contains('Malta Grill')].index\n",
    "for x in other:\n",
    "    final_rest[\"new_category\"].iloc[x]=\"Other\"\n",
    "    \n",
    "viet=final_rest[final_rest[\"name\"].str.contains('YaMe NumNums')].index\n",
    "for x in viet:\n",
    "    final_rest[\"new_category\"].iloc[x]=\"Vietnamese\"\n",
    "    \n",
    "pal=final_rest[final_rest[\"name\"].str.contains('Palestine Berlin')].index\n",
    "for x in pal:\n",
    "    final_rest[\"name\"].iloc[x]='Al Hamra'\n",
    "    final_rest[\"new_category\"].iloc[x]=\"Palestinian\"\n",
    "    final_rest[\"lat\"].iloc[x]=52.541788\n",
    "    final_rest[\"lng\"].iloc[x]=13.421064\n"
   ]
  },
  {
   "cell_type": "code",
   "execution_count": 142,
   "metadata": {},
   "outputs": [],
   "source": [
    "list_areas=[\"Latin American\",\"Asian\",\"Mediterranean\",\"Caribbean\",\"African\",'Eastern European','Middle Eastern']"
   ]
  },
  {
   "cell_type": "code",
   "execution_count": 143,
   "metadata": {},
   "outputs": [],
   "source": [
    "final_rest=final_rest.assign(country=0)\n",
    "final_rest=final_rest.assign(area=0)\n",
    "for x in range(len(final_rest)): \n",
    "    if final_rest[\"new_category\"].iloc[x] in list(countries_dict.values())+list(countries_dict.keys()):\n",
    "        final_rest[\"country\"].iloc[x]=1\n",
    "    elif final_rest[\"new_category\"].iloc[x] in list_areas:\n",
    "        final_rest[\"area\"].iloc[x]=1"
   ]
  },
  {
   "cell_type": "code",
   "execution_count": 144,
   "metadata": {},
   "outputs": [
    {
     "data": {
      "text/html": [
       "<div>\n",
       "<style scoped>\n",
       "    .dataframe tbody tr th:only-of-type {\n",
       "        vertical-align: middle;\n",
       "    }\n",
       "\n",
       "    .dataframe tbody tr th {\n",
       "        vertical-align: top;\n",
       "    }\n",
       "\n",
       "    .dataframe thead th {\n",
       "        text-align: right;\n",
       "    }\n",
       "</style>\n",
       "<table border=\"1\" class=\"dataframe\">\n",
       "  <thead>\n",
       "    <tr style=\"text-align: right;\">\n",
       "      <th></th>\n",
       "      <th>name</th>\n",
       "      <th>lat</th>\n",
       "      <th>lng</th>\n",
       "      <th>query</th>\n",
       "      <th>category</th>\n",
       "      <th>new_category</th>\n",
       "      <th>country</th>\n",
       "      <th>area</th>\n",
       "    </tr>\n",
       "  </thead>\n",
       "  <tbody>\n",
       "    <tr>\n",
       "      <th>0</th>\n",
       "      <td>Safrani Afghan Und Persian Halal Food</td>\n",
       "      <td>52.510331</td>\n",
       "      <td>13.305543</td>\n",
       "      <td>Afghanistan</td>\n",
       "      <td>Afghan Restaurant</td>\n",
       "      <td>Afghan</td>\n",
       "      <td>1</td>\n",
       "      <td>0</td>\n",
       "    </tr>\n",
       "    <tr>\n",
       "      <th>1</th>\n",
       "      <td>Al-Ándalus</td>\n",
       "      <td>52.533491</td>\n",
       "      <td>13.428347</td>\n",
       "      <td>other</td>\n",
       "      <td>Tapas Restaurant</td>\n",
       "      <td>Tapas</td>\n",
       "      <td>0</td>\n",
       "      <td>0</td>\n",
       "    </tr>\n",
       "    <tr>\n",
       "      <th>2</th>\n",
       "      <td>Al-andalous</td>\n",
       "      <td>52.484928</td>\n",
       "      <td>13.434201</td>\n",
       "      <td>other</td>\n",
       "      <td>Falafel Restaurant</td>\n",
       "      <td>Turkish</td>\n",
       "      <td>1</td>\n",
       "      <td>0</td>\n",
       "    </tr>\n",
       "    <tr>\n",
       "      <th>3</th>\n",
       "      <td>Al Andalos</td>\n",
       "      <td>52.485735</td>\n",
       "      <td>13.431296</td>\n",
       "      <td>other</td>\n",
       "      <td>Falafel Restaurant</td>\n",
       "      <td>Turkish</td>\n",
       "      <td>1</td>\n",
       "      <td>0</td>\n",
       "    </tr>\n",
       "    <tr>\n",
       "      <th>4</th>\n",
       "      <td>American Diner</td>\n",
       "      <td>52.534623</td>\n",
       "      <td>13.419337</td>\n",
       "      <td>other</td>\n",
       "      <td>Diner</td>\n",
       "      <td>Diner</td>\n",
       "      <td>0</td>\n",
       "      <td>0</td>\n",
       "    </tr>\n",
       "  </tbody>\n",
       "</table>\n",
       "</div>"
      ],
      "text/plain": [
       "                                    name        lat        lng        query  \\\n",
       "0  Safrani Afghan Und Persian Halal Food  52.510331  13.305543  Afghanistan   \n",
       "1                             Al-Ándalus  52.533491  13.428347        other   \n",
       "2                            Al-andalous  52.484928  13.434201        other   \n",
       "3                             Al Andalos  52.485735  13.431296        other   \n",
       "4                         American Diner  52.534623  13.419337        other   \n",
       "\n",
       "             category new_category  country  area  \n",
       "0   Afghan Restaurant       Afghan        1     0  \n",
       "1    Tapas Restaurant        Tapas        0     0  \n",
       "2  Falafel Restaurant      Turkish        1     0  \n",
       "3  Falafel Restaurant      Turkish        1     0  \n",
       "4               Diner        Diner        0     0  "
      ]
     },
     "execution_count": 144,
     "metadata": {},
     "output_type": "execute_result"
    }
   ],
   "source": [
    "final_rest.head()"
   ]
  },
  {
   "cell_type": "markdown",
   "metadata": {},
   "source": [
    "### Adding the continent to the dataframe"
   ]
  },
  {
   "cell_type": "code",
   "execution_count": 145,
   "metadata": {},
   "outputs": [],
   "source": [
    "def continent(country):\n",
    "    if country in list(countries_dict.values())+list(countries_dict.keys()):\n",
    "        country2=countries_dict[country]\n",
    "    if country==\"Korean\":\n",
    "        country2=\"South Korea\"\n",
    "    if country==\"Macao\":\n",
    "        country2=\"China\"\n",
    "    if country==\"Malvinas\":\n",
    "        country2=\"Argentina\"\n",
    "    if country==\"Kurdish\":\n",
    "        country2=\"Turkey\"\n",
    "    if country in list_areas:\n",
    "        return country\n",
    "    try:\n",
    "        return pc.country_alpha2_to_continent_code(pc.country_name_to_country_alpha2(country2))\n",
    "    except:\n",
    "        return \"no_continent\""
   ]
  },
  {
   "cell_type": "code",
   "execution_count": 146,
   "metadata": {},
   "outputs": [],
   "source": [
    "final_rest=final_rest.assign(continent=final_rest[\"new_category\"].apply(lambda x: continent(x)))"
   ]
  },
  {
   "cell_type": "code",
   "execution_count": 147,
   "metadata": {},
   "outputs": [
    {
     "data": {
      "text/plain": [
       "no_continent        1227\n",
       "AS                  1070\n",
       "EU                   662\n",
       "NA                   166\n",
       "SA                   137\n",
       "AF                    78\n",
       "Eastern European      21\n",
       "African               18\n",
       "Asian                 11\n",
       "Caribbean              7\n",
       "OC                     5\n",
       "Middle Eastern         4\n",
       "Latin American         2\n",
       "Name: continent, dtype: int64"
      ]
     },
     "execution_count": 147,
     "metadata": {},
     "output_type": "execute_result"
    }
   ],
   "source": [
    "final_rest[\"continent\"].value_counts()"
   ]
  },
  {
   "cell_type": "code",
   "execution_count": 148,
   "metadata": {},
   "outputs": [],
   "source": [
    "continent_change={'AS':'Asia','EU':'Europe','NA':'North America','SA':'South America',\n",
    "                  'African':'Africa','Eastern European':'Europe','Asian':'Asia','AF':'Africa',\n",
    "                  'OC':'Oceania','Middle Eastern':'Asia','Latin American':'South America',\n",
    "                  'Scandinavian':'Europe','Caribbean':'South America','Mediterranean':'Asia'}"
   ]
  },
  {
   "cell_type": "code",
   "execution_count": 149,
   "metadata": {},
   "outputs": [],
   "source": [
    "final_rest=final_rest.replace({'continent':continent_change})"
   ]
  },
  {
   "cell_type": "code",
   "execution_count": 150,
   "metadata": {},
   "outputs": [
    {
     "data": {
      "text/plain": [
       "no_continent     1227\n",
       "Asia             1085\n",
       "Europe            683\n",
       "North America     166\n",
       "South America     146\n",
       "Africa             96\n",
       "Oceania             5\n",
       "Name: continent, dtype: int64"
      ]
     },
     "execution_count": 150,
     "metadata": {},
     "output_type": "execute_result"
    }
   ],
   "source": [
    "final_rest[\"continent\"].value_counts()"
   ]
  },
  {
   "cell_type": "code",
   "execution_count": 151,
   "metadata": {},
   "outputs": [
    {
     "data": {
      "text/html": [
       "<div>\n",
       "<style scoped>\n",
       "    .dataframe tbody tr th:only-of-type {\n",
       "        vertical-align: middle;\n",
       "    }\n",
       "\n",
       "    .dataframe tbody tr th {\n",
       "        vertical-align: top;\n",
       "    }\n",
       "\n",
       "    .dataframe thead th {\n",
       "        text-align: right;\n",
       "    }\n",
       "</style>\n",
       "<table border=\"1\" class=\"dataframe\">\n",
       "  <thead>\n",
       "    <tr style=\"text-align: right;\">\n",
       "      <th></th>\n",
       "      <th>name</th>\n",
       "      <th>lat</th>\n",
       "      <th>lng</th>\n",
       "      <th>query</th>\n",
       "      <th>category</th>\n",
       "      <th>new_category</th>\n",
       "      <th>country</th>\n",
       "      <th>area</th>\n",
       "      <th>continent</th>\n",
       "    </tr>\n",
       "  </thead>\n",
       "  <tbody>\n",
       "    <tr>\n",
       "      <th>3403</th>\n",
       "      <td>Little Green Rabbit</td>\n",
       "      <td>52.514194</td>\n",
       "      <td>13.395463</td>\n",
       "      <td>Soup Place</td>\n",
       "      <td>Salad Place</td>\n",
       "      <td>Salad Place</td>\n",
       "      <td>0</td>\n",
       "      <td>0</td>\n",
       "      <td>no_continent</td>\n",
       "    </tr>\n",
       "    <tr>\n",
       "      <th>3404</th>\n",
       "      <td>Suppengrün</td>\n",
       "      <td>52.511992</td>\n",
       "      <td>13.412739</td>\n",
       "      <td>Soup Place</td>\n",
       "      <td>Soup Place</td>\n",
       "      <td>Soup Place</td>\n",
       "      <td>0</td>\n",
       "      <td>0</td>\n",
       "      <td>no_continent</td>\n",
       "    </tr>\n",
       "    <tr>\n",
       "      <th>3405</th>\n",
       "      <td>Saigoncomnieu</td>\n",
       "      <td>52.498710</td>\n",
       "      <td>13.357113</td>\n",
       "      <td>Soup Place</td>\n",
       "      <td>Vietnamese Restaurant</td>\n",
       "      <td>Vietnamese</td>\n",
       "      <td>1</td>\n",
       "      <td>0</td>\n",
       "      <td>Asia</td>\n",
       "    </tr>\n",
       "    <tr>\n",
       "      <th>3406</th>\n",
       "      <td>Suppen-Cult</td>\n",
       "      <td>52.535983</td>\n",
       "      <td>13.422372</td>\n",
       "      <td>Soup Place</td>\n",
       "      <td>Soup Place</td>\n",
       "      <td>Soup Place</td>\n",
       "      <td>0</td>\n",
       "      <td>0</td>\n",
       "      <td>no_continent</td>\n",
       "    </tr>\n",
       "    <tr>\n",
       "      <th>3407</th>\n",
       "      <td>Die Löffelei</td>\n",
       "      <td>52.502833</td>\n",
       "      <td>13.365484</td>\n",
       "      <td>Soup Place</td>\n",
       "      <td>Soup Place</td>\n",
       "      <td>Soup Place</td>\n",
       "      <td>0</td>\n",
       "      <td>0</td>\n",
       "      <td>no_continent</td>\n",
       "    </tr>\n",
       "  </tbody>\n",
       "</table>\n",
       "</div>"
      ],
      "text/plain": [
       "                     name        lat        lng       query  \\\n",
       "3403  Little Green Rabbit  52.514194  13.395463  Soup Place   \n",
       "3404           Suppengrün  52.511992  13.412739  Soup Place   \n",
       "3405        Saigoncomnieu  52.498710  13.357113  Soup Place   \n",
       "3406          Suppen-Cult  52.535983  13.422372  Soup Place   \n",
       "3407         Die Löffelei  52.502833  13.365484  Soup Place   \n",
       "\n",
       "                   category new_category  country  area     continent  \n",
       "3403            Salad Place  Salad Place        0     0  no_continent  \n",
       "3404             Soup Place   Soup Place        0     0  no_continent  \n",
       "3405  Vietnamese Restaurant   Vietnamese        1     0          Asia  \n",
       "3406             Soup Place   Soup Place        0     0  no_continent  \n",
       "3407             Soup Place   Soup Place        0     0  no_continent  "
      ]
     },
     "execution_count": 151,
     "metadata": {},
     "output_type": "execute_result"
    }
   ],
   "source": [
    "final_rest.tail()"
   ]
  },
  {
   "cell_type": "markdown",
   "metadata": {},
   "source": [
    "### Dropping duplicates"
   ]
  },
  {
   "cell_type": "code",
   "execution_count": 152,
   "metadata": {},
   "outputs": [],
   "source": [
    "final_rest_clean=final_rest.copy()"
   ]
  },
  {
   "cell_type": "code",
   "execution_count": 153,
   "metadata": {
    "scrolled": true
   },
   "outputs": [],
   "source": [
    "final_rest_clean.drop_duplicates([\"name\",\"lat\", \"lng\"],keep='first',inplace=True)"
   ]
  },
  {
   "cell_type": "code",
   "execution_count": 154,
   "metadata": {},
   "outputs": [],
   "source": [
    "final_rest_clean=final_rest_clean.reset_index(drop=True)"
   ]
  },
  {
   "cell_type": "markdown",
   "metadata": {},
   "source": [
    "### exporting to pickle the final df with all the restaurants"
   ]
  },
  {
   "cell_type": "code",
   "execution_count": 155,
   "metadata": {},
   "outputs": [],
   "source": [
    "final_rest_clean.to_pickle(\"data/clean_restaurants.pkl\")"
   ]
  },
  {
   "cell_type": "code",
   "execution_count": null,
   "metadata": {},
   "outputs": [],
   "source": []
  },
  {
   "cell_type": "code",
   "execution_count": null,
   "metadata": {},
   "outputs": [],
   "source": []
  }
 ],
 "metadata": {
  "kernelspec": {
   "display_name": "Python 3",
   "language": "python",
   "name": "python3"
  },
  "language_info": {
   "codemirror_mode": {
    "name": "ipython",
    "version": 3
   },
   "file_extension": ".py",
   "mimetype": "text/x-python",
   "name": "python",
   "nbconvert_exporter": "python",
   "pygments_lexer": "ipython3",
   "version": "3.7.5"
  }
 },
 "nbformat": 4,
 "nbformat_minor": 2
}
